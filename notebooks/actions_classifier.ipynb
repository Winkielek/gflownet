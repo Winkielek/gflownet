{
  "nbformat": 4,
  "nbformat_minor": 0,
  "metadata": {
    "colab": {
      "provenance": [],
      "gpuType": "T4",
      "include_colab_link": true
    },
    "kernelspec": {
      "name": "python3",
      "display_name": "Python 3"
    },
    "language_info": {
      "name": "python"
    },
    "accelerator": "GPU"
  },
  "cells": [
    {
      "cell_type": "markdown",
      "metadata": {
        "id": "view-in-github",
        "colab_type": "text"
      },
      "source": [
        "<a href=\"https://colab.research.google.com/github/Winkielek/gflownet/blob/master/notebooks/actions_classifier.ipynb\" target=\"_parent\"><img src=\"https://colab.research.google.com/assets/colab-badge.svg\" alt=\"Open In Colab\"/></a>"
      ]
    },
    {
      "cell_type": "code",
      "source": [
        "# Clone gflownet lib\n",
        "!rm -rf gflownet\n",
        "!git clone https://github.com/Winkielek/gflownet.git\n",
        "\n",
        "# Freeze torch version\n",
        "!pip install torch==2.1.0+cu121 -f https://download.pytorch.org/whl/torch_stable.html\n",
        "\n",
        "# Install torch geometric\n",
        "!pip install torch-scatter torch-sparse -f https://data.pyg.org/whl/torch-2.1.0+cu121.html\n",
        "!pip install torch-geometric scipy==1.8 deepchem\n",
        "\n",
        "# Install gflownet lib\n",
        "!pip install -e ./gflownet"
      ],
      "metadata": {
        "id": "FywnVzx73D5P",
        "colab": {
          "base_uri": "https://localhost:8080/",
          "height": 1000
        },
        "outputId": "d181cf85-4ee1-475c-9a21-4db7c2afaff3"
      },
      "execution_count": 1,
      "outputs": [
        {
          "output_type": "stream",
          "name": "stdout",
          "text": [
            "Cloning into 'gflownet'...\n",
            "remote: Enumerating objects: 1384, done.\u001b[K\n",
            "remote: Counting objects: 100% (482/482), done.\u001b[K\n",
            "remote: Compressing objects: 100% (169/169), done.\u001b[K\n",
            "remote: Total 1384 (delta 362), reused 337 (delta 312), pack-reused 902\u001b[K\n",
            "Receiving objects: 100% (1384/1384), 13.53 MiB | 17.99 MiB/s, done.\n",
            "Resolving deltas: 100% (768/768), done.\n",
            "Looking in links: https://download.pytorch.org/whl/torch_stable.html\n",
            "Requirement already satisfied: torch==2.1.0+cu121 in /usr/local/lib/python3.10/dist-packages (2.1.0+cu121)\n",
            "Requirement already satisfied: filelock in /usr/local/lib/python3.10/dist-packages (from torch==2.1.0+cu121) (3.13.1)\n",
            "Requirement already satisfied: typing-extensions in /usr/local/lib/python3.10/dist-packages (from torch==2.1.0+cu121) (4.5.0)\n",
            "Requirement already satisfied: sympy in /usr/local/lib/python3.10/dist-packages (from torch==2.1.0+cu121) (1.12)\n",
            "Requirement already satisfied: networkx in /usr/local/lib/python3.10/dist-packages (from torch==2.1.0+cu121) (3.2.1)\n",
            "Requirement already satisfied: jinja2 in /usr/local/lib/python3.10/dist-packages (from torch==2.1.0+cu121) (3.1.3)\n",
            "Requirement already satisfied: fsspec in /usr/local/lib/python3.10/dist-packages (from torch==2.1.0+cu121) (2023.6.0)\n",
            "Requirement already satisfied: triton==2.1.0 in /usr/local/lib/python3.10/dist-packages (from torch==2.1.0+cu121) (2.1.0)\n",
            "Requirement already satisfied: MarkupSafe>=2.0 in /usr/local/lib/python3.10/dist-packages (from jinja2->torch==2.1.0+cu121) (2.1.3)\n",
            "Requirement already satisfied: mpmath>=0.19 in /usr/local/lib/python3.10/dist-packages (from sympy->torch==2.1.0+cu121) (1.3.0)\n",
            "Looking in links: https://data.pyg.org/whl/torch-2.1.0+cu121.html\n",
            "Collecting torch-scatter\n",
            "  Downloading https://data.pyg.org/whl/torch-2.1.0%2Bcu121/torch_scatter-2.1.2%2Bpt21cu121-cp310-cp310-linux_x86_64.whl (10.8 MB)\n",
            "\u001b[2K     \u001b[90m━━━━━━━━━━━━━━━━━━━━━━━━━━━━━━━━━━━━━━━━\u001b[0m \u001b[32m10.8/10.8 MB\u001b[0m \u001b[31m34.4 MB/s\u001b[0m eta \u001b[36m0:00:00\u001b[0m\n",
            "\u001b[?25hCollecting torch-sparse\n",
            "  Downloading https://data.pyg.org/whl/torch-2.1.0%2Bcu121/torch_sparse-0.6.18%2Bpt21cu121-cp310-cp310-linux_x86_64.whl (5.0 MB)\n",
            "\u001b[2K     \u001b[90m━━━━━━━━━━━━━━━━━━━━━━━━━━━━━━━━━━━━━━━━\u001b[0m \u001b[32m5.0/5.0 MB\u001b[0m \u001b[31m38.5 MB/s\u001b[0m eta \u001b[36m0:00:00\u001b[0m\n",
            "\u001b[?25hRequirement already satisfied: scipy in /usr/local/lib/python3.10/dist-packages (from torch-sparse) (1.11.4)\n",
            "Requirement already satisfied: numpy<1.28.0,>=1.21.6 in /usr/local/lib/python3.10/dist-packages (from scipy->torch-sparse) (1.23.5)\n",
            "Installing collected packages: torch-scatter, torch-sparse\n",
            "Successfully installed torch-scatter-2.1.2+pt21cu121 torch-sparse-0.6.18+pt21cu121\n",
            "Collecting torch-geometric\n",
            "  Downloading torch_geometric-2.4.0-py3-none-any.whl (1.0 MB)\n",
            "\u001b[2K     \u001b[90m━━━━━━━━━━━━━━━━━━━━━━━━━━━━━━━━━━━━━━━━\u001b[0m \u001b[32m1.0/1.0 MB\u001b[0m \u001b[31m5.4 MB/s\u001b[0m eta \u001b[36m0:00:00\u001b[0m\n",
            "\u001b[?25hCollecting scipy==1.8\n",
            "  Downloading scipy-1.8.0-cp310-cp310-manylinux_2_17_x86_64.manylinux2014_x86_64.whl (42.3 MB)\n",
            "\u001b[2K     \u001b[90m━━━━━━━━━━━━━━━━━━━━━━━━━━━━━━━━━━━━━━━━\u001b[0m \u001b[32m42.3/42.3 MB\u001b[0m \u001b[31m10.6 MB/s\u001b[0m eta \u001b[36m0:00:00\u001b[0m\n",
            "\u001b[?25hCollecting deepchem\n",
            "  Downloading deepchem-2.7.1-py3-none-any.whl (693 kB)\n",
            "\u001b[2K     \u001b[90m━━━━━━━━━━━━━━━━━━━━━━━━━━━━━━━━━━━━━━━━\u001b[0m \u001b[32m693.2/693.2 kB\u001b[0m \u001b[31m58.9 MB/s\u001b[0m eta \u001b[36m0:00:00\u001b[0m\n",
            "\u001b[?25hRequirement already satisfied: numpy<1.25.0,>=1.17.3 in /usr/local/lib/python3.10/dist-packages (from scipy==1.8) (1.23.5)\n",
            "Requirement already satisfied: tqdm in /usr/local/lib/python3.10/dist-packages (from torch-geometric) (4.66.1)\n",
            "Requirement already satisfied: jinja2 in /usr/local/lib/python3.10/dist-packages (from torch-geometric) (3.1.3)\n",
            "Requirement already satisfied: requests in /usr/local/lib/python3.10/dist-packages (from torch-geometric) (2.31.0)\n",
            "Requirement already satisfied: pyparsing in /usr/local/lib/python3.10/dist-packages (from torch-geometric) (3.1.1)\n",
            "Requirement already satisfied: scikit-learn in /usr/local/lib/python3.10/dist-packages (from torch-geometric) (1.2.2)\n",
            "Requirement already satisfied: psutil>=5.8.0 in /usr/local/lib/python3.10/dist-packages (from torch-geometric) (5.9.5)\n",
            "Requirement already satisfied: joblib in /usr/local/lib/python3.10/dist-packages (from deepchem) (1.3.2)\n",
            "Requirement already satisfied: pandas in /usr/local/lib/python3.10/dist-packages (from deepchem) (1.5.3)\n",
            "Collecting rdkit (from deepchem)\n",
            "  Downloading rdkit-2023.9.4-cp310-cp310-manylinux_2_17_x86_64.manylinux2014_x86_64.whl (34.4 MB)\n",
            "\u001b[2K     \u001b[90m━━━━━━━━━━━━━━━━━━━━━━━━━━━━━━━━━━━━━━━━\u001b[0m \u001b[32m34.4/34.4 MB\u001b[0m \u001b[31m29.0 MB/s\u001b[0m eta \u001b[36m0:00:00\u001b[0m\n",
            "\u001b[?25hRequirement already satisfied: MarkupSafe>=2.0 in /usr/local/lib/python3.10/dist-packages (from jinja2->torch-geometric) (2.1.3)\n",
            "Requirement already satisfied: python-dateutil>=2.8.1 in /usr/local/lib/python3.10/dist-packages (from pandas->deepchem) (2.8.2)\n",
            "Requirement already satisfied: pytz>=2020.1 in /usr/local/lib/python3.10/dist-packages (from pandas->deepchem) (2023.3.post1)\n",
            "Requirement already satisfied: Pillow in /usr/local/lib/python3.10/dist-packages (from rdkit->deepchem) (9.4.0)\n",
            "Requirement already satisfied: charset-normalizer<4,>=2 in /usr/local/lib/python3.10/dist-packages (from requests->torch-geometric) (3.3.2)\n",
            "Requirement already satisfied: idna<4,>=2.5 in /usr/local/lib/python3.10/dist-packages (from requests->torch-geometric) (3.6)\n",
            "Requirement already satisfied: urllib3<3,>=1.21.1 in /usr/local/lib/python3.10/dist-packages (from requests->torch-geometric) (2.0.7)\n",
            "Requirement already satisfied: certifi>=2017.4.17 in /usr/local/lib/python3.10/dist-packages (from requests->torch-geometric) (2023.11.17)\n",
            "Requirement already satisfied: threadpoolctl>=2.0.0 in /usr/local/lib/python3.10/dist-packages (from scikit-learn->torch-geometric) (3.2.0)\n",
            "Requirement already satisfied: six>=1.5 in /usr/local/lib/python3.10/dist-packages (from python-dateutil>=2.8.1->pandas->deepchem) (1.16.0)\n",
            "Installing collected packages: scipy, rdkit, torch-geometric, deepchem\n",
            "  Attempting uninstall: scipy\n",
            "    Found existing installation: scipy 1.11.4\n",
            "    Uninstalling scipy-1.11.4:\n",
            "      Successfully uninstalled scipy-1.11.4\n",
            "\u001b[31mERROR: pip's dependency resolver does not currently take into account all the packages that are installed. This behaviour is the source of the following dependency conflicts.\n",
            "lida 0.0.10 requires fastapi, which is not installed.\n",
            "lida 0.0.10 requires kaleido, which is not installed.\n",
            "lida 0.0.10 requires python-multipart, which is not installed.\n",
            "lida 0.0.10 requires uvicorn, which is not installed.\n",
            "jax 0.4.23 requires scipy>=1.9, but you have scipy 1.8.0 which is incompatible.\n",
            "jaxlib 0.4.23+cuda12.cudnn89 requires scipy>=1.9, but you have scipy 1.8.0 which is incompatible.\u001b[0m\u001b[31m\n",
            "\u001b[0mSuccessfully installed deepchem-2.7.1 rdkit-2023.9.4 scipy-1.8.0 torch-geometric-2.4.0\n",
            "Obtaining file:///content/gflownet\n",
            "  Installing build dependencies ... \u001b[?25l\u001b[?25hdone\n",
            "  Checking if build backend supports build_editable ... \u001b[?25l\u001b[?25hdone\n",
            "  Getting requirements to build editable ... \u001b[?25l\u001b[?25hdone\n",
            "  Preparing editable metadata (pyproject.toml) ... \u001b[?25l\u001b[?25hdone\n",
            "Requirement already satisfied: rdkit in /usr/local/lib/python3.10/dist-packages (from gflownet==0.1.0) (2023.9.4)\n",
            "Requirement already satisfied: tables in /usr/local/lib/python3.10/dist-packages (from gflownet==0.1.0) (3.8.0)\n",
            "Requirement already satisfied: scipy in /usr/local/lib/python3.10/dist-packages (from gflownet==0.1.0) (1.8.0)\n",
            "Requirement already satisfied: networkx in /usr/local/lib/python3.10/dist-packages (from gflownet==0.1.0) (3.2.1)\n",
            "Requirement already satisfied: tensorboard in /usr/local/lib/python3.10/dist-packages (from gflownet==0.1.0) (2.15.1)\n",
            "Requirement already satisfied: cvxopt in /usr/local/lib/python3.10/dist-packages (from gflownet==0.1.0) (1.3.2)\n",
            "Requirement already satisfied: pyarrow in /usr/local/lib/python3.10/dist-packages (from gflownet==0.1.0) (10.0.1)\n",
            "Collecting gitpython (from gflownet==0.1.0)\n",
            "  Downloading GitPython-3.1.41-py3-none-any.whl (196 kB)\n",
            "\u001b[2K     \u001b[90m━━━━━━━━━━━━━━━━━━━━━━━━━━━━━━━━━━━━━━━━\u001b[0m \u001b[32m196.4/196.4 kB\u001b[0m \u001b[31m1.9 MB/s\u001b[0m eta \u001b[36m0:00:00\u001b[0m\n",
            "\u001b[?25hCollecting botorch (from gflownet==0.1.0)\n",
            "  Downloading botorch-0.9.5-py3-none-any.whl (596 kB)\n",
            "\u001b[2K     \u001b[90m━━━━━━━━━━━━━━━━━━━━━━━━━━━━━━━━━━━━━━━━\u001b[0m \u001b[32m596.4/596.4 kB\u001b[0m \u001b[31m11.2 MB/s\u001b[0m eta \u001b[36m0:00:00\u001b[0m\n",
            "\u001b[?25hCollecting pyro-ppl (from gflownet==0.1.0)\n",
            "  Downloading pyro_ppl-1.8.6-py3-none-any.whl (732 kB)\n",
            "\u001b[2K     \u001b[90m━━━━━━━━━━━━━━━━━━━━━━━━━━━━━━━━━━━━━━━━\u001b[0m \u001b[32m732.8/732.8 kB\u001b[0m \u001b[31m37.6 MB/s\u001b[0m eta \u001b[36m0:00:00\u001b[0m\n",
            "\u001b[?25hCollecting gpytorch (from gflownet==0.1.0)\n",
            "  Downloading gpytorch-1.11-py3-none-any.whl (266 kB)\n",
            "\u001b[2K     \u001b[90m━━━━━━━━━━━━━━━━━━━━━━━━━━━━━━━━━━━━━━━━\u001b[0m \u001b[32m266.1/266.1 kB\u001b[0m \u001b[31m36.0 MB/s\u001b[0m eta \u001b[36m0:00:00\u001b[0m\n",
            "\u001b[?25hCollecting omegaconf>=2.3 (from gflownet==0.1.0)\n",
            "  Downloading omegaconf-2.3.0-py3-none-any.whl (79 kB)\n",
            "\u001b[2K     \u001b[90m━━━━━━━━━━━━━━━━━━━━━━━━━━━━━━━━━━━━━━━━\u001b[0m \u001b[32m79.5/79.5 kB\u001b[0m \u001b[31m11.6 MB/s\u001b[0m eta \u001b[36m0:00:00\u001b[0m\n",
            "\u001b[?25hCollecting antlr4-python3-runtime==4.9.* (from omegaconf>=2.3->gflownet==0.1.0)\n",
            "  Downloading antlr4-python3-runtime-4.9.3.tar.gz (117 kB)\n",
            "\u001b[2K     \u001b[90m━━━━━━━━━━━━━━━━━━━━━━━━━━━━━━━━━━━━━━━━\u001b[0m \u001b[32m117.0/117.0 kB\u001b[0m \u001b[31m16.3 MB/s\u001b[0m eta \u001b[36m0:00:00\u001b[0m\n",
            "\u001b[?25h  Preparing metadata (setup.py) ... \u001b[?25l\u001b[?25hdone\n",
            "Requirement already satisfied: PyYAML>=5.1.0 in /usr/local/lib/python3.10/dist-packages (from omegaconf>=2.3->gflownet==0.1.0) (6.0.1)\n",
            "Requirement already satisfied: multipledispatch in /usr/local/lib/python3.10/dist-packages (from botorch->gflownet==0.1.0) (1.0.0)\n",
            "Requirement already satisfied: torch>=1.13.1 in /usr/local/lib/python3.10/dist-packages (from botorch->gflownet==0.1.0) (2.1.0+cu121)\n",
            "Collecting linear-operator==0.5.1 (from botorch->gflownet==0.1.0)\n",
            "  Downloading linear_operator-0.5.1-py3-none-any.whl (174 kB)\n",
            "\u001b[2K     \u001b[90m━━━━━━━━━━━━━━━━━━━━━━━━━━━━━━━━━━━━━━━━\u001b[0m \u001b[32m174.5/174.5 kB\u001b[0m \u001b[31m22.9 MB/s\u001b[0m eta \u001b[36m0:00:00\u001b[0m\n",
            "\u001b[?25hRequirement already satisfied: scikit-learn in /usr/local/lib/python3.10/dist-packages (from gpytorch->gflownet==0.1.0) (1.2.2)\n",
            "Collecting jaxtyping>=0.2.9 (from linear-operator==0.5.1->botorch->gflownet==0.1.0)\n",
            "  Downloading jaxtyping-0.2.25-py3-none-any.whl (39 kB)\n",
            "Collecting typeguard~=2.13.3 (from linear-operator==0.5.1->botorch->gflownet==0.1.0)\n",
            "  Downloading typeguard-2.13.3-py3-none-any.whl (17 kB)\n",
            "Requirement already satisfied: numpy>=1.7 in /usr/local/lib/python3.10/dist-packages (from pyro-ppl->gflownet==0.1.0) (1.23.5)\n",
            "Requirement already satisfied: opt-einsum>=2.3.2 in /usr/local/lib/python3.10/dist-packages (from pyro-ppl->gflownet==0.1.0) (3.3.0)\n",
            "Collecting pyro-api>=0.1.1 (from pyro-ppl->gflownet==0.1.0)\n",
            "  Downloading pyro_api-0.1.2-py3-none-any.whl (11 kB)\n",
            "Requirement already satisfied: tqdm>=4.36 in /usr/local/lib/python3.10/dist-packages (from pyro-ppl->gflownet==0.1.0) (4.66.1)\n",
            "Collecting gitdb<5,>=4.0.1 (from gitpython->gflownet==0.1.0)\n",
            "  Downloading gitdb-4.0.11-py3-none-any.whl (62 kB)\n",
            "\u001b[2K     \u001b[90m━━━━━━━━━━━━━━━━━━━━━━━━━━━━━━━━━━━━━━━━\u001b[0m \u001b[32m62.7/62.7 kB\u001b[0m \u001b[31m9.2 MB/s\u001b[0m eta \u001b[36m0:00:00\u001b[0m\n",
            "\u001b[?25hRequirement already satisfied: Pillow in /usr/local/lib/python3.10/dist-packages (from rdkit->gflownet==0.1.0) (9.4.0)\n",
            "Requirement already satisfied: cython>=0.29.21 in /usr/local/lib/python3.10/dist-packages (from tables->gflownet==0.1.0) (3.0.8)\n",
            "Requirement already satisfied: numexpr>=2.6.2 in /usr/local/lib/python3.10/dist-packages (from tables->gflownet==0.1.0) (2.8.8)\n",
            "Requirement already satisfied: blosc2~=2.0.0 in /usr/local/lib/python3.10/dist-packages (from tables->gflownet==0.1.0) (2.0.0)\n",
            "Requirement already satisfied: packaging in /usr/local/lib/python3.10/dist-packages (from tables->gflownet==0.1.0) (23.2)\n",
            "Requirement already satisfied: py-cpuinfo in /usr/local/lib/python3.10/dist-packages (from tables->gflownet==0.1.0) (9.0.0)\n",
            "Requirement already satisfied: absl-py>=0.4 in /usr/local/lib/python3.10/dist-packages (from tensorboard->gflownet==0.1.0) (1.4.0)\n",
            "Requirement already satisfied: grpcio>=1.48.2 in /usr/local/lib/python3.10/dist-packages (from tensorboard->gflownet==0.1.0) (1.60.0)\n",
            "Requirement already satisfied: google-auth<3,>=1.6.3 in /usr/local/lib/python3.10/dist-packages (from tensorboard->gflownet==0.1.0) (2.17.3)\n",
            "Requirement already satisfied: google-auth-oauthlib<2,>=0.5 in /usr/local/lib/python3.10/dist-packages (from tensorboard->gflownet==0.1.0) (1.2.0)\n",
            "Requirement already satisfied: markdown>=2.6.8 in /usr/local/lib/python3.10/dist-packages (from tensorboard->gflownet==0.1.0) (3.5.2)\n",
            "Requirement already satisfied: protobuf<4.24,>=3.19.6 in /usr/local/lib/python3.10/dist-packages (from tensorboard->gflownet==0.1.0) (3.20.3)\n",
            "Requirement already satisfied: requests<3,>=2.21.0 in /usr/local/lib/python3.10/dist-packages (from tensorboard->gflownet==0.1.0) (2.31.0)\n",
            "Requirement already satisfied: setuptools>=41.0.0 in /usr/local/lib/python3.10/dist-packages (from tensorboard->gflownet==0.1.0) (67.7.2)\n",
            "Requirement already satisfied: six>1.9 in /usr/local/lib/python3.10/dist-packages (from tensorboard->gflownet==0.1.0) (1.16.0)\n",
            "Requirement already satisfied: tensorboard-data-server<0.8.0,>=0.7.0 in /usr/local/lib/python3.10/dist-packages (from tensorboard->gflownet==0.1.0) (0.7.2)\n",
            "Requirement already satisfied: werkzeug>=1.0.1 in /usr/local/lib/python3.10/dist-packages (from tensorboard->gflownet==0.1.0) (3.0.1)\n",
            "Requirement already satisfied: msgpack in /usr/local/lib/python3.10/dist-packages (from blosc2~=2.0.0->tables->gflownet==0.1.0) (1.0.7)\n",
            "Collecting smmap<6,>=3.0.1 (from gitdb<5,>=4.0.1->gitpython->gflownet==0.1.0)\n",
            "  Downloading smmap-5.0.1-py3-none-any.whl (24 kB)\n",
            "Requirement already satisfied: cachetools<6.0,>=2.0.0 in /usr/local/lib/python3.10/dist-packages (from google-auth<3,>=1.6.3->tensorboard->gflownet==0.1.0) (5.3.2)\n",
            "Requirement already satisfied: pyasn1-modules>=0.2.1 in /usr/local/lib/python3.10/dist-packages (from google-auth<3,>=1.6.3->tensorboard->gflownet==0.1.0) (0.3.0)\n",
            "Requirement already satisfied: rsa<5,>=3.1.4 in /usr/local/lib/python3.10/dist-packages (from google-auth<3,>=1.6.3->tensorboard->gflownet==0.1.0) (4.9)\n",
            "Requirement already satisfied: requests-oauthlib>=0.7.0 in /usr/local/lib/python3.10/dist-packages (from google-auth-oauthlib<2,>=0.5->tensorboard->gflownet==0.1.0) (1.3.1)\n",
            "Requirement already satisfied: charset-normalizer<4,>=2 in /usr/local/lib/python3.10/dist-packages (from requests<3,>=2.21.0->tensorboard->gflownet==0.1.0) (3.3.2)\n",
            "Requirement already satisfied: idna<4,>=2.5 in /usr/local/lib/python3.10/dist-packages (from requests<3,>=2.21.0->tensorboard->gflownet==0.1.0) (3.6)\n",
            "Requirement already satisfied: urllib3<3,>=1.21.1 in /usr/local/lib/python3.10/dist-packages (from requests<3,>=2.21.0->tensorboard->gflownet==0.1.0) (2.0.7)\n",
            "Requirement already satisfied: certifi>=2017.4.17 in /usr/local/lib/python3.10/dist-packages (from requests<3,>=2.21.0->tensorboard->gflownet==0.1.0) (2023.11.17)\n",
            "Requirement already satisfied: filelock in /usr/local/lib/python3.10/dist-packages (from torch>=1.13.1->botorch->gflownet==0.1.0) (3.13.1)\n",
            "Requirement already satisfied: typing-extensions in /usr/local/lib/python3.10/dist-packages (from torch>=1.13.1->botorch->gflownet==0.1.0) (4.5.0)\n",
            "Requirement already satisfied: sympy in /usr/local/lib/python3.10/dist-packages (from torch>=1.13.1->botorch->gflownet==0.1.0) (1.12)\n",
            "Requirement already satisfied: jinja2 in /usr/local/lib/python3.10/dist-packages (from torch>=1.13.1->botorch->gflownet==0.1.0) (3.1.3)\n",
            "Requirement already satisfied: fsspec in /usr/local/lib/python3.10/dist-packages (from torch>=1.13.1->botorch->gflownet==0.1.0) (2023.6.0)\n",
            "Requirement already satisfied: triton==2.1.0 in /usr/local/lib/python3.10/dist-packages (from torch>=1.13.1->botorch->gflownet==0.1.0) (2.1.0)\n",
            "Requirement already satisfied: MarkupSafe>=2.1.1 in /usr/local/lib/python3.10/dist-packages (from werkzeug>=1.0.1->tensorboard->gflownet==0.1.0) (2.1.3)\n",
            "Requirement already satisfied: joblib>=1.1.1 in /usr/local/lib/python3.10/dist-packages (from scikit-learn->gpytorch->gflownet==0.1.0) (1.3.2)\n",
            "Requirement already satisfied: threadpoolctl>=2.0.0 in /usr/local/lib/python3.10/dist-packages (from scikit-learn->gpytorch->gflownet==0.1.0) (3.2.0)\n",
            "Requirement already satisfied: pyasn1<0.6.0,>=0.4.6 in /usr/local/lib/python3.10/dist-packages (from pyasn1-modules>=0.2.1->google-auth<3,>=1.6.3->tensorboard->gflownet==0.1.0) (0.5.1)\n",
            "Requirement already satisfied: oauthlib>=3.0.0 in /usr/local/lib/python3.10/dist-packages (from requests-oauthlib>=0.7.0->google-auth-oauthlib<2,>=0.5->tensorboard->gflownet==0.1.0) (3.2.2)\n",
            "Requirement already satisfied: mpmath>=0.19 in /usr/local/lib/python3.10/dist-packages (from sympy->torch>=1.13.1->botorch->gflownet==0.1.0) (1.3.0)\n",
            "Building wheels for collected packages: gflownet, antlr4-python3-runtime\n",
            "  Building editable for gflownet (pyproject.toml) ... \u001b[?25l\u001b[?25hdone\n",
            "  Created wheel for gflownet: filename=gflownet-0.1.0-0.editable-py2.py3-none-any.whl size=4587 sha256=2993c96f240f23f0511fc62e9e427f909361890935063434bec759f51f5b27ea\n",
            "  Stored in directory: /tmp/pip-ephem-wheel-cache-76ylwpwt/wheels/e5/41/33/462d77294be6403996cc740cd3c5d41dfdcbb15d266ec07cd3\n",
            "  Building wheel for antlr4-python3-runtime (setup.py) ... \u001b[?25l\u001b[?25hdone\n",
            "  Created wheel for antlr4-python3-runtime: filename=antlr4_python3_runtime-4.9.3-py3-none-any.whl size=144554 sha256=25bf89e31a5ea6e548cef41cc1f6c9299e54245981128fd4bad3b81221aef99c\n",
            "  Stored in directory: /root/.cache/pip/wheels/12/93/dd/1f6a127edc45659556564c5730f6d4e300888f4bca2d4c5a88\n",
            "Successfully built gflownet antlr4-python3-runtime\n",
            "Installing collected packages: pyro-api, antlr4-python3-runtime, typeguard, smmap, omegaconf, jaxtyping, gitdb, pyro-ppl, linear-operator, gitpython, gpytorch, botorch, gflownet\n",
            "Successfully installed antlr4-python3-runtime-4.9.3 botorch-0.9.5 gflownet-0.1.0 gitdb-4.0.11 gitpython-3.1.41 gpytorch-1.11 jaxtyping-0.2.25 linear-operator-0.5.1 omegaconf-2.3.0 pyro-api-0.1.2 pyro-ppl-1.8.6 smmap-5.0.1 typeguard-2.13.3\n"
          ]
        },
        {
          "output_type": "display_data",
          "data": {
            "application/vnd.colab-display-data+json": {
              "pip_warning": {
                "packages": [
                  "pydevd_plugins"
                ]
              }
            }
          },
          "metadata": {}
        }
      ]
    },
    {
      "cell_type": "code",
      "source": [
        "import os\n",
        "import shutil\n",
        "import socket\n",
        "from typing import Callable, Dict, List, Tuple, Union\n",
        "\n",
        "import pandas as pd\n",
        "import numpy as np\n",
        "import torch\n",
        "import torch.nn as nn\n",
        "import torch_geometric.data as gd\n",
        "from rdkit import Chem\n",
        "from rdkit.Chem.rdchem import Mol as RDMol\n",
        "from torch import Tensor\n",
        "from torch.utils.data import Dataset\n",
        "\n",
        "from gflownet.config import Config\n",
        "from gflownet.envs.frag_mol_env import FragMolBuildingEnvContext, Graph\n",
        "from gflownet.models import bengio2021flow\n",
        "from gflownet.online_trainer import StandardOnlineTrainer\n",
        "from gflownet.trainer import FlatRewards, GFNTask, RewardScalar\n",
        "from gflownet.utils.conditioning import TemperatureConditional\n",
        "\n",
        "import matplotlib.pyplot as plt\n",
        "import networkx as nx\n",
        "import deepchem as dc"
      ],
      "metadata": {
        "id": "hLYKO3802zHx",
        "colab": {
          "base_uri": "https://localhost:8080/"
        },
        "outputId": "2f7f02c8-923e-432e-c2b9-937d90c29641"
      },
      "execution_count": 2,
      "outputs": [
        {
          "output_type": "stream",
          "name": "stderr",
          "text": [
            "WARNING:tensorflow:From /usr/local/lib/python3.10/dist-packages/tensorflow/python/util/deprecation.py:588: calling function (from tensorflow.python.eager.polymorphic_function.polymorphic_function) with experimental_relax_shapes is deprecated and will be removed in a future version.\n",
            "Instructions for updating:\n",
            "experimental_relax_shapes is deprecated, use reduce_retracing instead\n",
            "WARNING:deepchem.models:Skipped loading modules with pytorch-lightning dependency, missing a dependency. No module named 'pytorch_lightning'\n",
            "WARNING:deepchem.models:Skipped loading some Jax models, missing a dependency. No module named 'haiku'\n"
          ]
        }
      ]
    },
    {
      "cell_type": "code",
      "source": [
        "from gflownet.tasks.seh_frag import SEHFragTrainer"
      ],
      "metadata": {
        "id": "m0Czbp0xshTw"
      },
      "execution_count": 3,
      "outputs": []
    },
    {
      "cell_type": "code",
      "source": [
        "hps = {\n",
        "    \"log_dir\": \"./logs/debug_run_seh_frag_pb\",\n",
        "    \"device\": \"cuda\" if torch.cuda.is_available() else \"cpu\",\n",
        "    \"overwrite_existing_exp\": True,\n",
        "    \"num_training_steps\": 500,\n",
        "    \"num_workers\": 2,\n",
        "    \"opt\": {\n",
        "        \"lr_decay\": 20000,\n",
        "    },\n",
        "    \"algo\": {\"sampling_tau\": 0.99, \"offline_ratio\": 0.0},\n",
        "    \"cond\": {\n",
        "        \"temperature\": {\n",
        "            \"sample_dist\": \"uniform\",\n",
        "            \"dist_params\": [0, 64.0],\n",
        "        }\n",
        "    },\n",
        "}\n",
        "if os.path.exists(hps[\"log_dir\"]):\n",
        "    if hps[\"overwrite_existing_exp\"]:\n",
        "        shutil.rmtree(hps[\"log_dir\"])\n",
        "    else:\n",
        "        raise ValueError(f\"Log dir {hps['log_dir']} already exists. Set overwrite_existing_exp=True to delete it.\")\n",
        "os.makedirs(hps[\"log_dir\"])\n",
        "\n",
        "trial = SEHFragTrainer(hps)\n",
        "trial.print_every = 100\n",
        "# trial.run()"
      ],
      "metadata": {
        "id": "o1rYRfcTARt9",
        "colab": {
          "base_uri": "https://localhost:8080/"
        },
        "outputId": "e963264c-199f-4780-8040-16c1d63fb4eb"
      },
      "execution_count": 4,
      "outputs": [
        {
          "output_type": "stream",
          "name": "stdout",
          "text": [
            "\n",
            "\n",
            "Hyperparameters:\n",
            "\n",
            "log_dir: ./logs/debug_run_seh_frag_pb\n",
            "device: cuda\n",
            "seed: 0\n",
            "validate_every: 1000\n",
            "checkpoint_every: null\n",
            "print_every: 100\n",
            "start_at_step: 0\n",
            "num_final_gen_steps: null\n",
            "num_training_steps: 500\n",
            "num_workers: 2\n",
            "hostname: cfe5a47e0638\n",
            "pickle_mp_messages: false\n",
            "git_hash: f4ee28e\n",
            "overwrite_existing_exp: true\n",
            "algo:\n",
            "  method: TB\n",
            "  global_batch_size: 64\n",
            "  max_len: 128\n",
            "  max_nodes: 9\n",
            "  max_edges: 128\n",
            "  illegal_action_logreward: -75.0\n",
            "  offline_ratio: 0.0\n",
            "  valid_offline_ratio: 0.0\n",
            "  train_random_action_prob: 0.0\n",
            "  valid_random_action_prob: 0.0\n",
            "  valid_sample_cond_info: true\n",
            "  sampling_tau: 0.99\n",
            "  tb:\n",
            "    bootstrap_own_reward: false\n",
            "    epsilon: null\n",
            "    reward_loss_multiplier: 1.0\n",
            "    variant: TB\n",
            "    do_correct_idempotent: false\n",
            "    do_parameterize_p_b: false\n",
            "    do_sample_p_b: true\n",
            "    do_length_normalize: false\n",
            "    subtb_max_len: 128\n",
            "    Z_learning_rate: 0.001\n",
            "    Z_lr_decay: 50000.0\n",
            "    cum_subtb: true\n",
            "  moql:\n",
            "    gamma: 1.0\n",
            "    num_omega_samples: 32\n",
            "    num_objectives: 2\n",
            "    lambda_decay: 10000\n",
            "    penalty: -10.0\n",
            "  a2c:\n",
            "    entropy: 0.01\n",
            "    gamma: 1.0\n",
            "    penalty: -10.0\n",
            "  fm:\n",
            "    epsilon: 1.0e-38\n",
            "    balanced_loss: false\n",
            "    leaf_coef: 10.0\n",
            "    correct_idempotent: false\n",
            "  sql:\n",
            "    alpha: 0.01\n",
            "    gamma: 1.0\n",
            "    penalty: -10.0\n",
            "model:\n",
            "  num_layers: 4\n",
            "  num_emb: 128\n",
            "  dropout: 0.0\n",
            "  graph_transformer:\n",
            "    num_heads: 2\n",
            "    ln_type: pre\n",
            "    num_mlp_layers: 0\n",
            "  seq_transformer:\n",
            "    num_heads: 2\n",
            "    posenc: Rotary\n",
            "opt:\n",
            "  opt: adam\n",
            "  learning_rate: 0.0001\n",
            "  lr_decay: 20000.0\n",
            "  weight_decay: 1.0e-08\n",
            "  momentum: 0.9\n",
            "  clip_grad_type: norm\n",
            "  clip_grad_param: 10.0\n",
            "  adam_eps: 1.0e-08\n",
            "replay:\n",
            "  use: false\n",
            "  capacity: 10000\n",
            "  warmup: 1000\n",
            "  hindsight_ratio: 0.0\n",
            "task:\n",
            "  qm9:\n",
            "    h5_path: ./data/qm9/qm9.h5\n",
            "    model_path: ./data/qm9/qm9_model.pt\n",
            "  seh: {}\n",
            "  seh_moo:\n",
            "    use_steer_thermometer: false\n",
            "    preference_type: dirichlet\n",
            "    focus_type: null\n",
            "    focus_dirs_listed: null\n",
            "    focus_cosim: 0.0\n",
            "    focus_limit_coef: 1.0\n",
            "    focus_model_training_limits: null\n",
            "    focus_model_state_space_res: null\n",
            "    max_train_it: null\n",
            "    n_valid: 15\n",
            "    n_valid_repeats: 128\n",
            "    objectives:\n",
            "    - seh\n",
            "    - qed\n",
            "    - sa\n",
            "    - mw\n",
            "cond:\n",
            "  temperature:\n",
            "    sample_dist: uniform\n",
            "    dist_params:\n",
            "    - 0\n",
            "    - 64.0\n",
            "    num_thermometer_dim: 32\n",
            "  moo:\n",
            "    num_objectives: 2\n",
            "    num_thermometer_dim: 16\n",
            "  weighted_prefs:\n",
            "    preference_type: dirichlet\n",
            "  focus_region:\n",
            "    focus_type: learned-tabular\n",
            "    use_steer_thermomether: false\n",
            "    focus_cosim: 0.98\n",
            "    focus_limit_coef: 0.1\n",
            "    focus_model_training_limits:\n",
            "    - 0.25\n",
            "    - 0.75\n",
            "    focus_model_state_space_res: 30\n",
            "    max_train_it: 20000\n",
            "\n"
          ]
        }
      ]
    },
    {
      "cell_type": "code",
      "source": [
        "PATH = \"./model\""
      ],
      "metadata": {
        "id": "Sqpvui2iGLZC"
      },
      "execution_count": null,
      "outputs": []
    },
    {
      "cell_type": "code",
      "source": [
        "# torch.save(trial.model.state_dict(), PATH)"
      ],
      "metadata": {
        "id": "CIYdp7k9FSnB"
      },
      "execution_count": null,
      "outputs": []
    },
    {
      "cell_type": "code",
      "source": [
        "model = trial.model\n",
        "model.load_state_dict(torch.load(PATH))\n",
        "model = model.to(\"cuda\")"
      ],
      "metadata": {
        "id": "AnnjjmCLGTti"
      },
      "execution_count": null,
      "outputs": []
    },
    {
      "cell_type": "code",
      "source": [
        "# Trajectories generation\n",
        "\n",
        "n = 1000\n",
        "batch_size = 100\n",
        "num_gen = 0\n",
        "\n",
        "traj = []\n",
        "rew = []\n",
        "\n",
        "while num_gen<n:\n",
        "\n",
        "    pred = trial.algo.graph_sampler.sample_from_model(\n",
        "    model,\n",
        "    batch_size,\n",
        "    trial.task.sample_conditional_information(batch_size,None)[\"encoding\"].to(\"cuda\"),\n",
        "    \"cuda\"\n",
        "    )\n",
        "\n",
        "    # Store trajectories\n",
        "    for p in pred:\n",
        "        traj.append(p[\"traj\"])\n",
        "    # Store rewards\n",
        "    mols = [trial.ctx.graph_to_mol(p[\"result\"])for p in pred]\n",
        "    rewards = trial.task.compute_flat_rewards(mols)\n",
        "    rewards = rewards[0].numpy().reshape(-1).tolist()\n",
        "    rew += rewards\n",
        "    num_gen += batch_size"
      ],
      "metadata": {
        "id": "E1pm7PBQHwBO"
      },
      "execution_count": null,
      "outputs": []
    },
    {
      "cell_type": "code",
      "source": [
        "# Inverse transformation of rewards\n",
        "rew = [8*r for r in rew]"
      ],
      "metadata": {
        "id": "zvzjvAoVsv0p"
      },
      "execution_count": null,
      "outputs": []
    },
    {
      "cell_type": "code",
      "source": [
        "# Create a histogram\n",
        "plt.hist(rew, bins=50, density=True, alpha=0.5, color='blue')\n",
        "\n",
        "# Add labels and title\n",
        "plt.xlabel('Reward')\n",
        "plt.ylabel('Frequency')\n",
        "plt.title('Histogram of Reinforcement Learning Rewards')\n",
        "\n",
        "# Show the plot\n",
        "plt.show()"
      ],
      "metadata": {
        "colab": {
          "base_uri": "https://localhost:8080/",
          "height": 472
        },
        "id": "3SImHsGt-qy9",
        "outputId": "a426f351-bd74-4848-b903-659e780e22e2"
      },
      "execution_count": null,
      "outputs": [
        {
          "output_type": "display_data",
          "data": {
            "text/plain": [
              "<Figure size 640x480 with 1 Axes>"
            ],
            "image/png": "[encoded data removed]"
          },
          "metadata": {}
        }
      ]
    },
    {
      "cell_type": "code",
      "source": [
        "# How does a step of trajectory look like?\n",
        "traj_id = 10\n",
        "state = 4\n",
        "print(traj[traj_id][state])\n",
        "print(f\"Current graph: {traj[traj_id][state][0]}\")\n",
        "cur_action = traj[traj_id][state][1]\n",
        "print(f\"Current action: {cur_action}\")\n",
        "print(f\"Action source: {cur_action.source}\")\n",
        "print(f\"Action target: {cur_action.target}\")\n",
        "print(f\"Action value: {cur_action.value}\")"
      ],
      "metadata": {
        "id": "4pAXtZyDICLt",
        "outputId": "d27a8f94-0faf-40ad-a9d3-43343d717fb2",
        "colab": {
          "base_uri": "https://localhost:8080/"
        }
      },
      "execution_count": null,
      "outputs": [
        {
          "output_type": "stream",
          "name": "stdout",
          "text": [
            "(<[0, 1, 2, 3], [(0, 1), (0, 3), (1, 2)], [12, 7, 65, 9]>, <GraphActionType.AddNode, 3, 4>)\n",
            "Current graph: <[0, 1, 2, 3], [(0, 1), (0, 3), (1, 2)], [12, 7, 65, 9]>\n",
            "Current action: <GraphActionType.AddNode, 3, 4>\n",
            "Action source: 3\n",
            "Action target: None\n",
            "Action value: 4\n"
          ]
        }
      ]
    },
    {
      "cell_type": "code",
      "source": [
        "# How does nodes translate to fragments?\n",
        "g = traj[traj_id][state][0]\n",
        "for i in g.nodes:\n",
        "    mol = trial.ctx.frags_mol[g.nodes[i][\"v\"]]\n",
        "    mol_smi = trial.ctx.frags_smi[g.nodes[i][\"v\"]]\n",
        "    print(mol_smi)\n",
        "print(f\"Next fragment added: {trial.ctx.frags_smi[cur_action.value]}\")\n",
        "nx.draw(g)"
      ],
      "metadata": {
        "colab": {
          "base_uri": "https://localhost:8080/",
          "height": 603
        },
        "id": "DKKjZboMYWEs",
        "outputId": "aa69811f-db34-42dc-c51f-89b5500639e8"
      },
      "execution_count": null,
      "outputs": [
        {
          "output_type": "stream",
          "name": "stdout",
          "text": [
            "C1CNCCN1\n",
            "C1CCCCC1\n",
            "c1ccccc1\n",
            "C1CCNCC1\n",
            "Next fragment added: C1=CNC=CC1\n"
          ]
        },
        {
          "output_type": "display_data",
          "data": {
            "text/plain": [
              "<Figure size 640x480 with 1 Axes>"
            ],
            "image/png": "[encoded data removed]"
          },
          "metadata": {}
        }
      ]
    },
    {
      "cell_type": "code",
      "source": [
        "# Output molecule\n",
        "trial.ctx.graph_to_mol(traj[traj_id][-1][0])"
      ],
      "metadata": {
        "colab": {
          "base_uri": "https://localhost:8080/",
          "height": 167
        },
        "id": "Pw5iO46VOKKZ",
        "outputId": "e236a477-4452-484f-d6ab-48cddd046d36"
      },
      "execution_count": null,
      "outputs": [
        {
          "output_type": "execute_result",
          "data": {
            "text/plain": [
              "<rdkit.Chem.rdchem.Mol at 0x7ebf05068a50>"
            ],
            "image/png": "[encoded data removed]"
          },
          "metadata": {},
          "execution_count": 13
        }
      ]
    },
    {
      "cell_type": "markdown",
      "source": [
        "### Trajectories to graphs and molecules features"
      ],
      "metadata": {
        "id": "V0kw-ilktnFh"
      }
    },
    {
      "cell_type": "code",
      "source": [
        "# Keep only graphs from trajectories\n",
        "graphs = []\n",
        "\n",
        "for t in traj:\n",
        "    cur_act = []\n",
        "    for step in t:\n",
        "        cur_act.append(step[0])\n",
        "    graphs.append(cur_act)"
      ],
      "metadata": {
        "id": "5S3GwsV3nRGy"
      },
      "execution_count": null,
      "outputs": []
    },
    {
      "cell_type": "code",
      "source": [
        "def graph_to_mol(trial_ctx, g: Graph) -> Chem.Mol:\n",
        "    # Modified to transform also not valid molecules\n",
        "    \"\"\"Convert a Graph to an RDKit molecule\n",
        "\n",
        "    Parameters\n",
        "    ----------\n",
        "    g: Graph\n",
        "        A Graph instance representing a fragment junction tree.\n",
        "\n",
        "    Returns\n",
        "    -------\n",
        "    m: Chem.Mol\n",
        "        The corresponding RDKit molecule\n",
        "    \"\"\"\n",
        "    offsets = np.cumsum([0] + [trial_ctx.frags_numatm[g.nodes[i][\"v\"]] for i in g])\n",
        "    mol = None\n",
        "    for i in g.nodes:\n",
        "        if mol is None:\n",
        "            mol = trial_ctx.frags_mol[g.nodes[i][\"v\"]]\n",
        "        else:\n",
        "            mol = Chem.CombineMols(mol, trial_ctx.frags_mol[g.nodes[i][\"v\"]])\n",
        "\n",
        "    mol = Chem.EditableMol(mol)\n",
        "    bond_atoms = []\n",
        "    for a, b in g.edges:\n",
        "        afrag = g.nodes[a][\"v\"]\n",
        "        bfrag = g.nodes[b][\"v\"]\n",
        "        # if self.fail_on_missing_attr:\n",
        "        #     assert \"src_attach\" in g.edges[(a, b)] and \"dst_attach\" in g.edges[(a, b)]\n",
        "        u, v = (\n",
        "            int(trial_ctx.frags_stems[afrag][g.edges[(a, b)].get(\"src_attach\", 0)] + offsets[a]),\n",
        "            int(trial_ctx.frags_stems[bfrag][g.edges[(a, b)].get(\"dst_attach\", 0)] + offsets[b]),\n",
        "        )\n",
        "        bond_atoms += [u, v]\n",
        "        mol.AddBond(u, v, Chem.BondType.SINGLE)\n",
        "    mol = mol.GetMol()\n",
        "    def _pop_H(atom):\n",
        "        atom = mol.GetAtomWithIdx(atom)\n",
        "        nh = atom.GetNumExplicitHs()\n",
        "        if nh > 0:\n",
        "            atom.SetNumExplicitHs(nh - 1)\n",
        "\n",
        "    list(map(_pop_H, bond_atoms))\n",
        "    Chem.SanitizeMol(mol)\n",
        "    return mol"
      ],
      "metadata": {
        "id": "vj-uiw3poz9o"
      },
      "execution_count": null,
      "outputs": []
    },
    {
      "cell_type": "code",
      "source": [
        "graph_to_mol(trial.ctx, graphs[traj_id][-1])"
      ],
      "metadata": {
        "colab": {
          "base_uri": "https://localhost:8080/",
          "height": 167
        },
        "id": "jgYfLDmPopuO",
        "outputId": "2d4ef0dc-50a2-47d7-a4d9-7513973aab1b"
      },
      "execution_count": null,
      "outputs": [
        {
          "output_type": "execute_result",
          "data": {
            "text/plain": [
              "<rdkit.Chem.rdchem.Mol at 0x7ebd2e50f0d0>"
            ],
            "image/png": "[encoded data removed]"
          },
          "metadata": {},
          "execution_count": 18
        }
      ]
    },
    {
      "cell_type": "code",
      "source": [
        "# Store mol representation on each trajectory step\n",
        "# If mol is not valid at that step, previous valid is taken\n",
        "mols = []\n",
        "valid = []\n",
        "\n",
        "for t in graphs:\n",
        "    cur_traj = []\n",
        "    cur_val = []\n",
        "    last_val = None\n",
        "    for g in t[1:]:\n",
        "        try:\n",
        "            cur_mol = graph_to_mol(trial.ctx, g)\n",
        "            cur_traj.append(cur_mol)\n",
        "            cur_val.append(True)\n",
        "            last_val = cur_mol\n",
        "        except:\n",
        "            cur_val.append(False)\n",
        "            cur_traj.append(last_val)\n",
        "    mols.append(cur_traj)\n",
        "    valid.append(cur_val)"
      ],
      "metadata": {
        "id": "YHcdhhe06oRI"
      },
      "execution_count": null,
      "outputs": []
    },
    {
      "cell_type": "markdown",
      "source": [
        "### Check validity of molecules on given step"
      ],
      "metadata": {
        "id": "D-MYIqLBtzrf"
      }
    },
    {
      "cell_type": "code",
      "source": [
        "df_valid = pd.DataFrame(valid)"
      ],
      "metadata": {
        "id": "1lAuR2X8KyHg"
      },
      "execution_count": null,
      "outputs": []
    },
    {
      "cell_type": "code",
      "source": [
        "plt.plot(range(len(df_valid.columns)), df_valid.sum())\n",
        "plt.title(\"Count of valid mols\")\n",
        "plt.xlabel(\"Trajectory step\")\n",
        "plt.show()"
      ],
      "metadata": {
        "colab": {
          "base_uri": "https://localhost:8080/",
          "height": 472
        },
        "id": "jfei8fN3Lm0w",
        "outputId": "cdc464ee-0ca9-4a85-9c91-7c492ff08e04"
      },
      "execution_count": null,
      "outputs": [
        {
          "output_type": "display_data",
          "data": {
            "text/plain": [
              "<Figure size 640x480 with 1 Axes>"
            ],
            "image/png": "[encoded data removed]"
          },
          "metadata": {}
        }
      ]
    },
    {
      "cell_type": "markdown",
      "source": [
        "### Basic graph properties"
      ],
      "metadata": {
        "id": "X5CQtYpFt6sR"
      }
    },
    {
      "cell_type": "code",
      "source": [
        "# Here we can see what attributes are required for each node\n",
        "graphs[0][-1].edges(data=True)"
      ],
      "metadata": {
        "colab": {
          "base_uri": "https://localhost:8080/"
        },
        "id": "GH7pKrAiuAdl",
        "outputId": "4aa1c9d3-ae0b-4ae7-f1d3-dfea95d4d88f"
      },
      "execution_count": null,
      "outputs": [
        {
          "output_type": "execute_result",
          "data": {
            "text/plain": [
              "EdgeDataView([(0, 1, {'src_attach': 4, 'dst_attach': 1}), (0, 2, {'src_attach': 1, 'dst_attach': 5}), (0, 4, {'dst_attach': 0, 'src_attach': 3}), (1, 3, {'dst_attach': 1, 'src_attach': 0}), (3, 8, {'dst_attach': 3, 'src_attach': 2}), (4, 5, {'src_attach': 1, 'dst_attach': 1}), (5, 6, {'dst_attach': 1, 'src_attach': 0}), (6, 7, {'dst_attach': 0, 'src_attach': 0})])"
            ]
          },
          "metadata": {},
          "execution_count": 22
        }
      ]
    },
    {
      "cell_type": "code",
      "source": [
        "num_edges = []\n",
        "num_nodes = []\n",
        "valid_edges = []\n",
        "for t in graphs:\n",
        "    e = []\n",
        "    n = []\n",
        "    val_e = []\n",
        "    for g in t:\n",
        "        n.append(g.number_of_nodes())\n",
        "        e.append(g.number_of_edges())\n",
        "        e_cnt = 0\n",
        "        for u, v, a in g.edges(data=True):\n",
        "            if ('dst_attach' in list(a.keys())) & ('src_attach' in list(a.keys())):\n",
        "                e_cnt += 1\n",
        "        val_e.append(e_cnt)\n",
        "    valid_edges.append(val_e)\n",
        "    num_edges.append(e)\n",
        "    num_nodes.append(n)"
      ],
      "metadata": {
        "id": "rFt3mV7RkpYY"
      },
      "execution_count": null,
      "outputs": []
    },
    {
      "cell_type": "code",
      "source": [
        "df_nodes = pd.DataFrame(num_nodes)\n",
        "plt.plot(range(len(df_nodes.columns)), df_nodes.mean())\n",
        "plt.title(\"Average of number of nodes\")\n",
        "plt.xlabel(\"Trajectory step\")\n",
        "plt.show()"
      ],
      "metadata": {
        "colab": {
          "base_uri": "https://localhost:8080/",
          "height": 472
        },
        "id": "cxKZ8BufrFro",
        "outputId": "4209d304-92fa-4d6b-b56a-8cb8aa9a9434"
      },
      "execution_count": null,
      "outputs": [
        {
          "output_type": "display_data",
          "data": {
            "text/plain": [
              "<Figure size 640x480 with 1 Axes>"
            ],
            "image/png": "[encoded data removed]"
          },
          "metadata": {}
        }
      ]
    },
    {
      "cell_type": "code",
      "source": [
        "df_edges = pd.DataFrame(num_edges)\n",
        "plt.plot(range(len(df_edges.columns)), df_edges.mean())\n",
        "plt.title(\"Average of number of edges\")\n",
        "plt.xlabel(\"Trajectory step\")\n",
        "plt.show()"
      ],
      "metadata": {
        "colab": {
          "base_uri": "https://localhost:8080/",
          "height": 472
        },
        "id": "XaX-IABvqEWw",
        "outputId": "4c8ff370-6574-44c9-d572-d13635fdf743"
      },
      "execution_count": null,
      "outputs": [
        {
          "output_type": "display_data",
          "data": {
            "text/plain": [
              "<Figure size 640x480 with 1 Axes>"
            ],
            "image/png": "[encoded data removed]"
          },
          "metadata": {}
        }
      ]
    },
    {
      "cell_type": "code",
      "source": [
        "for id, t in enumerate(valid_edges):\n",
        "    total_edges = t[-1]\n",
        "    valid_edges[id] = [x/total_edges for x in t]"
      ],
      "metadata": {
        "id": "rTe2pK3EwqXg"
      },
      "execution_count": null,
      "outputs": []
    },
    {
      "cell_type": "code",
      "source": [
        "df_val_edges = pd.DataFrame(valid_edges)\n",
        "plt.plot(range(len(df_val_edges.columns)), df_val_edges.mean())\n",
        "plt.title(\"Average fraction of valid edges\")\n",
        "plt.xlabel(\"Trajectory step\")\n",
        "plt.show()"
      ],
      "metadata": {
        "colab": {
          "base_uri": "https://localhost:8080/",
          "height": 472
        },
        "id": "MJiOa7U-wbTg",
        "outputId": "74f0677d-caf7-4889-fe56-489ef4ff7b99"
      },
      "execution_count": null,
      "outputs": [
        {
          "output_type": "display_data",
          "data": {
            "text/plain": [
              "<Figure size 640x480 with 1 Axes>"
            ],
            "image/png": "[encoded data removed]"
          },
          "metadata": {}
        }
      ]
    },
    {
      "cell_type": "code",
      "source": [
        "for t in num_nodes:\n",
        "    plt.plot(range(len(t)), t, color=\"blue\", linewidth=0.1)\n",
        "plt.title(\"Nodes development\")\n",
        "plt.xlabel(\"Trajectory step\")\n",
        "plt.ylabel(\"Num of nodes\")\n",
        "plt.show()"
      ],
      "metadata": {
        "colab": {
          "base_uri": "https://localhost:8080/",
          "height": 472
        },
        "id": "5dJFK7xJx3Bm",
        "outputId": "7719bbf3-a789-4ee2-edbb-406a31ec3154"
      },
      "execution_count": null,
      "outputs": [
        {
          "output_type": "display_data",
          "data": {
            "text/plain": [
              "<Figure size 640x480 with 1 Axes>"
            ],
            "image/png": "[encoded data removed]"
          },
          "metadata": {}
        }
      ]
    },
    {
      "cell_type": "markdown",
      "source": [
        "### Chemical features"
      ],
      "metadata": {
        "id": "4UO1_nCcyqio"
      }
    },
    {
      "cell_type": "code",
      "source": [
        "# Chem featurizer\n",
        "feat = dc.feat.RDKitDescriptors()"
      ],
      "metadata": {
        "id": "jqyWqoGeMEQV"
      },
      "execution_count": null,
      "outputs": []
    },
    {
      "cell_type": "code",
      "source": [
        "arr = feat.featurize(mols[traj_id])"
      ],
      "metadata": {
        "id": "U6h8bSahwMGS"
      },
      "execution_count": null,
      "outputs": []
    },
    {
      "cell_type": "code",
      "source": [
        "pd.DataFrame(arr, columns=feat.descriptors)"
      ],
      "metadata": {
        "colab": {
          "base_uri": "https://localhost:8080/",
          "height": 882
        },
        "id": "tw-y_N1QN8IX",
        "outputId": "666f4246-2a1b-48d4-c409-4442ea665e73"
      },
      "execution_count": null,
      "outputs": [
        {
          "output_type": "execute_result",
          "data": {
            "text/plain": [
              "    MaxAbsEStateIndex  MaxEStateIndex  MinAbsEStateIndex  MinEStateIndex  \\\n",
              "0            3.222222        3.222222           1.138889        1.138889   \n",
              "1            3.412136        3.412136           0.931343        0.931343   \n",
              "2            3.480823        3.480823           0.334931        0.334931   \n",
              "3            3.480823        3.480823           0.334931        0.334931   \n",
              "4            3.480823        3.480823           0.334931        0.334931   \n",
              "5            3.480823        3.480823           0.334931        0.334931   \n",
              "6            3.480823        3.480823           0.334931        0.334931   \n",
              "7            3.480823        3.480823           0.334931        0.334931   \n",
              "8            3.480823        3.480823           0.334931        0.334931   \n",
              "9            3.480823        3.480823           0.334931        0.334931   \n",
              "10           3.480823        3.480823           0.334931        0.334931   \n",
              "11           3.480823        3.480823           0.334931        0.334931   \n",
              "12           3.480823        3.480823           0.334931        0.334931   \n",
              "13           3.480823        3.480823           0.334931        0.334931   \n",
              "14           3.480823        3.480823           0.334931        0.334931   \n",
              "15           3.480823        3.480823           0.334931        0.334931   \n",
              "16           3.480823        3.480823           0.334931        0.334931   \n",
              "17           3.480823        3.480823           0.334931        0.334931   \n",
              "18           3.480823        3.480823           0.334931        0.334931   \n",
              "19           3.480823        3.480823           0.334931        0.334931   \n",
              "20           3.480823        3.480823           0.334931        0.334931   \n",
              "21           3.480823        3.480823           0.334931        0.334931   \n",
              "22           3.480823        3.480823           0.334931        0.334931   \n",
              "23           3.480823        3.480823           0.334931        0.334931   \n",
              "24          11.499631       11.499631           0.001508       -0.001508   \n",
              "\n",
              "         qed        SPS    MolWt  HeavyAtomMolWt  ExactMolWt  \\\n",
              "0   0.402237  24.000000   86.138          76.058   86.084398   \n",
              "1   0.633179  29.000000  168.284         148.124  168.162649   \n",
              "2   0.860324  24.888889  244.382         220.190  244.193949   \n",
              "3   0.860324  24.888889  244.382         220.190  244.193949   \n",
              "4   0.860324  24.888889  244.382         220.190  244.193949   \n",
              "5   0.860324  24.888889  244.382         220.190  244.193949   \n",
              "6   0.860324  24.888889  244.382         220.190  244.193949   \n",
              "7   0.860324  24.888889  244.382         220.190  244.193949   \n",
              "8   0.860324  24.888889  244.382         220.190  244.193949   \n",
              "9   0.860324  24.888889  244.382         220.190  244.193949   \n",
              "10  0.860324  24.888889  244.382         220.190  244.193949   \n",
              "11  0.860324  24.888889  244.382         220.190  244.193949   \n",
              "12  0.860324  24.888889  244.382         220.190  244.193949   \n",
              "13  0.860324  24.888889  244.382         220.190  244.193949   \n",
              "14  0.860324  24.888889  244.382         220.190  244.193949   \n",
              "15  0.860324  24.888889  244.382         220.190  244.193949   \n",
              "16  0.860324  24.888889  244.382         220.190  244.193949   \n",
              "17  0.860324  24.888889  244.382         220.190  244.193949   \n",
              "18  0.860324  24.888889  244.382         220.190  244.193949   \n",
              "19  0.860324  24.888889  244.382         220.190  244.193949   \n",
              "20  0.860324  24.888889  244.382         220.190  244.193949   \n",
              "21  0.860324  24.888889  244.382         220.190  244.193949   \n",
              "22  0.860324  24.888889  244.382         220.190  244.193949   \n",
              "23  0.860324  24.888889  244.382         220.190  244.193949   \n",
              "24  0.315073  32.510204  671.975         610.487  671.488674   \n",
              "\n",
              "    NumValenceElectrons  ...  fr_sulfide  fr_sulfonamd  fr_sulfone  \\\n",
              "0                  36.0  ...         0.0           0.0         0.0   \n",
              "1                  70.0  ...         0.0           0.0         0.0   \n",
              "2                  98.0  ...         0.0           0.0         0.0   \n",
              "3                  98.0  ...         0.0           0.0         0.0   \n",
              "4                  98.0  ...         0.0           0.0         0.0   \n",
              "5                  98.0  ...         0.0           0.0         0.0   \n",
              "6                  98.0  ...         0.0           0.0         0.0   \n",
              "7                  98.0  ...         0.0           0.0         0.0   \n",
              "8                  98.0  ...         0.0           0.0         0.0   \n",
              "9                  98.0  ...         0.0           0.0         0.0   \n",
              "10                 98.0  ...         0.0           0.0         0.0   \n",
              "11                 98.0  ...         0.0           0.0         0.0   \n",
              "12                 98.0  ...         0.0           0.0         0.0   \n",
              "13                 98.0  ...         0.0           0.0         0.0   \n",
              "14                 98.0  ...         0.0           0.0         0.0   \n",
              "15                 98.0  ...         0.0           0.0         0.0   \n",
              "16                 98.0  ...         0.0           0.0         0.0   \n",
              "17                 98.0  ...         0.0           0.0         0.0   \n",
              "18                 98.0  ...         0.0           0.0         0.0   \n",
              "19                 98.0  ...         0.0           0.0         0.0   \n",
              "20                 98.0  ...         0.0           0.0         0.0   \n",
              "21                 98.0  ...         0.0           0.0         0.0   \n",
              "22                 98.0  ...         0.0           0.0         0.0   \n",
              "23                 98.0  ...         0.0           0.0         0.0   \n",
              "24                268.0  ...         0.0           0.0         0.0   \n",
              "\n",
              "    fr_term_acetylene  fr_tetrazole  fr_thiazole  fr_thiocyan  fr_thiophene  \\\n",
              "0                 0.0           0.0          0.0          0.0           0.0   \n",
              "1                 0.0           0.0          0.0          0.0           0.0   \n",
              "2                 0.0           0.0          0.0          0.0           0.0   \n",
              "3                 0.0           0.0          0.0          0.0           0.0   \n",
              "4                 0.0           0.0          0.0          0.0           0.0   \n",
              "5                 0.0           0.0          0.0          0.0           0.0   \n",
              "6                 0.0           0.0          0.0          0.0           0.0   \n",
              "7                 0.0           0.0          0.0          0.0           0.0   \n",
              "8                 0.0           0.0          0.0          0.0           0.0   \n",
              "9                 0.0           0.0          0.0          0.0           0.0   \n",
              "10                0.0           0.0          0.0          0.0           0.0   \n",
              "11                0.0           0.0          0.0          0.0           0.0   \n",
              "12                0.0           0.0          0.0          0.0           0.0   \n",
              "13                0.0           0.0          0.0          0.0           0.0   \n",
              "14                0.0           0.0          0.0          0.0           0.0   \n",
              "15                0.0           0.0          0.0          0.0           0.0   \n",
              "16                0.0           0.0          0.0          0.0           0.0   \n",
              "17                0.0           0.0          0.0          0.0           0.0   \n",
              "18                0.0           0.0          0.0          0.0           0.0   \n",
              "19                0.0           0.0          0.0          0.0           0.0   \n",
              "20                0.0           0.0          0.0          0.0           0.0   \n",
              "21                0.0           0.0          0.0          0.0           0.0   \n",
              "22                0.0           0.0          0.0          0.0           0.0   \n",
              "23                0.0           0.0          0.0          0.0           0.0   \n",
              "24                0.0           0.0          0.0          0.0           0.0   \n",
              "\n",
              "    fr_unbrch_alkane  fr_urea  \n",
              "0                0.0      0.0  \n",
              "1                0.0      0.0  \n",
              "2                0.0      0.0  \n",
              "3                0.0      0.0  \n",
              "4                0.0      0.0  \n",
              "5                0.0      0.0  \n",
              "6                0.0      0.0  \n",
              "7                0.0      0.0  \n",
              "8                0.0      0.0  \n",
              "9                0.0      0.0  \n",
              "10               0.0      0.0  \n",
              "11               0.0      0.0  \n",
              "12               0.0      0.0  \n",
              "13               0.0      0.0  \n",
              "14               0.0      0.0  \n",
              "15               0.0      0.0  \n",
              "16               0.0      0.0  \n",
              "17               0.0      0.0  \n",
              "18               0.0      0.0  \n",
              "19               0.0      0.0  \n",
              "20               0.0      0.0  \n",
              "21               0.0      0.0  \n",
              "22               0.0      0.0  \n",
              "23               0.0      0.0  \n",
              "24               0.0      0.0  \n",
              "\n",
              "[25 rows x 210 columns]"
            ],
            "text/html": [
              "\n",
              "  <div id=\"df-889d6b89-7334-48a2-9afd-904b7c7a0bdc\" class=\"colab-df-container\">\n",
              "    <div>\n",
              "<style scoped>\n",
              "    .dataframe tbody tr th:only-of-type {\n",
              "        vertical-align: middle;\n",
              "    }\n",
              "\n",
              "    .dataframe tbody tr th {\n",
              "        vertical-align: top;\n",
              "    }\n",
              "\n",
              "    .dataframe thead th {\n",
              "        text-align: right;\n",
              "    }\n",
              "</style>\n",
              "<table border=\"1\" class=\"dataframe\">\n",
              "  <thead>\n",
              "    <tr style=\"text-align: right;\">\n",
              "      <th></th>\n",
              "      <th>MaxAbsEStateIndex</th>\n",
              "      <th>MaxEStateIndex</th>\n",
              "      <th>MinAbsEStateIndex</th>\n",
              "      <th>MinEStateIndex</th>\n",
              "      <th>qed</th>\n",
              "      <th>SPS</th>\n",
              "      <th>MolWt</th>\n",
              "      <th>HeavyAtomMolWt</th>\n",
              "      <th>ExactMolWt</th>\n",
              "      <th>NumValenceElectrons</th>\n",
              "      <th>...</th>\n",
              "      <th>fr_sulfide</th>\n",
              "      <th>fr_sulfonamd</th>\n",
              "      <th>fr_sulfone</th>\n",
              "      <th>fr_term_acetylene</th>\n",
              "      <th>fr_tetrazole</th>\n",
              "      <th>fr_thiazole</th>\n",
              "      <th>fr_thiocyan</th>\n",
              "      <th>fr_thiophene</th>\n",
              "      <th>fr_unbrch_alkane</th>\n",
              "      <th>fr_urea</th>\n",
              "    </tr>\n",
              "  </thead>\n",
              "  <tbody>\n",
              "    <tr>\n",
              "      <th>0</th>\n",
              "      <td>3.222222</td>\n",
              "      <td>3.222222</td>\n",
              "      <td>1.138889</td>\n",
              "      <td>1.138889</td>\n",
              "      <td>0.402237</td>\n",
              "      <td>24.000000</td>\n",
              "      <td>86.138</td>\n",
              "      <td>76.058</td>\n",
              "      <td>86.084398</td>\n",
              "      <td>36.0</td>\n",
              "      <td>...</td>\n",
              "      <td>0.0</td>\n",
              "      <td>0.0</td>\n",
              "      <td>0.0</td>\n",
              "      <td>0.0</td>\n",
              "      <td>0.0</td>\n",
              "      <td>0.0</td>\n",
              "      <td>0.0</td>\n",
              "      <td>0.0</td>\n",
              "      <td>0.0</td>\n",
              "      <td>0.0</td>\n",
              "    </tr>\n",
              "    <tr>\n",
              "      <th>1</th>\n",
              "      <td>3.412136</td>\n",
              "      <td>3.412136</td>\n",
              "      <td>0.931343</td>\n",
              "      <td>0.931343</td>\n",
              "      <td>0.633179</td>\n",
              "      <td>29.000000</td>\n",
              "      <td>168.284</td>\n",
              "      <td>148.124</td>\n",
              "      <td>168.162649</td>\n",
              "      <td>70.0</td>\n",
              "      <td>...</td>\n",
              "      <td>0.0</td>\n",
              "      <td>0.0</td>\n",
              "      <td>0.0</td>\n",
              "      <td>0.0</td>\n",
              "      <td>0.0</td>\n",
              "      <td>0.0</td>\n",
              "      <td>0.0</td>\n",
              "      <td>0.0</td>\n",
              "      <td>0.0</td>\n",
              "      <td>0.0</td>\n",
              "    </tr>\n",
              "    <tr>\n",
              "      <th>2</th>\n",
              "      <td>3.480823</td>\n",
              "      <td>3.480823</td>\n",
              "      <td>0.334931</td>\n",
              "      <td>0.334931</td>\n",
              "      <td>0.860324</td>\n",
              "      <td>24.888889</td>\n",
              "      <td>244.382</td>\n",
              "      <td>220.190</td>\n",
              "      <td>244.193949</td>\n",
              "      <td>98.0</td>\n",
              "      <td>...</td>\n",
              "      <td>0.0</td>\n",
              "      <td>0.0</td>\n",
              "      <td>0.0</td>\n",
              "      <td>0.0</td>\n",
              "      <td>0.0</td>\n",
              "      <td>0.0</td>\n",
              "      <td>0.0</td>\n",
              "      <td>0.0</td>\n",
              "      <td>0.0</td>\n",
              "      <td>0.0</td>\n",
              "    </tr>\n",
              "    <tr>\n",
              "      <th>3</th>\n",
              "      <td>3.480823</td>\n",
              "      <td>3.480823</td>\n",
              "      <td>0.334931</td>\n",
              "      <td>0.334931</td>\n",
              "      <td>0.860324</td>\n",
              "      <td>24.888889</td>\n",
              "      <td>244.382</td>\n",
              "      <td>220.190</td>\n",
              "      <td>244.193949</td>\n",
              "      <td>98.0</td>\n",
              "      <td>...</td>\n",
              "      <td>0.0</td>\n",
              "      <td>0.0</td>\n",
              "      <td>0.0</td>\n",
              "      <td>0.0</td>\n",
              "      <td>0.0</td>\n",
              "      <td>0.0</td>\n",
              "      <td>0.0</td>\n",
              "      <td>0.0</td>\n",
              "      <td>0.0</td>\n",
              "      <td>0.0</td>\n",
              "    </tr>\n",
              "    <tr>\n",
              "      <th>4</th>\n",
              "      <td>3.480823</td>\n",
              "      <td>3.480823</td>\n",
              "      <td>0.334931</td>\n",
              "      <td>0.334931</td>\n",
              "      <td>0.860324</td>\n",
              "      <td>24.888889</td>\n",
              "      <td>244.382</td>\n",
              "      <td>220.190</td>\n",
              "      <td>244.193949</td>\n",
              "      <td>98.0</td>\n",
              "      <td>...</td>\n",
              "      <td>0.0</td>\n",
              "      <td>0.0</td>\n",
              "      <td>0.0</td>\n",
              "      <td>0.0</td>\n",
              "      <td>0.0</td>\n",
              "      <td>0.0</td>\n",
              "      <td>0.0</td>\n",
              "      <td>0.0</td>\n",
              "      <td>0.0</td>\n",
              "      <td>0.0</td>\n",
              "    </tr>\n",
              "    <tr>\n",
              "      <th>5</th>\n",
              "      <td>3.480823</td>\n",
              "      <td>3.480823</td>\n",
              "      <td>0.334931</td>\n",
              "      <td>0.334931</td>\n",
              "      <td>0.860324</td>\n",
              "      <td>24.888889</td>\n",
              "      <td>244.382</td>\n",
              "      <td>220.190</td>\n",
              "      <td>244.193949</td>\n",
              "      <td>98.0</td>\n",
              "      <td>...</td>\n",
              "      <td>0.0</td>\n",
              "      <td>0.0</td>\n",
              "      <td>0.0</td>\n",
              "      <td>0.0</td>\n",
              "      <td>0.0</td>\n",
              "      <td>0.0</td>\n",
              "      <td>0.0</td>\n",
              "      <td>0.0</td>\n",
              "      <td>0.0</td>\n",
              "      <td>0.0</td>\n",
              "    </tr>\n",
              "    <tr>\n",
              "      <th>6</th>\n",
              "      <td>3.480823</td>\n",
              "      <td>3.480823</td>\n",
              "      <td>0.334931</td>\n",
              "      <td>0.334931</td>\n",
              "      <td>0.860324</td>\n",
              "      <td>24.888889</td>\n",
              "      <td>244.382</td>\n",
              "      <td>220.190</td>\n",
              "      <td>244.193949</td>\n",
              "      <td>98.0</td>\n",
              "      <td>...</td>\n",
              "      <td>0.0</td>\n",
              "      <td>0.0</td>\n",
              "      <td>0.0</td>\n",
              "      <td>0.0</td>\n",
              "      <td>0.0</td>\n",
              "      <td>0.0</td>\n",
              "      <td>0.0</td>\n",
              "      <td>0.0</td>\n",
              "      <td>0.0</td>\n",
              "      <td>0.0</td>\n",
              "    </tr>\n",
              "    <tr>\n",
              "      <th>7</th>\n",
              "      <td>3.480823</td>\n",
              "      <td>3.480823</td>\n",
              "      <td>0.334931</td>\n",
              "      <td>0.334931</td>\n",
              "      <td>0.860324</td>\n",
              "      <td>24.888889</td>\n",
              "      <td>244.382</td>\n",
              "      <td>220.190</td>\n",
              "      <td>244.193949</td>\n",
              "      <td>98.0</td>\n",
              "      <td>...</td>\n",
              "      <td>0.0</td>\n",
              "      <td>0.0</td>\n",
              "      <td>0.0</td>\n",
              "      <td>0.0</td>\n",
              "      <td>0.0</td>\n",
              "      <td>0.0</td>\n",
              "      <td>0.0</td>\n",
              "      <td>0.0</td>\n",
              "      <td>0.0</td>\n",
              "      <td>0.0</td>\n",
              "    </tr>\n",
              "    <tr>\n",
              "      <th>8</th>\n",
              "      <td>3.480823</td>\n",
              "      <td>3.480823</td>\n",
              "      <td>0.334931</td>\n",
              "      <td>0.334931</td>\n",
              "      <td>0.860324</td>\n",
              "      <td>24.888889</td>\n",
              "      <td>244.382</td>\n",
              "      <td>220.190</td>\n",
              "      <td>244.193949</td>\n",
              "      <td>98.0</td>\n",
              "      <td>...</td>\n",
              "      <td>0.0</td>\n",
              "      <td>0.0</td>\n",
              "      <td>0.0</td>\n",
              "      <td>0.0</td>\n",
              "      <td>0.0</td>\n",
              "      <td>0.0</td>\n",
              "      <td>0.0</td>\n",
              "      <td>0.0</td>\n",
              "      <td>0.0</td>\n",
              "      <td>0.0</td>\n",
              "    </tr>\n",
              "    <tr>\n",
              "      <th>9</th>\n",
              "      <td>3.480823</td>\n",
              "      <td>3.480823</td>\n",
              "      <td>0.334931</td>\n",
              "      <td>0.334931</td>\n",
              "      <td>0.860324</td>\n",
              "      <td>24.888889</td>\n",
              "      <td>244.382</td>\n",
              "      <td>220.190</td>\n",
              "      <td>244.193949</td>\n",
              "      <td>98.0</td>\n",
              "      <td>...</td>\n",
              "      <td>0.0</td>\n",
              "      <td>0.0</td>\n",
              "      <td>0.0</td>\n",
              "      <td>0.0</td>\n",
              "      <td>0.0</td>\n",
              "      <td>0.0</td>\n",
              "      <td>0.0</td>\n",
              "      <td>0.0</td>\n",
              "      <td>0.0</td>\n",
              "      <td>0.0</td>\n",
              "    </tr>\n",
              "    <tr>\n",
              "      <th>10</th>\n",
              "      <td>3.480823</td>\n",
              "      <td>3.480823</td>\n",
              "      <td>0.334931</td>\n",
              "      <td>0.334931</td>\n",
              "      <td>0.860324</td>\n",
              "      <td>24.888889</td>\n",
              "      <td>244.382</td>\n",
              "      <td>220.190</td>\n",
              "      <td>244.193949</td>\n",
              "      <td>98.0</td>\n",
              "      <td>...</td>\n",
              "      <td>0.0</td>\n",
              "      <td>0.0</td>\n",
              "      <td>0.0</td>\n",
              "      <td>0.0</td>\n",
              "      <td>0.0</td>\n",
              "      <td>0.0</td>\n",
              "      <td>0.0</td>\n",
              "      <td>0.0</td>\n",
              "      <td>0.0</td>\n",
              "      <td>0.0</td>\n",
              "    </tr>\n",
              "    <tr>\n",
              "      <th>11</th>\n",
              "      <td>3.480823</td>\n",
              "      <td>3.480823</td>\n",
              "      <td>0.334931</td>\n",
              "      <td>0.334931</td>\n",
              "      <td>0.860324</td>\n",
              "      <td>24.888889</td>\n",
              "      <td>244.382</td>\n",
              "      <td>220.190</td>\n",
              "      <td>244.193949</td>\n",
              "      <td>98.0</td>\n",
              "      <td>...</td>\n",
              "      <td>0.0</td>\n",
              "      <td>0.0</td>\n",
              "      <td>0.0</td>\n",
              "      <td>0.0</td>\n",
              "      <td>0.0</td>\n",
              "      <td>0.0</td>\n",
              "      <td>0.0</td>\n",
              "      <td>0.0</td>\n",
              "      <td>0.0</td>\n",
              "      <td>0.0</td>\n",
              "    </tr>\n",
              "    <tr>\n",
              "      <th>12</th>\n",
              "      <td>3.480823</td>\n",
              "      <td>3.480823</td>\n",
              "      <td>0.334931</td>\n",
              "      <td>0.334931</td>\n",
              "      <td>0.860324</td>\n",
              "      <td>24.888889</td>\n",
              "      <td>244.382</td>\n",
              "      <td>220.190</td>\n",
              "      <td>244.193949</td>\n",
              "      <td>98.0</td>\n",
              "      <td>...</td>\n",
              "      <td>0.0</td>\n",
              "      <td>0.0</td>\n",
              "      <td>0.0</td>\n",
              "      <td>0.0</td>\n",
              "      <td>0.0</td>\n",
              "      <td>0.0</td>\n",
              "      <td>0.0</td>\n",
              "      <td>0.0</td>\n",
              "      <td>0.0</td>\n",
              "      <td>0.0</td>\n",
              "    </tr>\n",
              "    <tr>\n",
              "      <th>13</th>\n",
              "      <td>3.480823</td>\n",
              "      <td>3.480823</td>\n",
              "      <td>0.334931</td>\n",
              "      <td>0.334931</td>\n",
              "      <td>0.860324</td>\n",
              "      <td>24.888889</td>\n",
              "      <td>244.382</td>\n",
              "      <td>220.190</td>\n",
              "      <td>244.193949</td>\n",
              "      <td>98.0</td>\n",
              "      <td>...</td>\n",
              "      <td>0.0</td>\n",
              "      <td>0.0</td>\n",
              "      <td>0.0</td>\n",
              "      <td>0.0</td>\n",
              "      <td>0.0</td>\n",
              "      <td>0.0</td>\n",
              "      <td>0.0</td>\n",
              "      <td>0.0</td>\n",
              "      <td>0.0</td>\n",
              "      <td>0.0</td>\n",
              "    </tr>\n",
              "    <tr>\n",
              "      <th>14</th>\n",
              "      <td>3.480823</td>\n",
              "      <td>3.480823</td>\n",
              "      <td>0.334931</td>\n",
              "      <td>0.334931</td>\n",
              "      <td>0.860324</td>\n",
              "      <td>24.888889</td>\n",
              "      <td>244.382</td>\n",
              "      <td>220.190</td>\n",
              "      <td>244.193949</td>\n",
              "      <td>98.0</td>\n",
              "      <td>...</td>\n",
              "      <td>0.0</td>\n",
              "      <td>0.0</td>\n",
              "      <td>0.0</td>\n",
              "      <td>0.0</td>\n",
              "      <td>0.0</td>\n",
              "      <td>0.0</td>\n",
              "      <td>0.0</td>\n",
              "      <td>0.0</td>\n",
              "      <td>0.0</td>\n",
              "      <td>0.0</td>\n",
              "    </tr>\n",
              "    <tr>\n",
              "      <th>15</th>\n",
              "      <td>3.480823</td>\n",
              "      <td>3.480823</td>\n",
              "      <td>0.334931</td>\n",
              "      <td>0.334931</td>\n",
              "      <td>0.860324</td>\n",
              "      <td>24.888889</td>\n",
              "      <td>244.382</td>\n",
              "      <td>220.190</td>\n",
              "      <td>244.193949</td>\n",
              "      <td>98.0</td>\n",
              "      <td>...</td>\n",
              "      <td>0.0</td>\n",
              "      <td>0.0</td>\n",
              "      <td>0.0</td>\n",
              "      <td>0.0</td>\n",
              "      <td>0.0</td>\n",
              "      <td>0.0</td>\n",
              "      <td>0.0</td>\n",
              "      <td>0.0</td>\n",
              "      <td>0.0</td>\n",
              "      <td>0.0</td>\n",
              "    </tr>\n",
              "    <tr>\n",
              "      <th>16</th>\n",
              "      <td>3.480823</td>\n",
              "      <td>3.480823</td>\n",
              "      <td>0.334931</td>\n",
              "      <td>0.334931</td>\n",
              "      <td>0.860324</td>\n",
              "      <td>24.888889</td>\n",
              "      <td>244.382</td>\n",
              "      <td>220.190</td>\n",
              "      <td>244.193949</td>\n",
              "      <td>98.0</td>\n",
              "      <td>...</td>\n",
              "      <td>0.0</td>\n",
              "      <td>0.0</td>\n",
              "      <td>0.0</td>\n",
              "      <td>0.0</td>\n",
              "      <td>0.0</td>\n",
              "      <td>0.0</td>\n",
              "      <td>0.0</td>\n",
              "      <td>0.0</td>\n",
              "      <td>0.0</td>\n",
              "      <td>0.0</td>\n",
              "    </tr>\n",
              "    <tr>\n",
              "      <th>17</th>\n",
              "      <td>3.480823</td>\n",
              "      <td>3.480823</td>\n",
              "      <td>0.334931</td>\n",
              "      <td>0.334931</td>\n",
              "      <td>0.860324</td>\n",
              "      <td>24.888889</td>\n",
              "      <td>244.382</td>\n",
              "      <td>220.190</td>\n",
              "      <td>244.193949</td>\n",
              "      <td>98.0</td>\n",
              "      <td>...</td>\n",
              "      <td>0.0</td>\n",
              "      <td>0.0</td>\n",
              "      <td>0.0</td>\n",
              "      <td>0.0</td>\n",
              "      <td>0.0</td>\n",
              "      <td>0.0</td>\n",
              "      <td>0.0</td>\n",
              "      <td>0.0</td>\n",
              "      <td>0.0</td>\n",
              "      <td>0.0</td>\n",
              "    </tr>\n",
              "    <tr>\n",
              "      <th>18</th>\n",
              "      <td>3.480823</td>\n",
              "      <td>3.480823</td>\n",
              "      <td>0.334931</td>\n",
              "      <td>0.334931</td>\n",
              "      <td>0.860324</td>\n",
              "      <td>24.888889</td>\n",
              "      <td>244.382</td>\n",
              "      <td>220.190</td>\n",
              "      <td>244.193949</td>\n",
              "      <td>98.0</td>\n",
              "      <td>...</td>\n",
              "      <td>0.0</td>\n",
              "      <td>0.0</td>\n",
              "      <td>0.0</td>\n",
              "      <td>0.0</td>\n",
              "      <td>0.0</td>\n",
              "      <td>0.0</td>\n",
              "      <td>0.0</td>\n",
              "      <td>0.0</td>\n",
              "      <td>0.0</td>\n",
              "      <td>0.0</td>\n",
              "    </tr>\n",
              "    <tr>\n",
              "      <th>19</th>\n",
              "      <td>3.480823</td>\n",
              "      <td>3.480823</td>\n",
              "      <td>0.334931</td>\n",
              "      <td>0.334931</td>\n",
              "      <td>0.860324</td>\n",
              "      <td>24.888889</td>\n",
              "      <td>244.382</td>\n",
              "      <td>220.190</td>\n",
              "      <td>244.193949</td>\n",
              "      <td>98.0</td>\n",
              "      <td>...</td>\n",
              "      <td>0.0</td>\n",
              "      <td>0.0</td>\n",
              "      <td>0.0</td>\n",
              "      <td>0.0</td>\n",
              "      <td>0.0</td>\n",
              "      <td>0.0</td>\n",
              "      <td>0.0</td>\n",
              "      <td>0.0</td>\n",
              "      <td>0.0</td>\n",
              "      <td>0.0</td>\n",
              "    </tr>\n",
              "    <tr>\n",
              "      <th>20</th>\n",
              "      <td>3.480823</td>\n",
              "      <td>3.480823</td>\n",
              "      <td>0.334931</td>\n",
              "      <td>0.334931</td>\n",
              "      <td>0.860324</td>\n",
              "      <td>24.888889</td>\n",
              "      <td>244.382</td>\n",
              "      <td>220.190</td>\n",
              "      <td>244.193949</td>\n",
              "      <td>98.0</td>\n",
              "      <td>...</td>\n",
              "      <td>0.0</td>\n",
              "      <td>0.0</td>\n",
              "      <td>0.0</td>\n",
              "      <td>0.0</td>\n",
              "      <td>0.0</td>\n",
              "      <td>0.0</td>\n",
              "      <td>0.0</td>\n",
              "      <td>0.0</td>\n",
              "      <td>0.0</td>\n",
              "      <td>0.0</td>\n",
              "    </tr>\n",
              "    <tr>\n",
              "      <th>21</th>\n",
              "      <td>3.480823</td>\n",
              "      <td>3.480823</td>\n",
              "      <td>0.334931</td>\n",
              "      <td>0.334931</td>\n",
              "      <td>0.860324</td>\n",
              "      <td>24.888889</td>\n",
              "      <td>244.382</td>\n",
              "      <td>220.190</td>\n",
              "      <td>244.193949</td>\n",
              "      <td>98.0</td>\n",
              "      <td>...</td>\n",
              "      <td>0.0</td>\n",
              "      <td>0.0</td>\n",
              "      <td>0.0</td>\n",
              "      <td>0.0</td>\n",
              "      <td>0.0</td>\n",
              "      <td>0.0</td>\n",
              "      <td>0.0</td>\n",
              "      <td>0.0</td>\n",
              "      <td>0.0</td>\n",
              "      <td>0.0</td>\n",
              "    </tr>\n",
              "    <tr>\n",
              "      <th>22</th>\n",
              "      <td>3.480823</td>\n",
              "      <td>3.480823</td>\n",
              "      <td>0.334931</td>\n",
              "      <td>0.334931</td>\n",
              "      <td>0.860324</td>\n",
              "      <td>24.888889</td>\n",
              "      <td>244.382</td>\n",
              "      <td>220.190</td>\n",
              "      <td>244.193949</td>\n",
              "      <td>98.0</td>\n",
              "      <td>...</td>\n",
              "      <td>0.0</td>\n",
              "      <td>0.0</td>\n",
              "      <td>0.0</td>\n",
              "      <td>0.0</td>\n",
              "      <td>0.0</td>\n",
              "      <td>0.0</td>\n",
              "      <td>0.0</td>\n",
              "      <td>0.0</td>\n",
              "      <td>0.0</td>\n",
              "      <td>0.0</td>\n",
              "    </tr>\n",
              "    <tr>\n",
              "      <th>23</th>\n",
              "      <td>3.480823</td>\n",
              "      <td>3.480823</td>\n",
              "      <td>0.334931</td>\n",
              "      <td>0.334931</td>\n",
              "      <td>0.860324</td>\n",
              "      <td>24.888889</td>\n",
              "      <td>244.382</td>\n",
              "      <td>220.190</td>\n",
              "      <td>244.193949</td>\n",
              "      <td>98.0</td>\n",
              "      <td>...</td>\n",
              "      <td>0.0</td>\n",
              "      <td>0.0</td>\n",
              "      <td>0.0</td>\n",
              "      <td>0.0</td>\n",
              "      <td>0.0</td>\n",
              "      <td>0.0</td>\n",
              "      <td>0.0</td>\n",
              "      <td>0.0</td>\n",
              "      <td>0.0</td>\n",
              "      <td>0.0</td>\n",
              "    </tr>\n",
              "    <tr>\n",
              "      <th>24</th>\n",
              "      <td>11.499631</td>\n",
              "      <td>11.499631</td>\n",
              "      <td>0.001508</td>\n",
              "      <td>-0.001508</td>\n",
              "      <td>0.315073</td>\n",
              "      <td>32.510204</td>\n",
              "      <td>671.975</td>\n",
              "      <td>610.487</td>\n",
              "      <td>671.488674</td>\n",
              "      <td>268.0</td>\n",
              "      <td>...</td>\n",
              "      <td>0.0</td>\n",
              "      <td>0.0</td>\n",
              "      <td>0.0</td>\n",
              "      <td>0.0</td>\n",
              "      <td>0.0</td>\n",
              "      <td>0.0</td>\n",
              "      <td>0.0</td>\n",
              "      <td>0.0</td>\n",
              "      <td>0.0</td>\n",
              "      <td>0.0</td>\n",
              "    </tr>\n",
              "  </tbody>\n",
              "</table>\n",
              "<p>25 rows × 210 columns</p>\n",
              "</div>\n",
              "    <div class=\"colab-df-buttons\">\n",
              "\n",
              "  <div class=\"colab-df-container\">\n",
              "    <button class=\"colab-df-convert\" onclick=\"convertToInteractive('df-889d6b89-7334-48a2-9afd-904b7c7a0bdc')\"\n",
              "            title=\"Convert this dataframe to an interactive table.\"\n",
              "            style=\"display:none;\">\n",
              "\n",
              "  <svg xmlns=\"http://www.w3.org/2000/svg\" height=\"24px\" viewBox=\"0 -960 960 960\">\n",
              "    <path d=\"M120-120v-720h720v720H120Zm60-500h600v-160H180v160Zm220 220h160v-160H400v160Zm0 220h160v-160H400v160ZM180-400h160v-160H180v160Zm440 0h160v-160H620v160ZM180-180h160v-160H180v160Zm440 0h160v-160H620v160Z\"/>\n",
              "  </svg>\n",
              "    </button>\n",
              "\n",
              "  <style>\n",
              "    .colab-df-container {\n",
              "      display:flex;\n",
              "      gap: 12px;\n",
              "    }\n",
              "\n",
              "    .colab-df-convert {\n",
              "      background-color: #E8F0FE;\n",
              "      border: none;\n",
              "      border-radius: 50%;\n",
              "      cursor: pointer;\n",
              "      display: none;\n",
              "      fill: #1967D2;\n",
              "      height: 32px;\n",
              "      padding: 0 0 0 0;\n",
              "      width: 32px;\n",
              "    }\n",
              "\n",
              "    .colab-df-convert:hover {\n",
              "      background-color: #E2EBFA;\n",
              "      box-shadow: 0px 1px 2px rgba(60, 64, 67, 0.3), 0px 1px 3px 1px rgba(60, 64, 67, 0.15);\n",
              "      fill: #174EA6;\n",
              "    }\n",
              "\n",
              "    .colab-df-buttons div {\n",
              "      margin-bottom: 4px;\n",
              "    }\n",
              "\n",
              "    [theme=dark] .colab-df-convert {\n",
              "      background-color: #3B4455;\n",
              "      fill: #D2E3FC;\n",
              "    }\n",
              "\n",
              "    [theme=dark] .colab-df-convert:hover {\n",
              "      background-color: #434B5C;\n",
              "      box-shadow: 0px 1px 3px 1px rgba(0, 0, 0, 0.15);\n",
              "      filter: drop-shadow(0px 1px 2px rgba(0, 0, 0, 0.3));\n",
              "      fill: #FFFFFF;\n",
              "    }\n",
              "  </style>\n",
              "\n",
              "    <script>\n",
              "      const buttonEl =\n",
              "        document.querySelector('#df-889d6b89-7334-48a2-9afd-904b7c7a0bdc button.colab-df-convert');\n",
              "      buttonEl.style.display =\n",
              "        google.colab.kernel.accessAllowed ? 'block' : 'none';\n",
              "\n",
              "      async function convertToInteractive(key) {\n",
              "        const element = document.querySelector('#df-889d6b89-7334-48a2-9afd-904b7c7a0bdc');\n",
              "        const dataTable =\n",
              "          await google.colab.kernel.invokeFunction('convertToInteractive',\n",
              "                                                    [key], {});\n",
              "        if (!dataTable) return;\n",
              "\n",
              "        const docLinkHtml = 'Like what you see? Visit the ' +\n",
              "          '<a target=\"_blank\" href=https://colab.research.google.com/notebooks/data_table.ipynb>data table notebook</a>'\n",
              "          + ' to learn more about interactive tables.';\n",
              "        element.innerHTML = '';\n",
              "        dataTable['output_type'] = 'display_data';\n",
              "        await google.colab.output.renderOutput(dataTable, element);\n",
              "        const docLink = document.createElement('div');\n",
              "        docLink.innerHTML = docLinkHtml;\n",
              "        element.appendChild(docLink);\n",
              "      }\n",
              "    </script>\n",
              "  </div>\n",
              "\n",
              "\n",
              "<div id=\"df-dd7c086c-7393-46eb-9c17-a6b7d74b9abd\">\n",
              "  <button class=\"colab-df-quickchart\" onclick=\"quickchart('df-dd7c086c-7393-46eb-9c17-a6b7d74b9abd')\"\n",
              "            title=\"Suggest charts\"\n",
              "            style=\"display:none;\">\n",
              "\n",
              "<svg xmlns=\"http://www.w3.org/2000/svg\" height=\"24px\"viewBox=\"0 0 24 24\"\n",
              "     width=\"24px\">\n",
              "    <g>\n",
              "        <path d=\"M19 3H5c-1.1 0-2 .9-2 2v14c0 1.1.9 2 2 2h14c1.1 0 2-.9 2-2V5c0-1.1-.9-2-2-2zM9 17H7v-7h2v7zm4 0h-2V7h2v10zm4 0h-2v-4h2v4z\"/>\n",
              "    </g>\n",
              "</svg>\n",
              "  </button>\n",
              "\n",
              "<style>\n",
              "  .colab-df-quickchart {\n",
              "      --bg-color: #E8F0FE;\n",
              "      --fill-color: #1967D2;\n",
              "      --hover-bg-color: #E2EBFA;\n",
              "      --hover-fill-color: #174EA6;\n",
              "      --disabled-fill-color: #AAA;\n",
              "      --disabled-bg-color: #DDD;\n",
              "  }\n",
              "\n",
              "  [theme=dark] .colab-df-quickchart {\n",
              "      --bg-color: #3B4455;\n",
              "      --fill-color: #D2E3FC;\n",
              "      --hover-bg-color: #434B5C;\n",
              "      --hover-fill-color: #FFFFFF;\n",
              "      --disabled-bg-color: #3B4455;\n",
              "      --disabled-fill-color: #666;\n",
              "  }\n",
              "\n",
              "  .colab-df-quickchart {\n",
              "    background-color: var(--bg-color);\n",
              "    border: none;\n",
              "    border-radius: 50%;\n",
              "    cursor: pointer;\n",
              "    display: none;\n",
              "    fill: var(--fill-color);\n",
              "    height: 32px;\n",
              "    padding: 0;\n",
              "    width: 32px;\n",
              "  }\n",
              "\n",
              "  .colab-df-quickchart:hover {\n",
              "    background-color: var(--hover-bg-color);\n",
              "    box-shadow: 0 1px 2px rgba(60, 64, 67, 0.3), 0 1px 3px 1px rgba(60, 64, 67, 0.15);\n",
              "    fill: var(--button-hover-fill-color);\n",
              "  }\n",
              "\n",
              "  .colab-df-quickchart-complete:disabled,\n",
              "  .colab-df-quickchart-complete:disabled:hover {\n",
              "    background-color: var(--disabled-bg-color);\n",
              "    fill: var(--disabled-fill-color);\n",
              "    box-shadow: none;\n",
              "  }\n",
              "\n",
              "  .colab-df-spinner {\n",
              "    border: 2px solid var(--fill-color);\n",
              "    border-color: transparent;\n",
              "    border-bottom-color: var(--fill-color);\n",
              "    animation:\n",
              "      spin 1s steps(1) infinite;\n",
              "  }\n",
              "\n",
              "  @keyframes spin {\n",
              "    0% {\n",
              "      border-color: transparent;\n",
              "      border-bottom-color: var(--fill-color);\n",
              "      border-left-color: var(--fill-color);\n",
              "    }\n",
              "    20% {\n",
              "      border-color: transparent;\n",
              "      border-left-color: var(--fill-color);\n",
              "      border-top-color: var(--fill-color);\n",
              "    }\n",
              "    30% {\n",
              "      border-color: transparent;\n",
              "      border-left-color: var(--fill-color);\n",
              "      border-top-color: var(--fill-color);\n",
              "      border-right-color: var(--fill-color);\n",
              "    }\n",
              "    40% {\n",
              "      border-color: transparent;\n",
              "      border-right-color: var(--fill-color);\n",
              "      border-top-color: var(--fill-color);\n",
              "    }\n",
              "    60% {\n",
              "      border-color: transparent;\n",
              "      border-right-color: var(--fill-color);\n",
              "    }\n",
              "    80% {\n",
              "      border-color: transparent;\n",
              "      border-right-color: var(--fill-color);\n",
              "      border-bottom-color: var(--fill-color);\n",
              "    }\n",
              "    90% {\n",
              "      border-color: transparent;\n",
              "      border-bottom-color: var(--fill-color);\n",
              "    }\n",
              "  }\n",
              "</style>\n",
              "\n",
              "  <script>\n",
              "    async function quickchart(key) {\n",
              "      const quickchartButtonEl =\n",
              "        document.querySelector('#' + key + ' button');\n",
              "      quickchartButtonEl.disabled = true;  // To prevent multiple clicks.\n",
              "      quickchartButtonEl.classList.add('colab-df-spinner');\n",
              "      try {\n",
              "        const charts = await google.colab.kernel.invokeFunction(\n",
              "            'suggestCharts', [key], {});\n",
              "      } catch (error) {\n",
              "        console.error('Error during call to suggestCharts:', error);\n",
              "      }\n",
              "      quickchartButtonEl.classList.remove('colab-df-spinner');\n",
              "      quickchartButtonEl.classList.add('colab-df-quickchart-complete');\n",
              "    }\n",
              "    (() => {\n",
              "      let quickchartButtonEl =\n",
              "        document.querySelector('#df-dd7c086c-7393-46eb-9c17-a6b7d74b9abd button');\n",
              "      quickchartButtonEl.style.display =\n",
              "        google.colab.kernel.accessAllowed ? 'block' : 'none';\n",
              "    })();\n",
              "  </script>\n",
              "</div>\n",
              "    </div>\n",
              "  </div>\n"
            ]
          },
          "metadata": {},
          "execution_count": 31
        }
      ]
    },
    {
      "cell_type": "code",
      "source": [
        "# Featurize data\n",
        "num_actions = []\n",
        "for m in mols:\n",
        "    num_actions.append(feat.featurize(m).tolist())"
      ],
      "metadata": {
        "id": "jLm6R6aES0zt"
      },
      "execution_count": null,
      "outputs": []
    },
    {
      "cell_type": "code",
      "source": [
        "flat_X = []\n",
        "flat_y = []\n",
        "for id, t in enumerate(num_actions):\n",
        "    actions = traj[id][1:]\n",
        "    for idx, a in enumerate(t):\n",
        "        flat_X.append(a)\n",
        "        flat_y.append(actions[idx][1].action.cname)"
      ],
      "metadata": {
        "id": "hDlEJhbw1vct"
      },
      "execution_count": null,
      "outputs": []
    },
    {
      "cell_type": "code",
      "source": [
        "df_flat_ = pd.DataFrame(flat_X, columns=feat.descriptors)\n",
        "df_flat_[\"target\"] = flat_y\n",
        "print(df_flat_.size)"
      ],
      "metadata": {
        "colab": {
          "base_uri": "https://localhost:8080/"
        },
        "id": "0Sjn3ZRN51_l",
        "outputId": "7d74bd9a-afe8-47d2-fb94-622680aead08"
      },
      "execution_count": null,
      "outputs": [
        {
          "output_type": "stream",
          "name": "stdout",
          "text": [
            "5275000\n"
          ]
        }
      ]
    },
    {
      "cell_type": "code",
      "source": [
        "# Because of replication of mols for not valid steps there are many duplicates\n",
        "# We drop them for the classificator experiments\n",
        "df_flat = df_flat_.drop_duplicates()\n",
        "print(df_flat.size)"
      ],
      "metadata": {
        "colab": {
          "base_uri": "https://localhost:8080/"
        },
        "id": "beCmpb1N6Ltw",
        "outputId": "cfafe32e-144b-409e-b5fd-2dbf6c05a2ab"
      },
      "execution_count": null,
      "outputs": [
        {
          "output_type": "stream",
          "name": "stdout",
          "text": [
            "1586720\n"
          ]
        }
      ]
    },
    {
      "cell_type": "code",
      "source": [
        "df_flat.head()"
      ],
      "metadata": {
        "colab": {
          "base_uri": "https://localhost:8080/",
          "height": 255
        },
        "id": "mG85qpOf2MNv",
        "outputId": "1d58d1db-a81e-4fee-e0e9-2cdb9ede48d7"
      },
      "execution_count": null,
      "outputs": [
        {
          "output_type": "execute_result",
          "data": {
            "text/plain": [
              "    MaxAbsEStateIndex  MaxEStateIndex  MinAbsEStateIndex  MinEStateIndex  \\\n",
              "0            1.500000        1.500000           1.500000        1.500000   \n",
              "1            4.358426        4.358426           0.787037        0.787037   \n",
              "2            4.606982        4.606982           0.193958        0.193958   \n",
              "5            4.606982        4.606982           0.193958        0.193958   \n",
              "13          13.404283       13.404283           0.086897       -1.431138   \n",
              "\n",
              "         qed        SPS    MolWt  HeavyAtomMolWt  ExactMolWt  \\\n",
              "0   0.422316  24.000000   84.162          72.066   84.093900   \n",
              "1   0.625645  20.363636  167.277         154.173  167.076870   \n",
              "2   0.761827  19.058824  243.375         226.239  243.108171   \n",
              "5   0.761827  19.058824  243.375         226.239  243.108171   \n",
              "13  0.077142  24.563636  773.989         730.645  773.293028   \n",
              "\n",
              "    NumValenceElectrons  ...  fr_sulfonamd  fr_sulfone  fr_term_acetylene  \\\n",
              "0                  36.0  ...           0.0         0.0                0.0   \n",
              "1                  60.0  ...           0.0         0.0                0.0   \n",
              "2                  88.0  ...           0.0         0.0                0.0   \n",
              "5                  88.0  ...           0.0         0.0                0.0   \n",
              "13                282.0  ...           0.0         0.0                0.0   \n",
              "\n",
              "    fr_tetrazole  fr_thiazole  fr_thiocyan  fr_thiophene  fr_unbrch_alkane  \\\n",
              "0            0.0          0.0          0.0           0.0               0.0   \n",
              "1            0.0          1.0          0.0           0.0               0.0   \n",
              "2            0.0          1.0          0.0           0.0               0.0   \n",
              "5            0.0          1.0          0.0           0.0               0.0   \n",
              "13           0.0          1.0          0.0           1.0               0.0   \n",
              "\n",
              "    fr_urea         target  \n",
              "0       0.0       add_node  \n",
              "1       0.0       add_node  \n",
              "2       0.0       add_node  \n",
              "5       0.0  set_edge_attr  \n",
              "13      0.0  set_edge_attr  \n",
              "\n",
              "[5 rows x 211 columns]"
            ],
            "text/html": [
              "\n",
              "  <div id=\"df-e64bdfee-0e0e-4595-97d5-f41a5af4d9d4\" class=\"colab-df-container\">\n",
              "    <div>\n",
              "<style scoped>\n",
              "    .dataframe tbody tr th:only-of-type {\n",
              "        vertical-align: middle;\n",
              "    }\n",
              "\n",
              "    .dataframe tbody tr th {\n",
              "        vertical-align: top;\n",
              "    }\n",
              "\n",
              "    .dataframe thead th {\n",
              "        text-align: right;\n",
              "    }\n",
              "</style>\n",
              "<table border=\"1\" class=\"dataframe\">\n",
              "  <thead>\n",
              "    <tr style=\"text-align: right;\">\n",
              "      <th></th>\n",
              "      <th>MaxAbsEStateIndex</th>\n",
              "      <th>MaxEStateIndex</th>\n",
              "      <th>MinAbsEStateIndex</th>\n",
              "      <th>MinEStateIndex</th>\n",
              "      <th>qed</th>\n",
              "      <th>SPS</th>\n",
              "      <th>MolWt</th>\n",
              "      <th>HeavyAtomMolWt</th>\n",
              "      <th>ExactMolWt</th>\n",
              "      <th>NumValenceElectrons</th>\n",
              "      <th>...</th>\n",
              "      <th>fr_sulfonamd</th>\n",
              "      <th>fr_sulfone</th>\n",
              "      <th>fr_term_acetylene</th>\n",
              "      <th>fr_tetrazole</th>\n",
              "      <th>fr_thiazole</th>\n",
              "      <th>fr_thiocyan</th>\n",
              "      <th>fr_thiophene</th>\n",
              "      <th>fr_unbrch_alkane</th>\n",
              "      <th>fr_urea</th>\n",
              "      <th>target</th>\n",
              "    </tr>\n",
              "  </thead>\n",
              "  <tbody>\n",
              "    <tr>\n",
              "      <th>0</th>\n",
              "      <td>1.500000</td>\n",
              "      <td>1.500000</td>\n",
              "      <td>1.500000</td>\n",
              "      <td>1.500000</td>\n",
              "      <td>0.422316</td>\n",
              "      <td>24.000000</td>\n",
              "      <td>84.162</td>\n",
              "      <td>72.066</td>\n",
              "      <td>84.093900</td>\n",
              "      <td>36.0</td>\n",
              "      <td>...</td>\n",
              "      <td>0.0</td>\n",
              "      <td>0.0</td>\n",
              "      <td>0.0</td>\n",
              "      <td>0.0</td>\n",
              "      <td>0.0</td>\n",
              "      <td>0.0</td>\n",
              "      <td>0.0</td>\n",
              "      <td>0.0</td>\n",
              "      <td>0.0</td>\n",
              "      <td>add_node</td>\n",
              "    </tr>\n",
              "    <tr>\n",
              "      <th>1</th>\n",
              "      <td>4.358426</td>\n",
              "      <td>4.358426</td>\n",
              "      <td>0.787037</td>\n",
              "      <td>0.787037</td>\n",
              "      <td>0.625645</td>\n",
              "      <td>20.363636</td>\n",
              "      <td>167.277</td>\n",
              "      <td>154.173</td>\n",
              "      <td>167.076870</td>\n",
              "      <td>60.0</td>\n",
              "      <td>...</td>\n",
              "      <td>0.0</td>\n",
              "      <td>0.0</td>\n",
              "      <td>0.0</td>\n",
              "      <td>0.0</td>\n",
              "      <td>1.0</td>\n",
              "      <td>0.0</td>\n",
              "      <td>0.0</td>\n",
              "      <td>0.0</td>\n",
              "      <td>0.0</td>\n",
              "      <td>add_node</td>\n",
              "    </tr>\n",
              "    <tr>\n",
              "      <th>2</th>\n",
              "      <td>4.606982</td>\n",
              "      <td>4.606982</td>\n",
              "      <td>0.193958</td>\n",
              "      <td>0.193958</td>\n",
              "      <td>0.761827</td>\n",
              "      <td>19.058824</td>\n",
              "      <td>243.375</td>\n",
              "      <td>226.239</td>\n",
              "      <td>243.108171</td>\n",
              "      <td>88.0</td>\n",
              "      <td>...</td>\n",
              "      <td>0.0</td>\n",
              "      <td>0.0</td>\n",
              "      <td>0.0</td>\n",
              "      <td>0.0</td>\n",
              "      <td>1.0</td>\n",
              "      <td>0.0</td>\n",
              "      <td>0.0</td>\n",
              "      <td>0.0</td>\n",
              "      <td>0.0</td>\n",
              "      <td>add_node</td>\n",
              "    </tr>\n",
              "    <tr>\n",
              "      <th>5</th>\n",
              "      <td>4.606982</td>\n",
              "      <td>4.606982</td>\n",
              "      <td>0.193958</td>\n",
              "      <td>0.193958</td>\n",
              "      <td>0.761827</td>\n",
              "      <td>19.058824</td>\n",
              "      <td>243.375</td>\n",
              "      <td>226.239</td>\n",
              "      <td>243.108171</td>\n",
              "      <td>88.0</td>\n",
              "      <td>...</td>\n",
              "      <td>0.0</td>\n",
              "      <td>0.0</td>\n",
              "      <td>0.0</td>\n",
              "      <td>0.0</td>\n",
              "      <td>1.0</td>\n",
              "      <td>0.0</td>\n",
              "      <td>0.0</td>\n",
              "      <td>0.0</td>\n",
              "      <td>0.0</td>\n",
              "      <td>set_edge_attr</td>\n",
              "    </tr>\n",
              "    <tr>\n",
              "      <th>13</th>\n",
              "      <td>13.404283</td>\n",
              "      <td>13.404283</td>\n",
              "      <td>0.086897</td>\n",
              "      <td>-1.431138</td>\n",
              "      <td>0.077142</td>\n",
              "      <td>24.563636</td>\n",
              "      <td>773.989</td>\n",
              "      <td>730.645</td>\n",
              "      <td>773.293028</td>\n",
              "      <td>282.0</td>\n",
              "      <td>...</td>\n",
              "      <td>0.0</td>\n",
              "      <td>0.0</td>\n",
              "      <td>0.0</td>\n",
              "      <td>0.0</td>\n",
              "      <td>1.0</td>\n",
              "      <td>0.0</td>\n",
              "      <td>1.0</td>\n",
              "      <td>0.0</td>\n",
              "      <td>0.0</td>\n",
              "      <td>set_edge_attr</td>\n",
              "    </tr>\n",
              "  </tbody>\n",
              "</table>\n",
              "<p>5 rows × 211 columns</p>\n",
              "</div>\n",
              "    <div class=\"colab-df-buttons\">\n",
              "\n",
              "  <div class=\"colab-df-container\">\n",
              "    <button class=\"colab-df-convert\" onclick=\"convertToInteractive('df-e64bdfee-0e0e-4595-97d5-f41a5af4d9d4')\"\n",
              "            title=\"Convert this dataframe to an interactive table.\"\n",
              "            style=\"display:none;\">\n",
              "\n",
              "  <svg xmlns=\"http://www.w3.org/2000/svg\" height=\"24px\" viewBox=\"0 -960 960 960\">\n",
              "    <path d=\"M120-120v-720h720v720H120Zm60-500h600v-160H180v160Zm220 220h160v-160H400v160Zm0 220h160v-160H400v160ZM180-400h160v-160H180v160Zm440 0h160v-160H620v160ZM180-180h160v-160H180v160Zm440 0h160v-160H620v160Z\"/>\n",
              "  </svg>\n",
              "    </button>\n",
              "\n",
              "  <style>\n",
              "    .colab-df-container {\n",
              "      display:flex;\n",
              "      gap: 12px;\n",
              "    }\n",
              "\n",
              "    .colab-df-convert {\n",
              "      background-color: #E8F0FE;\n",
              "      border: none;\n",
              "      border-radius: 50%;\n",
              "      cursor: pointer;\n",
              "      display: none;\n",
              "      fill: #1967D2;\n",
              "      height: 32px;\n",
              "      padding: 0 0 0 0;\n",
              "      width: 32px;\n",
              "    }\n",
              "\n",
              "    .colab-df-convert:hover {\n",
              "      background-color: #E2EBFA;\n",
              "      box-shadow: 0px 1px 2px rgba(60, 64, 67, 0.3), 0px 1px 3px 1px rgba(60, 64, 67, 0.15);\n",
              "      fill: #174EA6;\n",
              "    }\n",
              "\n",
              "    .colab-df-buttons div {\n",
              "      margin-bottom: 4px;\n",
              "    }\n",
              "\n",
              "    [theme=dark] .colab-df-convert {\n",
              "      background-color: #3B4455;\n",
              "      fill: #D2E3FC;\n",
              "    }\n",
              "\n",
              "    [theme=dark] .colab-df-convert:hover {\n",
              "      background-color: #434B5C;\n",
              "      box-shadow: 0px 1px 3px 1px rgba(0, 0, 0, 0.15);\n",
              "      filter: drop-shadow(0px 1px 2px rgba(0, 0, 0, 0.3));\n",
              "      fill: #FFFFFF;\n",
              "    }\n",
              "  </style>\n",
              "\n",
              "    <script>\n",
              "      const buttonEl =\n",
              "        document.querySelector('#df-e64bdfee-0e0e-4595-97d5-f41a5af4d9d4 button.colab-df-convert');\n",
              "      buttonEl.style.display =\n",
              "        google.colab.kernel.accessAllowed ? 'block' : 'none';\n",
              "\n",
              "      async function convertToInteractive(key) {\n",
              "        const element = document.querySelector('#df-e64bdfee-0e0e-4595-97d5-f41a5af4d9d4');\n",
              "        const dataTable =\n",
              "          await google.colab.kernel.invokeFunction('convertToInteractive',\n",
              "                                                    [key], {});\n",
              "        if (!dataTable) return;\n",
              "\n",
              "        const docLinkHtml = 'Like what you see? Visit the ' +\n",
              "          '<a target=\"_blank\" href=https://colab.research.google.com/notebooks/data_table.ipynb>data table notebook</a>'\n",
              "          + ' to learn more about interactive tables.';\n",
              "        element.innerHTML = '';\n",
              "        dataTable['output_type'] = 'display_data';\n",
              "        await google.colab.output.renderOutput(dataTable, element);\n",
              "        const docLink = document.createElement('div');\n",
              "        docLink.innerHTML = docLinkHtml;\n",
              "        element.appendChild(docLink);\n",
              "      }\n",
              "    </script>\n",
              "  </div>\n",
              "\n",
              "\n",
              "<div id=\"df-7a988ac4-a19a-4e79-8afa-c686f7920b24\">\n",
              "  <button class=\"colab-df-quickchart\" onclick=\"quickchart('df-7a988ac4-a19a-4e79-8afa-c686f7920b24')\"\n",
              "            title=\"Suggest charts\"\n",
              "            style=\"display:none;\">\n",
              "\n",
              "<svg xmlns=\"http://www.w3.org/2000/svg\" height=\"24px\"viewBox=\"0 0 24 24\"\n",
              "     width=\"24px\">\n",
              "    <g>\n",
              "        <path d=\"M19 3H5c-1.1 0-2 .9-2 2v14c0 1.1.9 2 2 2h14c1.1 0 2-.9 2-2V5c0-1.1-.9-2-2-2zM9 17H7v-7h2v7zm4 0h-2V7h2v10zm4 0h-2v-4h2v4z\"/>\n",
              "    </g>\n",
              "</svg>\n",
              "  </button>\n",
              "\n",
              "<style>\n",
              "  .colab-df-quickchart {\n",
              "      --bg-color: #E8F0FE;\n",
              "      --fill-color: #1967D2;\n",
              "      --hover-bg-color: #E2EBFA;\n",
              "      --hover-fill-color: #174EA6;\n",
              "      --disabled-fill-color: #AAA;\n",
              "      --disabled-bg-color: #DDD;\n",
              "  }\n",
              "\n",
              "  [theme=dark] .colab-df-quickchart {\n",
              "      --bg-color: #3B4455;\n",
              "      --fill-color: #D2E3FC;\n",
              "      --hover-bg-color: #434B5C;\n",
              "      --hover-fill-color: #FFFFFF;\n",
              "      --disabled-bg-color: #3B4455;\n",
              "      --disabled-fill-color: #666;\n",
              "  }\n",
              "\n",
              "  .colab-df-quickchart {\n",
              "    background-color: var(--bg-color);\n",
              "    border: none;\n",
              "    border-radius: 50%;\n",
              "    cursor: pointer;\n",
              "    display: none;\n",
              "    fill: var(--fill-color);\n",
              "    height: 32px;\n",
              "    padding: 0;\n",
              "    width: 32px;\n",
              "  }\n",
              "\n",
              "  .colab-df-quickchart:hover {\n",
              "    background-color: var(--hover-bg-color);\n",
              "    box-shadow: 0 1px 2px rgba(60, 64, 67, 0.3), 0 1px 3px 1px rgba(60, 64, 67, 0.15);\n",
              "    fill: var(--button-hover-fill-color);\n",
              "  }\n",
              "\n",
              "  .colab-df-quickchart-complete:disabled,\n",
              "  .colab-df-quickchart-complete:disabled:hover {\n",
              "    background-color: var(--disabled-bg-color);\n",
              "    fill: var(--disabled-fill-color);\n",
              "    box-shadow: none;\n",
              "  }\n",
              "\n",
              "  .colab-df-spinner {\n",
              "    border: 2px solid var(--fill-color);\n",
              "    border-color: transparent;\n",
              "    border-bottom-color: var(--fill-color);\n",
              "    animation:\n",
              "      spin 1s steps(1) infinite;\n",
              "  }\n",
              "\n",
              "  @keyframes spin {\n",
              "    0% {\n",
              "      border-color: transparent;\n",
              "      border-bottom-color: var(--fill-color);\n",
              "      border-left-color: var(--fill-color);\n",
              "    }\n",
              "    20% {\n",
              "      border-color: transparent;\n",
              "      border-left-color: var(--fill-color);\n",
              "      border-top-color: var(--fill-color);\n",
              "    }\n",
              "    30% {\n",
              "      border-color: transparent;\n",
              "      border-left-color: var(--fill-color);\n",
              "      border-top-color: var(--fill-color);\n",
              "      border-right-color: var(--fill-color);\n",
              "    }\n",
              "    40% {\n",
              "      border-color: transparent;\n",
              "      border-right-color: var(--fill-color);\n",
              "      border-top-color: var(--fill-color);\n",
              "    }\n",
              "    60% {\n",
              "      border-color: transparent;\n",
              "      border-right-color: var(--fill-color);\n",
              "    }\n",
              "    80% {\n",
              "      border-color: transparent;\n",
              "      border-right-color: var(--fill-color);\n",
              "      border-bottom-color: var(--fill-color);\n",
              "    }\n",
              "    90% {\n",
              "      border-color: transparent;\n",
              "      border-bottom-color: var(--fill-color);\n",
              "    }\n",
              "  }\n",
              "</style>\n",
              "\n",
              "  <script>\n",
              "    async function quickchart(key) {\n",
              "      const quickchartButtonEl =\n",
              "        document.querySelector('#' + key + ' button');\n",
              "      quickchartButtonEl.disabled = true;  // To prevent multiple clicks.\n",
              "      quickchartButtonEl.classList.add('colab-df-spinner');\n",
              "      try {\n",
              "        const charts = await google.colab.kernel.invokeFunction(\n",
              "            'suggestCharts', [key], {});\n",
              "      } catch (error) {\n",
              "        console.error('Error during call to suggestCharts:', error);\n",
              "      }\n",
              "      quickchartButtonEl.classList.remove('colab-df-spinner');\n",
              "      quickchartButtonEl.classList.add('colab-df-quickchart-complete');\n",
              "    }\n",
              "    (() => {\n",
              "      let quickchartButtonEl =\n",
              "        document.querySelector('#df-7a988ac4-a19a-4e79-8afa-c686f7920b24 button');\n",
              "      quickchartButtonEl.style.display =\n",
              "        google.colab.kernel.accessAllowed ? 'block' : 'none';\n",
              "    })();\n",
              "  </script>\n",
              "</div>\n",
              "    </div>\n",
              "  </div>\n"
            ]
          },
          "metadata": {},
          "execution_count": 36
        }
      ]
    },
    {
      "cell_type": "code",
      "source": [
        "df_flat[\"target\"].value_counts()"
      ],
      "metadata": {
        "colab": {
          "base_uri": "https://localhost:8080/"
        },
        "id": "roJP3izZ2QOS",
        "outputId": "a8288e30-5931-4f81-d967-7b19fdd73c96"
      },
      "execution_count": null,
      "outputs": [
        {
          "output_type": "execute_result",
          "data": {
            "text/plain": [
              "set_edge_attr    4261\n",
              "add_node         2259\n",
              "stop             1000\n",
              "Name: target, dtype: int64"
            ]
          },
          "metadata": {},
          "execution_count": 37
        }
      ]
    },
    {
      "cell_type": "code",
      "source": [
        "# df_flat.to_csv(\"featurized_mols_actions.csv\")"
      ],
      "metadata": {
        "id": "JJRJolEy2WPY"
      },
      "execution_count": null,
      "outputs": []
    },
    {
      "cell_type": "markdown",
      "source": [
        "### Action classifier"
      ],
      "metadata": {
        "id": "L5gpzThR71nw"
      }
    },
    {
      "cell_type": "code",
      "source": [
        "df_flat = pd.read_csv(\"/content/featurized_mols_actions.csv\", index_col=0)"
      ],
      "metadata": {
        "id": "AcSbWAzXA7n8"
      },
      "execution_count": 5,
      "outputs": []
    },
    {
      "cell_type": "code",
      "source": [
        "from sklearn.model_selection import train_test_split, RandomizedSearchCV\n",
        "from sklearn.metrics import confusion_matrix, ConfusionMatrixDisplay\n",
        "from sklearn.ensemble import GradientBoostingClassifier, RandomForestClassifier\n",
        "from sklearn.tree import DecisionTreeClassifier, plot_tree"
      ],
      "metadata": {
        "id": "ermXWjlM6fIy"
      },
      "execution_count": 6,
      "outputs": []
    },
    {
      "cell_type": "code",
      "source": [
        "# Exclude stop action\n",
        "df_flat = df_flat[df_flat.target != \"stop\"]"
      ],
      "metadata": {
        "id": "Z5JuRekR2rfs"
      },
      "execution_count": 7,
      "outputs": []
    },
    {
      "cell_type": "code",
      "source": [
        "X, y = df_flat[[col for col in df_flat.columns if col != \"target\"]], df_flat[\"target\"]\n",
        "X_train, X_test, y_train, y_test = train_test_split(X, y, test_size=0.2, random_state=42)"
      ],
      "metadata": {
        "id": "y9o7lkb16jzy"
      },
      "execution_count": 8,
      "outputs": []
    },
    {
      "cell_type": "code",
      "source": [
        "rf = RandomForestClassifier()\n",
        "\n",
        "# Fit the random search model\n",
        "rf.fit(X_train, y_train)"
      ],
      "metadata": {
        "colab": {
          "base_uri": "https://localhost:8080/",
          "height": 75
        },
        "id": "1PxN9ai86jim",
        "outputId": "5164bc94-9dbd-45f8-9ad3-fcce39191573"
      },
      "execution_count": 9,
      "outputs": [
        {
          "output_type": "execute_result",
          "data": {
            "text/plain": [
              "RandomForestClassifier()"
            ],
            "text/html": [
              "<style>#sk-container-id-1 {color: black;background-color: white;}#sk-container-id-1 pre{padding: 0;}#sk-container-id-1 div.sk-toggleable {background-color: white;}#sk-container-id-1 label.sk-toggleable__label {cursor: pointer;display: block;width: 100%;margin-bottom: 0;padding: 0.3em;box-sizing: border-box;text-align: center;}#sk-container-id-1 label.sk-toggleable__label-arrow:before {content: \"▸\";float: left;margin-right: 0.25em;color: #696969;}#sk-container-id-1 label.sk-toggleable__label-arrow:hover:before {color: black;}#sk-container-id-1 div.sk-estimator:hover label.sk-toggleable__label-arrow:before {color: black;}#sk-container-id-1 div.sk-toggleable__content {max-height: 0;max-width: 0;overflow: hidden;text-align: left;background-color: #f0f8ff;}#sk-container-id-1 div.sk-toggleable__content pre {margin: 0.2em;color: black;border-radius: 0.25em;background-color: #f0f8ff;}#sk-container-id-1 input.sk-toggleable__control:checked~div.sk-toggleable__content {max-height: 200px;max-width: 100%;overflow: auto;}#sk-container-id-1 input.sk-toggleable__control:checked~label.sk-toggleable__label-arrow:before {content: \"▾\";}#sk-container-id-1 div.sk-estimator input.sk-toggleable__control:checked~label.sk-toggleable__label {background-color: #d4ebff;}#sk-container-id-1 div.sk-label input.sk-toggleable__control:checked~label.sk-toggleable__label {background-color: #d4ebff;}#sk-container-id-1 input.sk-hidden--visually {border: 0;clip: rect(1px 1px 1px 1px);clip: rect(1px, 1px, 1px, 1px);height: 1px;margin: -1px;overflow: hidden;padding: 0;position: absolute;width: 1px;}#sk-container-id-1 div.sk-estimator {font-family: monospace;background-color: #f0f8ff;border: 1px dotted black;border-radius: 0.25em;box-sizing: border-box;margin-bottom: 0.5em;}#sk-container-id-1 div.sk-estimator:hover {background-color: #d4ebff;}#sk-container-id-1 div.sk-parallel-item::after {content: \"\";width: 100%;border-bottom: 1px solid gray;flex-grow: 1;}#sk-container-id-1 div.sk-label:hover label.sk-toggleable__label {background-color: #d4ebff;}#sk-container-id-1 div.sk-serial::before {content: \"\";position: absolute;border-left: 1px solid gray;box-sizing: border-box;top: 0;bottom: 0;left: 50%;z-index: 0;}#sk-container-id-1 div.sk-serial {display: flex;flex-direction: column;align-items: center;background-color: white;padding-right: 0.2em;padding-left: 0.2em;position: relative;}#sk-container-id-1 div.sk-item {position: relative;z-index: 1;}#sk-container-id-1 div.sk-parallel {display: flex;align-items: stretch;justify-content: center;background-color: white;position: relative;}#sk-container-id-1 div.sk-item::before, #sk-container-id-1 div.sk-parallel-item::before {content: \"\";position: absolute;border-left: 1px solid gray;box-sizing: border-box;top: 0;bottom: 0;left: 50%;z-index: -1;}#sk-container-id-1 div.sk-parallel-item {display: flex;flex-direction: column;z-index: 1;position: relative;background-color: white;}#sk-container-id-1 div.sk-parallel-item:first-child::after {align-self: flex-end;width: 50%;}#sk-container-id-1 div.sk-parallel-item:last-child::after {align-self: flex-start;width: 50%;}#sk-container-id-1 div.sk-parallel-item:only-child::after {width: 0;}#sk-container-id-1 div.sk-dashed-wrapped {border: 1px dashed gray;margin: 0 0.4em 0.5em 0.4em;box-sizing: border-box;padding-bottom: 0.4em;background-color: white;}#sk-container-id-1 div.sk-label label {font-family: monospace;font-weight: bold;display: inline-block;line-height: 1.2em;}#sk-container-id-1 div.sk-label-container {text-align: center;}#sk-container-id-1 div.sk-container {/* jupyter's `normalize.less` sets `[hidden] { display: none; }` but bootstrap.min.css set `[hidden] { display: none !important; }` so we also need the `!important` here to be able to override the default hidden behavior on the sphinx rendered scikit-learn.org. See: https://github.com/scikit-learn/scikit-learn/issues/21755 */display: inline-block !important;position: relative;}#sk-container-id-1 div.sk-text-repr-fallback {display: none;}</style><div id=\"sk-container-id-1\" class=\"sk-top-container\"><div class=\"sk-text-repr-fallback\"><pre>RandomForestClassifier()</pre><b>In a Jupyter environment, please rerun this cell to show the HTML representation or trust the notebook. <br />On GitHub, the HTML representation is unable to render, please try loading this page with nbviewer.org.</b></div><div class=\"sk-container\" hidden><div class=\"sk-item\"><div class=\"sk-estimator sk-toggleable\"><input class=\"sk-toggleable__control sk-hidden--visually\" id=\"sk-estimator-id-1\" type=\"checkbox\" checked><label for=\"sk-estimator-id-1\" class=\"sk-toggleable__label sk-toggleable__label-arrow\">RandomForestClassifier</label><div class=\"sk-toggleable__content\"><pre>RandomForestClassifier()</pre></div></div></div></div></div>"
            ]
          },
          "metadata": {},
          "execution_count": 9
        }
      ]
    },
    {
      "cell_type": "code",
      "source": [
        "rf.score(X_test, y_test)"
      ],
      "metadata": {
        "colab": {
          "base_uri": "https://localhost:8080/"
        },
        "id": "mt1kWsP16jTR",
        "outputId": "81abeb73-68d9-455d-e0a0-6ac5a236f87c"
      },
      "execution_count": 10,
      "outputs": [
        {
          "output_type": "execute_result",
          "data": {
            "text/plain": [
              "0.7422758100979653"
            ]
          },
          "metadata": {},
          "execution_count": 10
        }
      ]
    },
    {
      "cell_type": "code",
      "source": [
        "predictions = rf.predict(X_test)\n",
        "cm = confusion_matrix(y_test, predictions, labels=rf.classes_)\n",
        "disp = ConfusionMatrixDisplay(confusion_matrix=cm, display_labels=rf.classes_)\n",
        "disp.plot()\n",
        "plt.show()"
      ],
      "metadata": {
        "colab": {
          "base_uri": "https://localhost:8080/",
          "height": 450
        },
        "id": "wPDN1lTg8Ozm",
        "outputId": "ed57edb9-a12e-4f3f-ac90-b0c78c474e93"
      },
      "execution_count": 11,
      "outputs": [
        {
          "output_type": "display_data",
          "data": {
            "text/plain": [
              "<Figure size 640x480 with 2 Axes>"
            ],
            "image/png": "[encoded data removed]"
          },
          "metadata": {}
        }
      ]
    },
    {
      "cell_type": "code",
      "source": [
        "# Feat importance\n",
        "sort_perm = np.argsort(rf.feature_importances_)\n",
        "most_important = rf.feature_importances_[sort_perm][::-1]\n",
        "most_important_names = rf.feature_names_in_[sort_perm][::-1]\n",
        "forest_importances = pd.Series(most_important[:20], index=most_important_names[:20])\n",
        "forest_importances.plot.bar()"
      ],
      "metadata": {
        "id": "A19jmgji96JA",
        "outputId": "12a5e1f8-4448-4b99-e6b9-8917ce249a47",
        "colab": {
          "base_uri": "https://localhost:8080/",
          "height": 584
        }
      },
      "execution_count": 12,
      "outputs": [
        {
          "output_type": "execute_result",
          "data": {
            "text/plain": [
              "<Axes: >"
            ]
          },
          "metadata": {},
          "execution_count": 12
        },
        {
          "output_type": "display_data",
          "data": {
            "text/plain": [
              "<Figure size 640x480 with 1 Axes>"
            ],
            "image/png": "[encoded data removed]"
          },
          "metadata": {}
        }
      ]
    },
    {
      "cell_type": "code",
      "source": [
        "tree = DecisionTreeClassifier(max_depth=2)\n",
        "tree.fit(X_train, y_train)\n",
        "tree.score(X_test, y_test)"
      ],
      "metadata": {
        "colab": {
          "base_uri": "https://localhost:8080/"
        },
        "id": "Kwxp42fs5-hx",
        "outputId": "c12c4b50-84c6-4579-92db-0994685a2721"
      },
      "execution_count": 13,
      "outputs": [
        {
          "output_type": "execute_result",
          "data": {
            "text/plain": [
              "0.8409947249434815"
            ]
          },
          "metadata": {},
          "execution_count": 13
        }
      ]
    },
    {
      "cell_type": "code",
      "source": [
        "print(plot_tree(tree, feature_names=tree.feature_names_in_))"
      ],
      "metadata": {
        "colab": {
          "base_uri": "https://localhost:8080/",
          "height": 443
        },
        "id": "qW3yp8y48myb",
        "outputId": "6d9acf8b-ffca-493c-93c0-8ea891166d15"
      },
      "execution_count": 14,
      "outputs": [
        {
          "output_type": "stream",
          "name": "stdout",
          "text": [
            "[Text(0.5, 0.8333333333333334, 'Kappa3 <= 5.202\\ngini = 0.456\\nsamples = 5307\\nvalue = [1863, 3444]'), Text(0.25, 0.5, 'SMR_VSA7 <= 17.271\\ngini = 0.422\\nsamples = 2620\\nvalue = [1828, 792]'), Text(0.125, 0.16666666666666666, 'gini = 0.313\\nsamples = 1314\\nvalue = [1059, 255]'), Text(0.375, 0.16666666666666666, 'gini = 0.484\\nsamples = 1306\\nvalue = [769, 537]'), Text(0.75, 0.5, 'BertzCT <= 705.879\\ngini = 0.026\\nsamples = 2687\\nvalue = [35, 2652]'), Text(0.625, 0.16666666666666666, 'gini = 0.497\\nsamples = 28\\nvalue = [13, 15]'), Text(0.875, 0.16666666666666666, 'gini = 0.016\\nsamples = 2659\\nvalue = [22, 2637]')]\n"
          ]
        },
        {
          "output_type": "display_data",
          "data": {
            "text/plain": [
              "<Figure size 640x480 with 1 Axes>"
            ],
            "image/png": "[encoded data removed]"
          },
          "metadata": {}
        }
      ]
    },
    {
      "cell_type": "markdown",
      "source": [
        "### Variable selection with LASSO"
      ],
      "metadata": {
        "id": "zKI2CdxmFfsG"
      }
    },
    {
      "cell_type": "code",
      "source": [
        "from sklearn.linear_model import Lasso\n",
        "from sklearn.model_selection import GridSearchCV\n",
        "from sklearn.preprocessing import LabelBinarizer"
      ],
      "metadata": {
        "id": "JNjn-7OyFoRp"
      },
      "execution_count": 15,
      "outputs": []
    },
    {
      "cell_type": "code",
      "source": [
        "# parameters to be tested on GridSearchCV\n",
        "lasso = Lasso(max_iter=10000, alpha=0.1)\n",
        "lb = LabelBinarizer()\n",
        "# GridSearchCV with model, params and folds.\n",
        "lasso.fit(X_train, lb.fit_transform(y_train))"
      ],
      "metadata": {
        "colab": {
          "base_uri": "https://localhost:8080/",
          "height": 75
        },
        "id": "NsuJWEx2FdGf",
        "outputId": "624ba45b-bab5-464d-d9d8-9e3ca618c949"
      },
      "execution_count": 16,
      "outputs": [
        {
          "output_type": "execute_result",
          "data": {
            "text/plain": [
              "Lasso(alpha=0.1, max_iter=10000)"
            ],
            "text/html": [
              "<style>#sk-container-id-2 {color: black;background-color: white;}#sk-container-id-2 pre{padding: 0;}#sk-container-id-2 div.sk-toggleable {background-color: white;}#sk-container-id-2 label.sk-toggleable__label {cursor: pointer;display: block;width: 100%;margin-bottom: 0;padding: 0.3em;box-sizing: border-box;text-align: center;}#sk-container-id-2 label.sk-toggleable__label-arrow:before {content: \"▸\";float: left;margin-right: 0.25em;color: #696969;}#sk-container-id-2 label.sk-toggleable__label-arrow:hover:before {color: black;}#sk-container-id-2 div.sk-estimator:hover label.sk-toggleable__label-arrow:before {color: black;}#sk-container-id-2 div.sk-toggleable__content {max-height: 0;max-width: 0;overflow: hidden;text-align: left;background-color: #f0f8ff;}#sk-container-id-2 div.sk-toggleable__content pre {margin: 0.2em;color: black;border-radius: 0.25em;background-color: #f0f8ff;}#sk-container-id-2 input.sk-toggleable__control:checked~div.sk-toggleable__content {max-height: 200px;max-width: 100%;overflow: auto;}#sk-container-id-2 input.sk-toggleable__control:checked~label.sk-toggleable__label-arrow:before {content: \"▾\";}#sk-container-id-2 div.sk-estimator input.sk-toggleable__control:checked~label.sk-toggleable__label {background-color: #d4ebff;}#sk-container-id-2 div.sk-label input.sk-toggleable__control:checked~label.sk-toggleable__label {background-color: #d4ebff;}#sk-container-id-2 input.sk-hidden--visually {border: 0;clip: rect(1px 1px 1px 1px);clip: rect(1px, 1px, 1px, 1px);height: 1px;margin: -1px;overflow: hidden;padding: 0;position: absolute;width: 1px;}#sk-container-id-2 div.sk-estimator {font-family: monospace;background-color: #f0f8ff;border: 1px dotted black;border-radius: 0.25em;box-sizing: border-box;margin-bottom: 0.5em;}#sk-container-id-2 div.sk-estimator:hover {background-color: #d4ebff;}#sk-container-id-2 div.sk-parallel-item::after {content: \"\";width: 100%;border-bottom: 1px solid gray;flex-grow: 1;}#sk-container-id-2 div.sk-label:hover label.sk-toggleable__label {background-color: #d4ebff;}#sk-container-id-2 div.sk-serial::before {content: \"\";position: absolute;border-left: 1px solid gray;box-sizing: border-box;top: 0;bottom: 0;left: 50%;z-index: 0;}#sk-container-id-2 div.sk-serial {display: flex;flex-direction: column;align-items: center;background-color: white;padding-right: 0.2em;padding-left: 0.2em;position: relative;}#sk-container-id-2 div.sk-item {position: relative;z-index: 1;}#sk-container-id-2 div.sk-parallel {display: flex;align-items: stretch;justify-content: center;background-color: white;position: relative;}#sk-container-id-2 div.sk-item::before, #sk-container-id-2 div.sk-parallel-item::before {content: \"\";position: absolute;border-left: 1px solid gray;box-sizing: border-box;top: 0;bottom: 0;left: 50%;z-index: -1;}#sk-container-id-2 div.sk-parallel-item {display: flex;flex-direction: column;z-index: 1;position: relative;background-color: white;}#sk-container-id-2 div.sk-parallel-item:first-child::after {align-self: flex-end;width: 50%;}#sk-container-id-2 div.sk-parallel-item:last-child::after {align-self: flex-start;width: 50%;}#sk-container-id-2 div.sk-parallel-item:only-child::after {width: 0;}#sk-container-id-2 div.sk-dashed-wrapped {border: 1px dashed gray;margin: 0 0.4em 0.5em 0.4em;box-sizing: border-box;padding-bottom: 0.4em;background-color: white;}#sk-container-id-2 div.sk-label label {font-family: monospace;font-weight: bold;display: inline-block;line-height: 1.2em;}#sk-container-id-2 div.sk-label-container {text-align: center;}#sk-container-id-2 div.sk-container {/* jupyter's `normalize.less` sets `[hidden] { display: none; }` but bootstrap.min.css set `[hidden] { display: none !important; }` so we also need the `!important` here to be able to override the default hidden behavior on the sphinx rendered scikit-learn.org. See: https://github.com/scikit-learn/scikit-learn/issues/21755 */display: inline-block !important;position: relative;}#sk-container-id-2 div.sk-text-repr-fallback {display: none;}</style><div id=\"sk-container-id-2\" class=\"sk-top-container\"><div class=\"sk-text-repr-fallback\"><pre>Lasso(alpha=0.1, max_iter=10000)</pre><b>In a Jupyter environment, please rerun this cell to show the HTML representation or trust the notebook. <br />On GitHub, the HTML representation is unable to render, please try loading this page with nbviewer.org.</b></div><div class=\"sk-container\" hidden><div class=\"sk-item\"><div class=\"sk-estimator sk-toggleable\"><input class=\"sk-toggleable__control sk-hidden--visually\" id=\"sk-estimator-id-2\" type=\"checkbox\" checked><label for=\"sk-estimator-id-2\" class=\"sk-toggleable__label sk-toggleable__label-arrow\">Lasso</label><div class=\"sk-toggleable__content\"><pre>Lasso(alpha=0.1, max_iter=10000)</pre></div></div></div></div></div>"
            ]
          },
          "metadata": {},
          "execution_count": 16
        }
      ]
    },
    {
      "cell_type": "code",
      "source": [
        "lasso_coef = np.abs(lasso.coef_)\n",
        "df_coef = pd.DataFrame(lasso_coef, lasso.feature_names_in_).sort_values(by=0, ascending=False)\n",
        "df_coef.plot()"
      ],
      "metadata": {
        "colab": {
          "base_uri": "https://localhost:8080/",
          "height": 447
        },
        "id": "Hs5Zn9I8FyNA",
        "outputId": "b90212de-818c-4eca-c225-ed160302e9a8"
      },
      "execution_count": 17,
      "outputs": [
        {
          "output_type": "execute_result",
          "data": {
            "text/plain": [
              "<Axes: >"
            ]
          },
          "metadata": {},
          "execution_count": 17
        },
        {
          "output_type": "display_data",
          "data": {
            "text/plain": [
              "<Figure size 640x480 with 1 Axes>"
            ],
            "image/png": "[encoded data removed]"
          },
          "metadata": {}
        }
      ]
    },
    {
      "cell_type": "code",
      "source": [
        "selected = df_coef.index[df_coef.iloc[:, 0]>0].values\n",
        "selected"
      ],
      "metadata": {
        "id": "cL5BmD88HmGW",
        "outputId": "301eb44b-a0f9-456a-cfe8-b20e53921efc",
        "colab": {
          "base_uri": "https://localhost:8080/"
        }
      },
      "execution_count": 19,
      "outputs": [
        {
          "output_type": "execute_result",
          "data": {
            "text/plain": [
              "array(['SMR_VSA6', 'SMR_VSA7', 'SMR_VSA4', 'MolWt', 'PEOE_VSA1',\n",
              "       'SlogP_VSA2', 'PEOE_VSA6', 'EState_VSA5', 'SMR_VSA5',\n",
              "       'EState_VSA4', 'TPSA', 'PEOE_VSA9', 'PEOE_VSA8', 'EState_VSA7',\n",
              "       'EState_VSA8', 'BertzCT', 'VSA_EState2'], dtype=object)"
            ]
          },
          "metadata": {},
          "execution_count": 19
        }
      ]
    },
    {
      "cell_type": "code",
      "source": [
        "rf_2 = RandomForestClassifier()\n",
        "n_estimators = [int(x) for x in np.linspace(start = 200, stop = 2000, num = 10)]\n",
        "max_features = ['auto', 'sqrt']\n",
        "max_depth = [int(x) for x in np.linspace(10, 110, num = 11)]\n",
        "max_depth.append(None)\n",
        "min_samples_split = [2, 5, 10]\n",
        "min_samples_leaf = [1, 2, 4]\n",
        "bootstrap = [True, False]\n",
        "random_grid = {'n_estimators': n_estimators,\n",
        "               'max_features': max_features,\n",
        "               'max_depth': max_depth,\n",
        "               'min_samples_split': min_samples_split,\n",
        "               'min_samples_leaf': min_samples_leaf,\n",
        "               'bootstrap': bootstrap}\n",
        "\n",
        "rf_random = RandomizedSearchCV(estimator = rf_2, param_distributions = random_grid, n_iter = 25, cv = 3, verbose=2, random_state=42, n_jobs = -1)"
      ],
      "metadata": {
        "id": "UoChurzrH3z1"
      },
      "execution_count": 20,
      "outputs": []
    },
    {
      "cell_type": "code",
      "source": [
        "rf_random.fit(X_train[selected], y_train)"
      ],
      "metadata": {
        "id": "NiYm7ZcpIcFH",
        "outputId": "2fb6e7bc-de98-43b3-a493-27ab49ea3c11",
        "colab": {
          "base_uri": "https://localhost:8080/"
        }
      },
      "execution_count": null,
      "outputs": [
        {
          "output_type": "stream",
          "name": "stdout",
          "text": [
            "Fitting 3 folds for each of 25 candidates, totalling 75 fits\n"
          ]
        }
      ]
    },
    {
      "cell_type": "code",
      "source": [
        "rf_random.score(X_test[selected], y_test)"
      ],
      "metadata": {
        "id": "QSh0_GZIIlCi",
        "outputId": "6a66ce0a-467f-4e10-bc5e-3ddfafc48c7e",
        "colab": {
          "base_uri": "https://localhost:8080/"
        }
      },
      "execution_count": null,
      "outputs": [
        {
          "output_type": "execute_result",
          "data": {
            "text/plain": [
              "0.813112283345893"
            ]
          },
          "metadata": {},
          "execution_count": 174
        }
      ]
    }
  ]
}