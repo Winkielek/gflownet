{
  "nbformat": 4,
  "nbformat_minor": 0,
  "metadata": {
    "colab": {
      "provenance": [],
      "gpuType": "T4",
      "include_colab_link": true
    },
    "kernelspec": {
      "name": "python3",
      "display_name": "Python 3"
    },
    "language_info": {
      "name": "python"
    },
    "accelerator": "GPU"
  },
  "cells": [
    {
      "cell_type": "markdown",
      "metadata": {
        "id": "view-in-github",
        "colab_type": "text"
      },
      "source": [
        "<a href=\"https://colab.research.google.com/github/Winkielek/gflownet/blob/master/notebooks/mols_features.ipynb\" target=\"_parent\"><img src=\"https://colab.research.google.com/assets/colab-badge.svg\" alt=\"Open In Colab\"/></a>"
      ]
    },
    {
      "cell_type": "code",
      "source": [
        "# Clone gflownet lib\n",
        "!rm -rf gflownet\n",
        "!git clone https://github.com/Winkielek/gflownet.git\n",
        "\n",
        "# Freeze torch version\n",
        "!pip install torch==2.1.0+cu121 -f https://download.pytorch.org/whl/torch_stable.html\n",
        "\n",
        "# Install torch geometric\n",
        "!pip install torch-scatter torch-sparse -f https://data.pyg.org/whl/torch-2.1.0+cu121.html\n",
        "!pip install torch-geometric scipy==1.8 deepchem\n",
        "\n",
        "# Install gflownet lib\n",
        "!pip install -e ./gflownet"
      ],
      "metadata": {
        "id": "FywnVzx73D5P",
        "colab": {
          "base_uri": "https://localhost:8080/",
          "height": 1000
        },
        "outputId": "d22cea94-c6e7-4ef5-c6be-cd7e1f4444ff"
      },
      "execution_count": 1,
      "outputs": [
        {
          "output_type": "stream",
          "name": "stdout",
          "text": [
            "Cloning into 'gflownet'...\n",
            "remote: Enumerating objects: 1376, done.\u001b[K\n",
            "remote: Counting objects: 100% (474/474), done.\u001b[K\n",
            "remote: Compressing objects: 100% (168/168), done.\u001b[K\n",
            "remote: Total 1376 (delta 360), reused 322 (delta 305), pack-reused 902\u001b[K\n",
            "Receiving objects: 100% (1376/1376), 13.01 MiB | 17.58 MiB/s, done.\n",
            "Resolving deltas: 100% (766/766), done.\n",
            "Looking in links: https://download.pytorch.org/whl/torch_stable.html\n",
            "Requirement already satisfied: torch==2.1.0+cu121 in /usr/local/lib/python3.10/dist-packages (2.1.0+cu121)\n",
            "Requirement already satisfied: filelock in /usr/local/lib/python3.10/dist-packages (from torch==2.1.0+cu121) (3.13.1)\n",
            "Requirement already satisfied: typing-extensions in /usr/local/lib/python3.10/dist-packages (from torch==2.1.0+cu121) (4.5.0)\n",
            "Requirement already satisfied: sympy in /usr/local/lib/python3.10/dist-packages (from torch==2.1.0+cu121) (1.12)\n",
            "Requirement already satisfied: networkx in /usr/local/lib/python3.10/dist-packages (from torch==2.1.0+cu121) (3.2.1)\n",
            "Requirement already satisfied: jinja2 in /usr/local/lib/python3.10/dist-packages (from torch==2.1.0+cu121) (3.1.2)\n",
            "Requirement already satisfied: fsspec in /usr/local/lib/python3.10/dist-packages (from torch==2.1.0+cu121) (2023.6.0)\n",
            "Requirement already satisfied: triton==2.1.0 in /usr/local/lib/python3.10/dist-packages (from torch==2.1.0+cu121) (2.1.0)\n",
            "Requirement already satisfied: MarkupSafe>=2.0 in /usr/local/lib/python3.10/dist-packages (from jinja2->torch==2.1.0+cu121) (2.1.3)\n",
            "Requirement already satisfied: mpmath>=0.19 in /usr/local/lib/python3.10/dist-packages (from sympy->torch==2.1.0+cu121) (1.3.0)\n",
            "Looking in links: https://data.pyg.org/whl/torch-2.1.0+cu121.html\n",
            "Collecting torch-scatter\n",
            "  Downloading https://data.pyg.org/whl/torch-2.1.0%2Bcu121/torch_scatter-2.1.2%2Bpt21cu121-cp310-cp310-linux_x86_64.whl (10.8 MB)\n",
            "\u001b[2K     \u001b[90m━━━━━━━━━━━━━━━━━━━━━━━━━━━━━━━━━━━━━━━━\u001b[0m \u001b[32m10.8/10.8 MB\u001b[0m \u001b[31m38.2 MB/s\u001b[0m eta \u001b[36m0:00:00\u001b[0m\n",
            "\u001b[?25hCollecting torch-sparse\n",
            "  Downloading https://data.pyg.org/whl/torch-2.1.0%2Bcu121/torch_sparse-0.6.18%2Bpt21cu121-cp310-cp310-linux_x86_64.whl (5.0 MB)\n",
            "\u001b[2K     \u001b[90m━━━━━━━━━━━━━━━━━━━━━━━━━━━━━━━━━━━━━━━━\u001b[0m \u001b[32m5.0/5.0 MB\u001b[0m \u001b[31m31.5 MB/s\u001b[0m eta \u001b[36m0:00:00\u001b[0m\n",
            "\u001b[?25hRequirement already satisfied: scipy in /usr/local/lib/python3.10/dist-packages (from torch-sparse) (1.11.4)\n",
            "Requirement already satisfied: numpy<1.28.0,>=1.21.6 in /usr/local/lib/python3.10/dist-packages (from scipy->torch-sparse) (1.23.5)\n",
            "Installing collected packages: torch-scatter, torch-sparse\n",
            "Successfully installed torch-scatter-2.1.2+pt21cu121 torch-sparse-0.6.18+pt21cu121\n",
            "Collecting torch-geometric\n",
            "  Downloading torch_geometric-2.4.0-py3-none-any.whl (1.0 MB)\n",
            "\u001b[2K     \u001b[90m━━━━━━━━━━━━━━━━━━━━━━━━━━━━━━━━━━━━━━━━\u001b[0m \u001b[32m1.0/1.0 MB\u001b[0m \u001b[31m5.8 MB/s\u001b[0m eta \u001b[36m0:00:00\u001b[0m\n",
            "\u001b[?25hCollecting scipy==1.8\n",
            "  Downloading scipy-1.8.0-cp310-cp310-manylinux_2_17_x86_64.manylinux2014_x86_64.whl (42.3 MB)\n",
            "\u001b[2K     \u001b[90m━━━━━━━━━━━━━━━━━━━━━━━━━━━━━━━━━━━━━━━━\u001b[0m \u001b[32m42.3/42.3 MB\u001b[0m \u001b[31m8.0 MB/s\u001b[0m eta \u001b[36m0:00:00\u001b[0m\n",
            "\u001b[?25hCollecting deepchem\n",
            "  Downloading deepchem-2.7.1-py3-none-any.whl (693 kB)\n",
            "\u001b[2K     \u001b[90m━━━━━━━━━━━━━━━━━━━━━━━━━━━━━━━━━━━━━━━━\u001b[0m \u001b[32m693.2/693.2 kB\u001b[0m \u001b[31m30.2 MB/s\u001b[0m eta \u001b[36m0:00:00\u001b[0m\n",
            "\u001b[?25hRequirement already satisfied: numpy<1.25.0,>=1.17.3 in /usr/local/lib/python3.10/dist-packages (from scipy==1.8) (1.23.5)\n",
            "Requirement already satisfied: tqdm in /usr/local/lib/python3.10/dist-packages (from torch-geometric) (4.66.1)\n",
            "Requirement already satisfied: jinja2 in /usr/local/lib/python3.10/dist-packages (from torch-geometric) (3.1.2)\n",
            "Requirement already satisfied: requests in /usr/local/lib/python3.10/dist-packages (from torch-geometric) (2.31.0)\n",
            "Requirement already satisfied: pyparsing in /usr/local/lib/python3.10/dist-packages (from torch-geometric) (3.1.1)\n",
            "Requirement already satisfied: scikit-learn in /usr/local/lib/python3.10/dist-packages (from torch-geometric) (1.2.2)\n",
            "Requirement already satisfied: psutil>=5.8.0 in /usr/local/lib/python3.10/dist-packages (from torch-geometric) (5.9.5)\n",
            "Requirement already satisfied: joblib in /usr/local/lib/python3.10/dist-packages (from deepchem) (1.3.2)\n",
            "Requirement already satisfied: pandas in /usr/local/lib/python3.10/dist-packages (from deepchem) (1.5.3)\n",
            "Collecting rdkit (from deepchem)\n",
            "  Downloading rdkit-2023.9.4-cp310-cp310-manylinux_2_17_x86_64.manylinux2014_x86_64.whl (34.4 MB)\n",
            "\u001b[2K     \u001b[90m━━━━━━━━━━━━━━━━━━━━━━━━━━━━━━━━━━━━━━━━\u001b[0m \u001b[32m34.4/34.4 MB\u001b[0m \u001b[31m21.9 MB/s\u001b[0m eta \u001b[36m0:00:00\u001b[0m\n",
            "\u001b[?25hRequirement already satisfied: MarkupSafe>=2.0 in /usr/local/lib/python3.10/dist-packages (from jinja2->torch-geometric) (2.1.3)\n",
            "Requirement already satisfied: python-dateutil>=2.8.1 in /usr/local/lib/python3.10/dist-packages (from pandas->deepchem) (2.8.2)\n",
            "Requirement already satisfied: pytz>=2020.1 in /usr/local/lib/python3.10/dist-packages (from pandas->deepchem) (2023.3.post1)\n",
            "Requirement already satisfied: Pillow in /usr/local/lib/python3.10/dist-packages (from rdkit->deepchem) (9.4.0)\n",
            "Requirement already satisfied: charset-normalizer<4,>=2 in /usr/local/lib/python3.10/dist-packages (from requests->torch-geometric) (3.3.2)\n",
            "Requirement already satisfied: idna<4,>=2.5 in /usr/local/lib/python3.10/dist-packages (from requests->torch-geometric) (3.6)\n",
            "Requirement already satisfied: urllib3<3,>=1.21.1 in /usr/local/lib/python3.10/dist-packages (from requests->torch-geometric) (2.0.7)\n",
            "Requirement already satisfied: certifi>=2017.4.17 in /usr/local/lib/python3.10/dist-packages (from requests->torch-geometric) (2023.11.17)\n",
            "Requirement already satisfied: threadpoolctl>=2.0.0 in /usr/local/lib/python3.10/dist-packages (from scikit-learn->torch-geometric) (3.2.0)\n",
            "Requirement already satisfied: six>=1.5 in /usr/local/lib/python3.10/dist-packages (from python-dateutil>=2.8.1->pandas->deepchem) (1.16.0)\n",
            "Installing collected packages: scipy, rdkit, torch-geometric, deepchem\n",
            "  Attempting uninstall: scipy\n",
            "    Found existing installation: scipy 1.11.4\n",
            "    Uninstalling scipy-1.11.4:\n",
            "      Successfully uninstalled scipy-1.11.4\n",
            "\u001b[31mERROR: pip's dependency resolver does not currently take into account all the packages that are installed. This behaviour is the source of the following dependency conflicts.\n",
            "lida 0.0.10 requires fastapi, which is not installed.\n",
            "lida 0.0.10 requires kaleido, which is not installed.\n",
            "lida 0.0.10 requires python-multipart, which is not installed.\n",
            "lida 0.0.10 requires uvicorn, which is not installed.\n",
            "jax 0.4.23 requires scipy>=1.9, but you have scipy 1.8.0 which is incompatible.\n",
            "jaxlib 0.4.23+cuda12.cudnn89 requires scipy>=1.9, but you have scipy 1.8.0 which is incompatible.\u001b[0m\u001b[31m\n",
            "\u001b[0mSuccessfully installed deepchem-2.7.1 rdkit-2023.9.4 scipy-1.8.0 torch-geometric-2.4.0\n",
            "Obtaining file:///content/gflownet\n",
            "  Installing build dependencies ... \u001b[?25l\u001b[?25hdone\n",
            "  Checking if build backend supports build_editable ... \u001b[?25l\u001b[?25hdone\n",
            "  Getting requirements to build editable ... \u001b[?25l\u001b[?25hdone\n",
            "  Preparing editable metadata (pyproject.toml) ... \u001b[?25l\u001b[?25hdone\n",
            "Requirement already satisfied: rdkit in /usr/local/lib/python3.10/dist-packages (from gflownet==0.1.0) (2023.9.4)\n",
            "Requirement already satisfied: tables in /usr/local/lib/python3.10/dist-packages (from gflownet==0.1.0) (3.8.0)\n",
            "Requirement already satisfied: scipy in /usr/local/lib/python3.10/dist-packages (from gflownet==0.1.0) (1.8.0)\n",
            "Requirement already satisfied: networkx in /usr/local/lib/python3.10/dist-packages (from gflownet==0.1.0) (3.2.1)\n",
            "Requirement already satisfied: tensorboard in /usr/local/lib/python3.10/dist-packages (from gflownet==0.1.0) (2.15.1)\n",
            "Requirement already satisfied: cvxopt in /usr/local/lib/python3.10/dist-packages (from gflownet==0.1.0) (1.3.2)\n",
            "Requirement already satisfied: pyarrow in /usr/local/lib/python3.10/dist-packages (from gflownet==0.1.0) (10.0.1)\n",
            "Collecting gitpython (from gflownet==0.1.0)\n",
            "  Downloading GitPython-3.1.40-py3-none-any.whl (190 kB)\n",
            "\u001b[2K     \u001b[90m━━━━━━━━━━━━━━━━━━━━━━━━━━━━━━━━━━━━━━━━\u001b[0m \u001b[32m190.6/190.6 kB\u001b[0m \u001b[31m4.3 MB/s\u001b[0m eta \u001b[36m0:00:00\u001b[0m\n",
            "\u001b[?25hCollecting botorch (from gflownet==0.1.0)\n",
            "  Downloading botorch-0.9.5-py3-none-any.whl (596 kB)\n",
            "\u001b[2K     \u001b[90m━━━━━━━━━━━━━━━━━━━━━━━━━━━━━━━━━━━━━━━━\u001b[0m \u001b[32m596.4/596.4 kB\u001b[0m \u001b[31m9.4 MB/s\u001b[0m eta \u001b[36m0:00:00\u001b[0m\n",
            "\u001b[?25hCollecting pyro-ppl (from gflownet==0.1.0)\n",
            "  Downloading pyro_ppl-1.8.6-py3-none-any.whl (732 kB)\n",
            "\u001b[2K     \u001b[90m━━━━━━━━━━━━━━━━━━━━━━━━━━━━━━━━━━━━━━━━\u001b[0m \u001b[32m732.8/732.8 kB\u001b[0m \u001b[31m12.5 MB/s\u001b[0m eta \u001b[36m0:00:00\u001b[0m\n",
            "\u001b[?25hCollecting gpytorch (from gflownet==0.1.0)\n",
            "  Downloading gpytorch-1.11-py3-none-any.whl (266 kB)\n",
            "\u001b[2K     \u001b[90m━━━━━━━━━━━━━━━━━━━━━━━━━━━━━━━━━━━━━━━━\u001b[0m \u001b[32m266.1/266.1 kB\u001b[0m \u001b[31m14.6 MB/s\u001b[0m eta \u001b[36m0:00:00\u001b[0m\n",
            "\u001b[?25hCollecting omegaconf>=2.3 (from gflownet==0.1.0)\n",
            "  Downloading omegaconf-2.3.0-py3-none-any.whl (79 kB)\n",
            "\u001b[2K     \u001b[90m━━━━━━━━━━━━━━━━━━━━━━━━━━━━━━━━━━━━━━━━\u001b[0m \u001b[32m79.5/79.5 kB\u001b[0m \u001b[31m14.0 MB/s\u001b[0m eta \u001b[36m0:00:00\u001b[0m\n",
            "\u001b[?25hCollecting antlr4-python3-runtime==4.9.* (from omegaconf>=2.3->gflownet==0.1.0)\n",
            "  Downloading antlr4-python3-runtime-4.9.3.tar.gz (117 kB)\n",
            "\u001b[2K     \u001b[90m━━━━━━━━━━━━━━━━━━━━━━━━━━━━━━━━━━━━━━━━\u001b[0m \u001b[32m117.0/117.0 kB\u001b[0m \u001b[31m16.0 MB/s\u001b[0m eta \u001b[36m0:00:00\u001b[0m\n",
            "\u001b[?25h  Preparing metadata (setup.py) ... \u001b[?25l\u001b[?25hdone\n",
            "Requirement already satisfied: PyYAML>=5.1.0 in /usr/local/lib/python3.10/dist-packages (from omegaconf>=2.3->gflownet==0.1.0) (6.0.1)\n",
            "Requirement already satisfied: multipledispatch in /usr/local/lib/python3.10/dist-packages (from botorch->gflownet==0.1.0) (1.0.0)\n",
            "Requirement already satisfied: torch>=1.13.1 in /usr/local/lib/python3.10/dist-packages (from botorch->gflownet==0.1.0) (2.1.0+cu121)\n",
            "Collecting linear-operator==0.5.1 (from botorch->gflownet==0.1.0)\n",
            "  Downloading linear_operator-0.5.1-py3-none-any.whl (174 kB)\n",
            "\u001b[2K     \u001b[90m━━━━━━━━━━━━━━━━━━━━━━━━━━━━━━━━━━━━━━━━\u001b[0m \u001b[32m174.5/174.5 kB\u001b[0m \u001b[31m12.0 MB/s\u001b[0m eta \u001b[36m0:00:00\u001b[0m\n",
            "\u001b[?25hRequirement already satisfied: scikit-learn in /usr/local/lib/python3.10/dist-packages (from gpytorch->gflownet==0.1.0) (1.2.2)\n",
            "Collecting jaxtyping>=0.2.9 (from linear-operator==0.5.1->botorch->gflownet==0.1.0)\n",
            "  Downloading jaxtyping-0.2.25-py3-none-any.whl (39 kB)\n",
            "Collecting typeguard~=2.13.3 (from linear-operator==0.5.1->botorch->gflownet==0.1.0)\n",
            "  Downloading typeguard-2.13.3-py3-none-any.whl (17 kB)\n",
            "Requirement already satisfied: numpy>=1.7 in /usr/local/lib/python3.10/dist-packages (from pyro-ppl->gflownet==0.1.0) (1.23.5)\n",
            "Requirement already satisfied: opt-einsum>=2.3.2 in /usr/local/lib/python3.10/dist-packages (from pyro-ppl->gflownet==0.1.0) (3.3.0)\n",
            "Collecting pyro-api>=0.1.1 (from pyro-ppl->gflownet==0.1.0)\n",
            "  Downloading pyro_api-0.1.2-py3-none-any.whl (11 kB)\n",
            "Requirement already satisfied: tqdm>=4.36 in /usr/local/lib/python3.10/dist-packages (from pyro-ppl->gflownet==0.1.0) (4.66.1)\n",
            "Collecting gitdb<5,>=4.0.1 (from gitpython->gflownet==0.1.0)\n",
            "  Downloading gitdb-4.0.11-py3-none-any.whl (62 kB)\n",
            "\u001b[2K     \u001b[90m━━━━━━━━━━━━━━━━━━━━━━━━━━━━━━━━━━━━━━━━\u001b[0m \u001b[32m62.7/62.7 kB\u001b[0m \u001b[31m10.9 MB/s\u001b[0m eta \u001b[36m0:00:00\u001b[0m\n",
            "\u001b[?25hRequirement already satisfied: Pillow in /usr/local/lib/python3.10/dist-packages (from rdkit->gflownet==0.1.0) (9.4.0)\n",
            "Requirement already satisfied: cython>=0.29.21 in /usr/local/lib/python3.10/dist-packages (from tables->gflownet==0.1.0) (3.0.7)\n",
            "Requirement already satisfied: numexpr>=2.6.2 in /usr/local/lib/python3.10/dist-packages (from tables->gflownet==0.1.0) (2.8.8)\n",
            "Requirement already satisfied: blosc2~=2.0.0 in /usr/local/lib/python3.10/dist-packages (from tables->gflownet==0.1.0) (2.0.0)\n",
            "Requirement already satisfied: packaging in /usr/local/lib/python3.10/dist-packages (from tables->gflownet==0.1.0) (23.2)\n",
            "Requirement already satisfied: py-cpuinfo in /usr/local/lib/python3.10/dist-packages (from tables->gflownet==0.1.0) (9.0.0)\n",
            "Requirement already satisfied: absl-py>=0.4 in /usr/local/lib/python3.10/dist-packages (from tensorboard->gflownet==0.1.0) (1.4.0)\n",
            "Requirement already satisfied: grpcio>=1.48.2 in /usr/local/lib/python3.10/dist-packages (from tensorboard->gflownet==0.1.0) (1.60.0)\n",
            "Requirement already satisfied: google-auth<3,>=1.6.3 in /usr/local/lib/python3.10/dist-packages (from tensorboard->gflownet==0.1.0) (2.17.3)\n",
            "Requirement already satisfied: google-auth-oauthlib<2,>=0.5 in /usr/local/lib/python3.10/dist-packages (from tensorboard->gflownet==0.1.0) (1.2.0)\n",
            "Requirement already satisfied: markdown>=2.6.8 in /usr/local/lib/python3.10/dist-packages (from tensorboard->gflownet==0.1.0) (3.5.1)\n",
            "Requirement already satisfied: protobuf<4.24,>=3.19.6 in /usr/local/lib/python3.10/dist-packages (from tensorboard->gflownet==0.1.0) (3.20.3)\n",
            "Requirement already satisfied: requests<3,>=2.21.0 in /usr/local/lib/python3.10/dist-packages (from tensorboard->gflownet==0.1.0) (2.31.0)\n",
            "Requirement already satisfied: setuptools>=41.0.0 in /usr/local/lib/python3.10/dist-packages (from tensorboard->gflownet==0.1.0) (67.7.2)\n",
            "Requirement already satisfied: six>1.9 in /usr/local/lib/python3.10/dist-packages (from tensorboard->gflownet==0.1.0) (1.16.0)\n",
            "Requirement already satisfied: tensorboard-data-server<0.8.0,>=0.7.0 in /usr/local/lib/python3.10/dist-packages (from tensorboard->gflownet==0.1.0) (0.7.2)\n",
            "Requirement already satisfied: werkzeug>=1.0.1 in /usr/local/lib/python3.10/dist-packages (from tensorboard->gflownet==0.1.0) (3.0.1)\n",
            "Requirement already satisfied: msgpack in /usr/local/lib/python3.10/dist-packages (from blosc2~=2.0.0->tables->gflownet==0.1.0) (1.0.7)\n",
            "Collecting smmap<6,>=3.0.1 (from gitdb<5,>=4.0.1->gitpython->gflownet==0.1.0)\n",
            "  Downloading smmap-5.0.1-py3-none-any.whl (24 kB)\n",
            "Requirement already satisfied: cachetools<6.0,>=2.0.0 in /usr/local/lib/python3.10/dist-packages (from google-auth<3,>=1.6.3->tensorboard->gflownet==0.1.0) (5.3.2)\n",
            "Requirement already satisfied: pyasn1-modules>=0.2.1 in /usr/local/lib/python3.10/dist-packages (from google-auth<3,>=1.6.3->tensorboard->gflownet==0.1.0) (0.3.0)\n",
            "Requirement already satisfied: rsa<5,>=3.1.4 in /usr/local/lib/python3.10/dist-packages (from google-auth<3,>=1.6.3->tensorboard->gflownet==0.1.0) (4.9)\n",
            "Requirement already satisfied: requests-oauthlib>=0.7.0 in /usr/local/lib/python3.10/dist-packages (from google-auth-oauthlib<2,>=0.5->tensorboard->gflownet==0.1.0) (1.3.1)\n",
            "Requirement already satisfied: charset-normalizer<4,>=2 in /usr/local/lib/python3.10/dist-packages (from requests<3,>=2.21.0->tensorboard->gflownet==0.1.0) (3.3.2)\n",
            "Requirement already satisfied: idna<4,>=2.5 in /usr/local/lib/python3.10/dist-packages (from requests<3,>=2.21.0->tensorboard->gflownet==0.1.0) (3.6)\n",
            "Requirement already satisfied: urllib3<3,>=1.21.1 in /usr/local/lib/python3.10/dist-packages (from requests<3,>=2.21.0->tensorboard->gflownet==0.1.0) (2.0.7)\n",
            "Requirement already satisfied: certifi>=2017.4.17 in /usr/local/lib/python3.10/dist-packages (from requests<3,>=2.21.0->tensorboard->gflownet==0.1.0) (2023.11.17)\n",
            "Requirement already satisfied: filelock in /usr/local/lib/python3.10/dist-packages (from torch>=1.13.1->botorch->gflownet==0.1.0) (3.13.1)\n",
            "Requirement already satisfied: typing-extensions in /usr/local/lib/python3.10/dist-packages (from torch>=1.13.1->botorch->gflownet==0.1.0) (4.5.0)\n",
            "Requirement already satisfied: sympy in /usr/local/lib/python3.10/dist-packages (from torch>=1.13.1->botorch->gflownet==0.1.0) (1.12)\n",
            "Requirement already satisfied: jinja2 in /usr/local/lib/python3.10/dist-packages (from torch>=1.13.1->botorch->gflownet==0.1.0) (3.1.2)\n",
            "Requirement already satisfied: fsspec in /usr/local/lib/python3.10/dist-packages (from torch>=1.13.1->botorch->gflownet==0.1.0) (2023.6.0)\n",
            "Requirement already satisfied: triton==2.1.0 in /usr/local/lib/python3.10/dist-packages (from torch>=1.13.1->botorch->gflownet==0.1.0) (2.1.0)\n",
            "Requirement already satisfied: MarkupSafe>=2.1.1 in /usr/local/lib/python3.10/dist-packages (from werkzeug>=1.0.1->tensorboard->gflownet==0.1.0) (2.1.3)\n",
            "Requirement already satisfied: joblib>=1.1.1 in /usr/local/lib/python3.10/dist-packages (from scikit-learn->gpytorch->gflownet==0.1.0) (1.3.2)\n",
            "Requirement already satisfied: threadpoolctl>=2.0.0 in /usr/local/lib/python3.10/dist-packages (from scikit-learn->gpytorch->gflownet==0.1.0) (3.2.0)\n",
            "Requirement already satisfied: pyasn1<0.6.0,>=0.4.6 in /usr/local/lib/python3.10/dist-packages (from pyasn1-modules>=0.2.1->google-auth<3,>=1.6.3->tensorboard->gflownet==0.1.0) (0.5.1)\n",
            "Requirement already satisfied: oauthlib>=3.0.0 in /usr/local/lib/python3.10/dist-packages (from requests-oauthlib>=0.7.0->google-auth-oauthlib<2,>=0.5->tensorboard->gflownet==0.1.0) (3.2.2)\n",
            "Requirement already satisfied: mpmath>=0.19 in /usr/local/lib/python3.10/dist-packages (from sympy->torch>=1.13.1->botorch->gflownet==0.1.0) (1.3.0)\n",
            "Building wheels for collected packages: gflownet, antlr4-python3-runtime\n",
            "  Building editable for gflownet (pyproject.toml) ... \u001b[?25l\u001b[?25hdone\n",
            "  Created wheel for gflownet: filename=gflownet-0.1.0-0.editable-py2.py3-none-any.whl size=4587 sha256=454db87d285bf1aaa9d1beb457b514747edc4fc487ee599fcb679511c2f30141\n",
            "  Stored in directory: /tmp/pip-ephem-wheel-cache-lb59hj6l/wheels/e5/41/33/462d77294be6403996cc740cd3c5d41dfdcbb15d266ec07cd3\n",
            "  Building wheel for antlr4-python3-runtime (setup.py) ... \u001b[?25l\u001b[?25hdone\n",
            "  Created wheel for antlr4-python3-runtime: filename=antlr4_python3_runtime-4.9.3-py3-none-any.whl size=144554 sha256=c2f79eaf8923f7b605d8685ad47c67a33ce5e8ea1c3bc82f55137d34088502d1\n",
            "  Stored in directory: /root/.cache/pip/wheels/12/93/dd/1f6a127edc45659556564c5730f6d4e300888f4bca2d4c5a88\n",
            "Successfully built gflownet antlr4-python3-runtime\n",
            "Installing collected packages: pyro-api, antlr4-python3-runtime, typeguard, smmap, omegaconf, jaxtyping, gitdb, pyro-ppl, linear-operator, gitpython, gpytorch, botorch, gflownet\n",
            "Successfully installed antlr4-python3-runtime-4.9.3 botorch-0.9.5 gflownet-0.1.0 gitdb-4.0.11 gitpython-3.1.40 gpytorch-1.11 jaxtyping-0.2.25 linear-operator-0.5.1 omegaconf-2.3.0 pyro-api-0.1.2 pyro-ppl-1.8.6 smmap-5.0.1 typeguard-2.13.3\n"
          ]
        },
        {
          "output_type": "display_data",
          "data": {
            "application/vnd.colab-display-data+json": {
              "pip_warning": {
                "packages": [
                  "pydevd_plugins"
                ]
              }
            }
          },
          "metadata": {}
        }
      ]
    },
    {
      "cell_type": "code",
      "source": [
        "import os\n",
        "import shutil\n",
        "import socket\n",
        "from typing import Callable, Dict, List, Tuple, Union\n",
        "\n",
        "import pandas as pd\n",
        "import numpy as np\n",
        "import torch\n",
        "import torch.nn as nn\n",
        "import torch_geometric.data as gd\n",
        "from rdkit import Chem\n",
        "from rdkit.Chem.rdchem import Mol as RDMol\n",
        "from torch import Tensor\n",
        "from torch.utils.data import Dataset\n",
        "\n",
        "from gflownet.config import Config\n",
        "from gflownet.envs.frag_mol_env import FragMolBuildingEnvContext, Graph\n",
        "from gflownet.models import bengio2021flow\n",
        "from gflownet.online_trainer import StandardOnlineTrainer\n",
        "from gflownet.trainer import FlatRewards, GFNTask, RewardScalar\n",
        "from gflownet.utils.conditioning import TemperatureConditional\n",
        "\n",
        "import matplotlib.pyplot as plt\n",
        "import networkx as nx\n",
        "import deepchem as dc"
      ],
      "metadata": {
        "id": "hLYKO3802zHx",
        "colab": {
          "base_uri": "https://localhost:8080/"
        },
        "outputId": "c5905cad-363a-40d4-f7c8-876dd8914a34"
      },
      "execution_count": 1,
      "outputs": [
        {
          "output_type": "stream",
          "name": "stderr",
          "text": [
            "WARNING:tensorflow:From /usr/local/lib/python3.10/dist-packages/tensorflow/python/util/deprecation.py:588: calling function (from tensorflow.python.eager.polymorphic_function.polymorphic_function) with experimental_relax_shapes is deprecated and will be removed in a future version.\n",
            "Instructions for updating:\n",
            "experimental_relax_shapes is deprecated, use reduce_retracing instead\n",
            "WARNING:deepchem.models:Skipped loading modules with pytorch-lightning dependency, missing a dependency. No module named 'pytorch_lightning'\n",
            "WARNING:deepchem.models:Skipped loading some Jax models, missing a dependency. No module named 'haiku'\n"
          ]
        }
      ]
    },
    {
      "cell_type": "code",
      "source": [
        "class SEHTask(GFNTask):\n",
        "    \"\"\"Sets up a task where the reward is computed using a proxy for the binding energy of a molecule to\n",
        "    Soluble Epoxide Hydrolases.\n",
        "\n",
        "    The proxy is pretrained, and obtained from the original GFlowNet paper, see `gflownet.models.bengio2021flow`.\n",
        "\n",
        "    This setup essentially reproduces the results of the Trajectory Balance paper when using the TB\n",
        "    objective, or of the original paper when using Flow Matching.\n",
        "    \"\"\"\n",
        "\n",
        "    def __init__(\n",
        "        self,\n",
        "        dataset: Dataset,\n",
        "        cfg: Config,\n",
        "        rng: np.random.Generator = None,\n",
        "        wrap_model: Callable[[nn.Module], nn.Module] = None,\n",
        "    ):\n",
        "        self._wrap_model = wrap_model\n",
        "        self.rng = rng\n",
        "        self.models = self._load_task_models()\n",
        "        self.dataset = dataset\n",
        "        self.temperature_conditional = TemperatureConditional(cfg, rng)\n",
        "        self.num_cond_dim = self.temperature_conditional.encoding_size()\n",
        "\n",
        "    def flat_reward_transform(self, y: Union[float, Tensor]) -> FlatRewards:\n",
        "        return FlatRewards(torch.as_tensor(y) / 8)\n",
        "\n",
        "    def inverse_flat_reward_transform(self, rp):\n",
        "        return rp * 8\n",
        "\n",
        "    def _load_task_models(self):\n",
        "        model = bengio2021flow.load_original_model()\n",
        "        model, self.device = self._wrap_model(model, send_to_device=True)\n",
        "        return {\"seh\": model}\n",
        "\n",
        "    def sample_conditional_information(self, n: int, train_it: int) -> Dict[str, Tensor]:\n",
        "        return self.temperature_conditional.sample(n)\n",
        "\n",
        "    def cond_info_to_logreward(self, cond_info: Dict[str, Tensor], flat_reward: FlatRewards) -> RewardScalar:\n",
        "        return RewardScalar(self.temperature_conditional.transform(cond_info, flat_reward))\n",
        "\n",
        "    def compute_flat_rewards(self, mols: List[RDMol]) -> Tuple[FlatRewards, Tensor]:\n",
        "        graphs = [bengio2021flow.mol2graph(i) for i in mols]\n",
        "        is_valid = torch.tensor([i is not None for i in graphs]).bool()\n",
        "        if not is_valid.any():\n",
        "            return FlatRewards(torch.zeros((0, 1))), is_valid\n",
        "        batch = gd.Batch.from_data_list([i for i in graphs if i is not None])\n",
        "        batch.to(self.device)\n",
        "        preds = self.models[\"seh\"](batch).reshape((-1,)).data.cpu()\n",
        "        preds[preds.isnan()] = 0\n",
        "        preds = self.flat_reward_transform(preds).clip(1e-4, 100).reshape((-1, 1))\n",
        "        return FlatRewards(preds), is_valid\n",
        "\n",
        "\n",
        "SOME_MOLS = [\n",
        "    \"O=C(NCc1cc(CCc2cccc(N3CCC(c4cc(-c5cc(-c6cncnc6)[nH]n5)ccn4)CC3)c2)ccn1)c1cccc2ccccc12\",\n",
        "    \"O=c1nc2[nH]c3cc(-c4cc(C5CC(c6ccc(CNC7CCOC7c7csc(C8=CC(c9ccc%10ccccc%10c9)CCC8)n7)cc6)CO5)c[nH]4)ccc3nc-2c(=O)[nH]1\",\n",
        "    \"c1ccc(-c2cnn(-c3cc(-c4cc(CCc5cc(C6CCC(c7cc(-c8ccccc8)[nH]n7)CO6)ncn5)n[nH]4)ccn3)c2)cc1\",\n",
        "    \"O=C(NCc1cc(C2CCNC2C2CCNC2)ncn1)c1cccc(-c2cccc(-c3cccc(C4CCC(c5ccccc5)CO4)c3)c2)c1\",\n",
        "    \"O=C(NCc1cccc(C2COC(c3ccc4nc5c(=O)[nH]c(=O)nc-5[nH]c4c3)C2)c1)c1cccc(CCc2cccc(-c3ncnc4c3ncn4C3CCCN3)c2)c1\",\n",
        "    \"O=C(NCc1ccc(OCc2ccc(-c3ccncc3C3CCNCC3)cn2)cc1)c1cccc(N2CCC(C3CCCN3)CC2)n1\",\n",
        "    \"O=C(NCc1ccc(C2CCC(c3cccc(-c4cccc(C5CCOC5)c4)c3)CO2)cn1)c1ccc(-n2ccc(-c3ccc4nc5c(=O)[nH]c(=O)nc-5[nH]c4c3)n2)cn1\",\n",
        "    \"O=C(NCc1nc2c(c(=O)[nH]1)NC(c1cn(N3CCN(c4ccc5nc6c(=O)[nH]c(=O)nc-6[nH]c5c4)CC3)c(=O)[nH]c1=O)CN2)c1ccc[n+](-c2cccc(-c3nccc(-c4ccccc4)n3)c2)c1\",\n",
        "    \"C1=C(C2CCC(c3ccnc(-c4ccc(CNC5CCC(c6ccncc6)OC5)cc4)n3)CO2)CCC(c2cc(-c3cncnc3)c3ccccc3c2)C1\",\n",
        "    \"O=C(NCc1cccc(-c2nccc(-c3cc(-c4ccc5ccccc5c4)n[nH]3)n2)c1)C1CCC(C2CCC(c3cn(-c4ccc5nc6c(=O)[nH]c(=O)nc-6[nH]c5c4)c(=O)[nH]c3=O)OC2)O1\",\n",
        "    \"O=C(Nc1ccc2ccccc2c1)c1cccc(-c2cccc(CNN3CCN(C4CCCC(c5cccc(C6CCCN6)c5)C4)CC3)c2)c1\",\n",
        "    \"O=C(NCC1CC=C(c2cc(CCc3c[nH]c(-c4cccc(-c5ccccc5)c4)c3)n[nH]2)CC1)c1cccc(C2CCNC2)n1\",\n",
        "    \"O=C(Nc1nccc(CNc2cc(C3CCNC3)n[nH]2)n1)c1nccc(C2CCC(C3CCNCC3c3ccc4ccccc4c3)CO2)n1\",\n",
        "    \"C1=C(C2CCC(c3ccc(-c4cc(C5CCCNC5)n[nH]4)cc3)OC2)CCCC1CCc1cccc(-c2cccc(-c3ncnc4[nH]cnc34)c2)n1\",\n",
        "    \"O=C(NCc1cc(C2CCC(C3CCN(c4cc(-c5nccc(-c6cccc(-c7ccccc7)c6)n5)c[nH]4)CC3)CO2)ccn1)c1ccccc1\",\n",
        "    \"O=C(NCc1cccc(-c2ccn(NCc3ccc(-c4cc(C5CNC(c6ccncc6)C5)c[nH]4)cc3)n2)c1)c1ccc2ccccc2c1\",\n",
        "    \"O=c1nc2n(-c3cccc(OCc4cccc(CNC5CCC(c6cccc(-c7ccc(C8CCNC8)cc7)c6)OC5)c4)n3)c3ccccc3nc-2c(=O)[nH]1\",\n",
        "    \"O=C(NCc1ccc(C2OCCC2C2CC(c3ccnc(-c4ccc5ccccc5c4)c3)CO2)cc1)c1nccc(N2C=CCC(c3ccccc3)=C2)n1\",\n",
        "    \"O=C(NCNC(=O)c1cccc(C(=O)NCc2cccc(-c3ccc4[nH]c5nc(=O)[nH]c(=O)c-5nc4c3)c2)n1)c1ccnc(-c2nccc(C3CCCN3)n2)c1\",\n",
        "    \"O=c1nc2[nH]c3cc(C4CCC(c5ccc(-c6cc(C7CCC(C8CCCC(C9CCC(c%10ccc(-c%11cncnc%11)cc%10)O9)O8)OC7)ccn6)cn5)CO4)ccc3nc-2c(=O)[nH]1\",\n",
        "    \"O=c1[nH]c(CNc2cc(-c3cccc(-n4ccc(-c5ccc6ccccc6c5)n4)c3)c[nH]2)nc2c1NC(n1ccc(C3CCC(c4cccnc4)CO3)n1)CN2\",\n",
        "    \"O=c1nc2[nH]c3cc(C=CC4COC(C5CCCC(C6CCOC(C7CCC(c8cccc(-c9ccnc(-c%10ccc%11ccccc%11c%10)n9)c8)CO7)C6)O5)C4)ccc3nc-2c(=O)[nH]1\",\n",
        "    \"c1ccc2c(C3CC(CNc4ccnc(C5CCNC5)c4)CO3)cc(NCc3ccc(-c4cc(C5CCNC5)c[nH]4)cc3)cc2c1\",\n",
        "    \"O=C(NCc1nccc(C2CC(C(=O)NC3CCC(c4ccc5nc6c(=O)[nH]c(=O)nc-6[nH]c5c4)CO3)CCO2)n1)c1ccnc(-n2cc(-n3cnc4cncnc43)cn2)n1\",\n",
        "    \"O=C(NCc1ccc(-c2ccccc2)cc1)c1cccc(C(=O)NCc2nccc(N3C=CCC(c4ncnc5c4ncn5-c4cccc5ccccc45)=C3)n2)c1\",\n",
        "]\n",
        "\n",
        "\n",
        "class LittleSEHDataset(Dataset):\n",
        "    \"\"\"Note: this dataset isn't used by default, but turning it on showcases some features of this codebase.\n",
        "\n",
        "    To turn on, self `cfg.algo.offline_ratio > 0`\"\"\"\n",
        "\n",
        "    def __init__(self) -> None:\n",
        "        super().__init__()\n",
        "        self.props: List[Tensor] = []\n",
        "        self.mols: List[Graph] = []\n",
        "\n",
        "    def setup(self, task, ctx):\n",
        "        rdmols = [Chem.MolFromSmiles(i) for i in SOME_MOLS]\n",
        "        self.mols = [ctx.mol_to_graph(i) for i in rdmols]\n",
        "        self.props = task.compute_flat_rewards(rdmols)[0]\n",
        "\n",
        "    def __len__(self):\n",
        "        return len(self.mols)\n",
        "\n",
        "    def __getitem__(self, index):\n",
        "        return self.mols[index], self.props[index]\n",
        "\n",
        "\n",
        "class SEHFragTrainer(StandardOnlineTrainer):\n",
        "    task: SEHTask\n",
        "    training_data: LittleSEHDataset\n",
        "\n",
        "    def set_default_hps(self, cfg: Config):\n",
        "        cfg.hostname = socket.gethostname()\n",
        "        cfg.pickle_mp_messages = False\n",
        "        cfg.num_workers = 8\n",
        "        cfg.opt.learning_rate = 1e-4\n",
        "        cfg.opt.weight_decay = 1e-8\n",
        "        cfg.opt.momentum = 0.9\n",
        "        cfg.opt.adam_eps = 1e-8\n",
        "        cfg.opt.lr_decay = 20_000\n",
        "        cfg.opt.clip_grad_type = \"norm\"\n",
        "        cfg.opt.clip_grad_param = 10\n",
        "        cfg.algo.global_batch_size = 64\n",
        "        cfg.algo.offline_ratio = 0\n",
        "        cfg.model.num_emb = 128\n",
        "        cfg.model.num_layers = 4\n",
        "\n",
        "        cfg.algo.method = \"TB\"\n",
        "        cfg.algo.max_nodes = 9\n",
        "        cfg.algo.sampling_tau = 0.9\n",
        "        cfg.algo.illegal_action_logreward = -75\n",
        "        cfg.algo.train_random_action_prob = 0.0\n",
        "        cfg.algo.valid_random_action_prob = 0.0\n",
        "        cfg.algo.valid_offline_ratio = 0\n",
        "        cfg.algo.tb.epsilon = None\n",
        "        cfg.algo.tb.bootstrap_own_reward = False\n",
        "        cfg.algo.tb.Z_learning_rate = 1e-3\n",
        "        cfg.algo.tb.Z_lr_decay = 50_000\n",
        "        cfg.algo.tb.do_parameterize_p_b = False\n",
        "        cfg.algo.tb.do_sample_p_b = True\n",
        "\n",
        "        cfg.replay.use = False\n",
        "        cfg.replay.capacity = 10_000\n",
        "        cfg.replay.warmup = 1_000\n",
        "\n",
        "    def setup_task(self):\n",
        "        self.task = SEHTask(\n",
        "            dataset=self.training_data,\n",
        "            cfg=self.cfg,\n",
        "            rng=self.rng,\n",
        "            wrap_model=self._wrap_for_mp,\n",
        "        )\n",
        "\n",
        "    def setup_data(self):\n",
        "        super().setup_data()\n",
        "        self.training_data = LittleSEHDataset()\n",
        "\n",
        "    def setup_env_context(self):\n",
        "        self.ctx = FragMolBuildingEnvContext(max_frags=self.cfg.algo.max_nodes, num_cond_dim=self.task.num_cond_dim)\n",
        "\n",
        "    def setup(self):\n",
        "        super().setup()\n",
        "        self.training_data.setup(self.task, self.ctx)\n"
      ],
      "metadata": {
        "id": "G-b280tU8zrl"
      },
      "execution_count": 3,
      "outputs": []
    },
    {
      "cell_type": "code",
      "source": [
        "if __name__ == \"__main__\":\n",
        "\n",
        "    hps = {\n",
        "        \"log_dir\": \"./logs/debug_run_seh_frag_pb\",\n",
        "        \"device\": \"cuda\" if torch.cuda.is_available() else \"cpu\",\n",
        "        \"overwrite_existing_exp\": True,\n",
        "        \"num_training_steps\": 500,\n",
        "        \"num_workers\": 2,\n",
        "        \"opt\": {\n",
        "            \"lr_decay\": 20000,\n",
        "        },\n",
        "        \"algo\": {\"sampling_tau\": 0.99, \"offline_ratio\": 0.0},\n",
        "        \"cond\": {\n",
        "            \"temperature\": {\n",
        "                \"sample_dist\": \"uniform\",\n",
        "                \"dist_params\": [0, 64.0],\n",
        "            }\n",
        "        },\n",
        "    }\n",
        "    if os.path.exists(hps[\"log_dir\"]):\n",
        "        if hps[\"overwrite_existing_exp\"]:\n",
        "            shutil.rmtree(hps[\"log_dir\"])\n",
        "        else:\n",
        "            raise ValueError(f\"Log dir {hps['log_dir']} already exists. Set overwrite_existing_exp=True to delete it.\")\n",
        "    os.makedirs(hps[\"log_dir\"])\n",
        "\n",
        "    trial = SEHFragTrainer(hps)\n",
        "    trial.print_every = 100\n",
        "    # trial.run()"
      ],
      "metadata": {
        "id": "o1rYRfcTARt9",
        "colab": {
          "base_uri": "https://localhost:8080/"
        },
        "outputId": "3773d802-e4a8-4560-b081-55a553b90273"
      },
      "execution_count": 4,
      "outputs": [
        {
          "output_type": "stream",
          "name": "stdout",
          "text": [
            "\n",
            "\n",
            "Hyperparameters:\n",
            "\n",
            "log_dir: ./logs/debug_run_seh_frag_pb\n",
            "device: cuda\n",
            "seed: 0\n",
            "validate_every: 1000\n",
            "checkpoint_every: null\n",
            "print_every: 100\n",
            "start_at_step: 0\n",
            "num_final_gen_steps: null\n",
            "num_training_steps: 500\n",
            "num_workers: 2\n",
            "hostname: 474bbae8e99d\n",
            "pickle_mp_messages: false\n",
            "git_hash: a474dc6\n",
            "overwrite_existing_exp: true\n",
            "algo:\n",
            "  method: TB\n",
            "  global_batch_size: 64\n",
            "  max_len: 128\n",
            "  max_nodes: 9\n",
            "  max_edges: 128\n",
            "  illegal_action_logreward: -75.0\n",
            "  offline_ratio: 0.0\n",
            "  valid_offline_ratio: 0.0\n",
            "  train_random_action_prob: 0.0\n",
            "  valid_random_action_prob: 0.0\n",
            "  valid_sample_cond_info: true\n",
            "  sampling_tau: 0.99\n",
            "  tb:\n",
            "    bootstrap_own_reward: false\n",
            "    epsilon: null\n",
            "    reward_loss_multiplier: 1.0\n",
            "    variant: TB\n",
            "    do_correct_idempotent: false\n",
            "    do_parameterize_p_b: false\n",
            "    do_sample_p_b: true\n",
            "    do_length_normalize: false\n",
            "    subtb_max_len: 128\n",
            "    Z_learning_rate: 0.001\n",
            "    Z_lr_decay: 50000.0\n",
            "    cum_subtb: true\n",
            "  moql:\n",
            "    gamma: 1.0\n",
            "    num_omega_samples: 32\n",
            "    num_objectives: 2\n",
            "    lambda_decay: 10000\n",
            "    penalty: -10.0\n",
            "  a2c:\n",
            "    entropy: 0.01\n",
            "    gamma: 1.0\n",
            "    penalty: -10.0\n",
            "  fm:\n",
            "    epsilon: 1.0e-38\n",
            "    balanced_loss: false\n",
            "    leaf_coef: 10.0\n",
            "    correct_idempotent: false\n",
            "  sql:\n",
            "    alpha: 0.01\n",
            "    gamma: 1.0\n",
            "    penalty: -10.0\n",
            "model:\n",
            "  num_layers: 4\n",
            "  num_emb: 128\n",
            "  dropout: 0.0\n",
            "  graph_transformer:\n",
            "    num_heads: 2\n",
            "    ln_type: pre\n",
            "    num_mlp_layers: 0\n",
            "  seq_transformer:\n",
            "    num_heads: 2\n",
            "    posenc: Rotary\n",
            "opt:\n",
            "  opt: adam\n",
            "  learning_rate: 0.0001\n",
            "  lr_decay: 20000.0\n",
            "  weight_decay: 1.0e-08\n",
            "  momentum: 0.9\n",
            "  clip_grad_type: norm\n",
            "  clip_grad_param: 10.0\n",
            "  adam_eps: 1.0e-08\n",
            "replay:\n",
            "  use: false\n",
            "  capacity: 10000\n",
            "  warmup: 1000\n",
            "  hindsight_ratio: 0.0\n",
            "task:\n",
            "  qm9:\n",
            "    h5_path: ./data/qm9/qm9.h5\n",
            "    model_path: ./data/qm9/qm9_model.pt\n",
            "  seh: {}\n",
            "  seh_moo:\n",
            "    use_steer_thermometer: false\n",
            "    preference_type: dirichlet\n",
            "    focus_type: null\n",
            "    focus_dirs_listed: null\n",
            "    focus_cosim: 0.0\n",
            "    focus_limit_coef: 1.0\n",
            "    focus_model_training_limits: null\n",
            "    focus_model_state_space_res: null\n",
            "    max_train_it: null\n",
            "    n_valid: 15\n",
            "    n_valid_repeats: 128\n",
            "    objectives:\n",
            "    - seh\n",
            "    - qed\n",
            "    - sa\n",
            "    - mw\n",
            "cond:\n",
            "  temperature:\n",
            "    sample_dist: uniform\n",
            "    dist_params:\n",
            "    - 0\n",
            "    - 64.0\n",
            "    num_thermometer_dim: 32\n",
            "  moo:\n",
            "    num_objectives: 2\n",
            "    num_thermometer_dim: 16\n",
            "  weighted_prefs:\n",
            "    preference_type: dirichlet\n",
            "  focus_region:\n",
            "    focus_type: learned-tabular\n",
            "    use_steer_thermomether: false\n",
            "    focus_cosim: 0.98\n",
            "    focus_limit_coef: 0.1\n",
            "    focus_model_training_limits:\n",
            "    - 0.25\n",
            "    - 0.75\n",
            "    focus_model_state_space_res: 30\n",
            "    max_train_it: 20000\n",
            "\n"
          ]
        }
      ]
    },
    {
      "cell_type": "code",
      "source": [
        "PATH = \"./model\""
      ],
      "metadata": {
        "id": "Sqpvui2iGLZC"
      },
      "execution_count": 5,
      "outputs": []
    },
    {
      "cell_type": "code",
      "source": [
        "# torch.save(trial.model.state_dict(), PATH)"
      ],
      "metadata": {
        "id": "CIYdp7k9FSnB"
      },
      "execution_count": 6,
      "outputs": []
    },
    {
      "cell_type": "code",
      "source": [
        "model = trial.model\n",
        "model.load_state_dict(torch.load(PATH))\n",
        "model = model.to(\"cuda\")"
      ],
      "metadata": {
        "id": "AnnjjmCLGTti"
      },
      "execution_count": 7,
      "outputs": []
    },
    {
      "cell_type": "code",
      "source": [
        "n = 1000\n",
        "batch_size = 100\n",
        "num_gen = 0\n",
        "\n",
        "traj = []\n",
        "rew = []\n",
        "\n",
        "while num_gen<n:\n",
        "\n",
        "    pred = trial.algo.graph_sampler.sample_from_model(\n",
        "    model,\n",
        "    batch_size,\n",
        "    trial.task.sample_conditional_information(batch_size,None)[\"encoding\"].to(\"cuda\"),\n",
        "    \"cuda\"\n",
        "    )\n",
        "\n",
        "    # Store trajectories\n",
        "    for p in pred:\n",
        "        traj.append(p[\"traj\"])\n",
        "    # Store rewards\n",
        "    mols = [trial.ctx.graph_to_mol(p[\"result\"])for p in pred]\n",
        "    rewards = trial.task.compute_flat_rewards(mols)\n",
        "    rewards = rewards[0].numpy().reshape(-1).tolist()\n",
        "    rew += rewards\n",
        "    num_gen += batch_size"
      ],
      "metadata": {
        "id": "E1pm7PBQHwBO"
      },
      "execution_count": 8,
      "outputs": []
    },
    {
      "cell_type": "code",
      "source": [
        "# Inverse transformation of rewards\n",
        "rew = [8*r for r in rew]"
      ],
      "metadata": {
        "id": "zvzjvAoVsv0p"
      },
      "execution_count": 9,
      "outputs": []
    },
    {
      "cell_type": "code",
      "source": [
        "# Create a histogram\n",
        "plt.hist(rew, bins=50, density=True, alpha=0.5, color='blue')\n",
        "\n",
        "# Add labels and title\n",
        "plt.xlabel('Reward')\n",
        "plt.ylabel('Frequency')\n",
        "plt.title('Histogram of Reinforcement Learning Rewards')\n",
        "\n",
        "# Show the plot\n",
        "plt.show()"
      ],
      "metadata": {
        "colab": {
          "base_uri": "https://localhost:8080/",
          "height": 472
        },
        "id": "3SImHsGt-qy9",
        "outputId": "93254038-8e77-4b6f-c34e-80337cd26af9"
      },
      "execution_count": 10,
      "outputs": [
        {
          "output_type": "display_data",
          "data": {
            "text/plain": [
              "<Figure size 640x480 with 1 Axes>"
            ],
            "image/png": "[encoded data removed]"
          },
          "metadata": {}
        }
      ]
    },
    {
      "cell_type": "code",
      "source": [
        "# How does a step of trajectory look like?\n",
        "traj_id = 10\n",
        "state = 4\n",
        "print(traj[traj_id][state])\n",
        "print(f\"Current graph: {traj[traj_id][state][0]}\")\n",
        "cur_action = traj[traj_id][state][1]\n",
        "print(f\"Current action: {cur_action}\")\n",
        "print(f\"Action source: {cur_action.source}\")\n",
        "print(f\"Action target: {cur_action.target}\")\n",
        "print(f\"Action value: {cur_action.value}\")"
      ],
      "metadata": {
        "id": "4pAXtZyDICLt",
        "outputId": "919ddc76-e51c-4ffe-e38b-4c5fb7a247c9",
        "colab": {
          "base_uri": "https://localhost:8080/"
        }
      },
      "execution_count": 11,
      "outputs": [
        {
          "output_type": "stream",
          "name": "stdout",
          "text": [
            "(<[0, 1, 2, 3], [(0, 1), (0, 3), (1, 2)], [7, 4, 65, 11]>, <GraphActionType.AddNode, 3, 41>)\n",
            "Current graph: <[0, 1, 2, 3], [(0, 1), (0, 3), (1, 2)], [7, 4, 65, 11]>\n",
            "Current action: <GraphActionType.AddNode, 3, 41>\n",
            "Action source: 3\n",
            "Action target: None\n",
            "Action value: 41\n"
          ]
        }
      ]
    },
    {
      "cell_type": "code",
      "source": [
        "# How does nodes translate to fragments?\n",
        "g = traj[traj_id][state][0]\n",
        "for i in g.nodes:\n",
        "    mol = trial.ctx.frags_mol[g.nodes[i][\"v\"]]\n",
        "    mol_smi = trial.ctx.frags_smi[g.nodes[i][\"v\"]]\n",
        "    print(mol_smi)\n",
        "print(f\"Next fragment added: {trial.ctx.frags_smi[cur_action.value]}\")\n",
        "nx.draw(g)"
      ],
      "metadata": {
        "colab": {
          "base_uri": "https://localhost:8080/",
          "height": 608
        },
        "id": "DKKjZboMYWEs",
        "outputId": "eb7f1987-c619-4f61-ddcd-d3f71221bcbd"
      },
      "execution_count": 12,
      "outputs": [
        {
          "output_type": "stream",
          "name": "stdout",
          "text": [
            "C1CCCCC1\n",
            "C1=CNC=CC1\n",
            "c1ccccc1\n",
            "C1CCOCC1\n",
            "Next fragment added: NC=O\n"
          ]
        },
        {
          "output_type": "display_data",
          "data": {
            "text/plain": [
              "<Figure size 640x480 with 1 Axes>"
            ],
            "image/png": "[encoded data removed]"
          },
          "metadata": {}
        }
      ]
    },
    {
      "cell_type": "code",
      "source": [
        "# Output molecule\n",
        "trial.ctx.graph_to_mol(traj[traj_id][-1][0])"
      ],
      "metadata": {
        "colab": {
          "base_uri": "https://localhost:8080/",
          "height": 167
        },
        "id": "Pw5iO46VOKKZ",
        "outputId": "210fbdfe-dfa9-4e0a-bc8c-95e0a5cb58a2"
      },
      "execution_count": 13,
      "outputs": [
        {
          "output_type": "execute_result",
          "data": {
            "text/plain": [
              "<rdkit.Chem.rdchem.Mol at 0x7d7ec79610e0>"
            ],
            "image/png": "[encoded data removed]"
          },
          "metadata": {},
          "execution_count": 13
        }
      ]
    },
    {
      "cell_type": "markdown",
      "source": [
        "### Trajectories to graphs and molecules"
      ],
      "metadata": {
        "id": "V0kw-ilktnFh"
      }
    },
    {
      "cell_type": "code",
      "source": [
        "# Keep only graphs from trajectories\n",
        "graphs = []\n",
        "\n",
        "for t in traj:\n",
        "    cur_act = []\n",
        "    for step in t:\n",
        "        cur_act.append(step[0])\n",
        "    graphs.append(cur_act)"
      ],
      "metadata": {
        "id": "5S3GwsV3nRGy"
      },
      "execution_count": 14,
      "outputs": []
    },
    {
      "cell_type": "code",
      "source": [
        "def graph_to_mol(trial_ctx, g: Graph) -> Chem.Mol:\n",
        "    \"\"\"Convert a Graph to an RDKit molecule\n",
        "\n",
        "    Parameters\n",
        "    ----------\n",
        "    g: Graph\n",
        "        A Graph instance representing a fragment junction tree.\n",
        "\n",
        "    Returns\n",
        "    -------\n",
        "    m: Chem.Mol\n",
        "        The corresponding RDKit molecule\n",
        "    \"\"\"\n",
        "    offsets = np.cumsum([0] + [trial_ctx.frags_numatm[g.nodes[i][\"v\"]] for i in g])\n",
        "    mol = None\n",
        "    for i in g.nodes:\n",
        "        if mol is None:\n",
        "            mol = trial_ctx.frags_mol[g.nodes[i][\"v\"]]\n",
        "        else:\n",
        "            mol = Chem.CombineMols(mol, trial_ctx.frags_mol[g.nodes[i][\"v\"]])\n",
        "\n",
        "    mol = Chem.EditableMol(mol)\n",
        "    bond_atoms = []\n",
        "    for a, b in g.edges:\n",
        "        afrag = g.nodes[a][\"v\"]\n",
        "        bfrag = g.nodes[b][\"v\"]\n",
        "        # if self.fail_on_missing_attr:\n",
        "        #     assert \"src_attach\" in g.edges[(a, b)] and \"dst_attach\" in g.edges[(a, b)]\n",
        "        u, v = (\n",
        "            int(trial_ctx.frags_stems[afrag][g.edges[(a, b)].get(\"src_attach\", 0)] + offsets[a]),\n",
        "            int(trial_ctx.frags_stems[bfrag][g.edges[(a, b)].get(\"dst_attach\", 0)] + offsets[b]),\n",
        "        )\n",
        "        bond_atoms += [u, v]\n",
        "        mol.AddBond(u, v, Chem.BondType.SINGLE)\n",
        "    mol = mol.GetMol()\n",
        "    def _pop_H(atom):\n",
        "        atom = mol.GetAtomWithIdx(atom)\n",
        "        nh = atom.GetNumExplicitHs()\n",
        "        if nh > 0:\n",
        "            atom.SetNumExplicitHs(nh - 1)\n",
        "\n",
        "    list(map(_pop_H, bond_atoms))\n",
        "    Chem.SanitizeMol(mol)\n",
        "    return mol"
      ],
      "metadata": {
        "id": "vj-uiw3poz9o"
      },
      "execution_count": 15,
      "outputs": []
    },
    {
      "cell_type": "code",
      "source": [
        "graph_to_mol(trial.ctx, graphs[traj_id][-1])"
      ],
      "metadata": {
        "colab": {
          "base_uri": "https://localhost:8080/",
          "height": 167
        },
        "id": "jgYfLDmPopuO",
        "outputId": "e9348e22-8c83-40f3-a05d-1e03f63ff05b"
      },
      "execution_count": 16,
      "outputs": [
        {
          "output_type": "execute_result",
          "data": {
            "text/plain": [
              "<rdkit.Chem.rdchem.Mol at 0x7d808d51b0d0>"
            ],
            "image/png": "[encoded data removed]"
          },
          "metadata": {},
          "execution_count": 16
        }
      ]
    },
    {
      "cell_type": "code",
      "source": [
        "mols = []\n",
        "valid = []\n",
        "\n",
        "for t in graphs:\n",
        "    cur_traj = []\n",
        "    cur_val = []\n",
        "    last_val = None\n",
        "    for g in t[1:]:\n",
        "        try:\n",
        "            cur_mol = graph_to_mol(trial.ctx, g)\n",
        "            cur_traj.append(cur_mol)\n",
        "            cur_val.append(True)\n",
        "            last_val = cur_mol\n",
        "        except:\n",
        "            cur_val.append(False)\n",
        "            cur_traj.append(last_val)\n",
        "    mols.append(cur_traj)\n",
        "    valid.append(cur_val)"
      ],
      "metadata": {
        "id": "YHcdhhe06oRI"
      },
      "execution_count": 17,
      "outputs": []
    },
    {
      "cell_type": "markdown",
      "source": [
        "### Check validity of molecules on given step"
      ],
      "metadata": {
        "id": "D-MYIqLBtzrf"
      }
    },
    {
      "cell_type": "code",
      "source": [
        "df_valid = pd.DataFrame(valid)"
      ],
      "metadata": {
        "id": "1lAuR2X8KyHg"
      },
      "execution_count": 18,
      "outputs": []
    },
    {
      "cell_type": "code",
      "source": [
        "plt.plot(range(len(df_valid.columns)), df_valid.sum())\n",
        "plt.title(\"Count of valid mols\")\n",
        "plt.xlabel(\"Trajectory step\")\n",
        "plt.show()"
      ],
      "metadata": {
        "colab": {
          "base_uri": "https://localhost:8080/",
          "height": 472
        },
        "id": "jfei8fN3Lm0w",
        "outputId": "9195ca3f-34e7-42c0-a72c-958f0637d47b"
      },
      "execution_count": 19,
      "outputs": [
        {
          "output_type": "display_data",
          "data": {
            "text/plain": [
              "<Figure size 640x480 with 1 Axes>"
            ],
            "image/png": "[encoded data removed]"
          },
          "metadata": {}
        }
      ]
    },
    {
      "cell_type": "markdown",
      "source": [
        "### Basic graph properties"
      ],
      "metadata": {
        "id": "X5CQtYpFt6sR"
      }
    },
    {
      "cell_type": "code",
      "source": [
        "# Here we can see what attributes are required for each node\n",
        "graphs[0][-1].edges(data=True)"
      ],
      "metadata": {
        "colab": {
          "base_uri": "https://localhost:8080/"
        },
        "id": "GH7pKrAiuAdl",
        "outputId": "73d08392-a5f5-4bb1-91b8-73a929412448"
      },
      "execution_count": 20,
      "outputs": [
        {
          "output_type": "execute_result",
          "data": {
            "text/plain": [
              "EdgeDataView([(0, 1, {'dst_attach': 0, 'src_attach': 1}), (0, 2, {'src_attach': 2, 'dst_attach': 0}), (0, 7, {'dst_attach': 1, 'src_attach': 3}), (1, 4, {'src_attach': 2, 'dst_attach': 3}), (2, 3, {'dst_attach': 1, 'src_attach': 1}), (3, 5, {'dst_attach': 0, 'src_attach': 3}), (4, 6, {'src_attach': 1, 'dst_attach': 1}), (7, 8, {'dst_attach': 1, 'src_attach': 0})])"
            ]
          },
          "metadata": {},
          "execution_count": 20
        }
      ]
    },
    {
      "cell_type": "code",
      "source": [
        "num_edges = []\n",
        "num_nodes = []\n",
        "valid_edges = []\n",
        "for t in graphs:\n",
        "    e = []\n",
        "    n = []\n",
        "    val_e = []\n",
        "    for g in t:\n",
        "        n.append(g.number_of_nodes())\n",
        "        e.append(g.number_of_edges())\n",
        "        e_cnt = 0\n",
        "        for u, v, a in g.edges(data=True):\n",
        "            if ('dst_attach' in list(a.keys())) & ('src_attach' in list(a.keys())):\n",
        "                e_cnt += 1\n",
        "        val_e.append(e_cnt)\n",
        "    valid_edges.append(val_e)\n",
        "    num_edges.append(e)\n",
        "    num_nodes.append(n)"
      ],
      "metadata": {
        "id": "rFt3mV7RkpYY"
      },
      "execution_count": 21,
      "outputs": []
    },
    {
      "cell_type": "code",
      "source": [
        "df_nodes = pd.DataFrame(num_nodes)\n",
        "plt.plot(range(len(df_nodes.columns)), df_nodes.mean())\n",
        "plt.title(\"Average of number of nodes\")\n",
        "plt.xlabel(\"Trajectory step\")\n",
        "plt.show()"
      ],
      "metadata": {
        "colab": {
          "base_uri": "https://localhost:8080/",
          "height": 472
        },
        "id": "cxKZ8BufrFro",
        "outputId": "052d56eb-24bb-4137-fea6-a54c276efb0e"
      },
      "execution_count": 22,
      "outputs": [
        {
          "output_type": "display_data",
          "data": {
            "text/plain": [
              "<Figure size 640x480 with 1 Axes>"
            ],
            "image/png": "[encoded data removed]"
          },
          "metadata": {}
        }
      ]
    },
    {
      "cell_type": "code",
      "source": [
        "df_edges = pd.DataFrame(num_edges)\n",
        "plt.plot(range(len(df_edges.columns)), df_edges.mean())\n",
        "plt.title(\"Average of number of edges\")\n",
        "plt.xlabel(\"Trajectory step\")\n",
        "plt.show()"
      ],
      "metadata": {
        "colab": {
          "base_uri": "https://localhost:8080/",
          "height": 472
        },
        "id": "XaX-IABvqEWw",
        "outputId": "cc2c138d-388f-4b3e-cb2e-e112e93e8c93"
      },
      "execution_count": 23,
      "outputs": [
        {
          "output_type": "display_data",
          "data": {
            "text/plain": [
              "<Figure size 640x480 with 1 Axes>"
            ],
            "image/png": "[encoded data removed]"
          },
          "metadata": {}
        }
      ]
    },
    {
      "cell_type": "code",
      "source": [
        "for id, t in enumerate(valid_edges):\n",
        "    total_edges = t[-1]\n",
        "    valid_edges[id] = [x/total_edges for x in t]"
      ],
      "metadata": {
        "id": "rTe2pK3EwqXg"
      },
      "execution_count": 24,
      "outputs": []
    },
    {
      "cell_type": "code",
      "source": [
        "df_val_edges = pd.DataFrame(valid_edges)\n",
        "plt.plot(range(len(df_val_edges.columns)), df_val_edges.mean())\n",
        "plt.title(\"Average fraction of valid edges\")\n",
        "plt.xlabel(\"Trajectory step\")\n",
        "plt.show()"
      ],
      "metadata": {
        "colab": {
          "base_uri": "https://localhost:8080/",
          "height": 472
        },
        "id": "MJiOa7U-wbTg",
        "outputId": "7b7fe257-219b-4693-9425-d8ebf1037167"
      },
      "execution_count": 25,
      "outputs": [
        {
          "output_type": "display_data",
          "data": {
            "text/plain": [
              "<Figure size 640x480 with 1 Axes>"
            ],
            "image/png": "[encoded data removed]"
          },
          "metadata": {}
        }
      ]
    },
    {
      "cell_type": "code",
      "source": [
        "for t in num_nodes:\n",
        "    plt.plot(range(len(t)), t, color=\"blue\", linewidth=0.1)\n",
        "plt.title(\"Nodes development\")\n",
        "plt.xlabel(\"Trajectory step\")\n",
        "plt.ylabel(\"Num of nodes\")\n",
        "plt.show()"
      ],
      "metadata": {
        "colab": {
          "base_uri": "https://localhost:8080/",
          "height": 472
        },
        "id": "5dJFK7xJx3Bm",
        "outputId": "60280469-865e-4588-8408-73ce1e376ed5"
      },
      "execution_count": 26,
      "outputs": [
        {
          "output_type": "display_data",
          "data": {
            "text/plain": [
              "<Figure size 640x480 with 1 Axes>"
            ],
            "image/png": "[encoded data removed]"
          },
          "metadata": {}
        }
      ]
    },
    {
      "cell_type": "markdown",
      "source": [
        "### Chemical features"
      ],
      "metadata": {
        "id": "4UO1_nCcyqio"
      }
    },
    {
      "cell_type": "code",
      "source": [
        "# Chem featurizer\n",
        "feat = dc.feat.RDKitDescriptors()"
      ],
      "metadata": {
        "id": "jqyWqoGeMEQV"
      },
      "execution_count": 27,
      "outputs": []
    },
    {
      "cell_type": "code",
      "source": [
        "arr = feat.featurize(mols[traj_id])"
      ],
      "metadata": {
        "id": "U6h8bSahwMGS"
      },
      "execution_count": 28,
      "outputs": []
    },
    {
      "cell_type": "code",
      "source": [
        "pd.DataFrame(arr, columns=feat.descriptors)"
      ],
      "metadata": {
        "colab": {
          "base_uri": "https://localhost:8080/",
          "height": 882
        },
        "id": "tw-y_N1QN8IX",
        "outputId": "a5d6f589-e228-4bfa-ad6c-18d9271f683a"
      },
      "execution_count": 29,
      "outputs": [
        {
          "output_type": "execute_result",
          "data": {
            "text/plain": [
              "    MaxAbsEStateIndex  MaxEStateIndex  MinAbsEStateIndex  MinEStateIndex  \\\n",
              "0            1.500000        1.500000           1.500000        1.500000   \n",
              "1            3.189529        3.189529           0.885370        0.885370   \n",
              "2            3.189529        3.189529           0.885370        0.885370   \n",
              "3            3.189529        3.189529           0.885370        0.885370   \n",
              "4            3.189529        3.189529           0.885370        0.885370   \n",
              "5            3.189529        3.189529           0.885370        0.885370   \n",
              "6            3.189529        3.189529           0.885370        0.885370   \n",
              "7            3.189529        3.189529           0.885370        0.885370   \n",
              "8            3.189529        3.189529           0.885370        0.885370   \n",
              "9            3.189529        3.189529           0.885370        0.885370   \n",
              "10           3.189529        3.189529           0.885370        0.885370   \n",
              "11           3.189529        3.189529           0.885370        0.885370   \n",
              "12           3.189529        3.189529           0.885370        0.885370   \n",
              "13           3.189529        3.189529           0.885370        0.885370   \n",
              "14           3.189529        3.189529           0.885370        0.885370   \n",
              "15           3.189529        3.189529           0.885370        0.885370   \n",
              "16           3.189529        3.189529           0.885370        0.885370   \n",
              "17           3.189529        3.189529           0.885370        0.885370   \n",
              "18           3.189529        3.189529           0.885370        0.885370   \n",
              "19           3.189529        3.189529           0.885370        0.885370   \n",
              "20           3.189529        3.189529           0.885370        0.885370   \n",
              "21           3.189529        3.189529           0.885370        0.885370   \n",
              "22           3.189529        3.189529           0.885370        0.885370   \n",
              "23          12.879864       12.879864           0.136019        0.136019   \n",
              "24          13.845564       13.845564           0.037676       -0.037676   \n",
              "\n",
              "         qed        SPS    MolWt  HeavyAtomMolWt  ExactMolWt  \\\n",
              "0   0.422316  24.000000   84.162          72.066    84.09390   \n",
              "1   0.626352  24.833333  163.264         146.128   163.13610   \n",
              "2   0.626352  24.833333  163.264         146.128   163.13610   \n",
              "3   0.626352  24.833333  163.264         146.128   163.13610   \n",
              "4   0.626352  24.833333  163.264         146.128   163.13610   \n",
              "5   0.626352  24.833333  163.264         146.128   163.13610   \n",
              "6   0.626352  24.833333  163.264         146.128   163.13610   \n",
              "7   0.626352  24.833333  163.264         146.128   163.13610   \n",
              "8   0.626352  24.833333  163.264         146.128   163.13610   \n",
              "9   0.626352  24.833333  163.264         146.128   163.13610   \n",
              "10  0.626352  24.833333  163.264         146.128   163.13610   \n",
              "11  0.626352  24.833333  163.264         146.128   163.13610   \n",
              "12  0.626352  24.833333  163.264         146.128   163.13610   \n",
              "13  0.626352  24.833333  163.264         146.128   163.13610   \n",
              "14  0.626352  24.833333  163.264         146.128   163.13610   \n",
              "15  0.626352  24.833333  163.264         146.128   163.13610   \n",
              "16  0.626352  24.833333  163.264         146.128   163.13610   \n",
              "17  0.626352  24.833333  163.264         146.128   163.13610   \n",
              "18  0.626352  24.833333  163.264         146.128   163.13610   \n",
              "19  0.626352  24.833333  163.264         146.128   163.13610   \n",
              "20  0.626352  24.833333  163.264         146.128   163.13610   \n",
              "21  0.626352  24.833333  163.264         146.128   163.13610   \n",
              "22  0.626352  24.833333  163.264         146.128   163.13610   \n",
              "23  0.153708  24.961538  726.024         678.648   725.31097   \n",
              "24  0.167216  24.961538  726.024         678.648   725.31097   \n",
              "\n",
              "    NumValenceElectrons  ...  fr_sulfide  fr_sulfonamd  fr_sulfone  \\\n",
              "0                  36.0  ...         0.0           0.0         0.0   \n",
              "1                  66.0  ...         0.0           0.0         0.0   \n",
              "2                  66.0  ...         0.0           0.0         0.0   \n",
              "3                  66.0  ...         0.0           0.0         0.0   \n",
              "4                  66.0  ...         0.0           0.0         0.0   \n",
              "5                  66.0  ...         0.0           0.0         0.0   \n",
              "6                  66.0  ...         0.0           0.0         0.0   \n",
              "7                  66.0  ...         0.0           0.0         0.0   \n",
              "8                  66.0  ...         0.0           0.0         0.0   \n",
              "9                  66.0  ...         0.0           0.0         0.0   \n",
              "10                 66.0  ...         0.0           0.0         0.0   \n",
              "11                 66.0  ...         0.0           0.0         0.0   \n",
              "12                 66.0  ...         0.0           0.0         0.0   \n",
              "13                 66.0  ...         0.0           0.0         0.0   \n",
              "14                 66.0  ...         0.0           0.0         0.0   \n",
              "15                 66.0  ...         0.0           0.0         0.0   \n",
              "16                 66.0  ...         0.0           0.0         0.0   \n",
              "17                 66.0  ...         0.0           0.0         0.0   \n",
              "18                 66.0  ...         0.0           0.0         0.0   \n",
              "19                 66.0  ...         0.0           0.0         0.0   \n",
              "20                 66.0  ...         0.0           0.0         0.0   \n",
              "21                 66.0  ...         0.0           0.0         0.0   \n",
              "22                 66.0  ...         0.0           0.0         0.0   \n",
              "23                266.0  ...         0.0           0.0         0.0   \n",
              "24                266.0  ...         0.0           0.0         0.0   \n",
              "\n",
              "    fr_term_acetylene  fr_tetrazole  fr_thiazole  fr_thiocyan  fr_thiophene  \\\n",
              "0                 0.0           0.0          0.0          0.0           0.0   \n",
              "1                 0.0           0.0          0.0          0.0           0.0   \n",
              "2                 0.0           0.0          0.0          0.0           0.0   \n",
              "3                 0.0           0.0          0.0          0.0           0.0   \n",
              "4                 0.0           0.0          0.0          0.0           0.0   \n",
              "5                 0.0           0.0          0.0          0.0           0.0   \n",
              "6                 0.0           0.0          0.0          0.0           0.0   \n",
              "7                 0.0           0.0          0.0          0.0           0.0   \n",
              "8                 0.0           0.0          0.0          0.0           0.0   \n",
              "9                 0.0           0.0          0.0          0.0           0.0   \n",
              "10                0.0           0.0          0.0          0.0           0.0   \n",
              "11                0.0           0.0          0.0          0.0           0.0   \n",
              "12                0.0           0.0          0.0          0.0           0.0   \n",
              "13                0.0           0.0          0.0          0.0           0.0   \n",
              "14                0.0           0.0          0.0          0.0           0.0   \n",
              "15                0.0           0.0          0.0          0.0           0.0   \n",
              "16                0.0           0.0          0.0          0.0           0.0   \n",
              "17                0.0           0.0          0.0          0.0           0.0   \n",
              "18                0.0           0.0          0.0          0.0           0.0   \n",
              "19                0.0           0.0          0.0          0.0           0.0   \n",
              "20                0.0           0.0          0.0          0.0           0.0   \n",
              "21                0.0           0.0          0.0          0.0           0.0   \n",
              "22                0.0           0.0          0.0          0.0           0.0   \n",
              "23                0.0           0.0          0.0          0.0           2.0   \n",
              "24                0.0           0.0          0.0          0.0           2.0   \n",
              "\n",
              "    fr_unbrch_alkane  fr_urea  \n",
              "0                0.0      0.0  \n",
              "1                0.0      0.0  \n",
              "2                0.0      0.0  \n",
              "3                0.0      0.0  \n",
              "4                0.0      0.0  \n",
              "5                0.0      0.0  \n",
              "6                0.0      0.0  \n",
              "7                0.0      0.0  \n",
              "8                0.0      0.0  \n",
              "9                0.0      0.0  \n",
              "10               0.0      0.0  \n",
              "11               0.0      0.0  \n",
              "12               0.0      0.0  \n",
              "13               0.0      0.0  \n",
              "14               0.0      0.0  \n",
              "15               0.0      0.0  \n",
              "16               0.0      0.0  \n",
              "17               0.0      0.0  \n",
              "18               0.0      0.0  \n",
              "19               0.0      0.0  \n",
              "20               0.0      0.0  \n",
              "21               0.0      0.0  \n",
              "22               0.0      0.0  \n",
              "23               0.0      0.0  \n",
              "24               0.0      0.0  \n",
              "\n",
              "[25 rows x 210 columns]"
            ],
            "text/html": [
              "\n",
              "  <div id=\"df-345e7b4b-8f38-4de6-9a23-0a27e5370137\" class=\"colab-df-container\">\n",
              "    <div>\n",
              "<style scoped>\n",
              "    .dataframe tbody tr th:only-of-type {\n",
              "        vertical-align: middle;\n",
              "    }\n",
              "\n",
              "    .dataframe tbody tr th {\n",
              "        vertical-align: top;\n",
              "    }\n",
              "\n",
              "    .dataframe thead th {\n",
              "        text-align: right;\n",
              "    }\n",
              "</style>\n",
              "<table border=\"1\" class=\"dataframe\">\n",
              "  <thead>\n",
              "    <tr style=\"text-align: right;\">\n",
              "      <th></th>\n",
              "      <th>MaxAbsEStateIndex</th>\n",
              "      <th>MaxEStateIndex</th>\n",
              "      <th>MinAbsEStateIndex</th>\n",
              "      <th>MinEStateIndex</th>\n",
              "      <th>qed</th>\n",
              "      <th>SPS</th>\n",
              "      <th>MolWt</th>\n",
              "      <th>HeavyAtomMolWt</th>\n",
              "      <th>ExactMolWt</th>\n",
              "      <th>NumValenceElectrons</th>\n",
              "      <th>...</th>\n",
              "      <th>fr_sulfide</th>\n",
              "      <th>fr_sulfonamd</th>\n",
              "      <th>fr_sulfone</th>\n",
              "      <th>fr_term_acetylene</th>\n",
              "      <th>fr_tetrazole</th>\n",
              "      <th>fr_thiazole</th>\n",
              "      <th>fr_thiocyan</th>\n",
              "      <th>fr_thiophene</th>\n",
              "      <th>fr_unbrch_alkane</th>\n",
              "      <th>fr_urea</th>\n",
              "    </tr>\n",
              "  </thead>\n",
              "  <tbody>\n",
              "    <tr>\n",
              "      <th>0</th>\n",
              "      <td>1.500000</td>\n",
              "      <td>1.500000</td>\n",
              "      <td>1.500000</td>\n",
              "      <td>1.500000</td>\n",
              "      <td>0.422316</td>\n",
              "      <td>24.000000</td>\n",
              "      <td>84.162</td>\n",
              "      <td>72.066</td>\n",
              "      <td>84.09390</td>\n",
              "      <td>36.0</td>\n",
              "      <td>...</td>\n",
              "      <td>0.0</td>\n",
              "      <td>0.0</td>\n",
              "      <td>0.0</td>\n",
              "      <td>0.0</td>\n",
              "      <td>0.0</td>\n",
              "      <td>0.0</td>\n",
              "      <td>0.0</td>\n",
              "      <td>0.0</td>\n",
              "      <td>0.0</td>\n",
              "      <td>0.0</td>\n",
              "    </tr>\n",
              "    <tr>\n",
              "      <th>1</th>\n",
              "      <td>3.189529</td>\n",
              "      <td>3.189529</td>\n",
              "      <td>0.885370</td>\n",
              "      <td>0.885370</td>\n",
              "      <td>0.626352</td>\n",
              "      <td>24.833333</td>\n",
              "      <td>163.264</td>\n",
              "      <td>146.128</td>\n",
              "      <td>163.13610</td>\n",
              "      <td>66.0</td>\n",
              "      <td>...</td>\n",
              "      <td>0.0</td>\n",
              "      <td>0.0</td>\n",
              "      <td>0.0</td>\n",
              "      <td>0.0</td>\n",
              "      <td>0.0</td>\n",
              "      <td>0.0</td>\n",
              "      <td>0.0</td>\n",
              "      <td>0.0</td>\n",
              "      <td>0.0</td>\n",
              "      <td>0.0</td>\n",
              "    </tr>\n",
              "    <tr>\n",
              "      <th>2</th>\n",
              "      <td>3.189529</td>\n",
              "      <td>3.189529</td>\n",
              "      <td>0.885370</td>\n",
              "      <td>0.885370</td>\n",
              "      <td>0.626352</td>\n",
              "      <td>24.833333</td>\n",
              "      <td>163.264</td>\n",
              "      <td>146.128</td>\n",
              "      <td>163.13610</td>\n",
              "      <td>66.0</td>\n",
              "      <td>...</td>\n",
              "      <td>0.0</td>\n",
              "      <td>0.0</td>\n",
              "      <td>0.0</td>\n",
              "      <td>0.0</td>\n",
              "      <td>0.0</td>\n",
              "      <td>0.0</td>\n",
              "      <td>0.0</td>\n",
              "      <td>0.0</td>\n",
              "      <td>0.0</td>\n",
              "      <td>0.0</td>\n",
              "    </tr>\n",
              "    <tr>\n",
              "      <th>3</th>\n",
              "      <td>3.189529</td>\n",
              "      <td>3.189529</td>\n",
              "      <td>0.885370</td>\n",
              "      <td>0.885370</td>\n",
              "      <td>0.626352</td>\n",
              "      <td>24.833333</td>\n",
              "      <td>163.264</td>\n",
              "      <td>146.128</td>\n",
              "      <td>163.13610</td>\n",
              "      <td>66.0</td>\n",
              "      <td>...</td>\n",
              "      <td>0.0</td>\n",
              "      <td>0.0</td>\n",
              "      <td>0.0</td>\n",
              "      <td>0.0</td>\n",
              "      <td>0.0</td>\n",
              "      <td>0.0</td>\n",
              "      <td>0.0</td>\n",
              "      <td>0.0</td>\n",
              "      <td>0.0</td>\n",
              "      <td>0.0</td>\n",
              "    </tr>\n",
              "    <tr>\n",
              "      <th>4</th>\n",
              "      <td>3.189529</td>\n",
              "      <td>3.189529</td>\n",
              "      <td>0.885370</td>\n",
              "      <td>0.885370</td>\n",
              "      <td>0.626352</td>\n",
              "      <td>24.833333</td>\n",
              "      <td>163.264</td>\n",
              "      <td>146.128</td>\n",
              "      <td>163.13610</td>\n",
              "      <td>66.0</td>\n",
              "      <td>...</td>\n",
              "      <td>0.0</td>\n",
              "      <td>0.0</td>\n",
              "      <td>0.0</td>\n",
              "      <td>0.0</td>\n",
              "      <td>0.0</td>\n",
              "      <td>0.0</td>\n",
              "      <td>0.0</td>\n",
              "      <td>0.0</td>\n",
              "      <td>0.0</td>\n",
              "      <td>0.0</td>\n",
              "    </tr>\n",
              "    <tr>\n",
              "      <th>5</th>\n",
              "      <td>3.189529</td>\n",
              "      <td>3.189529</td>\n",
              "      <td>0.885370</td>\n",
              "      <td>0.885370</td>\n",
              "      <td>0.626352</td>\n",
              "      <td>24.833333</td>\n",
              "      <td>163.264</td>\n",
              "      <td>146.128</td>\n",
              "      <td>163.13610</td>\n",
              "      <td>66.0</td>\n",
              "      <td>...</td>\n",
              "      <td>0.0</td>\n",
              "      <td>0.0</td>\n",
              "      <td>0.0</td>\n",
              "      <td>0.0</td>\n",
              "      <td>0.0</td>\n",
              "      <td>0.0</td>\n",
              "      <td>0.0</td>\n",
              "      <td>0.0</td>\n",
              "      <td>0.0</td>\n",
              "      <td>0.0</td>\n",
              "    </tr>\n",
              "    <tr>\n",
              "      <th>6</th>\n",
              "      <td>3.189529</td>\n",
              "      <td>3.189529</td>\n",
              "      <td>0.885370</td>\n",
              "      <td>0.885370</td>\n",
              "      <td>0.626352</td>\n",
              "      <td>24.833333</td>\n",
              "      <td>163.264</td>\n",
              "      <td>146.128</td>\n",
              "      <td>163.13610</td>\n",
              "      <td>66.0</td>\n",
              "      <td>...</td>\n",
              "      <td>0.0</td>\n",
              "      <td>0.0</td>\n",
              "      <td>0.0</td>\n",
              "      <td>0.0</td>\n",
              "      <td>0.0</td>\n",
              "      <td>0.0</td>\n",
              "      <td>0.0</td>\n",
              "      <td>0.0</td>\n",
              "      <td>0.0</td>\n",
              "      <td>0.0</td>\n",
              "    </tr>\n",
              "    <tr>\n",
              "      <th>7</th>\n",
              "      <td>3.189529</td>\n",
              "      <td>3.189529</td>\n",
              "      <td>0.885370</td>\n",
              "      <td>0.885370</td>\n",
              "      <td>0.626352</td>\n",
              "      <td>24.833333</td>\n",
              "      <td>163.264</td>\n",
              "      <td>146.128</td>\n",
              "      <td>163.13610</td>\n",
              "      <td>66.0</td>\n",
              "      <td>...</td>\n",
              "      <td>0.0</td>\n",
              "      <td>0.0</td>\n",
              "      <td>0.0</td>\n",
              "      <td>0.0</td>\n",
              "      <td>0.0</td>\n",
              "      <td>0.0</td>\n",
              "      <td>0.0</td>\n",
              "      <td>0.0</td>\n",
              "      <td>0.0</td>\n",
              "      <td>0.0</td>\n",
              "    </tr>\n",
              "    <tr>\n",
              "      <th>8</th>\n",
              "      <td>3.189529</td>\n",
              "      <td>3.189529</td>\n",
              "      <td>0.885370</td>\n",
              "      <td>0.885370</td>\n",
              "      <td>0.626352</td>\n",
              "      <td>24.833333</td>\n",
              "      <td>163.264</td>\n",
              "      <td>146.128</td>\n",
              "      <td>163.13610</td>\n",
              "      <td>66.0</td>\n",
              "      <td>...</td>\n",
              "      <td>0.0</td>\n",
              "      <td>0.0</td>\n",
              "      <td>0.0</td>\n",
              "      <td>0.0</td>\n",
              "      <td>0.0</td>\n",
              "      <td>0.0</td>\n",
              "      <td>0.0</td>\n",
              "      <td>0.0</td>\n",
              "      <td>0.0</td>\n",
              "      <td>0.0</td>\n",
              "    </tr>\n",
              "    <tr>\n",
              "      <th>9</th>\n",
              "      <td>3.189529</td>\n",
              "      <td>3.189529</td>\n",
              "      <td>0.885370</td>\n",
              "      <td>0.885370</td>\n",
              "      <td>0.626352</td>\n",
              "      <td>24.833333</td>\n",
              "      <td>163.264</td>\n",
              "      <td>146.128</td>\n",
              "      <td>163.13610</td>\n",
              "      <td>66.0</td>\n",
              "      <td>...</td>\n",
              "      <td>0.0</td>\n",
              "      <td>0.0</td>\n",
              "      <td>0.0</td>\n",
              "      <td>0.0</td>\n",
              "      <td>0.0</td>\n",
              "      <td>0.0</td>\n",
              "      <td>0.0</td>\n",
              "      <td>0.0</td>\n",
              "      <td>0.0</td>\n",
              "      <td>0.0</td>\n",
              "    </tr>\n",
              "    <tr>\n",
              "      <th>10</th>\n",
              "      <td>3.189529</td>\n",
              "      <td>3.189529</td>\n",
              "      <td>0.885370</td>\n",
              "      <td>0.885370</td>\n",
              "      <td>0.626352</td>\n",
              "      <td>24.833333</td>\n",
              "      <td>163.264</td>\n",
              "      <td>146.128</td>\n",
              "      <td>163.13610</td>\n",
              "      <td>66.0</td>\n",
              "      <td>...</td>\n",
              "      <td>0.0</td>\n",
              "      <td>0.0</td>\n",
              "      <td>0.0</td>\n",
              "      <td>0.0</td>\n",
              "      <td>0.0</td>\n",
              "      <td>0.0</td>\n",
              "      <td>0.0</td>\n",
              "      <td>0.0</td>\n",
              "      <td>0.0</td>\n",
              "      <td>0.0</td>\n",
              "    </tr>\n",
              "    <tr>\n",
              "      <th>11</th>\n",
              "      <td>3.189529</td>\n",
              "      <td>3.189529</td>\n",
              "      <td>0.885370</td>\n",
              "      <td>0.885370</td>\n",
              "      <td>0.626352</td>\n",
              "      <td>24.833333</td>\n",
              "      <td>163.264</td>\n",
              "      <td>146.128</td>\n",
              "      <td>163.13610</td>\n",
              "      <td>66.0</td>\n",
              "      <td>...</td>\n",
              "      <td>0.0</td>\n",
              "      <td>0.0</td>\n",
              "      <td>0.0</td>\n",
              "      <td>0.0</td>\n",
              "      <td>0.0</td>\n",
              "      <td>0.0</td>\n",
              "      <td>0.0</td>\n",
              "      <td>0.0</td>\n",
              "      <td>0.0</td>\n",
              "      <td>0.0</td>\n",
              "    </tr>\n",
              "    <tr>\n",
              "      <th>12</th>\n",
              "      <td>3.189529</td>\n",
              "      <td>3.189529</td>\n",
              "      <td>0.885370</td>\n",
              "      <td>0.885370</td>\n",
              "      <td>0.626352</td>\n",
              "      <td>24.833333</td>\n",
              "      <td>163.264</td>\n",
              "      <td>146.128</td>\n",
              "      <td>163.13610</td>\n",
              "      <td>66.0</td>\n",
              "      <td>...</td>\n",
              "      <td>0.0</td>\n",
              "      <td>0.0</td>\n",
              "      <td>0.0</td>\n",
              "      <td>0.0</td>\n",
              "      <td>0.0</td>\n",
              "      <td>0.0</td>\n",
              "      <td>0.0</td>\n",
              "      <td>0.0</td>\n",
              "      <td>0.0</td>\n",
              "      <td>0.0</td>\n",
              "    </tr>\n",
              "    <tr>\n",
              "      <th>13</th>\n",
              "      <td>3.189529</td>\n",
              "      <td>3.189529</td>\n",
              "      <td>0.885370</td>\n",
              "      <td>0.885370</td>\n",
              "      <td>0.626352</td>\n",
              "      <td>24.833333</td>\n",
              "      <td>163.264</td>\n",
              "      <td>146.128</td>\n",
              "      <td>163.13610</td>\n",
              "      <td>66.0</td>\n",
              "      <td>...</td>\n",
              "      <td>0.0</td>\n",
              "      <td>0.0</td>\n",
              "      <td>0.0</td>\n",
              "      <td>0.0</td>\n",
              "      <td>0.0</td>\n",
              "      <td>0.0</td>\n",
              "      <td>0.0</td>\n",
              "      <td>0.0</td>\n",
              "      <td>0.0</td>\n",
              "      <td>0.0</td>\n",
              "    </tr>\n",
              "    <tr>\n",
              "      <th>14</th>\n",
              "      <td>3.189529</td>\n",
              "      <td>3.189529</td>\n",
              "      <td>0.885370</td>\n",
              "      <td>0.885370</td>\n",
              "      <td>0.626352</td>\n",
              "      <td>24.833333</td>\n",
              "      <td>163.264</td>\n",
              "      <td>146.128</td>\n",
              "      <td>163.13610</td>\n",
              "      <td>66.0</td>\n",
              "      <td>...</td>\n",
              "      <td>0.0</td>\n",
              "      <td>0.0</td>\n",
              "      <td>0.0</td>\n",
              "      <td>0.0</td>\n",
              "      <td>0.0</td>\n",
              "      <td>0.0</td>\n",
              "      <td>0.0</td>\n",
              "      <td>0.0</td>\n",
              "      <td>0.0</td>\n",
              "      <td>0.0</td>\n",
              "    </tr>\n",
              "    <tr>\n",
              "      <th>15</th>\n",
              "      <td>3.189529</td>\n",
              "      <td>3.189529</td>\n",
              "      <td>0.885370</td>\n",
              "      <td>0.885370</td>\n",
              "      <td>0.626352</td>\n",
              "      <td>24.833333</td>\n",
              "      <td>163.264</td>\n",
              "      <td>146.128</td>\n",
              "      <td>163.13610</td>\n",
              "      <td>66.0</td>\n",
              "      <td>...</td>\n",
              "      <td>0.0</td>\n",
              "      <td>0.0</td>\n",
              "      <td>0.0</td>\n",
              "      <td>0.0</td>\n",
              "      <td>0.0</td>\n",
              "      <td>0.0</td>\n",
              "      <td>0.0</td>\n",
              "      <td>0.0</td>\n",
              "      <td>0.0</td>\n",
              "      <td>0.0</td>\n",
              "    </tr>\n",
              "    <tr>\n",
              "      <th>16</th>\n",
              "      <td>3.189529</td>\n",
              "      <td>3.189529</td>\n",
              "      <td>0.885370</td>\n",
              "      <td>0.885370</td>\n",
              "      <td>0.626352</td>\n",
              "      <td>24.833333</td>\n",
              "      <td>163.264</td>\n",
              "      <td>146.128</td>\n",
              "      <td>163.13610</td>\n",
              "      <td>66.0</td>\n",
              "      <td>...</td>\n",
              "      <td>0.0</td>\n",
              "      <td>0.0</td>\n",
              "      <td>0.0</td>\n",
              "      <td>0.0</td>\n",
              "      <td>0.0</td>\n",
              "      <td>0.0</td>\n",
              "      <td>0.0</td>\n",
              "      <td>0.0</td>\n",
              "      <td>0.0</td>\n",
              "      <td>0.0</td>\n",
              "    </tr>\n",
              "    <tr>\n",
              "      <th>17</th>\n",
              "      <td>3.189529</td>\n",
              "      <td>3.189529</td>\n",
              "      <td>0.885370</td>\n",
              "      <td>0.885370</td>\n",
              "      <td>0.626352</td>\n",
              "      <td>24.833333</td>\n",
              "      <td>163.264</td>\n",
              "      <td>146.128</td>\n",
              "      <td>163.13610</td>\n",
              "      <td>66.0</td>\n",
              "      <td>...</td>\n",
              "      <td>0.0</td>\n",
              "      <td>0.0</td>\n",
              "      <td>0.0</td>\n",
              "      <td>0.0</td>\n",
              "      <td>0.0</td>\n",
              "      <td>0.0</td>\n",
              "      <td>0.0</td>\n",
              "      <td>0.0</td>\n",
              "      <td>0.0</td>\n",
              "      <td>0.0</td>\n",
              "    </tr>\n",
              "    <tr>\n",
              "      <th>18</th>\n",
              "      <td>3.189529</td>\n",
              "      <td>3.189529</td>\n",
              "      <td>0.885370</td>\n",
              "      <td>0.885370</td>\n",
              "      <td>0.626352</td>\n",
              "      <td>24.833333</td>\n",
              "      <td>163.264</td>\n",
              "      <td>146.128</td>\n",
              "      <td>163.13610</td>\n",
              "      <td>66.0</td>\n",
              "      <td>...</td>\n",
              "      <td>0.0</td>\n",
              "      <td>0.0</td>\n",
              "      <td>0.0</td>\n",
              "      <td>0.0</td>\n",
              "      <td>0.0</td>\n",
              "      <td>0.0</td>\n",
              "      <td>0.0</td>\n",
              "      <td>0.0</td>\n",
              "      <td>0.0</td>\n",
              "      <td>0.0</td>\n",
              "    </tr>\n",
              "    <tr>\n",
              "      <th>19</th>\n",
              "      <td>3.189529</td>\n",
              "      <td>3.189529</td>\n",
              "      <td>0.885370</td>\n",
              "      <td>0.885370</td>\n",
              "      <td>0.626352</td>\n",
              "      <td>24.833333</td>\n",
              "      <td>163.264</td>\n",
              "      <td>146.128</td>\n",
              "      <td>163.13610</td>\n",
              "      <td>66.0</td>\n",
              "      <td>...</td>\n",
              "      <td>0.0</td>\n",
              "      <td>0.0</td>\n",
              "      <td>0.0</td>\n",
              "      <td>0.0</td>\n",
              "      <td>0.0</td>\n",
              "      <td>0.0</td>\n",
              "      <td>0.0</td>\n",
              "      <td>0.0</td>\n",
              "      <td>0.0</td>\n",
              "      <td>0.0</td>\n",
              "    </tr>\n",
              "    <tr>\n",
              "      <th>20</th>\n",
              "      <td>3.189529</td>\n",
              "      <td>3.189529</td>\n",
              "      <td>0.885370</td>\n",
              "      <td>0.885370</td>\n",
              "      <td>0.626352</td>\n",
              "      <td>24.833333</td>\n",
              "      <td>163.264</td>\n",
              "      <td>146.128</td>\n",
              "      <td>163.13610</td>\n",
              "      <td>66.0</td>\n",
              "      <td>...</td>\n",
              "      <td>0.0</td>\n",
              "      <td>0.0</td>\n",
              "      <td>0.0</td>\n",
              "      <td>0.0</td>\n",
              "      <td>0.0</td>\n",
              "      <td>0.0</td>\n",
              "      <td>0.0</td>\n",
              "      <td>0.0</td>\n",
              "      <td>0.0</td>\n",
              "      <td>0.0</td>\n",
              "    </tr>\n",
              "    <tr>\n",
              "      <th>21</th>\n",
              "      <td>3.189529</td>\n",
              "      <td>3.189529</td>\n",
              "      <td>0.885370</td>\n",
              "      <td>0.885370</td>\n",
              "      <td>0.626352</td>\n",
              "      <td>24.833333</td>\n",
              "      <td>163.264</td>\n",
              "      <td>146.128</td>\n",
              "      <td>163.13610</td>\n",
              "      <td>66.0</td>\n",
              "      <td>...</td>\n",
              "      <td>0.0</td>\n",
              "      <td>0.0</td>\n",
              "      <td>0.0</td>\n",
              "      <td>0.0</td>\n",
              "      <td>0.0</td>\n",
              "      <td>0.0</td>\n",
              "      <td>0.0</td>\n",
              "      <td>0.0</td>\n",
              "      <td>0.0</td>\n",
              "      <td>0.0</td>\n",
              "    </tr>\n",
              "    <tr>\n",
              "      <th>22</th>\n",
              "      <td>3.189529</td>\n",
              "      <td>3.189529</td>\n",
              "      <td>0.885370</td>\n",
              "      <td>0.885370</td>\n",
              "      <td>0.626352</td>\n",
              "      <td>24.833333</td>\n",
              "      <td>163.264</td>\n",
              "      <td>146.128</td>\n",
              "      <td>163.13610</td>\n",
              "      <td>66.0</td>\n",
              "      <td>...</td>\n",
              "      <td>0.0</td>\n",
              "      <td>0.0</td>\n",
              "      <td>0.0</td>\n",
              "      <td>0.0</td>\n",
              "      <td>0.0</td>\n",
              "      <td>0.0</td>\n",
              "      <td>0.0</td>\n",
              "      <td>0.0</td>\n",
              "      <td>0.0</td>\n",
              "      <td>0.0</td>\n",
              "    </tr>\n",
              "    <tr>\n",
              "      <th>23</th>\n",
              "      <td>12.879864</td>\n",
              "      <td>12.879864</td>\n",
              "      <td>0.136019</td>\n",
              "      <td>0.136019</td>\n",
              "      <td>0.153708</td>\n",
              "      <td>24.961538</td>\n",
              "      <td>726.024</td>\n",
              "      <td>678.648</td>\n",
              "      <td>725.31097</td>\n",
              "      <td>266.0</td>\n",
              "      <td>...</td>\n",
              "      <td>0.0</td>\n",
              "      <td>0.0</td>\n",
              "      <td>0.0</td>\n",
              "      <td>0.0</td>\n",
              "      <td>0.0</td>\n",
              "      <td>0.0</td>\n",
              "      <td>0.0</td>\n",
              "      <td>2.0</td>\n",
              "      <td>0.0</td>\n",
              "      <td>0.0</td>\n",
              "    </tr>\n",
              "    <tr>\n",
              "      <th>24</th>\n",
              "      <td>13.845564</td>\n",
              "      <td>13.845564</td>\n",
              "      <td>0.037676</td>\n",
              "      <td>-0.037676</td>\n",
              "      <td>0.167216</td>\n",
              "      <td>24.961538</td>\n",
              "      <td>726.024</td>\n",
              "      <td>678.648</td>\n",
              "      <td>725.31097</td>\n",
              "      <td>266.0</td>\n",
              "      <td>...</td>\n",
              "      <td>0.0</td>\n",
              "      <td>0.0</td>\n",
              "      <td>0.0</td>\n",
              "      <td>0.0</td>\n",
              "      <td>0.0</td>\n",
              "      <td>0.0</td>\n",
              "      <td>0.0</td>\n",
              "      <td>2.0</td>\n",
              "      <td>0.0</td>\n",
              "      <td>0.0</td>\n",
              "    </tr>\n",
              "  </tbody>\n",
              "</table>\n",
              "<p>25 rows × 210 columns</p>\n",
              "</div>\n",
              "    <div class=\"colab-df-buttons\">\n",
              "\n",
              "  <div class=\"colab-df-container\">\n",
              "    <button class=\"colab-df-convert\" onclick=\"convertToInteractive('df-345e7b4b-8f38-4de6-9a23-0a27e5370137')\"\n",
              "            title=\"Convert this dataframe to an interactive table.\"\n",
              "            style=\"display:none;\">\n",
              "\n",
              "  <svg xmlns=\"http://www.w3.org/2000/svg\" height=\"24px\" viewBox=\"0 -960 960 960\">\n",
              "    <path d=\"M120-120v-720h720v720H120Zm60-500h600v-160H180v160Zm220 220h160v-160H400v160Zm0 220h160v-160H400v160ZM180-400h160v-160H180v160Zm440 0h160v-160H620v160ZM180-180h160v-160H180v160Zm440 0h160v-160H620v160Z\"/>\n",
              "  </svg>\n",
              "    </button>\n",
              "\n",
              "  <style>\n",
              "    .colab-df-container {\n",
              "      display:flex;\n",
              "      gap: 12px;\n",
              "    }\n",
              "\n",
              "    .colab-df-convert {\n",
              "      background-color: #E8F0FE;\n",
              "      border: none;\n",
              "      border-radius: 50%;\n",
              "      cursor: pointer;\n",
              "      display: none;\n",
              "      fill: #1967D2;\n",
              "      height: 32px;\n",
              "      padding: 0 0 0 0;\n",
              "      width: 32px;\n",
              "    }\n",
              "\n",
              "    .colab-df-convert:hover {\n",
              "      background-color: #E2EBFA;\n",
              "      box-shadow: 0px 1px 2px rgba(60, 64, 67, 0.3), 0px 1px 3px 1px rgba(60, 64, 67, 0.15);\n",
              "      fill: #174EA6;\n",
              "    }\n",
              "\n",
              "    .colab-df-buttons div {\n",
              "      margin-bottom: 4px;\n",
              "    }\n",
              "\n",
              "    [theme=dark] .colab-df-convert {\n",
              "      background-color: #3B4455;\n",
              "      fill: #D2E3FC;\n",
              "    }\n",
              "\n",
              "    [theme=dark] .colab-df-convert:hover {\n",
              "      background-color: #434B5C;\n",
              "      box-shadow: 0px 1px 3px 1px rgba(0, 0, 0, 0.15);\n",
              "      filter: drop-shadow(0px 1px 2px rgba(0, 0, 0, 0.3));\n",
              "      fill: #FFFFFF;\n",
              "    }\n",
              "  </style>\n",
              "\n",
              "    <script>\n",
              "      const buttonEl =\n",
              "        document.querySelector('#df-345e7b4b-8f38-4de6-9a23-0a27e5370137 button.colab-df-convert');\n",
              "      buttonEl.style.display =\n",
              "        google.colab.kernel.accessAllowed ? 'block' : 'none';\n",
              "\n",
              "      async function convertToInteractive(key) {\n",
              "        const element = document.querySelector('#df-345e7b4b-8f38-4de6-9a23-0a27e5370137');\n",
              "        const dataTable =\n",
              "          await google.colab.kernel.invokeFunction('convertToInteractive',\n",
              "                                                    [key], {});\n",
              "        if (!dataTable) return;\n",
              "\n",
              "        const docLinkHtml = 'Like what you see? Visit the ' +\n",
              "          '<a target=\"_blank\" href=https://colab.research.google.com/notebooks/data_table.ipynb>data table notebook</a>'\n",
              "          + ' to learn more about interactive tables.';\n",
              "        element.innerHTML = '';\n",
              "        dataTable['output_type'] = 'display_data';\n",
              "        await google.colab.output.renderOutput(dataTable, element);\n",
              "        const docLink = document.createElement('div');\n",
              "        docLink.innerHTML = docLinkHtml;\n",
              "        element.appendChild(docLink);\n",
              "      }\n",
              "    </script>\n",
              "  </div>\n",
              "\n",
              "\n",
              "<div id=\"df-f03a32d2-84d0-42a5-962d-3bb889c17b87\">\n",
              "  <button class=\"colab-df-quickchart\" onclick=\"quickchart('df-f03a32d2-84d0-42a5-962d-3bb889c17b87')\"\n",
              "            title=\"Suggest charts\"\n",
              "            style=\"display:none;\">\n",
              "\n",
              "<svg xmlns=\"http://www.w3.org/2000/svg\" height=\"24px\"viewBox=\"0 0 24 24\"\n",
              "     width=\"24px\">\n",
              "    <g>\n",
              "        <path d=\"M19 3H5c-1.1 0-2 .9-2 2v14c0 1.1.9 2 2 2h14c1.1 0 2-.9 2-2V5c0-1.1-.9-2-2-2zM9 17H7v-7h2v7zm4 0h-2V7h2v10zm4 0h-2v-4h2v4z\"/>\n",
              "    </g>\n",
              "</svg>\n",
              "  </button>\n",
              "\n",
              "<style>\n",
              "  .colab-df-quickchart {\n",
              "      --bg-color: #E8F0FE;\n",
              "      --fill-color: #1967D2;\n",
              "      --hover-bg-color: #E2EBFA;\n",
              "      --hover-fill-color: #174EA6;\n",
              "      --disabled-fill-color: #AAA;\n",
              "      --disabled-bg-color: #DDD;\n",
              "  }\n",
              "\n",
              "  [theme=dark] .colab-df-quickchart {\n",
              "      --bg-color: #3B4455;\n",
              "      --fill-color: #D2E3FC;\n",
              "      --hover-bg-color: #434B5C;\n",
              "      --hover-fill-color: #FFFFFF;\n",
              "      --disabled-bg-color: #3B4455;\n",
              "      --disabled-fill-color: #666;\n",
              "  }\n",
              "\n",
              "  .colab-df-quickchart {\n",
              "    background-color: var(--bg-color);\n",
              "    border: none;\n",
              "    border-radius: 50%;\n",
              "    cursor: pointer;\n",
              "    display: none;\n",
              "    fill: var(--fill-color);\n",
              "    height: 32px;\n",
              "    padding: 0;\n",
              "    width: 32px;\n",
              "  }\n",
              "\n",
              "  .colab-df-quickchart:hover {\n",
              "    background-color: var(--hover-bg-color);\n",
              "    box-shadow: 0 1px 2px rgba(60, 64, 67, 0.3), 0 1px 3px 1px rgba(60, 64, 67, 0.15);\n",
              "    fill: var(--button-hover-fill-color);\n",
              "  }\n",
              "\n",
              "  .colab-df-quickchart-complete:disabled,\n",
              "  .colab-df-quickchart-complete:disabled:hover {\n",
              "    background-color: var(--disabled-bg-color);\n",
              "    fill: var(--disabled-fill-color);\n",
              "    box-shadow: none;\n",
              "  }\n",
              "\n",
              "  .colab-df-spinner {\n",
              "    border: 2px solid var(--fill-color);\n",
              "    border-color: transparent;\n",
              "    border-bottom-color: var(--fill-color);\n",
              "    animation:\n",
              "      spin 1s steps(1) infinite;\n",
              "  }\n",
              "\n",
              "  @keyframes spin {\n",
              "    0% {\n",
              "      border-color: transparent;\n",
              "      border-bottom-color: var(--fill-color);\n",
              "      border-left-color: var(--fill-color);\n",
              "    }\n",
              "    20% {\n",
              "      border-color: transparent;\n",
              "      border-left-color: var(--fill-color);\n",
              "      border-top-color: var(--fill-color);\n",
              "    }\n",
              "    30% {\n",
              "      border-color: transparent;\n",
              "      border-left-color: var(--fill-color);\n",
              "      border-top-color: var(--fill-color);\n",
              "      border-right-color: var(--fill-color);\n",
              "    }\n",
              "    40% {\n",
              "      border-color: transparent;\n",
              "      border-right-color: var(--fill-color);\n",
              "      border-top-color: var(--fill-color);\n",
              "    }\n",
              "    60% {\n",
              "      border-color: transparent;\n",
              "      border-right-color: var(--fill-color);\n",
              "    }\n",
              "    80% {\n",
              "      border-color: transparent;\n",
              "      border-right-color: var(--fill-color);\n",
              "      border-bottom-color: var(--fill-color);\n",
              "    }\n",
              "    90% {\n",
              "      border-color: transparent;\n",
              "      border-bottom-color: var(--fill-color);\n",
              "    }\n",
              "  }\n",
              "</style>\n",
              "\n",
              "  <script>\n",
              "    async function quickchart(key) {\n",
              "      const quickchartButtonEl =\n",
              "        document.querySelector('#' + key + ' button');\n",
              "      quickchartButtonEl.disabled = true;  // To prevent multiple clicks.\n",
              "      quickchartButtonEl.classList.add('colab-df-spinner');\n",
              "      try {\n",
              "        const charts = await google.colab.kernel.invokeFunction(\n",
              "            'suggestCharts', [key], {});\n",
              "      } catch (error) {\n",
              "        console.error('Error during call to suggestCharts:', error);\n",
              "      }\n",
              "      quickchartButtonEl.classList.remove('colab-df-spinner');\n",
              "      quickchartButtonEl.classList.add('colab-df-quickchart-complete');\n",
              "    }\n",
              "    (() => {\n",
              "      let quickchartButtonEl =\n",
              "        document.querySelector('#df-f03a32d2-84d0-42a5-962d-3bb889c17b87 button');\n",
              "      quickchartButtonEl.style.display =\n",
              "        google.colab.kernel.accessAllowed ? 'block' : 'none';\n",
              "    })();\n",
              "  </script>\n",
              "</div>\n",
              "    </div>\n",
              "  </div>\n"
            ]
          },
          "metadata": {},
          "execution_count": 29
        }
      ]
    },
    {
      "cell_type": "code",
      "source": [
        "# Featurize data\n",
        "num_actions = []\n",
        "for m in mols:\n",
        "    num_actions.append(feat.featurize(m).tolist())"
      ],
      "metadata": {
        "id": "jLm6R6aES0zt"
      },
      "execution_count": 30,
      "outputs": []
    },
    {
      "cell_type": "code",
      "source": [
        "flat_X = []\n",
        "flat_y = []\n",
        "for id, t in enumerate(num_actions):\n",
        "    actions = traj[id][1:]\n",
        "    for idx, a in enumerate(t):\n",
        "        flat_X.append(a)\n",
        "        flat_y.append(actions[idx][1].action.cname)"
      ],
      "metadata": {
        "id": "hDlEJhbw1vct"
      },
      "execution_count": 37,
      "outputs": []
    },
    {
      "cell_type": "code",
      "source": [
        "df_flat_ = pd.DataFrame(flat_X, columns=feat.descriptors)\n",
        "df_flat_[\"target\"] = flat_y\n",
        "print(df_flat_.size)"
      ],
      "metadata": {
        "colab": {
          "base_uri": "https://localhost:8080/"
        },
        "id": "0Sjn3ZRN51_l",
        "outputId": "47aae02b-dc6e-4756-f937-9c0cc86baad5"
      },
      "execution_count": 38,
      "outputs": [
        {
          "output_type": "stream",
          "name": "stdout",
          "text": [
            "5275000\n"
          ]
        }
      ]
    },
    {
      "cell_type": "code",
      "source": [
        "df_flat = df_flat_.drop_duplicates()\n",
        "print(df_flat.size)"
      ],
      "metadata": {
        "colab": {
          "base_uri": "https://localhost:8080/"
        },
        "id": "beCmpb1N6Ltw",
        "outputId": "5b776bb1-0677-45f4-9fa2-9b6f659a20ef"
      },
      "execution_count": 39,
      "outputs": [
        {
          "output_type": "stream",
          "name": "stdout",
          "text": [
            "1610774\n"
          ]
        }
      ]
    },
    {
      "cell_type": "code",
      "source": [
        "df_flat.head()"
      ],
      "metadata": {
        "colab": {
          "base_uri": "https://localhost:8080/",
          "height": 255
        },
        "id": "mG85qpOf2MNv",
        "outputId": "880c164f-cbb0-49f9-9eeb-e48c6f5d7c08"
      },
      "execution_count": 40,
      "outputs": [
        {
          "output_type": "execute_result",
          "data": {
            "text/plain": [
              "    MaxAbsEStateIndex  MaxEStateIndex  MinAbsEStateIndex  MinEStateIndex  \\\n",
              "0            3.222222        3.222222           1.250000         1.25000   \n",
              "1            5.341713        5.341713           0.870370         0.87037   \n",
              "2            5.569442        5.569442           0.379630         0.37963   \n",
              "8            5.569442        5.569442           0.379630         0.37963   \n",
              "20          12.997038       12.997038           0.092981        -0.17960   \n",
              "\n",
              "         qed        SPS    MolWt  HeavyAtomMolWt  ExactMolWt  \\\n",
              "0   0.434794  24.000000   71.123          62.051   71.073499   \n",
              "1   0.578107  40.800000  141.214         126.094  141.115364   \n",
              "2   0.827934  36.133333  223.341         206.205  223.103085   \n",
              "8   0.827934  36.133333  223.341         206.205  223.103085   \n",
              "20  0.227251  28.440000  702.882         656.514  702.331188   \n",
              "\n",
              "    NumValenceElectrons  ...  fr_sulfonamd  fr_sulfone  fr_term_acetylene  \\\n",
              "0                  30.0  ...           0.0         0.0                0.0   \n",
              "1                  58.0  ...           0.0         0.0                0.0   \n",
              "2                  82.0  ...           0.0         0.0                0.0   \n",
              "8                  82.0  ...           0.0         0.0                0.0   \n",
              "20                266.0  ...           0.0         0.0                0.0   \n",
              "\n",
              "    fr_tetrazole  fr_thiazole  fr_thiocyan  fr_thiophene  fr_unbrch_alkane  \\\n",
              "0            0.0          0.0          0.0           0.0               0.0   \n",
              "1            0.0          0.0          0.0           0.0               0.0   \n",
              "2            0.0          0.0          0.0           1.0               0.0   \n",
              "8            0.0          0.0          0.0           1.0               0.0   \n",
              "20           0.0          0.0          0.0           1.0               0.0   \n",
              "\n",
              "    fr_urea         target  \n",
              "0       0.0       add_node  \n",
              "1       0.0       add_node  \n",
              "2       0.0       add_node  \n",
              "8       0.0  set_edge_attr  \n",
              "20      0.0  set_edge_attr  \n",
              "\n",
              "[5 rows x 211 columns]"
            ],
            "text/html": [
              "\n",
              "  <div id=\"df-5bde953a-5f1f-465d-b61f-d331d607307e\" class=\"colab-df-container\">\n",
              "    <div>\n",
              "<style scoped>\n",
              "    .dataframe tbody tr th:only-of-type {\n",
              "        vertical-align: middle;\n",
              "    }\n",
              "\n",
              "    .dataframe tbody tr th {\n",
              "        vertical-align: top;\n",
              "    }\n",
              "\n",
              "    .dataframe thead th {\n",
              "        text-align: right;\n",
              "    }\n",
              "</style>\n",
              "<table border=\"1\" class=\"dataframe\">\n",
              "  <thead>\n",
              "    <tr style=\"text-align: right;\">\n",
              "      <th></th>\n",
              "      <th>MaxAbsEStateIndex</th>\n",
              "      <th>MaxEStateIndex</th>\n",
              "      <th>MinAbsEStateIndex</th>\n",
              "      <th>MinEStateIndex</th>\n",
              "      <th>qed</th>\n",
              "      <th>SPS</th>\n",
              "      <th>MolWt</th>\n",
              "      <th>HeavyAtomMolWt</th>\n",
              "      <th>ExactMolWt</th>\n",
              "      <th>NumValenceElectrons</th>\n",
              "      <th>...</th>\n",
              "      <th>fr_sulfonamd</th>\n",
              "      <th>fr_sulfone</th>\n",
              "      <th>fr_term_acetylene</th>\n",
              "      <th>fr_tetrazole</th>\n",
              "      <th>fr_thiazole</th>\n",
              "      <th>fr_thiocyan</th>\n",
              "      <th>fr_thiophene</th>\n",
              "      <th>fr_unbrch_alkane</th>\n",
              "      <th>fr_urea</th>\n",
              "      <th>target</th>\n",
              "    </tr>\n",
              "  </thead>\n",
              "  <tbody>\n",
              "    <tr>\n",
              "      <th>0</th>\n",
              "      <td>3.222222</td>\n",
              "      <td>3.222222</td>\n",
              "      <td>1.250000</td>\n",
              "      <td>1.25000</td>\n",
              "      <td>0.434794</td>\n",
              "      <td>24.000000</td>\n",
              "      <td>71.123</td>\n",
              "      <td>62.051</td>\n",
              "      <td>71.073499</td>\n",
              "      <td>30.0</td>\n",
              "      <td>...</td>\n",
              "      <td>0.0</td>\n",
              "      <td>0.0</td>\n",
              "      <td>0.0</td>\n",
              "      <td>0.0</td>\n",
              "      <td>0.0</td>\n",
              "      <td>0.0</td>\n",
              "      <td>0.0</td>\n",
              "      <td>0.0</td>\n",
              "      <td>0.0</td>\n",
              "      <td>add_node</td>\n",
              "    </tr>\n",
              "    <tr>\n",
              "      <th>1</th>\n",
              "      <td>5.341713</td>\n",
              "      <td>5.341713</td>\n",
              "      <td>0.870370</td>\n",
              "      <td>0.87037</td>\n",
              "      <td>0.578107</td>\n",
              "      <td>40.800000</td>\n",
              "      <td>141.214</td>\n",
              "      <td>126.094</td>\n",
              "      <td>141.115364</td>\n",
              "      <td>58.0</td>\n",
              "      <td>...</td>\n",
              "      <td>0.0</td>\n",
              "      <td>0.0</td>\n",
              "      <td>0.0</td>\n",
              "      <td>0.0</td>\n",
              "      <td>0.0</td>\n",
              "      <td>0.0</td>\n",
              "      <td>0.0</td>\n",
              "      <td>0.0</td>\n",
              "      <td>0.0</td>\n",
              "      <td>add_node</td>\n",
              "    </tr>\n",
              "    <tr>\n",
              "      <th>2</th>\n",
              "      <td>5.569442</td>\n",
              "      <td>5.569442</td>\n",
              "      <td>0.379630</td>\n",
              "      <td>0.37963</td>\n",
              "      <td>0.827934</td>\n",
              "      <td>36.133333</td>\n",
              "      <td>223.341</td>\n",
              "      <td>206.205</td>\n",
              "      <td>223.103085</td>\n",
              "      <td>82.0</td>\n",
              "      <td>...</td>\n",
              "      <td>0.0</td>\n",
              "      <td>0.0</td>\n",
              "      <td>0.0</td>\n",
              "      <td>0.0</td>\n",
              "      <td>0.0</td>\n",
              "      <td>0.0</td>\n",
              "      <td>1.0</td>\n",
              "      <td>0.0</td>\n",
              "      <td>0.0</td>\n",
              "      <td>add_node</td>\n",
              "    </tr>\n",
              "    <tr>\n",
              "      <th>8</th>\n",
              "      <td>5.569442</td>\n",
              "      <td>5.569442</td>\n",
              "      <td>0.379630</td>\n",
              "      <td>0.37963</td>\n",
              "      <td>0.827934</td>\n",
              "      <td>36.133333</td>\n",
              "      <td>223.341</td>\n",
              "      <td>206.205</td>\n",
              "      <td>223.103085</td>\n",
              "      <td>82.0</td>\n",
              "      <td>...</td>\n",
              "      <td>0.0</td>\n",
              "      <td>0.0</td>\n",
              "      <td>0.0</td>\n",
              "      <td>0.0</td>\n",
              "      <td>0.0</td>\n",
              "      <td>0.0</td>\n",
              "      <td>1.0</td>\n",
              "      <td>0.0</td>\n",
              "      <td>0.0</td>\n",
              "      <td>set_edge_attr</td>\n",
              "    </tr>\n",
              "    <tr>\n",
              "      <th>20</th>\n",
              "      <td>12.997038</td>\n",
              "      <td>12.997038</td>\n",
              "      <td>0.092981</td>\n",
              "      <td>-0.17960</td>\n",
              "      <td>0.227251</td>\n",
              "      <td>28.440000</td>\n",
              "      <td>702.882</td>\n",
              "      <td>656.514</td>\n",
              "      <td>702.331188</td>\n",
              "      <td>266.0</td>\n",
              "      <td>...</td>\n",
              "      <td>0.0</td>\n",
              "      <td>0.0</td>\n",
              "      <td>0.0</td>\n",
              "      <td>0.0</td>\n",
              "      <td>0.0</td>\n",
              "      <td>0.0</td>\n",
              "      <td>1.0</td>\n",
              "      <td>0.0</td>\n",
              "      <td>0.0</td>\n",
              "      <td>set_edge_attr</td>\n",
              "    </tr>\n",
              "  </tbody>\n",
              "</table>\n",
              "<p>5 rows × 211 columns</p>\n",
              "</div>\n",
              "    <div class=\"colab-df-buttons\">\n",
              "\n",
              "  <div class=\"colab-df-container\">\n",
              "    <button class=\"colab-df-convert\" onclick=\"convertToInteractive('df-5bde953a-5f1f-465d-b61f-d331d607307e')\"\n",
              "            title=\"Convert this dataframe to an interactive table.\"\n",
              "            style=\"display:none;\">\n",
              "\n",
              "  <svg xmlns=\"http://www.w3.org/2000/svg\" height=\"24px\" viewBox=\"0 -960 960 960\">\n",
              "    <path d=\"M120-120v-720h720v720H120Zm60-500h600v-160H180v160Zm220 220h160v-160H400v160Zm0 220h160v-160H400v160ZM180-400h160v-160H180v160Zm440 0h160v-160H620v160ZM180-180h160v-160H180v160Zm440 0h160v-160H620v160Z\"/>\n",
              "  </svg>\n",
              "    </button>\n",
              "\n",
              "  <style>\n",
              "    .colab-df-container {\n",
              "      display:flex;\n",
              "      gap: 12px;\n",
              "    }\n",
              "\n",
              "    .colab-df-convert {\n",
              "      background-color: #E8F0FE;\n",
              "      border: none;\n",
              "      border-radius: 50%;\n",
              "      cursor: pointer;\n",
              "      display: none;\n",
              "      fill: #1967D2;\n",
              "      height: 32px;\n",
              "      padding: 0 0 0 0;\n",
              "      width: 32px;\n",
              "    }\n",
              "\n",
              "    .colab-df-convert:hover {\n",
              "      background-color: #E2EBFA;\n",
              "      box-shadow: 0px 1px 2px rgba(60, 64, 67, 0.3), 0px 1px 3px 1px rgba(60, 64, 67, 0.15);\n",
              "      fill: #174EA6;\n",
              "    }\n",
              "\n",
              "    .colab-df-buttons div {\n",
              "      margin-bottom: 4px;\n",
              "    }\n",
              "\n",
              "    [theme=dark] .colab-df-convert {\n",
              "      background-color: #3B4455;\n",
              "      fill: #D2E3FC;\n",
              "    }\n",
              "\n",
              "    [theme=dark] .colab-df-convert:hover {\n",
              "      background-color: #434B5C;\n",
              "      box-shadow: 0px 1px 3px 1px rgba(0, 0, 0, 0.15);\n",
              "      filter: drop-shadow(0px 1px 2px rgba(0, 0, 0, 0.3));\n",
              "      fill: #FFFFFF;\n",
              "    }\n",
              "  </style>\n",
              "\n",
              "    <script>\n",
              "      const buttonEl =\n",
              "        document.querySelector('#df-5bde953a-5f1f-465d-b61f-d331d607307e button.colab-df-convert');\n",
              "      buttonEl.style.display =\n",
              "        google.colab.kernel.accessAllowed ? 'block' : 'none';\n",
              "\n",
              "      async function convertToInteractive(key) {\n",
              "        const element = document.querySelector('#df-5bde953a-5f1f-465d-b61f-d331d607307e');\n",
              "        const dataTable =\n",
              "          await google.colab.kernel.invokeFunction('convertToInteractive',\n",
              "                                                    [key], {});\n",
              "        if (!dataTable) return;\n",
              "\n",
              "        const docLinkHtml = 'Like what you see? Visit the ' +\n",
              "          '<a target=\"_blank\" href=https://colab.research.google.com/notebooks/data_table.ipynb>data table notebook</a>'\n",
              "          + ' to learn more about interactive tables.';\n",
              "        element.innerHTML = '';\n",
              "        dataTable['output_type'] = 'display_data';\n",
              "        await google.colab.output.renderOutput(dataTable, element);\n",
              "        const docLink = document.createElement('div');\n",
              "        docLink.innerHTML = docLinkHtml;\n",
              "        element.appendChild(docLink);\n",
              "      }\n",
              "    </script>\n",
              "  </div>\n",
              "\n",
              "\n",
              "<div id=\"df-ac5a9d51-94ac-487c-af94-227912a3c8d1\">\n",
              "  <button class=\"colab-df-quickchart\" onclick=\"quickchart('df-ac5a9d51-94ac-487c-af94-227912a3c8d1')\"\n",
              "            title=\"Suggest charts\"\n",
              "            style=\"display:none;\">\n",
              "\n",
              "<svg xmlns=\"http://www.w3.org/2000/svg\" height=\"24px\"viewBox=\"0 0 24 24\"\n",
              "     width=\"24px\">\n",
              "    <g>\n",
              "        <path d=\"M19 3H5c-1.1 0-2 .9-2 2v14c0 1.1.9 2 2 2h14c1.1 0 2-.9 2-2V5c0-1.1-.9-2-2-2zM9 17H7v-7h2v7zm4 0h-2V7h2v10zm4 0h-2v-4h2v4z\"/>\n",
              "    </g>\n",
              "</svg>\n",
              "  </button>\n",
              "\n",
              "<style>\n",
              "  .colab-df-quickchart {\n",
              "      --bg-color: #E8F0FE;\n",
              "      --fill-color: #1967D2;\n",
              "      --hover-bg-color: #E2EBFA;\n",
              "      --hover-fill-color: #174EA6;\n",
              "      --disabled-fill-color: #AAA;\n",
              "      --disabled-bg-color: #DDD;\n",
              "  }\n",
              "\n",
              "  [theme=dark] .colab-df-quickchart {\n",
              "      --bg-color: #3B4455;\n",
              "      --fill-color: #D2E3FC;\n",
              "      --hover-bg-color: #434B5C;\n",
              "      --hover-fill-color: #FFFFFF;\n",
              "      --disabled-bg-color: #3B4455;\n",
              "      --disabled-fill-color: #666;\n",
              "  }\n",
              "\n",
              "  .colab-df-quickchart {\n",
              "    background-color: var(--bg-color);\n",
              "    border: none;\n",
              "    border-radius: 50%;\n",
              "    cursor: pointer;\n",
              "    display: none;\n",
              "    fill: var(--fill-color);\n",
              "    height: 32px;\n",
              "    padding: 0;\n",
              "    width: 32px;\n",
              "  }\n",
              "\n",
              "  .colab-df-quickchart:hover {\n",
              "    background-color: var(--hover-bg-color);\n",
              "    box-shadow: 0 1px 2px rgba(60, 64, 67, 0.3), 0 1px 3px 1px rgba(60, 64, 67, 0.15);\n",
              "    fill: var(--button-hover-fill-color);\n",
              "  }\n",
              "\n",
              "  .colab-df-quickchart-complete:disabled,\n",
              "  .colab-df-quickchart-complete:disabled:hover {\n",
              "    background-color: var(--disabled-bg-color);\n",
              "    fill: var(--disabled-fill-color);\n",
              "    box-shadow: none;\n",
              "  }\n",
              "\n",
              "  .colab-df-spinner {\n",
              "    border: 2px solid var(--fill-color);\n",
              "    border-color: transparent;\n",
              "    border-bottom-color: var(--fill-color);\n",
              "    animation:\n",
              "      spin 1s steps(1) infinite;\n",
              "  }\n",
              "\n",
              "  @keyframes spin {\n",
              "    0% {\n",
              "      border-color: transparent;\n",
              "      border-bottom-color: var(--fill-color);\n",
              "      border-left-color: var(--fill-color);\n",
              "    }\n",
              "    20% {\n",
              "      border-color: transparent;\n",
              "      border-left-color: var(--fill-color);\n",
              "      border-top-color: var(--fill-color);\n",
              "    }\n",
              "    30% {\n",
              "      border-color: transparent;\n",
              "      border-left-color: var(--fill-color);\n",
              "      border-top-color: var(--fill-color);\n",
              "      border-right-color: var(--fill-color);\n",
              "    }\n",
              "    40% {\n",
              "      border-color: transparent;\n",
              "      border-right-color: var(--fill-color);\n",
              "      border-top-color: var(--fill-color);\n",
              "    }\n",
              "    60% {\n",
              "      border-color: transparent;\n",
              "      border-right-color: var(--fill-color);\n",
              "    }\n",
              "    80% {\n",
              "      border-color: transparent;\n",
              "      border-right-color: var(--fill-color);\n",
              "      border-bottom-color: var(--fill-color);\n",
              "    }\n",
              "    90% {\n",
              "      border-color: transparent;\n",
              "      border-bottom-color: var(--fill-color);\n",
              "    }\n",
              "  }\n",
              "</style>\n",
              "\n",
              "  <script>\n",
              "    async function quickchart(key) {\n",
              "      const quickchartButtonEl =\n",
              "        document.querySelector('#' + key + ' button');\n",
              "      quickchartButtonEl.disabled = true;  // To prevent multiple clicks.\n",
              "      quickchartButtonEl.classList.add('colab-df-spinner');\n",
              "      try {\n",
              "        const charts = await google.colab.kernel.invokeFunction(\n",
              "            'suggestCharts', [key], {});\n",
              "      } catch (error) {\n",
              "        console.error('Error during call to suggestCharts:', error);\n",
              "      }\n",
              "      quickchartButtonEl.classList.remove('colab-df-spinner');\n",
              "      quickchartButtonEl.classList.add('colab-df-quickchart-complete');\n",
              "    }\n",
              "    (() => {\n",
              "      let quickchartButtonEl =\n",
              "        document.querySelector('#df-ac5a9d51-94ac-487c-af94-227912a3c8d1 button');\n",
              "      quickchartButtonEl.style.display =\n",
              "        google.colab.kernel.accessAllowed ? 'block' : 'none';\n",
              "    })();\n",
              "  </script>\n",
              "</div>\n",
              "    </div>\n",
              "  </div>\n"
            ]
          },
          "metadata": {},
          "execution_count": 40
        }
      ]
    },
    {
      "cell_type": "code",
      "source": [
        "df_flat[\"target\"].value_counts()"
      ],
      "metadata": {
        "colab": {
          "base_uri": "https://localhost:8080/"
        },
        "id": "roJP3izZ2QOS",
        "outputId": "2840ed35-d7e4-41cd-d949-aacfff13808f"
      },
      "execution_count": 41,
      "outputs": [
        {
          "output_type": "execute_result",
          "data": {
            "text/plain": [
              "set_edge_attr    4309\n",
              "add_node         2325\n",
              "stop             1000\n",
              "Name: target, dtype: int64"
            ]
          },
          "metadata": {},
          "execution_count": 41
        }
      ]
    },
    {
      "cell_type": "code",
      "source": [
        "df_flat.to_csv(\"featurized_mols_actions.csv\")"
      ],
      "metadata": {
        "id": "JJRJolEy2WPY"
      },
      "execution_count": 42,
      "outputs": []
    },
    {
      "cell_type": "markdown",
      "source": [
        "### Action classifier"
      ],
      "metadata": {
        "id": "L5gpzThR71nw"
      }
    },
    {
      "cell_type": "code",
      "source": [
        "from sklearn.model_selection import train_test_split, RandomizedSearchCV\n",
        "from sklearn.metrics import confusion_matrix, ConfusionMatrixDisplay\n",
        "from sklearn.ensemble import GradientBoostingClassifier, RandomForestClassifier\n",
        "from sklearn.tree import DecisionTreeClassifier, plot_tree"
      ],
      "metadata": {
        "id": "ermXWjlM6fIy"
      },
      "execution_count": 107,
      "outputs": []
    },
    {
      "cell_type": "code",
      "source": [
        "# Exclude stop action\n",
        "df_flat = df_flat[df_flat.target != \"stop\"]"
      ],
      "metadata": {
        "id": "Z5JuRekR2rfs"
      },
      "execution_count": 118,
      "outputs": []
    },
    {
      "cell_type": "code",
      "source": [
        "X, y = df_flat[[col for col in df_flat.columns if col != \"target\"]], df_flat[\"target\"]\n",
        "X_train, X_test, y_train, y_test = train_test_split(X, y, test_size=0.2, random_state=42)"
      ],
      "metadata": {
        "id": "y9o7lkb16jzy"
      },
      "execution_count": 119,
      "outputs": []
    },
    {
      "cell_type": "code",
      "source": [
        "rf = RandomForestClassifier()\n",
        "\n",
        "# Fit the random search model\n",
        "rf.fit(X_train, y_train)"
      ],
      "metadata": {
        "colab": {
          "base_uri": "https://localhost:8080/",
          "height": 75
        },
        "id": "1PxN9ai86jim",
        "outputId": "7bc70d88-8e7d-44f3-b2be-662f3412d8ca"
      },
      "execution_count": 129,
      "outputs": [
        {
          "output_type": "execute_result",
          "data": {
            "text/plain": [
              "RandomForestClassifier()"
            ],
            "text/html": [
              "<style>#sk-container-id-13 {color: black;background-color: white;}#sk-container-id-13 pre{padding: 0;}#sk-container-id-13 div.sk-toggleable {background-color: white;}#sk-container-id-13 label.sk-toggleable__label {cursor: pointer;display: block;width: 100%;margin-bottom: 0;padding: 0.3em;box-sizing: border-box;text-align: center;}#sk-container-id-13 label.sk-toggleable__label-arrow:before {content: \"▸\";float: left;margin-right: 0.25em;color: #696969;}#sk-container-id-13 label.sk-toggleable__label-arrow:hover:before {color: black;}#sk-container-id-13 div.sk-estimator:hover label.sk-toggleable__label-arrow:before {color: black;}#sk-container-id-13 div.sk-toggleable__content {max-height: 0;max-width: 0;overflow: hidden;text-align: left;background-color: #f0f8ff;}#sk-container-id-13 div.sk-toggleable__content pre {margin: 0.2em;color: black;border-radius: 0.25em;background-color: #f0f8ff;}#sk-container-id-13 input.sk-toggleable__control:checked~div.sk-toggleable__content {max-height: 200px;max-width: 100%;overflow: auto;}#sk-container-id-13 input.sk-toggleable__control:checked~label.sk-toggleable__label-arrow:before {content: \"▾\";}#sk-container-id-13 div.sk-estimator input.sk-toggleable__control:checked~label.sk-toggleable__label {background-color: #d4ebff;}#sk-container-id-13 div.sk-label input.sk-toggleable__control:checked~label.sk-toggleable__label {background-color: #d4ebff;}#sk-container-id-13 input.sk-hidden--visually {border: 0;clip: rect(1px 1px 1px 1px);clip: rect(1px, 1px, 1px, 1px);height: 1px;margin: -1px;overflow: hidden;padding: 0;position: absolute;width: 1px;}#sk-container-id-13 div.sk-estimator {font-family: monospace;background-color: #f0f8ff;border: 1px dotted black;border-radius: 0.25em;box-sizing: border-box;margin-bottom: 0.5em;}#sk-container-id-13 div.sk-estimator:hover {background-color: #d4ebff;}#sk-container-id-13 div.sk-parallel-item::after {content: \"\";width: 100%;border-bottom: 1px solid gray;flex-grow: 1;}#sk-container-id-13 div.sk-label:hover label.sk-toggleable__label {background-color: #d4ebff;}#sk-container-id-13 div.sk-serial::before {content: \"\";position: absolute;border-left: 1px solid gray;box-sizing: border-box;top: 0;bottom: 0;left: 50%;z-index: 0;}#sk-container-id-13 div.sk-serial {display: flex;flex-direction: column;align-items: center;background-color: white;padding-right: 0.2em;padding-left: 0.2em;position: relative;}#sk-container-id-13 div.sk-item {position: relative;z-index: 1;}#sk-container-id-13 div.sk-parallel {display: flex;align-items: stretch;justify-content: center;background-color: white;position: relative;}#sk-container-id-13 div.sk-item::before, #sk-container-id-13 div.sk-parallel-item::before {content: \"\";position: absolute;border-left: 1px solid gray;box-sizing: border-box;top: 0;bottom: 0;left: 50%;z-index: -1;}#sk-container-id-13 div.sk-parallel-item {display: flex;flex-direction: column;z-index: 1;position: relative;background-color: white;}#sk-container-id-13 div.sk-parallel-item:first-child::after {align-self: flex-end;width: 50%;}#sk-container-id-13 div.sk-parallel-item:last-child::after {align-self: flex-start;width: 50%;}#sk-container-id-13 div.sk-parallel-item:only-child::after {width: 0;}#sk-container-id-13 div.sk-dashed-wrapped {border: 1px dashed gray;margin: 0 0.4em 0.5em 0.4em;box-sizing: border-box;padding-bottom: 0.4em;background-color: white;}#sk-container-id-13 div.sk-label label {font-family: monospace;font-weight: bold;display: inline-block;line-height: 1.2em;}#sk-container-id-13 div.sk-label-container {text-align: center;}#sk-container-id-13 div.sk-container {/* jupyter's `normalize.less` sets `[hidden] { display: none; }` but bootstrap.min.css set `[hidden] { display: none !important; }` so we also need the `!important` here to be able to override the default hidden behavior on the sphinx rendered scikit-learn.org. See: https://github.com/scikit-learn/scikit-learn/issues/21755 */display: inline-block !important;position: relative;}#sk-container-id-13 div.sk-text-repr-fallback {display: none;}</style><div id=\"sk-container-id-13\" class=\"sk-top-container\"><div class=\"sk-text-repr-fallback\"><pre>RandomForestClassifier()</pre><b>In a Jupyter environment, please rerun this cell to show the HTML representation or trust the notebook. <br />On GitHub, the HTML representation is unable to render, please try loading this page with nbviewer.org.</b></div><div class=\"sk-container\" hidden><div class=\"sk-item\"><div class=\"sk-estimator sk-toggleable\"><input class=\"sk-toggleable__control sk-hidden--visually\" id=\"sk-estimator-id-15\" type=\"checkbox\" checked><label for=\"sk-estimator-id-15\" class=\"sk-toggleable__label sk-toggleable__label-arrow\">RandomForestClassifier</label><div class=\"sk-toggleable__content\"><pre>RandomForestClassifier()</pre></div></div></div></div></div>"
            ]
          },
          "metadata": {},
          "execution_count": 129
        }
      ]
    },
    {
      "cell_type": "code",
      "source": [
        "rf.score(X_test, y_test)"
      ],
      "metadata": {
        "colab": {
          "base_uri": "https://localhost:8080/"
        },
        "id": "mt1kWsP16jTR",
        "outputId": "e140c4d1-e195-4487-8dc5-afd695319219"
      },
      "execution_count": 130,
      "outputs": [
        {
          "output_type": "execute_result",
          "data": {
            "text/plain": [
              "0.7452901281085155"
            ]
          },
          "metadata": {},
          "execution_count": 130
        }
      ]
    },
    {
      "cell_type": "code",
      "source": [
        "predictions = rf.predict(X_test)\n",
        "cm = confusion_matrix(y_test, predictions, labels=rf.classes_)\n",
        "disp = ConfusionMatrixDisplay(confusion_matrix=cm, display_labels=rf.classes_)\n",
        "disp.plot()\n",
        "plt.show()"
      ],
      "metadata": {
        "colab": {
          "base_uri": "https://localhost:8080/",
          "height": 450
        },
        "id": "wPDN1lTg8Ozm",
        "outputId": "bfc1b440-d2af-46e7-9845-446eaf5c386c"
      },
      "execution_count": 122,
      "outputs": [
        {
          "output_type": "display_data",
          "data": {
            "text/plain": [
              "<Figure size 640x480 with 2 Axes>"
            ],
            "image/png": "[encoded data removed]"
          },
          "metadata": {}
        }
      ]
    },
    {
      "cell_type": "code",
      "source": [
        "# Feat importance\n",
        "# sort_perm = np.argsort(rf.feature_importances_)\n",
        "# most_important = rf.feature_importances_[sort_perm][::-1]\n",
        "# most_important_names = rf.feature_names_in_[sort_perm][::-1]\n",
        "# forest_importances = pd.Series(most_important[50:], index=most_important_names[50:])\n",
        "# forest_importances.plot.bar()"
      ],
      "metadata": {
        "id": "A19jmgji96JA"
      },
      "execution_count": 123,
      "outputs": []
    },
    {
      "cell_type": "code",
      "source": [
        "tree = DecisionTreeClassifier(max_depth=2)\n",
        "tree.fit(X_train, y_train)\n",
        "tree.score(X_test, y_test)"
      ],
      "metadata": {
        "colab": {
          "base_uri": "https://localhost:8080/"
        },
        "id": "Kwxp42fs5-hx",
        "outputId": "25dd958e-2f0b-4041-aaec-9f59bc5e2d1f"
      },
      "execution_count": 131,
      "outputs": [
        {
          "output_type": "execute_result",
          "data": {
            "text/plain": [
              "0.8409947249434815"
            ]
          },
          "metadata": {},
          "execution_count": 131
        }
      ]
    },
    {
      "cell_type": "code",
      "source": [
        "print(plot_tree(tree, feature_names=tree.feature_names_in_))"
      ],
      "metadata": {
        "colab": {
          "base_uri": "https://localhost:8080/",
          "height": 444
        },
        "id": "qW3yp8y48myb",
        "outputId": "2807f4fe-6757-4e74-e78f-02485c42893e"
      },
      "execution_count": 133,
      "outputs": [
        {
          "output_type": "stream",
          "name": "stdout",
          "text": [
            "[Text(0.5, 0.8333333333333334, 'Kappa3 <= 5.202\\ngini = 0.456\\nsamples = 5307\\nvalue = [1863, 3444]'), Text(0.25, 0.5, 'SMR_VSA7 <= 17.271\\ngini = 0.422\\nsamples = 2620\\nvalue = [1828, 792]'), Text(0.125, 0.16666666666666666, 'gini = 0.313\\nsamples = 1314\\nvalue = [1059, 255]'), Text(0.375, 0.16666666666666666, 'gini = 0.484\\nsamples = 1306\\nvalue = [769, 537]'), Text(0.75, 0.5, 'BertzCT <= 705.879\\ngini = 0.026\\nsamples = 2687\\nvalue = [35, 2652]'), Text(0.625, 0.16666666666666666, 'gini = 0.497\\nsamples = 28\\nvalue = [13, 15]'), Text(0.875, 0.16666666666666666, 'gini = 0.016\\nsamples = 2659\\nvalue = [22, 2637]')]\n"
          ]
        },
        {
          "output_type": "display_data",
          "data": {
            "text/plain": [
              "<Figure size 640x480 with 1 Axes>"
            ],
            "image/png": "[encoded data removed]"
          },
          "metadata": {}
        }
      ]
    },
    {
      "cell_type": "markdown",
      "source": [
        "### Variable selection with LASSO"
      ],
      "metadata": {
        "id": "zKI2CdxmFfsG"
      }
    },
    {
      "cell_type": "code",
      "source": [
        "from sklearn.linear_model import Lasso\n",
        "from sklearn.model_selection import GridSearchCV\n",
        "from sklearn.preprocessing import LabelBinarizer"
      ],
      "metadata": {
        "id": "JNjn-7OyFoRp"
      },
      "execution_count": 141,
      "outputs": []
    },
    {
      "cell_type": "code",
      "source": [
        "# parameters to be tested on GridSearchCV\n",
        "params = {\"alpha\":np.arange(0.00001, 10, 500)}\n",
        "lasso = Lasso(max_iter=10000)\n",
        "lb = LabelBinarizer()\n",
        "# GridSearchCV with model, params and folds.\n",
        "lasso_cv=GridSearchCV(lasso, param_grid=params, cv=5)\n",
        "lasso_cv.fit(X_train, lb.fit_transform(y_train))"
      ],
      "metadata": {
        "colab": {
          "base_uri": "https://localhost:8080/",
          "height": 561
        },
        "id": "NsuJWEx2FdGf",
        "outputId": "a06df4ad-f665-4790-c57c-3babbc71d74d"
      },
      "execution_count": 144,
      "outputs": [
        {
          "output_type": "stream",
          "name": "stderr",
          "text": [
            "/usr/local/lib/python3.10/dist-packages/sklearn/linear_model/_coordinate_descent.py:631: ConvergenceWarning:\n",
            "\n",
            "Objective did not converge. You might want to increase the number of iterations, check the scale of the features or consider increasing regularisation. Duality gap: 2.046e+02, tolerance: 9.673e-02\n",
            "\n",
            "/usr/local/lib/python3.10/dist-packages/sklearn/linear_model/_coordinate_descent.py:631: ConvergenceWarning:\n",
            "\n",
            "Objective did not converge. You might want to increase the number of iterations, check the scale of the features or consider increasing regularisation. Duality gap: 2.172e+02, tolerance: 9.676e-02\n",
            "\n",
            "/usr/local/lib/python3.10/dist-packages/sklearn/linear_model/_coordinate_descent.py:631: ConvergenceWarning:\n",
            "\n",
            "Objective did not converge. You might want to increase the number of iterations, check the scale of the features or consider increasing regularisation. Duality gap: 2.140e+02, tolerance: 9.695e-02\n",
            "\n",
            "/usr/local/lib/python3.10/dist-packages/sklearn/linear_model/_coordinate_descent.py:631: ConvergenceWarning:\n",
            "\n",
            "Objective did not converge. You might want to increase the number of iterations, check the scale of the features or consider increasing regularisation. Duality gap: 2.115e+02, tolerance: 9.701e-02\n",
            "\n",
            "/usr/local/lib/python3.10/dist-packages/sklearn/linear_model/_coordinate_descent.py:631: ConvergenceWarning:\n",
            "\n",
            "Objective did not converge. You might want to increase the number of iterations, check the scale of the features or consider increasing regularisation. Duality gap: 2.070e+02, tolerance: 9.614e-02\n",
            "\n",
            "/usr/local/lib/python3.10/dist-packages/sklearn/linear_model/_coordinate_descent.py:631: ConvergenceWarning:\n",
            "\n",
            "Objective did not converge. You might want to increase the number of iterations, check the scale of the features or consider increasing regularisation. Duality gap: 2.644e+02, tolerance: 1.209e-01\n",
            "\n"
          ]
        },
        {
          "output_type": "execute_result",
          "data": {
            "text/plain": [
              "GridSearchCV(cv=5, estimator=Lasso(max_iter=10000),\n",
              "             param_grid={'alpha': array([1.e-05])})"
            ],
            "text/html": [
              "<style>#sk-container-id-15 {color: black;background-color: white;}#sk-container-id-15 pre{padding: 0;}#sk-container-id-15 div.sk-toggleable {background-color: white;}#sk-container-id-15 label.sk-toggleable__label {cursor: pointer;display: block;width: 100%;margin-bottom: 0;padding: 0.3em;box-sizing: border-box;text-align: center;}#sk-container-id-15 label.sk-toggleable__label-arrow:before {content: \"▸\";float: left;margin-right: 0.25em;color: #696969;}#sk-container-id-15 label.sk-toggleable__label-arrow:hover:before {color: black;}#sk-container-id-15 div.sk-estimator:hover label.sk-toggleable__label-arrow:before {color: black;}#sk-container-id-15 div.sk-toggleable__content {max-height: 0;max-width: 0;overflow: hidden;text-align: left;background-color: #f0f8ff;}#sk-container-id-15 div.sk-toggleable__content pre {margin: 0.2em;color: black;border-radius: 0.25em;background-color: #f0f8ff;}#sk-container-id-15 input.sk-toggleable__control:checked~div.sk-toggleable__content {max-height: 200px;max-width: 100%;overflow: auto;}#sk-container-id-15 input.sk-toggleable__control:checked~label.sk-toggleable__label-arrow:before {content: \"▾\";}#sk-container-id-15 div.sk-estimator input.sk-toggleable__control:checked~label.sk-toggleable__label {background-color: #d4ebff;}#sk-container-id-15 div.sk-label input.sk-toggleable__control:checked~label.sk-toggleable__label {background-color: #d4ebff;}#sk-container-id-15 input.sk-hidden--visually {border: 0;clip: rect(1px 1px 1px 1px);clip: rect(1px, 1px, 1px, 1px);height: 1px;margin: -1px;overflow: hidden;padding: 0;position: absolute;width: 1px;}#sk-container-id-15 div.sk-estimator {font-family: monospace;background-color: #f0f8ff;border: 1px dotted black;border-radius: 0.25em;box-sizing: border-box;margin-bottom: 0.5em;}#sk-container-id-15 div.sk-estimator:hover {background-color: #d4ebff;}#sk-container-id-15 div.sk-parallel-item::after {content: \"\";width: 100%;border-bottom: 1px solid gray;flex-grow: 1;}#sk-container-id-15 div.sk-label:hover label.sk-toggleable__label {background-color: #d4ebff;}#sk-container-id-15 div.sk-serial::before {content: \"\";position: absolute;border-left: 1px solid gray;box-sizing: border-box;top: 0;bottom: 0;left: 50%;z-index: 0;}#sk-container-id-15 div.sk-serial {display: flex;flex-direction: column;align-items: center;background-color: white;padding-right: 0.2em;padding-left: 0.2em;position: relative;}#sk-container-id-15 div.sk-item {position: relative;z-index: 1;}#sk-container-id-15 div.sk-parallel {display: flex;align-items: stretch;justify-content: center;background-color: white;position: relative;}#sk-container-id-15 div.sk-item::before, #sk-container-id-15 div.sk-parallel-item::before {content: \"\";position: absolute;border-left: 1px solid gray;box-sizing: border-box;top: 0;bottom: 0;left: 50%;z-index: -1;}#sk-container-id-15 div.sk-parallel-item {display: flex;flex-direction: column;z-index: 1;position: relative;background-color: white;}#sk-container-id-15 div.sk-parallel-item:first-child::after {align-self: flex-end;width: 50%;}#sk-container-id-15 div.sk-parallel-item:last-child::after {align-self: flex-start;width: 50%;}#sk-container-id-15 div.sk-parallel-item:only-child::after {width: 0;}#sk-container-id-15 div.sk-dashed-wrapped {border: 1px dashed gray;margin: 0 0.4em 0.5em 0.4em;box-sizing: border-box;padding-bottom: 0.4em;background-color: white;}#sk-container-id-15 div.sk-label label {font-family: monospace;font-weight: bold;display: inline-block;line-height: 1.2em;}#sk-container-id-15 div.sk-label-container {text-align: center;}#sk-container-id-15 div.sk-container {/* jupyter's `normalize.less` sets `[hidden] { display: none; }` but bootstrap.min.css set `[hidden] { display: none !important; }` so we also need the `!important` here to be able to override the default hidden behavior on the sphinx rendered scikit-learn.org. See: https://github.com/scikit-learn/scikit-learn/issues/21755 */display: inline-block !important;position: relative;}#sk-container-id-15 div.sk-text-repr-fallback {display: none;}</style><div id=\"sk-container-id-15\" class=\"sk-top-container\"><div class=\"sk-text-repr-fallback\"><pre>GridSearchCV(cv=5, estimator=Lasso(max_iter=10000),\n",
              "             param_grid={&#x27;alpha&#x27;: array([1.e-05])})</pre><b>In a Jupyter environment, please rerun this cell to show the HTML representation or trust the notebook. <br />On GitHub, the HTML representation is unable to render, please try loading this page with nbviewer.org.</b></div><div class=\"sk-container\" hidden><div class=\"sk-item sk-dashed-wrapped\"><div class=\"sk-label-container\"><div class=\"sk-label sk-toggleable\"><input class=\"sk-toggleable__control sk-hidden--visually\" id=\"sk-estimator-id-19\" type=\"checkbox\" ><label for=\"sk-estimator-id-19\" class=\"sk-toggleable__label sk-toggleable__label-arrow\">GridSearchCV</label><div class=\"sk-toggleable__content\"><pre>GridSearchCV(cv=5, estimator=Lasso(max_iter=10000),\n",
              "             param_grid={&#x27;alpha&#x27;: array([1.e-05])})</pre></div></div></div><div class=\"sk-parallel\"><div class=\"sk-parallel-item\"><div class=\"sk-item\"><div class=\"sk-label-container\"><div class=\"sk-label sk-toggleable\"><input class=\"sk-toggleable__control sk-hidden--visually\" id=\"sk-estimator-id-20\" type=\"checkbox\" ><label for=\"sk-estimator-id-20\" class=\"sk-toggleable__label sk-toggleable__label-arrow\">estimator: Lasso</label><div class=\"sk-toggleable__content\"><pre>Lasso(max_iter=10000)</pre></div></div></div><div class=\"sk-serial\"><div class=\"sk-item\"><div class=\"sk-estimator sk-toggleable\"><input class=\"sk-toggleable__control sk-hidden--visually\" id=\"sk-estimator-id-21\" type=\"checkbox\" ><label for=\"sk-estimator-id-21\" class=\"sk-toggleable__label sk-toggleable__label-arrow\">Lasso</label><div class=\"sk-toggleable__content\"><pre>Lasso(max_iter=10000)</pre></div></div></div></div></div></div></div></div></div></div>"
            ]
          },
          "metadata": {},
          "execution_count": 144
        }
      ]
    },
    {
      "cell_type": "code",
      "source": [
        "lasso_coef = np.abs(lasso_cv.best_estimator_.coef_)\n",
        "df_coef = pd.DataFrame(lasso_coef, lasso_cv.feature_names_in_).sort_values(by=0, ascending=False)\n",
        "df_coef.plot()"
      ],
      "metadata": {
        "colab": {
          "base_uri": "https://localhost:8080/",
          "height": 448
        },
        "id": "Hs5Zn9I8FyNA",
        "outputId": "f9a38e78-6c88-45e0-d90e-84c62e4940e5"
      },
      "execution_count": 160,
      "outputs": [
        {
          "output_type": "execute_result",
          "data": {
            "text/plain": [
              "<Axes: >"
            ]
          },
          "metadata": {},
          "execution_count": 160
        },
        {
          "output_type": "display_data",
          "data": {
            "text/plain": [
              "<Figure size 640x480 with 1 Axes>"
            ],
            "image/png": "[encoded data removed]"
          },
          "metadata": {}
        }
      ]
    },
    {
      "cell_type": "code",
      "source": [
        "selected = df_coef.index[df_coef.iloc[:, 0]>0.05].values\n",
        "selected"
      ],
      "metadata": {
        "id": "cL5BmD88HmGW",
        "outputId": "8d1d1b05-7709-4c70-c4ed-174f27515a43",
        "colab": {
          "base_uri": "https://localhost:8080/"
        }
      },
      "execution_count": 165,
      "outputs": [
        {
          "output_type": "execute_result",
          "data": {
            "text/plain": [
              "array(['BCUT2D_CHGLO', 'FractionCSP3', 'BCUT2D_CHGHI',\n",
              "       'MaxAbsPartialCharge', 'FpDensityMorgan3', 'fr_C_O',\n",
              "       'BCUT2D_LOGPLOW', 'FpDensityMorgan2', 'HallKierAlpha',\n",
              "       'fr_C_O_noCOO', 'BCUT2D_MWLOW', 'fr_Ar_OH',\n",
              "       'NumAliphaticCarbocycles', 'fr_SH', 'BalabanJ',\n",
              "       'MinAbsPartialCharge', 'fr_nitro', 'fr_thiazole', 'qed', 'Chi1',\n",
              "       'fr_dihydropyridine', 'fr_bicyclic', 'fr_sulfonamd', 'fr_quatN',\n",
              "       'fr_nitro_arom', 'fr_NH1', 'Kappa2', 'fr_Ar_NH', 'fr_NH0',\n",
              "       'Kappa1', 'FpDensityMorgan1', 'RingCount', 'fr_ether', 'fr_phenol',\n",
              "       'BCUT2D_MRLOW', 'fr_thiophene', 'fr_ketone', 'Chi2v', 'fr_NH2',\n",
              "       'fr_alkyl_halide', 'fr_nitrile', 'fr_priamide'], dtype=object)"
            ]
          },
          "metadata": {},
          "execution_count": 165
        }
      ]
    },
    {
      "cell_type": "code",
      "source": [
        "rf_2 = RandomForestClassifier()\n",
        "n_estimators = [int(x) for x in np.linspace(start = 200, stop = 2000, num = 10)]\n",
        "max_features = ['auto', 'sqrt']\n",
        "max_depth = [int(x) for x in np.linspace(10, 110, num = 11)]\n",
        "max_depth.append(None)\n",
        "min_samples_split = [2, 5, 10]\n",
        "min_samples_leaf = [1, 2, 4]\n",
        "bootstrap = [True, False]\n",
        "random_grid = {'n_estimators': n_estimators,\n",
        "               'max_features': max_features,\n",
        "               'max_depth': max_depth,\n",
        "               'min_samples_split': min_samples_split,\n",
        "               'min_samples_leaf': min_samples_leaf,\n",
        "               'bootstrap': bootstrap}\n",
        "\n",
        "rf_random = RandomizedSearchCV(estimator = rf_2, param_distributions = random_grid, n_iter = 25, cv = 3, verbose=2, random_state=42, n_jobs = -1)"
      ],
      "metadata": {
        "id": "UoChurzrH3z1"
      },
      "execution_count": 172,
      "outputs": []
    },
    {
      "cell_type": "code",
      "source": [
        "rf_random.fit(X_train[selected], y_train)"
      ],
      "metadata": {
        "id": "NiYm7ZcpIcFH",
        "outputId": "d28fdf2d-ddea-4abf-8118-e842a71d93dd",
        "colab": {
          "base_uri": "https://localhost:8080/",
          "height": 137
        }
      },
      "execution_count": 173,
      "outputs": [
        {
          "output_type": "stream",
          "name": "stdout",
          "text": [
            "Fitting 3 folds for each of 25 candidates, totalling 75 fits\n"
          ]
        },
        {
          "output_type": "execute_result",
          "data": {
            "text/plain": [
              "RandomizedSearchCV(cv=3, estimator=RandomForestClassifier(), n_iter=25,\n",
              "                   n_jobs=-1,\n",
              "                   param_distributions={'bootstrap': [True, False],\n",
              "                                        'max_depth': [10, 20, 30, 40, 50, 60,\n",
              "                                                      70, 80, 90, 100, 110,\n",
              "                                                      None],\n",
              "                                        'max_features': ['auto', 'sqrt'],\n",
              "                                        'min_samples_leaf': [1, 2, 4],\n",
              "                                        'min_samples_split': [2, 5, 10],\n",
              "                                        'n_estimators': [200, 400, 600, 800,\n",
              "                                                         1000, 1200, 1400, 1600,\n",
              "                                                         1800, 2000]},\n",
              "                   random_state=42, verbose=2)"
            ],
            "text/html": [
              "<style>#sk-container-id-19 {color: black;background-color: white;}#sk-container-id-19 pre{padding: 0;}#sk-container-id-19 div.sk-toggleable {background-color: white;}#sk-container-id-19 label.sk-toggleable__label {cursor: pointer;display: block;width: 100%;margin-bottom: 0;padding: 0.3em;box-sizing: border-box;text-align: center;}#sk-container-id-19 label.sk-toggleable__label-arrow:before {content: \"▸\";float: left;margin-right: 0.25em;color: #696969;}#sk-container-id-19 label.sk-toggleable__label-arrow:hover:before {color: black;}#sk-container-id-19 div.sk-estimator:hover label.sk-toggleable__label-arrow:before {color: black;}#sk-container-id-19 div.sk-toggleable__content {max-height: 0;max-width: 0;overflow: hidden;text-align: left;background-color: #f0f8ff;}#sk-container-id-19 div.sk-toggleable__content pre {margin: 0.2em;color: black;border-radius: 0.25em;background-color: #f0f8ff;}#sk-container-id-19 input.sk-toggleable__control:checked~div.sk-toggleable__content {max-height: 200px;max-width: 100%;overflow: auto;}#sk-container-id-19 input.sk-toggleable__control:checked~label.sk-toggleable__label-arrow:before {content: \"▾\";}#sk-container-id-19 div.sk-estimator input.sk-toggleable__control:checked~label.sk-toggleable__label {background-color: #d4ebff;}#sk-container-id-19 div.sk-label input.sk-toggleable__control:checked~label.sk-toggleable__label {background-color: #d4ebff;}#sk-container-id-19 input.sk-hidden--visually {border: 0;clip: rect(1px 1px 1px 1px);clip: rect(1px, 1px, 1px, 1px);height: 1px;margin: -1px;overflow: hidden;padding: 0;position: absolute;width: 1px;}#sk-container-id-19 div.sk-estimator {font-family: monospace;background-color: #f0f8ff;border: 1px dotted black;border-radius: 0.25em;box-sizing: border-box;margin-bottom: 0.5em;}#sk-container-id-19 div.sk-estimator:hover {background-color: #d4ebff;}#sk-container-id-19 div.sk-parallel-item::after {content: \"\";width: 100%;border-bottom: 1px solid gray;flex-grow: 1;}#sk-container-id-19 div.sk-label:hover label.sk-toggleable__label {background-color: #d4ebff;}#sk-container-id-19 div.sk-serial::before {content: \"\";position: absolute;border-left: 1px solid gray;box-sizing: border-box;top: 0;bottom: 0;left: 50%;z-index: 0;}#sk-container-id-19 div.sk-serial {display: flex;flex-direction: column;align-items: center;background-color: white;padding-right: 0.2em;padding-left: 0.2em;position: relative;}#sk-container-id-19 div.sk-item {position: relative;z-index: 1;}#sk-container-id-19 div.sk-parallel {display: flex;align-items: stretch;justify-content: center;background-color: white;position: relative;}#sk-container-id-19 div.sk-item::before, #sk-container-id-19 div.sk-parallel-item::before {content: \"\";position: absolute;border-left: 1px solid gray;box-sizing: border-box;top: 0;bottom: 0;left: 50%;z-index: -1;}#sk-container-id-19 div.sk-parallel-item {display: flex;flex-direction: column;z-index: 1;position: relative;background-color: white;}#sk-container-id-19 div.sk-parallel-item:first-child::after {align-self: flex-end;width: 50%;}#sk-container-id-19 div.sk-parallel-item:last-child::after {align-self: flex-start;width: 50%;}#sk-container-id-19 div.sk-parallel-item:only-child::after {width: 0;}#sk-container-id-19 div.sk-dashed-wrapped {border: 1px dashed gray;margin: 0 0.4em 0.5em 0.4em;box-sizing: border-box;padding-bottom: 0.4em;background-color: white;}#sk-container-id-19 div.sk-label label {font-family: monospace;font-weight: bold;display: inline-block;line-height: 1.2em;}#sk-container-id-19 div.sk-label-container {text-align: center;}#sk-container-id-19 div.sk-container {/* jupyter's `normalize.less` sets `[hidden] { display: none; }` but bootstrap.min.css set `[hidden] { display: none !important; }` so we also need the `!important` here to be able to override the default hidden behavior on the sphinx rendered scikit-learn.org. See: https://github.com/scikit-learn/scikit-learn/issues/21755 */display: inline-block !important;position: relative;}#sk-container-id-19 div.sk-text-repr-fallback {display: none;}</style><div id=\"sk-container-id-19\" class=\"sk-top-container\"><div class=\"sk-text-repr-fallback\"><pre>RandomizedSearchCV(cv=3, estimator=RandomForestClassifier(), n_iter=25,\n",
              "                   n_jobs=-1,\n",
              "                   param_distributions={&#x27;bootstrap&#x27;: [True, False],\n",
              "                                        &#x27;max_depth&#x27;: [10, 20, 30, 40, 50, 60,\n",
              "                                                      70, 80, 90, 100, 110,\n",
              "                                                      None],\n",
              "                                        &#x27;max_features&#x27;: [&#x27;auto&#x27;, &#x27;sqrt&#x27;],\n",
              "                                        &#x27;min_samples_leaf&#x27;: [1, 2, 4],\n",
              "                                        &#x27;min_samples_split&#x27;: [2, 5, 10],\n",
              "                                        &#x27;n_estimators&#x27;: [200, 400, 600, 800,\n",
              "                                                         1000, 1200, 1400, 1600,\n",
              "                                                         1800, 2000]},\n",
              "                   random_state=42, verbose=2)</pre><b>In a Jupyter environment, please rerun this cell to show the HTML representation or trust the notebook. <br />On GitHub, the HTML representation is unable to render, please try loading this page with nbviewer.org.</b></div><div class=\"sk-container\" hidden><div class=\"sk-item sk-dashed-wrapped\"><div class=\"sk-label-container\"><div class=\"sk-label sk-toggleable\"><input class=\"sk-toggleable__control sk-hidden--visually\" id=\"sk-estimator-id-29\" type=\"checkbox\" ><label for=\"sk-estimator-id-29\" class=\"sk-toggleable__label sk-toggleable__label-arrow\">RandomizedSearchCV</label><div class=\"sk-toggleable__content\"><pre>RandomizedSearchCV(cv=3, estimator=RandomForestClassifier(), n_iter=25,\n",
              "                   n_jobs=-1,\n",
              "                   param_distributions={&#x27;bootstrap&#x27;: [True, False],\n",
              "                                        &#x27;max_depth&#x27;: [10, 20, 30, 40, 50, 60,\n",
              "                                                      70, 80, 90, 100, 110,\n",
              "                                                      None],\n",
              "                                        &#x27;max_features&#x27;: [&#x27;auto&#x27;, &#x27;sqrt&#x27;],\n",
              "                                        &#x27;min_samples_leaf&#x27;: [1, 2, 4],\n",
              "                                        &#x27;min_samples_split&#x27;: [2, 5, 10],\n",
              "                                        &#x27;n_estimators&#x27;: [200, 400, 600, 800,\n",
              "                                                         1000, 1200, 1400, 1600,\n",
              "                                                         1800, 2000]},\n",
              "                   random_state=42, verbose=2)</pre></div></div></div><div class=\"sk-parallel\"><div class=\"sk-parallel-item\"><div class=\"sk-item\"><div class=\"sk-label-container\"><div class=\"sk-label sk-toggleable\"><input class=\"sk-toggleable__control sk-hidden--visually\" id=\"sk-estimator-id-30\" type=\"checkbox\" ><label for=\"sk-estimator-id-30\" class=\"sk-toggleable__label sk-toggleable__label-arrow\">estimator: RandomForestClassifier</label><div class=\"sk-toggleable__content\"><pre>RandomForestClassifier()</pre></div></div></div><div class=\"sk-serial\"><div class=\"sk-item\"><div class=\"sk-estimator sk-toggleable\"><input class=\"sk-toggleable__control sk-hidden--visually\" id=\"sk-estimator-id-31\" type=\"checkbox\" ><label for=\"sk-estimator-id-31\" class=\"sk-toggleable__label sk-toggleable__label-arrow\">RandomForestClassifier</label><div class=\"sk-toggleable__content\"><pre>RandomForestClassifier()</pre></div></div></div></div></div></div></div></div></div></div>"
            ]
          },
          "metadata": {},
          "execution_count": 173
        }
      ]
    },
    {
      "cell_type": "code",
      "source": [
        "rf_random.score(X_test[selected], y_test)"
      ],
      "metadata": {
        "id": "QSh0_GZIIlCi",
        "outputId": "6a66ce0a-467f-4e10-bc5e-3ddfafc48c7e",
        "colab": {
          "base_uri": "https://localhost:8080/"
        }
      },
      "execution_count": 174,
      "outputs": [
        {
          "output_type": "execute_result",
          "data": {
            "text/plain": [
              "0.813112283345893"
            ]
          },
          "metadata": {},
          "execution_count": 174
        }
      ]
    },
    {
      "cell_type": "markdown",
      "source": [
        "### Explanations"
      ],
      "metadata": {
        "id": "lwft3T4nBoOP"
      }
    },
    {
      "cell_type": "code",
      "source": [
        "!pip install dalex"
      ],
      "metadata": {
        "colab": {
          "base_uri": "https://localhost:8080/"
        },
        "id": "WG_ZF28NB08S",
        "outputId": "79321076-0952-4020-dab3-69e6ebaf0a03"
      },
      "execution_count": 127,
      "outputs": [
        {
          "output_type": "stream",
          "name": "stdout",
          "text": [
            "Collecting dalex\n",
            "  Downloading dalex-1.6.0.tar.gz (1.0 MB)\n",
            "\u001b[2K     \u001b[90m━━━━━━━━━━━━━━━━━━━━━━━━━━━━━━━━━━━━━━━━\u001b[0m \u001b[32m1.0/1.0 MB\u001b[0m \u001b[31m6.7 MB/s\u001b[0m eta \u001b[36m0:00:00\u001b[0m\n",
            "\u001b[?25h  Preparing metadata (setup.py) ... \u001b[?25l\u001b[?25hdone\n",
            "Requirement already satisfied: setuptools in /usr/local/lib/python3.10/dist-packages (from dalex) (67.7.2)\n",
            "Requirement already satisfied: pandas>=1.2.5 in /usr/local/lib/python3.10/dist-packages (from dalex) (1.5.3)\n",
            "Requirement already satisfied: numpy>=1.20.3 in /usr/local/lib/python3.10/dist-packages (from dalex) (1.23.5)\n",
            "Requirement already satisfied: scipy>=1.6.3 in /usr/local/lib/python3.10/dist-packages (from dalex) (1.8.0)\n",
            "Requirement already satisfied: plotly>=5.1.0 in /usr/local/lib/python3.10/dist-packages (from dalex) (5.15.0)\n",
            "Requirement already satisfied: tqdm>=4.61.2 in /usr/local/lib/python3.10/dist-packages (from dalex) (4.66.1)\n",
            "Requirement already satisfied: python-dateutil>=2.8.1 in /usr/local/lib/python3.10/dist-packages (from pandas>=1.2.5->dalex) (2.8.2)\n",
            "Requirement already satisfied: pytz>=2020.1 in /usr/local/lib/python3.10/dist-packages (from pandas>=1.2.5->dalex) (2023.3.post1)\n",
            "Requirement already satisfied: tenacity>=6.2.0 in /usr/local/lib/python3.10/dist-packages (from plotly>=5.1.0->dalex) (8.2.3)\n",
            "Requirement already satisfied: packaging in /usr/local/lib/python3.10/dist-packages (from plotly>=5.1.0->dalex) (23.2)\n",
            "Requirement already satisfied: six>=1.5 in /usr/local/lib/python3.10/dist-packages (from python-dateutil>=2.8.1->pandas>=1.2.5->dalex) (1.16.0)\n",
            "Building wheels for collected packages: dalex\n",
            "  Building wheel for dalex (setup.py) ... \u001b[?25l\u001b[?25hdone\n",
            "  Created wheel for dalex: filename=dalex-1.6.0-py3-none-any.whl size=1045994 sha256=c240f3bc6fc661cde961962194a15770d7f60e79c58488d7d522bac611ca0781\n",
            "  Stored in directory: /root/.cache/pip/wheels/c8/45/19/f5810bf7c5ff9a476ebd89bb5b81a18ffcdf93931d17dbb0c1\n",
            "Successfully built dalex\n",
            "Installing collected packages: dalex\n",
            "Successfully installed dalex-1.6.0\n"
          ]
        }
      ]
    },
    {
      "cell_type": "code",
      "source": [
        "import dalex as dx"
      ],
      "metadata": {
        "id": "AoWvSlrDBq0_"
      },
      "execution_count": 128,
      "outputs": []
    },
    {
      "cell_type": "code",
      "source": [
        "exp = dx.Explainer(rf_random, X_train[selected], y_train)"
      ],
      "metadata": {
        "colab": {
          "base_uri": "https://localhost:8080/"
        },
        "id": "lHzhKaePB6-E",
        "outputId": "0899303d-a905-498a-e141-c13652acc85f"
      },
      "execution_count": 178,
      "outputs": [
        {
          "output_type": "stream",
          "name": "stdout",
          "text": [
            "Preparation of a new explainer is initiated\n",
            "\n",
            "  -> data              : 5307 rows 42 cols\n",
            "  -> target variable   : Parameter 'y' was a pandas.Series. Converted to a numpy.ndarray.\n",
            "  -> target variable   : 5307 values\n",
            "  -> target variable   : Please note that 'y' is a string array.\n",
            "  -> target variable   : 'y' should be a numeric or boolean array.\n",
            "  -> target variable   : Otherwise an Error may occur in calculating residuals or loss.\n",
            "  -> model_class       : sklearn.model_selection._search.RandomizedSearchCV (default)\n",
            "  -> label             : Not specified, model's class short name will be used. (default)\n",
            "  -> predict function  : <function yhat_proba_default at 0x7d7eabc78a60> will be used (default)\n",
            "  -> predict function  : Accepts pandas.DataFrame and numpy.ndarray.\n",
            "  -> predicted values  : min = 0.0512, mean = 0.649, max = 1.0\n",
            "  -> model type        : classification will be used (default)\n",
            "  -> residual function : difference between y and yhat (default)\n"
          ]
        },
        {
          "output_type": "stream",
          "name": "stderr",
          "text": [
            "/usr/local/lib/python3.10/dist-packages/sklearn/base.py:439: UserWarning:\n",
            "\n",
            "X does not have valid feature names, but RandomForestClassifier was fitted with feature names\n",
            "\n"
          ]
        },
        {
          "output_type": "stream",
          "name": "stdout",
          "text": [
            "  -> residuals         :  'residual_function' returns an Error when executed:\n",
            "unsupported operand type(s) for -: 'str' and 'float'\n",
            "  -> model_info        : package sklearn\n",
            "\n",
            "A new explainer has been created!\n"
          ]
        }
      ]
    },
    {
      "cell_type": "markdown",
      "source": [
        "### Trajectories embeddings"
      ],
      "metadata": {
        "id": "Qhv5cJ2F_qow"
      }
    },
    {
      "cell_type": "code",
      "source": [
        "from keras import metrics\n",
        "import keras\n",
        "import tensorflow as tf"
      ],
      "metadata": {
        "id": "XZLJlC1aqdPt"
      },
      "execution_count": null,
      "outputs": []
    },
    {
      "cell_type": "code",
      "source": [
        "def build_net(seq_len=25, feats=4):\n",
        "    model = keras.Sequential()\n",
        "    model.add(keras.layers.LSTM(32, kernel_initializer='he_uniform', batch_input_shape=(None, seq_len, feats), return_sequences=True, name='encoder_1'))\n",
        "    model.add(keras.layers.LSTM(16, kernel_initializer='he_uniform', return_sequences=True, name='encoder_2'))\n",
        "    model.add(keras.layers.LSTM(8, kernel_initializer='he_uniform', return_sequences=False, name='encoder_3'))\n",
        "    model.add(keras.layers.RepeatVector(seq_len, name='encoder_decoder_bridge'))\n",
        "    model.add(keras.layers.LSTM(8, kernel_initializer='he_uniform', return_sequences=True, name='decoder_1'))\n",
        "    model.add(keras.layers.LSTM(16, kernel_initializer='he_uniform', return_sequences=True, name='decoder_2'))\n",
        "    model.add(keras.layers.LSTM(32, kernel_initializer='he_uniform', return_sequences=True, name='decoder_3'))\n",
        "    model.add(keras.layers.TimeDistributed(keras.layers.Dense(feats)))\n",
        "    return model\n"
      ],
      "metadata": {
        "id": "TMzOljP5qiau"
      },
      "execution_count": null,
      "outputs": []
    },
    {
      "cell_type": "code",
      "source": [
        "X, X_val = train_test_split(num_actions, test_size=0.2)"
      ],
      "metadata": {
        "id": "koOvnSeK0RsU"
      },
      "execution_count": null,
      "outputs": []
    },
    {
      "cell_type": "code",
      "source": [
        "early_stop = tf.keras.callbacks.EarlyStopping(\n",
        "    monitor='val_loss', min_delta=1e-3, patience=5, verbose=0, mode='auto',\n",
        "    baseline=None, restore_best_weights=True)\n",
        "\n",
        "opt = keras.optimizers.Adam(learning_rate=0.1)\n",
        "emb_nn = build_net(feats=len(feat.descriptors))\n",
        "emb_nn.compile(loss=\"mse\",optimizer=opt)\n",
        "emb_nn.build()\n",
        "\n",
        "epochs = 500\n",
        "batch_size = 64\n",
        "hist = emb_nn.fit(x=X, y=X, validation_data=(X_val, X_val), epochs=epochs, batch_size=batch_size, shuffle=True, callbacks=[early_stop])"
      ],
      "metadata": {
        "colab": {
          "base_uri": "https://localhost:8080/"
        },
        "id": "RKySIPIJil5l",
        "outputId": "f23a6aaa-9a65-400b-c2f0-128e7205d1b2"
      },
      "execution_count": null,
      "outputs": [
        {
          "output_type": "stream",
          "name": "stdout",
          "text": [
            "Epoch 1/500\n",
            "13/13 [==============================] - 20s 808ms/step - loss: 6593.8066 - val_loss: 6299.6133\n",
            "Epoch 2/500\n",
            "13/13 [==============================] - 0s 21ms/step - loss: 5939.2173 - val_loss: 5615.9473\n",
            "Epoch 3/500\n",
            "13/13 [==============================] - 0s 21ms/step - loss: 5301.4556 - val_loss: 5015.1113\n",
            "Epoch 4/500\n",
            "13/13 [==============================] - 0s 21ms/step - loss: 4768.2939 - val_loss: 4513.9429\n",
            "Epoch 5/500\n",
            "13/13 [==============================] - 0s 21ms/step - loss: 4316.3999 - val_loss: 4101.1816\n",
            "Epoch 6/500\n",
            "13/13 [==============================] - 0s 21ms/step - loss: 3948.2529 - val_loss: 3741.6028\n",
            "Epoch 7/500\n",
            "13/13 [==============================] - 0s 22ms/step - loss: 3615.7646 - val_loss: 3399.1270\n",
            "Epoch 8/500\n",
            "13/13 [==============================] - 0s 29ms/step - loss: 3281.6169 - val_loss: 3054.4797\n",
            "Epoch 9/500\n",
            "13/13 [==============================] - 0s 30ms/step - loss: 2974.6907 - val_loss: 2767.4978\n",
            "Epoch 10/500\n",
            "13/13 [==============================] - 0s 30ms/step - loss: 2723.1846 - val_loss: 2531.3743\n",
            "Epoch 11/500\n",
            "13/13 [==============================] - 0s 29ms/step - loss: 2522.5757 - val_loss: 2344.9751\n",
            "Epoch 12/500\n",
            "13/13 [==============================] - 0s 24ms/step - loss: 2363.9231 - val_loss: 2262.9141\n",
            "Epoch 13/500\n",
            "13/13 [==============================] - 0s 23ms/step - loss: 2247.3088 - val_loss: 2077.0337\n",
            "Epoch 14/500\n",
            "13/13 [==============================] - 0s 21ms/step - loss: 2139.7173 - val_loss: 1980.9465\n",
            "Epoch 15/500\n",
            "13/13 [==============================] - 0s 21ms/step - loss: 2056.6670 - val_loss: 1899.2478\n",
            "Epoch 16/500\n",
            "13/13 [==============================] - 0s 21ms/step - loss: 2023.2345 - val_loss: 1932.9806\n",
            "Epoch 17/500\n",
            "13/13 [==============================] - 0s 20ms/step - loss: 2039.9274 - val_loss: 1975.5350\n",
            "Epoch 18/500\n",
            "13/13 [==============================] - 0s 21ms/step - loss: 2048.2163 - val_loss: 1895.9498\n",
            "Epoch 19/500\n",
            "13/13 [==============================] - 0s 21ms/step - loss: 2013.2070 - val_loss: 1941.8501\n",
            "Epoch 20/500\n",
            "13/13 [==============================] - 0s 22ms/step - loss: 2015.7595 - val_loss: 1861.7395\n",
            "Epoch 21/500\n",
            "13/13 [==============================] - 0s 22ms/step - loss: 1948.5175 - val_loss: 1792.4320\n",
            "Epoch 22/500\n",
            "13/13 [==============================] - 0s 21ms/step - loss: 1941.1503 - val_loss: 1851.3285\n",
            "Epoch 23/500\n",
            "13/13 [==============================] - 0s 23ms/step - loss: 1937.1711 - val_loss: 1780.7432\n",
            "Epoch 24/500\n",
            "13/13 [==============================] - 0s 22ms/step - loss: 1880.3503 - val_loss: 1727.2633\n",
            "Epoch 25/500\n",
            "13/13 [==============================] - 0s 21ms/step - loss: 1918.1461 - val_loss: 1789.7356\n",
            "Epoch 26/500\n",
            "13/13 [==============================] - 0s 21ms/step - loss: 1888.8925 - val_loss: 1734.2699\n",
            "Epoch 27/500\n",
            "13/13 [==============================] - 0s 22ms/step - loss: 1847.8840 - val_loss: 1687.0663\n",
            "Epoch 28/500\n",
            "13/13 [==============================] - 0s 23ms/step - loss: 1798.7206 - val_loss: 1640.8953\n",
            "Epoch 29/500\n",
            "13/13 [==============================] - 0s 23ms/step - loss: 1827.3406 - val_loss: 1661.1736\n",
            "Epoch 30/500\n",
            "13/13 [==============================] - 0s 21ms/step - loss: 1943.0161 - val_loss: 1775.8041\n",
            "Epoch 31/500\n",
            "13/13 [==============================] - 0s 20ms/step - loss: 1868.6469 - val_loss: 1718.7976\n",
            "Epoch 32/500\n",
            "13/13 [==============================] - 0s 22ms/step - loss: 1815.7952 - val_loss: 1666.1047\n",
            "Epoch 33/500\n",
            "13/13 [==============================] - 0s 22ms/step - loss: 1780.2742 - val_loss: 1621.2970\n",
            "Epoch 34/500\n",
            "13/13 [==============================] - 0s 21ms/step - loss: 1760.6179 - val_loss: 1604.4475\n",
            "Epoch 35/500\n",
            "13/13 [==============================] - 0s 21ms/step - loss: 1832.1440 - val_loss: 1942.8931\n",
            "Epoch 36/500\n",
            "13/13 [==============================] - 0s 21ms/step - loss: 2045.3549 - val_loss: 1860.5444\n",
            "Epoch 37/500\n",
            "13/13 [==============================] - 0s 21ms/step - loss: 1955.5535 - val_loss: 1783.5144\n",
            "Epoch 38/500\n",
            "13/13 [==============================] - 0s 20ms/step - loss: 1875.9656 - val_loss: 1723.6614\n",
            "Epoch 39/500\n",
            "13/13 [==============================] - 0s 22ms/step - loss: 1828.2289 - val_loss: 1678.7701\n"
          ]
        }
      ]
    },
    {
      "cell_type": "code",
      "source": [
        "plt.plot(range(len(hist.history[\"loss\"])), hist.history[\"loss\"])\n",
        "plt.plot(range(len(hist.history[\"val_loss\"])), hist.history[\"val_loss\"])\n",
        "plt.show()"
      ],
      "metadata": {
        "colab": {
          "base_uri": "https://localhost:8080/",
          "height": 430
        },
        "id": "TXBbckdwCP58",
        "outputId": "35723ea0-e962-44ef-80df-6ec2fec3ceb6"
      },
      "execution_count": null,
      "outputs": [
        {
          "output_type": "display_data",
          "data": {
            "text/plain": [
              "<Figure size 640x480 with 1 Axes>"
            ],
            "image/png": "[encoded data removed]"
          },
          "metadata": {}
        }
      ]
    },
    {
      "cell_type": "code",
      "source": [
        "from keras.models import Model\n",
        "from sklearn.manifold import TSNE\n",
        "from sklearn.decomposition import PCA"
      ],
      "metadata": {
        "id": "zqj97UH32vHV"
      },
      "execution_count": null,
      "outputs": []
    },
    {
      "cell_type": "code",
      "source": [
        "encoder = Model(emb_nn.input, emb_nn.layers[2].output)"
      ],
      "metadata": {
        "id": "xfzouOKE0oEz"
      },
      "execution_count": null,
      "outputs": []
    },
    {
      "cell_type": "code",
      "source": [
        "embeddings = encoder.predict(num_actions)"
      ],
      "metadata": {
        "colab": {
          "base_uri": "https://localhost:8080/"
        },
        "id": "X4p83ynd3Sz2",
        "outputId": "7939e60d-b1aa-4fc6-edbe-a2ce7a52b111"
      },
      "execution_count": null,
      "outputs": [
        {
          "output_type": "stream",
          "name": "stdout",
          "text": [
            "32/32 [==============================] - 1s 5ms/step\n"
          ]
        }
      ]
    },
    {
      "cell_type": "code",
      "source": [
        "enb_reduce = TSNE(n_components=2).fit_transform(embeddings)"
      ],
      "metadata": {
        "id": "WNhJRFdO34p-"
      },
      "execution_count": null,
      "outputs": []
    },
    {
      "cell_type": "code",
      "source": [
        "enb_reduce.shape"
      ],
      "metadata": {
        "colab": {
          "base_uri": "https://localhost:8080/"
        },
        "id": "OkCUz7nTG19B",
        "outputId": "67317491-d49e-47b3-c24a-49e5e56e4caa"
      },
      "execution_count": null,
      "outputs": [
        {
          "output_type": "execute_result",
          "data": {
            "text/plain": [
              "(1000, 2)"
            ]
          },
          "metadata": {},
          "execution_count": 311
        }
      ]
    },
    {
      "cell_type": "code",
      "source": [
        "sum(np.array(rew)>6.5)"
      ],
      "metadata": {
        "colab": {
          "base_uri": "https://localhost:8080/"
        },
        "id": "_GgsGZC_ZEH-",
        "outputId": "c0d692fa-b4ae-494c-9964-0447069aed11"
      },
      "execution_count": null,
      "outputs": [
        {
          "output_type": "execute_result",
          "data": {
            "text/plain": [
              "56"
            ]
          },
          "metadata": {},
          "execution_count": 312
        }
      ]
    },
    {
      "cell_type": "code",
      "source": [
        "def plt_reduce_space(x, color=rew):\n",
        "    '''\n",
        "    Plot Scatter with color\n",
        "    '''\n",
        "    plt.figure(figsize=(8, 8))\n",
        "    plt.scatter(x[:, 0], x[:, 1], c=color, cmap='coolwarm')\n",
        "    plt.show()"
      ],
      "metadata": {
        "id": "gSiHwzZG3a0c"
      },
      "execution_count": null,
      "outputs": []
    },
    {
      "cell_type": "code",
      "source": [
        "def plt_best(x, rew, t=6.5):\n",
        "    '''\n",
        "    Plot Scatter with color\n",
        "    '''\n",
        "    filter = np.array(rew)>t\n",
        "    plt.figure(figsize=(8, 8))\n",
        "    plt.scatter(x[~filter, 0], x[~filter, 1], c=\"lightblue\")\n",
        "    plt.scatter(x[filter, 0], x[filter, 1], c=\"red\")\n",
        "    plt.show()"
      ],
      "metadata": {
        "id": "tvwcl4wzZntP"
      },
      "execution_count": null,
      "outputs": []
    },
    {
      "cell_type": "code",
      "source": [
        "plt_reduce_space(enb_reduce)"
      ],
      "metadata": {
        "colab": {
          "base_uri": "https://localhost:8080/",
          "height": 676
        },
        "id": "T03fT6Le3-yk",
        "outputId": "a5494a82-60fe-4716-a33b-18542964bc89"
      },
      "execution_count": null,
      "outputs": [
        {
          "output_type": "display_data",
          "data": {
            "text/plain": [
              "<Figure size 800x800 with 1 Axes>"
            ],
            "image/png": "[encoded data removed]"
          },
          "metadata": {}
        }
      ]
    },
    {
      "cell_type": "code",
      "source": [
        "plt_best(enb_reduce, rew)"
      ],
      "metadata": {
        "colab": {
          "base_uri": "https://localhost:8080/",
          "height": 676
        },
        "id": "FyLRJqHRwz_s",
        "outputId": "46db772f-adba-4f7d-897c-f66dcbb3dbec"
      },
      "execution_count": null,
      "outputs": [
        {
          "output_type": "display_data",
          "data": {
            "text/plain": [
              "<Figure size 800x800 with 1 Axes>"
            ],
            "image/png": "[encoded data removed]"
          },
          "metadata": {}
        }
      ]
    },
    {
      "cell_type": "code",
      "source": [
        "from sklearn.cluster import KMeans\n",
        "km = KMeans(n_clusters=12)\n",
        "km.fit(enb_reduce)"
      ],
      "metadata": {
        "colab": {
          "base_uri": "https://localhost:8080/",
          "height": 109
        },
        "id": "BM0LMVB6TAb9",
        "outputId": "b3198168-b32b-412f-82d8-c35e7bc71cac"
      },
      "execution_count": null,
      "outputs": [
        {
          "output_type": "stream",
          "name": "stderr",
          "text": [
            "/usr/local/lib/python3.10/dist-packages/sklearn/cluster/_kmeans.py:870: FutureWarning: The default value of `n_init` will change from 10 to 'auto' in 1.4. Set the value of `n_init` explicitly to suppress the warning\n",
            "  warnings.warn(\n"
          ]
        },
        {
          "output_type": "execute_result",
          "data": {
            "text/plain": [
              "KMeans(n_clusters=12)"
            ],
            "text/html": [
              "<style>#sk-container-id-4 {color: black;background-color: white;}#sk-container-id-4 pre{padding: 0;}#sk-container-id-4 div.sk-toggleable {background-color: white;}#sk-container-id-4 label.sk-toggleable__label {cursor: pointer;display: block;width: 100%;margin-bottom: 0;padding: 0.3em;box-sizing: border-box;text-align: center;}#sk-container-id-4 label.sk-toggleable__label-arrow:before {content: \"▸\";float: left;margin-right: 0.25em;color: #696969;}#sk-container-id-4 label.sk-toggleable__label-arrow:hover:before {color: black;}#sk-container-id-4 div.sk-estimator:hover label.sk-toggleable__label-arrow:before {color: black;}#sk-container-id-4 div.sk-toggleable__content {max-height: 0;max-width: 0;overflow: hidden;text-align: left;background-color: #f0f8ff;}#sk-container-id-4 div.sk-toggleable__content pre {margin: 0.2em;color: black;border-radius: 0.25em;background-color: #f0f8ff;}#sk-container-id-4 input.sk-toggleable__control:checked~div.sk-toggleable__content {max-height: 200px;max-width: 100%;overflow: auto;}#sk-container-id-4 input.sk-toggleable__control:checked~label.sk-toggleable__label-arrow:before {content: \"▾\";}#sk-container-id-4 div.sk-estimator input.sk-toggleable__control:checked~label.sk-toggleable__label {background-color: #d4ebff;}#sk-container-id-4 div.sk-label input.sk-toggleable__control:checked~label.sk-toggleable__label {background-color: #d4ebff;}#sk-container-id-4 input.sk-hidden--visually {border: 0;clip: rect(1px 1px 1px 1px);clip: rect(1px, 1px, 1px, 1px);height: 1px;margin: -1px;overflow: hidden;padding: 0;position: absolute;width: 1px;}#sk-container-id-4 div.sk-estimator {font-family: monospace;background-color: #f0f8ff;border: 1px dotted black;border-radius: 0.25em;box-sizing: border-box;margin-bottom: 0.5em;}#sk-container-id-4 div.sk-estimator:hover {background-color: #d4ebff;}#sk-container-id-4 div.sk-parallel-item::after {content: \"\";width: 100%;border-bottom: 1px solid gray;flex-grow: 1;}#sk-container-id-4 div.sk-label:hover label.sk-toggleable__label {background-color: #d4ebff;}#sk-container-id-4 div.sk-serial::before {content: \"\";position: absolute;border-left: 1px solid gray;box-sizing: border-box;top: 0;bottom: 0;left: 50%;z-index: 0;}#sk-container-id-4 div.sk-serial {display: flex;flex-direction: column;align-items: center;background-color: white;padding-right: 0.2em;padding-left: 0.2em;position: relative;}#sk-container-id-4 div.sk-item {position: relative;z-index: 1;}#sk-container-id-4 div.sk-parallel {display: flex;align-items: stretch;justify-content: center;background-color: white;position: relative;}#sk-container-id-4 div.sk-item::before, #sk-container-id-4 div.sk-parallel-item::before {content: \"\";position: absolute;border-left: 1px solid gray;box-sizing: border-box;top: 0;bottom: 0;left: 50%;z-index: -1;}#sk-container-id-4 div.sk-parallel-item {display: flex;flex-direction: column;z-index: 1;position: relative;background-color: white;}#sk-container-id-4 div.sk-parallel-item:first-child::after {align-self: flex-end;width: 50%;}#sk-container-id-4 div.sk-parallel-item:last-child::after {align-self: flex-start;width: 50%;}#sk-container-id-4 div.sk-parallel-item:only-child::after {width: 0;}#sk-container-id-4 div.sk-dashed-wrapped {border: 1px dashed gray;margin: 0 0.4em 0.5em 0.4em;box-sizing: border-box;padding-bottom: 0.4em;background-color: white;}#sk-container-id-4 div.sk-label label {font-family: monospace;font-weight: bold;display: inline-block;line-height: 1.2em;}#sk-container-id-4 div.sk-label-container {text-align: center;}#sk-container-id-4 div.sk-container {/* jupyter's `normalize.less` sets `[hidden] { display: none; }` but bootstrap.min.css set `[hidden] { display: none !important; }` so we also need the `!important` here to be able to override the default hidden behavior on the sphinx rendered scikit-learn.org. See: https://github.com/scikit-learn/scikit-learn/issues/21755 */display: inline-block !important;position: relative;}#sk-container-id-4 div.sk-text-repr-fallback {display: none;}</style><div id=\"sk-container-id-4\" class=\"sk-top-container\"><div class=\"sk-text-repr-fallback\"><pre>KMeans(n_clusters=12)</pre><b>In a Jupyter environment, please rerun this cell to show the HTML representation or trust the notebook. <br />On GitHub, the HTML representation is unable to render, please try loading this page with nbviewer.org.</b></div><div class=\"sk-container\" hidden><div class=\"sk-item\"><div class=\"sk-estimator sk-toggleable\"><input class=\"sk-toggleable__control sk-hidden--visually\" id=\"sk-estimator-id-4\" type=\"checkbox\" checked><label for=\"sk-estimator-id-4\" class=\"sk-toggleable__label sk-toggleable__label-arrow\">KMeans</label><div class=\"sk-toggleable__content\"><pre>KMeans(n_clusters=12)</pre></div></div></div></div></div>"
            ]
          },
          "metadata": {},
          "execution_count": 320
        }
      ]
    },
    {
      "cell_type": "code",
      "source": [
        "df_cluster = pd.DataFrame(enb_reduce)\n",
        "df_cluster[\"label\"] = km.labels_\n",
        "df_cluster[\"reward\"] = rew"
      ],
      "metadata": {
        "id": "MqfutxmPWKj3"
      },
      "execution_count": null,
      "outputs": []
    },
    {
      "cell_type": "code",
      "source": [
        "for l in np.unique(km.labels_):\n",
        "    plt.scatter(df_cluster[df_cluster[\"label\"] == l].iloc[:, 0], df_cluster[df_cluster[\"label\"] == l].iloc[:, 1], label = l)\n",
        "plt.show()"
      ],
      "metadata": {
        "colab": {
          "base_uri": "https://localhost:8080/",
          "height": 430
        },
        "id": "6JvxlYR6TcRb",
        "outputId": "67f76e4f-89b2-4e52-85ad-e3eccae40166"
      },
      "execution_count": null,
      "outputs": [
        {
          "output_type": "display_data",
          "data": {
            "text/plain": [
              "<Figure size 640x480 with 1 Axes>"
            ],
            "image/png": "[encoded data removed]"
          },
          "metadata": {}
        }
      ]
    },
    {
      "cell_type": "code",
      "source": [
        "df_cluster.groupby(\"label\").count()"
      ],
      "metadata": {
        "colab": {
          "base_uri": "https://localhost:8080/",
          "height": 457
        },
        "id": "ppCukYecXsgZ",
        "outputId": "3ea25b29-12c5-4507-c88b-af341196198d"
      },
      "execution_count": null,
      "outputs": [
        {
          "output_type": "execute_result",
          "data": {
            "text/plain": [
              "         0    1  reward\n",
              "label                  \n",
              "0       70   70      70\n",
              "1      885  885     885\n",
              "2       15   15      15\n",
              "3       10   10      10\n",
              "4        1    1       1\n",
              "5        5    5       5\n",
              "6        5    5       5\n",
              "7        4    4       4\n",
              "8        1    1       1\n",
              "9        2    2       2\n",
              "10       1    1       1\n",
              "11       1    1       1"
            ],
            "text/html": [
              "\n",
              "  <div id=\"df-db76b66a-3a84-4d90-ba83-3b25db17f89b\" class=\"colab-df-container\">\n",
              "    <div>\n",
              "<style scoped>\n",
              "    .dataframe tbody tr th:only-of-type {\n",
              "        vertical-align: middle;\n",
              "    }\n",
              "\n",
              "    .dataframe tbody tr th {\n",
              "        vertical-align: top;\n",
              "    }\n",
              "\n",
              "    .dataframe thead th {\n",
              "        text-align: right;\n",
              "    }\n",
              "</style>\n",
              "<table border=\"1\" class=\"dataframe\">\n",
              "  <thead>\n",
              "    <tr style=\"text-align: right;\">\n",
              "      <th></th>\n",
              "      <th>0</th>\n",
              "      <th>1</th>\n",
              "      <th>reward</th>\n",
              "    </tr>\n",
              "    <tr>\n",
              "      <th>label</th>\n",
              "      <th></th>\n",
              "      <th></th>\n",
              "      <th></th>\n",
              "    </tr>\n",
              "  </thead>\n",
              "  <tbody>\n",
              "    <tr>\n",
              "      <th>0</th>\n",
              "      <td>70</td>\n",
              "      <td>70</td>\n",
              "      <td>70</td>\n",
              "    </tr>\n",
              "    <tr>\n",
              "      <th>1</th>\n",
              "      <td>885</td>\n",
              "      <td>885</td>\n",
              "      <td>885</td>\n",
              "    </tr>\n",
              "    <tr>\n",
              "      <th>2</th>\n",
              "      <td>15</td>\n",
              "      <td>15</td>\n",
              "      <td>15</td>\n",
              "    </tr>\n",
              "    <tr>\n",
              "      <th>3</th>\n",
              "      <td>10</td>\n",
              "      <td>10</td>\n",
              "      <td>10</td>\n",
              "    </tr>\n",
              "    <tr>\n",
              "      <th>4</th>\n",
              "      <td>1</td>\n",
              "      <td>1</td>\n",
              "      <td>1</td>\n",
              "    </tr>\n",
              "    <tr>\n",
              "      <th>5</th>\n",
              "      <td>5</td>\n",
              "      <td>5</td>\n",
              "      <td>5</td>\n",
              "    </tr>\n",
              "    <tr>\n",
              "      <th>6</th>\n",
              "      <td>5</td>\n",
              "      <td>5</td>\n",
              "      <td>5</td>\n",
              "    </tr>\n",
              "    <tr>\n",
              "      <th>7</th>\n",
              "      <td>4</td>\n",
              "      <td>4</td>\n",
              "      <td>4</td>\n",
              "    </tr>\n",
              "    <tr>\n",
              "      <th>8</th>\n",
              "      <td>1</td>\n",
              "      <td>1</td>\n",
              "      <td>1</td>\n",
              "    </tr>\n",
              "    <tr>\n",
              "      <th>9</th>\n",
              "      <td>2</td>\n",
              "      <td>2</td>\n",
              "      <td>2</td>\n",
              "    </tr>\n",
              "    <tr>\n",
              "      <th>10</th>\n",
              "      <td>1</td>\n",
              "      <td>1</td>\n",
              "      <td>1</td>\n",
              "    </tr>\n",
              "    <tr>\n",
              "      <th>11</th>\n",
              "      <td>1</td>\n",
              "      <td>1</td>\n",
              "      <td>1</td>\n",
              "    </tr>\n",
              "  </tbody>\n",
              "</table>\n",
              "</div>\n",
              "    <div class=\"colab-df-buttons\">\n",
              "\n",
              "  <div class=\"colab-df-container\">\n",
              "    <button class=\"colab-df-convert\" onclick=\"convertToInteractive('df-db76b66a-3a84-4d90-ba83-3b25db17f89b')\"\n",
              "            title=\"Convert this dataframe to an interactive table.\"\n",
              "            style=\"display:none;\">\n",
              "\n",
              "  <svg xmlns=\"http://www.w3.org/2000/svg\" height=\"24px\" viewBox=\"0 -960 960 960\">\n",
              "    <path d=\"M120-120v-720h720v720H120Zm60-500h600v-160H180v160Zm220 220h160v-160H400v160Zm0 220h160v-160H400v160ZM180-400h160v-160H180v160Zm440 0h160v-160H620v160ZM180-180h160v-160H180v160Zm440 0h160v-160H620v160Z\"/>\n",
              "  </svg>\n",
              "    </button>\n",
              "\n",
              "  <style>\n",
              "    .colab-df-container {\n",
              "      display:flex;\n",
              "      gap: 12px;\n",
              "    }\n",
              "\n",
              "    .colab-df-convert {\n",
              "      background-color: #E8F0FE;\n",
              "      border: none;\n",
              "      border-radius: 50%;\n",
              "      cursor: pointer;\n",
              "      display: none;\n",
              "      fill: #1967D2;\n",
              "      height: 32px;\n",
              "      padding: 0 0 0 0;\n",
              "      width: 32px;\n",
              "    }\n",
              "\n",
              "    .colab-df-convert:hover {\n",
              "      background-color: #E2EBFA;\n",
              "      box-shadow: 0px 1px 2px rgba(60, 64, 67, 0.3), 0px 1px 3px 1px rgba(60, 64, 67, 0.15);\n",
              "      fill: #174EA6;\n",
              "    }\n",
              "\n",
              "    .colab-df-buttons div {\n",
              "      margin-bottom: 4px;\n",
              "    }\n",
              "\n",
              "    [theme=dark] .colab-df-convert {\n",
              "      background-color: #3B4455;\n",
              "      fill: #D2E3FC;\n",
              "    }\n",
              "\n",
              "    [theme=dark] .colab-df-convert:hover {\n",
              "      background-color: #434B5C;\n",
              "      box-shadow: 0px 1px 3px 1px rgba(0, 0, 0, 0.15);\n",
              "      filter: drop-shadow(0px 1px 2px rgba(0, 0, 0, 0.3));\n",
              "      fill: #FFFFFF;\n",
              "    }\n",
              "  </style>\n",
              "\n",
              "    <script>\n",
              "      const buttonEl =\n",
              "        document.querySelector('#df-db76b66a-3a84-4d90-ba83-3b25db17f89b button.colab-df-convert');\n",
              "      buttonEl.style.display =\n",
              "        google.colab.kernel.accessAllowed ? 'block' : 'none';\n",
              "\n",
              "      async function convertToInteractive(key) {\n",
              "        const element = document.querySelector('#df-db76b66a-3a84-4d90-ba83-3b25db17f89b');\n",
              "        const dataTable =\n",
              "          await google.colab.kernel.invokeFunction('convertToInteractive',\n",
              "                                                    [key], {});\n",
              "        if (!dataTable) return;\n",
              "\n",
              "        const docLinkHtml = 'Like what you see? Visit the ' +\n",
              "          '<a target=\"_blank\" href=https://colab.research.google.com/notebooks/data_table.ipynb>data table notebook</a>'\n",
              "          + ' to learn more about interactive tables.';\n",
              "        element.innerHTML = '';\n",
              "        dataTable['output_type'] = 'display_data';\n",
              "        await google.colab.output.renderOutput(dataTable, element);\n",
              "        const docLink = document.createElement('div');\n",
              "        docLink.innerHTML = docLinkHtml;\n",
              "        element.appendChild(docLink);\n",
              "      }\n",
              "    </script>\n",
              "  </div>\n",
              "\n",
              "\n",
              "<div id=\"df-360a9eb1-b315-4472-bb2d-e11515432e6b\">\n",
              "  <button class=\"colab-df-quickchart\" onclick=\"quickchart('df-360a9eb1-b315-4472-bb2d-e11515432e6b')\"\n",
              "            title=\"Suggest charts\"\n",
              "            style=\"display:none;\">\n",
              "\n",
              "<svg xmlns=\"http://www.w3.org/2000/svg\" height=\"24px\"viewBox=\"0 0 24 24\"\n",
              "     width=\"24px\">\n",
              "    <g>\n",
              "        <path d=\"M19 3H5c-1.1 0-2 .9-2 2v14c0 1.1.9 2 2 2h14c1.1 0 2-.9 2-2V5c0-1.1-.9-2-2-2zM9 17H7v-7h2v7zm4 0h-2V7h2v10zm4 0h-2v-4h2v4z\"/>\n",
              "    </g>\n",
              "</svg>\n",
              "  </button>\n",
              "\n",
              "<style>\n",
              "  .colab-df-quickchart {\n",
              "      --bg-color: #E8F0FE;\n",
              "      --fill-color: #1967D2;\n",
              "      --hover-bg-color: #E2EBFA;\n",
              "      --hover-fill-color: #174EA6;\n",
              "      --disabled-fill-color: #AAA;\n",
              "      --disabled-bg-color: #DDD;\n",
              "  }\n",
              "\n",
              "  [theme=dark] .colab-df-quickchart {\n",
              "      --bg-color: #3B4455;\n",
              "      --fill-color: #D2E3FC;\n",
              "      --hover-bg-color: #434B5C;\n",
              "      --hover-fill-color: #FFFFFF;\n",
              "      --disabled-bg-color: #3B4455;\n",
              "      --disabled-fill-color: #666;\n",
              "  }\n",
              "\n",
              "  .colab-df-quickchart {\n",
              "    background-color: var(--bg-color);\n",
              "    border: none;\n",
              "    border-radius: 50%;\n",
              "    cursor: pointer;\n",
              "    display: none;\n",
              "    fill: var(--fill-color);\n",
              "    height: 32px;\n",
              "    padding: 0;\n",
              "    width: 32px;\n",
              "  }\n",
              "\n",
              "  .colab-df-quickchart:hover {\n",
              "    background-color: var(--hover-bg-color);\n",
              "    box-shadow: 0 1px 2px rgba(60, 64, 67, 0.3), 0 1px 3px 1px rgba(60, 64, 67, 0.15);\n",
              "    fill: var(--button-hover-fill-color);\n",
              "  }\n",
              "\n",
              "  .colab-df-quickchart-complete:disabled,\n",
              "  .colab-df-quickchart-complete:disabled:hover {\n",
              "    background-color: var(--disabled-bg-color);\n",
              "    fill: var(--disabled-fill-color);\n",
              "    box-shadow: none;\n",
              "  }\n",
              "\n",
              "  .colab-df-spinner {\n",
              "    border: 2px solid var(--fill-color);\n",
              "    border-color: transparent;\n",
              "    border-bottom-color: var(--fill-color);\n",
              "    animation:\n",
              "      spin 1s steps(1) infinite;\n",
              "  }\n",
              "\n",
              "  @keyframes spin {\n",
              "    0% {\n",
              "      border-color: transparent;\n",
              "      border-bottom-color: var(--fill-color);\n",
              "      border-left-color: var(--fill-color);\n",
              "    }\n",
              "    20% {\n",
              "      border-color: transparent;\n",
              "      border-left-color: var(--fill-color);\n",
              "      border-top-color: var(--fill-color);\n",
              "    }\n",
              "    30% {\n",
              "      border-color: transparent;\n",
              "      border-left-color: var(--fill-color);\n",
              "      border-top-color: var(--fill-color);\n",
              "      border-right-color: var(--fill-color);\n",
              "    }\n",
              "    40% {\n",
              "      border-color: transparent;\n",
              "      border-right-color: var(--fill-color);\n",
              "      border-top-color: var(--fill-color);\n",
              "    }\n",
              "    60% {\n",
              "      border-color: transparent;\n",
              "      border-right-color: var(--fill-color);\n",
              "    }\n",
              "    80% {\n",
              "      border-color: transparent;\n",
              "      border-right-color: var(--fill-color);\n",
              "      border-bottom-color: var(--fill-color);\n",
              "    }\n",
              "    90% {\n",
              "      border-color: transparent;\n",
              "      border-bottom-color: var(--fill-color);\n",
              "    }\n",
              "  }\n",
              "</style>\n",
              "\n",
              "  <script>\n",
              "    async function quickchart(key) {\n",
              "      const quickchartButtonEl =\n",
              "        document.querySelector('#' + key + ' button');\n",
              "      quickchartButtonEl.disabled = true;  // To prevent multiple clicks.\n",
              "      quickchartButtonEl.classList.add('colab-df-spinner');\n",
              "      try {\n",
              "        const charts = await google.colab.kernel.invokeFunction(\n",
              "            'suggestCharts', [key], {});\n",
              "      } catch (error) {\n",
              "        console.error('Error during call to suggestCharts:', error);\n",
              "      }\n",
              "      quickchartButtonEl.classList.remove('colab-df-spinner');\n",
              "      quickchartButtonEl.classList.add('colab-df-quickchart-complete');\n",
              "    }\n",
              "    (() => {\n",
              "      let quickchartButtonEl =\n",
              "        document.querySelector('#df-360a9eb1-b315-4472-bb2d-e11515432e6b button');\n",
              "      quickchartButtonEl.style.display =\n",
              "        google.colab.kernel.accessAllowed ? 'block' : 'none';\n",
              "    })();\n",
              "  </script>\n",
              "</div>\n",
              "    </div>\n",
              "  </div>\n"
            ]
          },
          "metadata": {},
          "execution_count": 323
        }
      ]
    },
    {
      "cell_type": "code",
      "source": [
        "df_cluster.groupby(\"label\").mean(\"reward\")"
      ],
      "metadata": {
        "colab": {
          "base_uri": "https://localhost:8080/",
          "height": 457
        },
        "id": "PPQR8wUEXY7T",
        "outputId": "7bb35584-32f0-4567-c0bd-12ee4a357437"
      },
      "execution_count": null,
      "outputs": [
        {
          "output_type": "execute_result",
          "data": {
            "text/plain": [
              "                0           1    reward\n",
              "label                                  \n",
              "0      252.483551  -18.330450  5.040743\n",
              "1       74.904922  105.160423  5.124342\n",
              "2      179.189499   36.089088  5.080852\n",
              "3      126.713135  234.708694  4.452455\n",
              "4      166.221664  -13.448226  5.046844\n",
              "5      182.625900  138.388443  5.818920\n",
              "6      241.245621   69.476471  5.377553\n",
              "7      170.078125  -52.034500  5.566677\n",
              "8      151.290176  -26.536985  3.496760\n",
              "9      147.906494   -5.478911  5.211520\n",
              "10     220.714508   70.731430  4.974871\n",
              "11     168.871658  -32.479511  5.171942"
            ],
            "text/html": [
              "\n",
              "  <div id=\"df-8de828e1-c294-4b76-af85-98549e82f4e0\" class=\"colab-df-container\">\n",
              "    <div>\n",
              "<style scoped>\n",
              "    .dataframe tbody tr th:only-of-type {\n",
              "        vertical-align: middle;\n",
              "    }\n",
              "\n",
              "    .dataframe tbody tr th {\n",
              "        vertical-align: top;\n",
              "    }\n",
              "\n",
              "    .dataframe thead th {\n",
              "        text-align: right;\n",
              "    }\n",
              "</style>\n",
              "<table border=\"1\" class=\"dataframe\">\n",
              "  <thead>\n",
              "    <tr style=\"text-align: right;\">\n",
              "      <th></th>\n",
              "      <th>0</th>\n",
              "      <th>1</th>\n",
              "      <th>reward</th>\n",
              "    </tr>\n",
              "    <tr>\n",
              "      <th>label</th>\n",
              "      <th></th>\n",
              "      <th></th>\n",
              "      <th></th>\n",
              "    </tr>\n",
              "  </thead>\n",
              "  <tbody>\n",
              "    <tr>\n",
              "      <th>0</th>\n",
              "      <td>252.483551</td>\n",
              "      <td>-18.330450</td>\n",
              "      <td>5.040743</td>\n",
              "    </tr>\n",
              "    <tr>\n",
              "      <th>1</th>\n",
              "      <td>74.904922</td>\n",
              "      <td>105.160423</td>\n",
              "      <td>5.124342</td>\n",
              "    </tr>\n",
              "    <tr>\n",
              "      <th>2</th>\n",
              "      <td>179.189499</td>\n",
              "      <td>36.089088</td>\n",
              "      <td>5.080852</td>\n",
              "    </tr>\n",
              "    <tr>\n",
              "      <th>3</th>\n",
              "      <td>126.713135</td>\n",
              "      <td>234.708694</td>\n",
              "      <td>4.452455</td>\n",
              "    </tr>\n",
              "    <tr>\n",
              "      <th>4</th>\n",
              "      <td>166.221664</td>\n",
              "      <td>-13.448226</td>\n",
              "      <td>5.046844</td>\n",
              "    </tr>\n",
              "    <tr>\n",
              "      <th>5</th>\n",
              "      <td>182.625900</td>\n",
              "      <td>138.388443</td>\n",
              "      <td>5.818920</td>\n",
              "    </tr>\n",
              "    <tr>\n",
              "      <th>6</th>\n",
              "      <td>241.245621</td>\n",
              "      <td>69.476471</td>\n",
              "      <td>5.377553</td>\n",
              "    </tr>\n",
              "    <tr>\n",
              "      <th>7</th>\n",
              "      <td>170.078125</td>\n",
              "      <td>-52.034500</td>\n",
              "      <td>5.566677</td>\n",
              "    </tr>\n",
              "    <tr>\n",
              "      <th>8</th>\n",
              "      <td>151.290176</td>\n",
              "      <td>-26.536985</td>\n",
              "      <td>3.496760</td>\n",
              "    </tr>\n",
              "    <tr>\n",
              "      <th>9</th>\n",
              "      <td>147.906494</td>\n",
              "      <td>-5.478911</td>\n",
              "      <td>5.211520</td>\n",
              "    </tr>\n",
              "    <tr>\n",
              "      <th>10</th>\n",
              "      <td>220.714508</td>\n",
              "      <td>70.731430</td>\n",
              "      <td>4.974871</td>\n",
              "    </tr>\n",
              "    <tr>\n",
              "      <th>11</th>\n",
              "      <td>168.871658</td>\n",
              "      <td>-32.479511</td>\n",
              "      <td>5.171942</td>\n",
              "    </tr>\n",
              "  </tbody>\n",
              "</table>\n",
              "</div>\n",
              "    <div class=\"colab-df-buttons\">\n",
              "\n",
              "  <div class=\"colab-df-container\">\n",
              "    <button class=\"colab-df-convert\" onclick=\"convertToInteractive('df-8de828e1-c294-4b76-af85-98549e82f4e0')\"\n",
              "            title=\"Convert this dataframe to an interactive table.\"\n",
              "            style=\"display:none;\">\n",
              "\n",
              "  <svg xmlns=\"http://www.w3.org/2000/svg\" height=\"24px\" viewBox=\"0 -960 960 960\">\n",
              "    <path d=\"M120-120v-720h720v720H120Zm60-500h600v-160H180v160Zm220 220h160v-160H400v160Zm0 220h160v-160H400v160ZM180-400h160v-160H180v160Zm440 0h160v-160H620v160ZM180-180h160v-160H180v160Zm440 0h160v-160H620v160Z\"/>\n",
              "  </svg>\n",
              "    </button>\n",
              "\n",
              "  <style>\n",
              "    .colab-df-container {\n",
              "      display:flex;\n",
              "      gap: 12px;\n",
              "    }\n",
              "\n",
              "    .colab-df-convert {\n",
              "      background-color: #E8F0FE;\n",
              "      border: none;\n",
              "      border-radius: 50%;\n",
              "      cursor: pointer;\n",
              "      display: none;\n",
              "      fill: #1967D2;\n",
              "      height: 32px;\n",
              "      padding: 0 0 0 0;\n",
              "      width: 32px;\n",
              "    }\n",
              "\n",
              "    .colab-df-convert:hover {\n",
              "      background-color: #E2EBFA;\n",
              "      box-shadow: 0px 1px 2px rgba(60, 64, 67, 0.3), 0px 1px 3px 1px rgba(60, 64, 67, 0.15);\n",
              "      fill: #174EA6;\n",
              "    }\n",
              "\n",
              "    .colab-df-buttons div {\n",
              "      margin-bottom: 4px;\n",
              "    }\n",
              "\n",
              "    [theme=dark] .colab-df-convert {\n",
              "      background-color: #3B4455;\n",
              "      fill: #D2E3FC;\n",
              "    }\n",
              "\n",
              "    [theme=dark] .colab-df-convert:hover {\n",
              "      background-color: #434B5C;\n",
              "      box-shadow: 0px 1px 3px 1px rgba(0, 0, 0, 0.15);\n",
              "      filter: drop-shadow(0px 1px 2px rgba(0, 0, 0, 0.3));\n",
              "      fill: #FFFFFF;\n",
              "    }\n",
              "  </style>\n",
              "\n",
              "    <script>\n",
              "      const buttonEl =\n",
              "        document.querySelector('#df-8de828e1-c294-4b76-af85-98549e82f4e0 button.colab-df-convert');\n",
              "      buttonEl.style.display =\n",
              "        google.colab.kernel.accessAllowed ? 'block' : 'none';\n",
              "\n",
              "      async function convertToInteractive(key) {\n",
              "        const element = document.querySelector('#df-8de828e1-c294-4b76-af85-98549e82f4e0');\n",
              "        const dataTable =\n",
              "          await google.colab.kernel.invokeFunction('convertToInteractive',\n",
              "                                                    [key], {});\n",
              "        if (!dataTable) return;\n",
              "\n",
              "        const docLinkHtml = 'Like what you see? Visit the ' +\n",
              "          '<a target=\"_blank\" href=https://colab.research.google.com/notebooks/data_table.ipynb>data table notebook</a>'\n",
              "          + ' to learn more about interactive tables.';\n",
              "        element.innerHTML = '';\n",
              "        dataTable['output_type'] = 'display_data';\n",
              "        await google.colab.output.renderOutput(dataTable, element);\n",
              "        const docLink = document.createElement('div');\n",
              "        docLink.innerHTML = docLinkHtml;\n",
              "        element.appendChild(docLink);\n",
              "      }\n",
              "    </script>\n",
              "  </div>\n",
              "\n",
              "\n",
              "<div id=\"df-814e7720-30a8-4ad9-8283-1f4f8fde3135\">\n",
              "  <button class=\"colab-df-quickchart\" onclick=\"quickchart('df-814e7720-30a8-4ad9-8283-1f4f8fde3135')\"\n",
              "            title=\"Suggest charts\"\n",
              "            style=\"display:none;\">\n",
              "\n",
              "<svg xmlns=\"http://www.w3.org/2000/svg\" height=\"24px\"viewBox=\"0 0 24 24\"\n",
              "     width=\"24px\">\n",
              "    <g>\n",
              "        <path d=\"M19 3H5c-1.1 0-2 .9-2 2v14c0 1.1.9 2 2 2h14c1.1 0 2-.9 2-2V5c0-1.1-.9-2-2-2zM9 17H7v-7h2v7zm4 0h-2V7h2v10zm4 0h-2v-4h2v4z\"/>\n",
              "    </g>\n",
              "</svg>\n",
              "  </button>\n",
              "\n",
              "<style>\n",
              "  .colab-df-quickchart {\n",
              "      --bg-color: #E8F0FE;\n",
              "      --fill-color: #1967D2;\n",
              "      --hover-bg-color: #E2EBFA;\n",
              "      --hover-fill-color: #174EA6;\n",
              "      --disabled-fill-color: #AAA;\n",
              "      --disabled-bg-color: #DDD;\n",
              "  }\n",
              "\n",
              "  [theme=dark] .colab-df-quickchart {\n",
              "      --bg-color: #3B4455;\n",
              "      --fill-color: #D2E3FC;\n",
              "      --hover-bg-color: #434B5C;\n",
              "      --hover-fill-color: #FFFFFF;\n",
              "      --disabled-bg-color: #3B4455;\n",
              "      --disabled-fill-color: #666;\n",
              "  }\n",
              "\n",
              "  .colab-df-quickchart {\n",
              "    background-color: var(--bg-color);\n",
              "    border: none;\n",
              "    border-radius: 50%;\n",
              "    cursor: pointer;\n",
              "    display: none;\n",
              "    fill: var(--fill-color);\n",
              "    height: 32px;\n",
              "    padding: 0;\n",
              "    width: 32px;\n",
              "  }\n",
              "\n",
              "  .colab-df-quickchart:hover {\n",
              "    background-color: var(--hover-bg-color);\n",
              "    box-shadow: 0 1px 2px rgba(60, 64, 67, 0.3), 0 1px 3px 1px rgba(60, 64, 67, 0.15);\n",
              "    fill: var(--button-hover-fill-color);\n",
              "  }\n",
              "\n",
              "  .colab-df-quickchart-complete:disabled,\n",
              "  .colab-df-quickchart-complete:disabled:hover {\n",
              "    background-color: var(--disabled-bg-color);\n",
              "    fill: var(--disabled-fill-color);\n",
              "    box-shadow: none;\n",
              "  }\n",
              "\n",
              "  .colab-df-spinner {\n",
              "    border: 2px solid var(--fill-color);\n",
              "    border-color: transparent;\n",
              "    border-bottom-color: var(--fill-color);\n",
              "    animation:\n",
              "      spin 1s steps(1) infinite;\n",
              "  }\n",
              "\n",
              "  @keyframes spin {\n",
              "    0% {\n",
              "      border-color: transparent;\n",
              "      border-bottom-color: var(--fill-color);\n",
              "      border-left-color: var(--fill-color);\n",
              "    }\n",
              "    20% {\n",
              "      border-color: transparent;\n",
              "      border-left-color: var(--fill-color);\n",
              "      border-top-color: var(--fill-color);\n",
              "    }\n",
              "    30% {\n",
              "      border-color: transparent;\n",
              "      border-left-color: var(--fill-color);\n",
              "      border-top-color: var(--fill-color);\n",
              "      border-right-color: var(--fill-color);\n",
              "    }\n",
              "    40% {\n",
              "      border-color: transparent;\n",
              "      border-right-color: var(--fill-color);\n",
              "      border-top-color: var(--fill-color);\n",
              "    }\n",
              "    60% {\n",
              "      border-color: transparent;\n",
              "      border-right-color: var(--fill-color);\n",
              "    }\n",
              "    80% {\n",
              "      border-color: transparent;\n",
              "      border-right-color: var(--fill-color);\n",
              "      border-bottom-color: var(--fill-color);\n",
              "    }\n",
              "    90% {\n",
              "      border-color: transparent;\n",
              "      border-bottom-color: var(--fill-color);\n",
              "    }\n",
              "  }\n",
              "</style>\n",
              "\n",
              "  <script>\n",
              "    async function quickchart(key) {\n",
              "      const quickchartButtonEl =\n",
              "        document.querySelector('#' + key + ' button');\n",
              "      quickchartButtonEl.disabled = true;  // To prevent multiple clicks.\n",
              "      quickchartButtonEl.classList.add('colab-df-spinner');\n",
              "      try {\n",
              "        const charts = await google.colab.kernel.invokeFunction(\n",
              "            'suggestCharts', [key], {});\n",
              "      } catch (error) {\n",
              "        console.error('Error during call to suggestCharts:', error);\n",
              "      }\n",
              "      quickchartButtonEl.classList.remove('colab-df-spinner');\n",
              "      quickchartButtonEl.classList.add('colab-df-quickchart-complete');\n",
              "    }\n",
              "    (() => {\n",
              "      let quickchartButtonEl =\n",
              "        document.querySelector('#df-814e7720-30a8-4ad9-8283-1f4f8fde3135 button');\n",
              "      quickchartButtonEl.style.display =\n",
              "        google.colab.kernel.accessAllowed ? 'block' : 'none';\n",
              "    })();\n",
              "  </script>\n",
              "</div>\n",
              "    </div>\n",
              "  </div>\n"
            ]
          },
          "metadata": {},
          "execution_count": 301
        }
      ]
    },
    {
      "cell_type": "code",
      "source": [
        "from sklearn.cluster import DBSCAN\n",
        "\n",
        "db = DBSCAN(eps=0.3, min_samples=10).fit(embeddings)\n",
        "labels = db.labels_\n",
        "\n",
        "# Number of clusters in labels, ignoring noise if present.\n",
        "n_clusters_ = len(set(labels)) - (1 if -1 in labels else 0)\n",
        "n_noise_ = list(labels).count(-1)\n",
        "\n",
        "print(\"Estimated number of clusters: %d\" % n_clusters_)\n",
        "print(\"Estimated number of noise points: %d\" % n_noise_)"
      ],
      "metadata": {
        "id": "u6dezIY88m9t",
        "colab": {
          "base_uri": "https://localhost:8080/"
        },
        "outputId": "0147c1bf-2338-4a90-bea2-75a43c3b8375"
      },
      "execution_count": null,
      "outputs": [
        {
          "output_type": "stream",
          "name": "stdout",
          "text": [
            "Estimated number of clusters: 1\n",
            "Estimated number of noise points: 0\n"
          ]
        }
      ]
    },
    {
      "cell_type": "code",
      "source": [
        "plt_reduce_space(enb_reduce, color=labels)"
      ],
      "metadata": {
        "colab": {
          "base_uri": "https://localhost:8080/",
          "height": 676
        },
        "id": "zpT57672YLTn",
        "outputId": "79945920-73aa-480e-a734-5d0f6624dae0"
      },
      "execution_count": null,
      "outputs": [
        {
          "output_type": "display_data",
          "data": {
            "text/plain": [
              "<Figure size 800x800 with 1 Axes>"
            ],
            "image/png": "[encoded data removed]"
          },
          "metadata": {}
        }
      ]
    }
  ]
}