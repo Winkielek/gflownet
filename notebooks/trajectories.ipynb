{
  "nbformat": 4,
  "nbformat_minor": 0,
  "metadata": {
    "colab": {
      "provenance": [],
      "gpuType": "T4",
      "include_colab_link": true
    },
    "kernelspec": {
      "name": "python3",
      "display_name": "Python 3"
    },
    "language_info": {
      "name": "python"
    },
    "accelerator": "GPU"
  },
  "cells": [
    {
      "cell_type": "markdown",
      "metadata": {
        "id": "view-in-github",
        "colab_type": "text"
      },
      "source": [
        "<a href=\"https://colab.research.google.com/github/Winkielek/gflownet/blob/trajectories-analysis/notebooks/trajectories.ipynb\" target=\"_parent\"><img src=\"https://colab.research.google.com/assets/colab-badge.svg\" alt=\"Open In Colab\"/></a>"
      ]
    },
    {
      "cell_type": "code",
      "source": [
        "# Clone gflownet lib\n",
        "!rm -rf gflownet\n",
        "!git clone https://github.com/Winkielek/gflownet.git\n",
        "\n",
        "# Install torch geometric\n",
        "!pip install torch-geometric\n",
        "!pip install torch-scatter torch-sparse -f https://data.pyg.org/whl/torch-2.1.0+cu118.html\n",
        "\n",
        "# Install gflownet lib\n",
        "!pip install -e ./gflownet"
      ],
      "metadata": {
        "id": "FywnVzx73D5P",
        "colab": {
          "base_uri": "https://localhost:8080/"
        },
        "outputId": "115fe233-f6ea-4a23-d3c2-276ae59ef84b"
      },
      "execution_count": 1,
      "outputs": [
        {
          "output_type": "stream",
          "name": "stdout",
          "text": [
            "Installing collected packages: gflownet\n",
            "  Attempting uninstall: gflownet\n",
            "    Found existing installation: gflownet 0.1.0\n",
            "    Uninstalling gflownet-0.1.0:\n",
            "      Successfully uninstalled gflownet-0.1.0\n",
            "Successfully installed gflownet-0.1.0\n"
          ]
        }
      ]
    },
    {
      "cell_type": "code",
      "source": [
        "import os\n",
        "import shutil\n",
        "import socket\n",
        "from typing import Callable, Dict, List, Tuple, Union\n",
        "\n",
        "import numpy as np\n",
        "import torch\n",
        "import torch.nn as nn\n",
        "import torch_geometric.data as gd\n",
        "from rdkit import Chem\n",
        "from rdkit.Chem.rdchem import Mol as RDMol\n",
        "from torch import Tensor\n",
        "from torch.utils.data import Dataset\n",
        "\n",
        "from gflownet.config import Config\n",
        "from gflownet.envs.frag_mol_env import FragMolBuildingEnvContext, Graph\n",
        "from gflownet.models import bengio2021flow\n",
        "from gflownet.online_trainer import StandardOnlineTrainer\n",
        "from gflownet.trainer import FlatRewards, GFNTask, RewardScalar\n",
        "from gflownet.utils.conditioning import TemperatureConditional\n",
        "\n",
        "import matplotlib.pyplot as plt\n",
        "import networkx as nx"
      ],
      "metadata": {
        "id": "hLYKO3802zHx"
      },
      "execution_count": 1,
      "outputs": []
    },
    {
      "cell_type": "code",
      "source": [
        "class SEHTask(GFNTask):\n",
        "    \"\"\"Sets up a task where the reward is computed using a proxy for the binding energy of a molecule to\n",
        "    Soluble Epoxide Hydrolases.\n",
        "\n",
        "    The proxy is pretrained, and obtained from the original GFlowNet paper, see `gflownet.models.bengio2021flow`.\n",
        "\n",
        "    This setup essentially reproduces the results of the Trajectory Balance paper when using the TB\n",
        "    objective, or of the original paper when using Flow Matching.\n",
        "    \"\"\"\n",
        "\n",
        "    def __init__(\n",
        "        self,\n",
        "        dataset: Dataset,\n",
        "        cfg: Config,\n",
        "        rng: np.random.Generator = None,\n",
        "        wrap_model: Callable[[nn.Module], nn.Module] = None,\n",
        "    ):\n",
        "        self._wrap_model = wrap_model\n",
        "        self.rng = rng\n",
        "        self.models = self._load_task_models()\n",
        "        self.dataset = dataset\n",
        "        self.temperature_conditional = TemperatureConditional(cfg, rng)\n",
        "        self.num_cond_dim = self.temperature_conditional.encoding_size()\n",
        "\n",
        "    def flat_reward_transform(self, y: Union[float, Tensor]) -> FlatRewards:\n",
        "        return FlatRewards(torch.as_tensor(y) / 8)\n",
        "\n",
        "    def inverse_flat_reward_transform(self, rp):\n",
        "        return rp * 8\n",
        "\n",
        "    def _load_task_models(self):\n",
        "        model = bengio2021flow.load_original_model()\n",
        "        model, self.device = self._wrap_model(model, send_to_device=True)\n",
        "        return {\"seh\": model}\n",
        "\n",
        "    def sample_conditional_information(self, n: int, train_it: int) -> Dict[str, Tensor]:\n",
        "        return self.temperature_conditional.sample(n)\n",
        "\n",
        "    def cond_info_to_logreward(self, cond_info: Dict[str, Tensor], flat_reward: FlatRewards) -> RewardScalar:\n",
        "        return RewardScalar(self.temperature_conditional.transform(cond_info, flat_reward))\n",
        "\n",
        "    def compute_flat_rewards(self, mols: List[RDMol]) -> Tuple[FlatRewards, Tensor]:\n",
        "        graphs = [bengio2021flow.mol2graph(i) for i in mols]\n",
        "        is_valid = torch.tensor([i is not None for i in graphs]).bool()\n",
        "        if not is_valid.any():\n",
        "            return FlatRewards(torch.zeros((0, 1))), is_valid\n",
        "        batch = gd.Batch.from_data_list([i for i in graphs if i is not None])\n",
        "        batch.to(self.device)\n",
        "        preds = self.models[\"seh\"](batch).reshape((-1,)).data.cpu()\n",
        "        preds[preds.isnan()] = 0\n",
        "        preds = self.flat_reward_transform(preds).clip(1e-4, 100).reshape((-1, 1))\n",
        "        return FlatRewards(preds), is_valid\n",
        "\n",
        "\n",
        "SOME_MOLS = [\n",
        "    \"O=C(NCc1cc(CCc2cccc(N3CCC(c4cc(-c5cc(-c6cncnc6)[nH]n5)ccn4)CC3)c2)ccn1)c1cccc2ccccc12\",\n",
        "    \"O=c1nc2[nH]c3cc(-c4cc(C5CC(c6ccc(CNC7CCOC7c7csc(C8=CC(c9ccc%10ccccc%10c9)CCC8)n7)cc6)CO5)c[nH]4)ccc3nc-2c(=O)[nH]1\",\n",
        "    \"c1ccc(-c2cnn(-c3cc(-c4cc(CCc5cc(C6CCC(c7cc(-c8ccccc8)[nH]n7)CO6)ncn5)n[nH]4)ccn3)c2)cc1\",\n",
        "    \"O=C(NCc1cc(C2CCNC2C2CCNC2)ncn1)c1cccc(-c2cccc(-c3cccc(C4CCC(c5ccccc5)CO4)c3)c2)c1\",\n",
        "    \"O=C(NCc1cccc(C2COC(c3ccc4nc5c(=O)[nH]c(=O)nc-5[nH]c4c3)C2)c1)c1cccc(CCc2cccc(-c3ncnc4c3ncn4C3CCCN3)c2)c1\",\n",
        "    \"O=C(NCc1ccc(OCc2ccc(-c3ccncc3C3CCNCC3)cn2)cc1)c1cccc(N2CCC(C3CCCN3)CC2)n1\",\n",
        "    \"O=C(NCc1ccc(C2CCC(c3cccc(-c4cccc(C5CCOC5)c4)c3)CO2)cn1)c1ccc(-n2ccc(-c3ccc4nc5c(=O)[nH]c(=O)nc-5[nH]c4c3)n2)cn1\",\n",
        "    \"O=C(NCc1nc2c(c(=O)[nH]1)NC(c1cn(N3CCN(c4ccc5nc6c(=O)[nH]c(=O)nc-6[nH]c5c4)CC3)c(=O)[nH]c1=O)CN2)c1ccc[n+](-c2cccc(-c3nccc(-c4ccccc4)n3)c2)c1\",\n",
        "    \"C1=C(C2CCC(c3ccnc(-c4ccc(CNC5CCC(c6ccncc6)OC5)cc4)n3)CO2)CCC(c2cc(-c3cncnc3)c3ccccc3c2)C1\",\n",
        "    \"O=C(NCc1cccc(-c2nccc(-c3cc(-c4ccc5ccccc5c4)n[nH]3)n2)c1)C1CCC(C2CCC(c3cn(-c4ccc5nc6c(=O)[nH]c(=O)nc-6[nH]c5c4)c(=O)[nH]c3=O)OC2)O1\",\n",
        "    \"O=C(Nc1ccc2ccccc2c1)c1cccc(-c2cccc(CNN3CCN(C4CCCC(c5cccc(C6CCCN6)c5)C4)CC3)c2)c1\",\n",
        "    \"O=C(NCC1CC=C(c2cc(CCc3c[nH]c(-c4cccc(-c5ccccc5)c4)c3)n[nH]2)CC1)c1cccc(C2CCNC2)n1\",\n",
        "    \"O=C(Nc1nccc(CNc2cc(C3CCNC3)n[nH]2)n1)c1nccc(C2CCC(C3CCNCC3c3ccc4ccccc4c3)CO2)n1\",\n",
        "    \"C1=C(C2CCC(c3ccc(-c4cc(C5CCCNC5)n[nH]4)cc3)OC2)CCCC1CCc1cccc(-c2cccc(-c3ncnc4[nH]cnc34)c2)n1\",\n",
        "    \"O=C(NCc1cc(C2CCC(C3CCN(c4cc(-c5nccc(-c6cccc(-c7ccccc7)c6)n5)c[nH]4)CC3)CO2)ccn1)c1ccccc1\",\n",
        "    \"O=C(NCc1cccc(-c2ccn(NCc3ccc(-c4cc(C5CNC(c6ccncc6)C5)c[nH]4)cc3)n2)c1)c1ccc2ccccc2c1\",\n",
        "    \"O=c1nc2n(-c3cccc(OCc4cccc(CNC5CCC(c6cccc(-c7ccc(C8CCNC8)cc7)c6)OC5)c4)n3)c3ccccc3nc-2c(=O)[nH]1\",\n",
        "    \"O=C(NCc1ccc(C2OCCC2C2CC(c3ccnc(-c4ccc5ccccc5c4)c3)CO2)cc1)c1nccc(N2C=CCC(c3ccccc3)=C2)n1\",\n",
        "    \"O=C(NCNC(=O)c1cccc(C(=O)NCc2cccc(-c3ccc4[nH]c5nc(=O)[nH]c(=O)c-5nc4c3)c2)n1)c1ccnc(-c2nccc(C3CCCN3)n2)c1\",\n",
        "    \"O=c1nc2[nH]c3cc(C4CCC(c5ccc(-c6cc(C7CCC(C8CCCC(C9CCC(c%10ccc(-c%11cncnc%11)cc%10)O9)O8)OC7)ccn6)cn5)CO4)ccc3nc-2c(=O)[nH]1\",\n",
        "    \"O=c1[nH]c(CNc2cc(-c3cccc(-n4ccc(-c5ccc6ccccc6c5)n4)c3)c[nH]2)nc2c1NC(n1ccc(C3CCC(c4cccnc4)CO3)n1)CN2\",\n",
        "    \"O=c1nc2[nH]c3cc(C=CC4COC(C5CCCC(C6CCOC(C7CCC(c8cccc(-c9ccnc(-c%10ccc%11ccccc%11c%10)n9)c8)CO7)C6)O5)C4)ccc3nc-2c(=O)[nH]1\",\n",
        "    \"c1ccc2c(C3CC(CNc4ccnc(C5CCNC5)c4)CO3)cc(NCc3ccc(-c4cc(C5CCNC5)c[nH]4)cc3)cc2c1\",\n",
        "    \"O=C(NCc1nccc(C2CC(C(=O)NC3CCC(c4ccc5nc6c(=O)[nH]c(=O)nc-6[nH]c5c4)CO3)CCO2)n1)c1ccnc(-n2cc(-n3cnc4cncnc43)cn2)n1\",\n",
        "    \"O=C(NCc1ccc(-c2ccccc2)cc1)c1cccc(C(=O)NCc2nccc(N3C=CCC(c4ncnc5c4ncn5-c4cccc5ccccc45)=C3)n2)c1\",\n",
        "]\n",
        "\n",
        "\n",
        "class LittleSEHDataset(Dataset):\n",
        "    \"\"\"Note: this dataset isn't used by default, but turning it on showcases some features of this codebase.\n",
        "\n",
        "    To turn on, self `cfg.algo.offline_ratio > 0`\"\"\"\n",
        "\n",
        "    def __init__(self) -> None:\n",
        "        super().__init__()\n",
        "        self.props: List[Tensor] = []\n",
        "        self.mols: List[Graph] = []\n",
        "\n",
        "    def setup(self, task, ctx):\n",
        "        rdmols = [Chem.MolFromSmiles(i) for i in SOME_MOLS]\n",
        "        self.mols = [ctx.mol_to_graph(i) for i in rdmols]\n",
        "        self.props = task.compute_flat_rewards(rdmols)[0]\n",
        "\n",
        "    def __len__(self):\n",
        "        return len(self.mols)\n",
        "\n",
        "    def __getitem__(self, index):\n",
        "        return self.mols[index], self.props[index]\n",
        "\n",
        "\n",
        "class SEHFragTrainer(StandardOnlineTrainer):\n",
        "    task: SEHTask\n",
        "    training_data: LittleSEHDataset\n",
        "\n",
        "    def set_default_hps(self, cfg: Config):\n",
        "        cfg.hostname = socket.gethostname()\n",
        "        cfg.pickle_mp_messages = False\n",
        "        cfg.num_workers = 8\n",
        "        cfg.opt.learning_rate = 1e-4\n",
        "        cfg.opt.weight_decay = 1e-8\n",
        "        cfg.opt.momentum = 0.9\n",
        "        cfg.opt.adam_eps = 1e-8\n",
        "        cfg.opt.lr_decay = 20_000\n",
        "        cfg.opt.clip_grad_type = \"norm\"\n",
        "        cfg.opt.clip_grad_param = 10\n",
        "        cfg.algo.global_batch_size = 64\n",
        "        cfg.algo.offline_ratio = 0\n",
        "        cfg.model.num_emb = 128\n",
        "        cfg.model.num_layers = 4\n",
        "\n",
        "        cfg.algo.method = \"TB\"\n",
        "        cfg.algo.max_nodes = 9\n",
        "        cfg.algo.sampling_tau = 0.9\n",
        "        cfg.algo.illegal_action_logreward = -75\n",
        "        cfg.algo.train_random_action_prob = 0.0\n",
        "        cfg.algo.valid_random_action_prob = 0.0\n",
        "        cfg.algo.valid_offline_ratio = 0\n",
        "        cfg.algo.tb.epsilon = None\n",
        "        cfg.algo.tb.bootstrap_own_reward = False\n",
        "        cfg.algo.tb.Z_learning_rate = 1e-3\n",
        "        cfg.algo.tb.Z_lr_decay = 50_000\n",
        "        cfg.algo.tb.do_parameterize_p_b = False\n",
        "        cfg.algo.tb.do_sample_p_b = True\n",
        "\n",
        "        cfg.replay.use = False\n",
        "        cfg.replay.capacity = 10_000\n",
        "        cfg.replay.warmup = 1_000\n",
        "\n",
        "    def setup_task(self):\n",
        "        self.task = SEHTask(\n",
        "            dataset=self.training_data,\n",
        "            cfg=self.cfg,\n",
        "            rng=self.rng,\n",
        "            wrap_model=self._wrap_for_mp,\n",
        "        )\n",
        "\n",
        "    def setup_data(self):\n",
        "        super().setup_data()\n",
        "        self.training_data = LittleSEHDataset()\n",
        "\n",
        "    def setup_env_context(self):\n",
        "        self.ctx = FragMolBuildingEnvContext(max_frags=self.cfg.algo.max_nodes, num_cond_dim=self.task.num_cond_dim)\n",
        "\n",
        "    def setup(self):\n",
        "        super().setup()\n",
        "        self.training_data.setup(self.task, self.ctx)\n"
      ],
      "metadata": {
        "id": "G-b280tU8zrl"
      },
      "execution_count": 2,
      "outputs": []
    },
    {
      "cell_type": "code",
      "source": [
        "if __name__ == \"__main__\":\n",
        "\n",
        "    hps = {\n",
        "        \"log_dir\": \"./logs/debug_run_seh_frag_pb\",\n",
        "        \"device\": \"cuda\" if torch.cuda.is_available() else \"cpu\",\n",
        "        \"overwrite_existing_exp\": True,\n",
        "        \"num_training_steps\": 500,\n",
        "        \"num_workers\": 2,\n",
        "        \"opt\": {\n",
        "            \"lr_decay\": 20000,\n",
        "        },\n",
        "        \"algo\": {\"sampling_tau\": 0.99, \"offline_ratio\": 0.0},\n",
        "        \"cond\": {\n",
        "            \"temperature\": {\n",
        "                \"sample_dist\": \"uniform\",\n",
        "                \"dist_params\": [0, 64.0],\n",
        "            }\n",
        "        },\n",
        "    }\n",
        "    if os.path.exists(hps[\"log_dir\"]):\n",
        "        if hps[\"overwrite_existing_exp\"]:\n",
        "            shutil.rmtree(hps[\"log_dir\"])\n",
        "        else:\n",
        "            raise ValueError(f\"Log dir {hps['log_dir']} already exists. Set overwrite_existing_exp=True to delete it.\")\n",
        "    os.makedirs(hps[\"log_dir\"])\n",
        "\n",
        "    trial = SEHFragTrainer(hps)\n",
        "    trial.print_every = 100\n",
        "    # trial.run()"
      ],
      "metadata": {
        "colab": {
          "base_uri": "https://localhost:8080/"
        },
        "id": "o1rYRfcTARt9",
        "outputId": "47b17296-d13e-47c5-931d-4b7d1c799be9"
      },
      "execution_count": 3,
      "outputs": [
        {
          "output_type": "stream",
          "name": "stdout",
          "text": [
            "\n",
            "\n",
            "Hyperparameters:\n",
            "\n",
            "log_dir: ./logs/debug_run_seh_frag_pb\n",
            "device: cuda\n",
            "seed: 0\n",
            "validate_every: 1000\n",
            "checkpoint_every: null\n",
            "print_every: 100\n",
            "start_at_step: 0\n",
            "num_final_gen_steps: null\n",
            "num_training_steps: 500\n",
            "num_workers: 2\n",
            "hostname: 6d6f9753eecd\n",
            "pickle_mp_messages: false\n",
            "git_hash: '063e243'\n",
            "overwrite_existing_exp: true\n",
            "algo:\n",
            "  method: TB\n",
            "  global_batch_size: 64\n",
            "  max_len: 128\n",
            "  max_nodes: 9\n",
            "  max_edges: 128\n",
            "  illegal_action_logreward: -75.0\n",
            "  offline_ratio: 0.0\n",
            "  valid_offline_ratio: 0.0\n",
            "  train_random_action_prob: 0.0\n",
            "  valid_random_action_prob: 0.0\n",
            "  valid_sample_cond_info: true\n",
            "  sampling_tau: 0.99\n",
            "  tb:\n",
            "    bootstrap_own_reward: false\n",
            "    epsilon: null\n",
            "    reward_loss_multiplier: 1.0\n",
            "    variant: TB\n",
            "    do_correct_idempotent: false\n",
            "    do_parameterize_p_b: false\n",
            "    do_sample_p_b: true\n",
            "    do_length_normalize: false\n",
            "    subtb_max_len: 128\n",
            "    Z_learning_rate: 0.001\n",
            "    Z_lr_decay: 50000.0\n",
            "    cum_subtb: true\n",
            "  moql:\n",
            "    gamma: 1.0\n",
            "    num_omega_samples: 32\n",
            "    num_objectives: 2\n",
            "    lambda_decay: 10000\n",
            "    penalty: -10.0\n",
            "  a2c:\n",
            "    entropy: 0.01\n",
            "    gamma: 1.0\n",
            "    penalty: -10.0\n",
            "  fm:\n",
            "    epsilon: 1.0e-38\n",
            "    balanced_loss: false\n",
            "    leaf_coef: 10.0\n",
            "    correct_idempotent: false\n",
            "  sql:\n",
            "    alpha: 0.01\n",
            "    gamma: 1.0\n",
            "    penalty: -10.0\n",
            "model:\n",
            "  num_layers: 4\n",
            "  num_emb: 128\n",
            "  dropout: 0.0\n",
            "  graph_transformer:\n",
            "    num_heads: 2\n",
            "    ln_type: pre\n",
            "    num_mlp_layers: 0\n",
            "  seq_transformer:\n",
            "    num_heads: 2\n",
            "    posenc: Rotary\n",
            "opt:\n",
            "  opt: adam\n",
            "  learning_rate: 0.0001\n",
            "  lr_decay: 20000.0\n",
            "  weight_decay: 1.0e-08\n",
            "  momentum: 0.9\n",
            "  clip_grad_type: norm\n",
            "  clip_grad_param: 10.0\n",
            "  adam_eps: 1.0e-08\n",
            "replay:\n",
            "  use: false\n",
            "  capacity: 10000\n",
            "  warmup: 1000\n",
            "  hindsight_ratio: 0.0\n",
            "task:\n",
            "  qm9:\n",
            "    h5_path: ./data/qm9/qm9.h5\n",
            "    model_path: ./data/qm9/qm9_model.pt\n",
            "  seh: {}\n",
            "  seh_moo:\n",
            "    use_steer_thermometer: false\n",
            "    preference_type: dirichlet\n",
            "    focus_type: null\n",
            "    focus_dirs_listed: null\n",
            "    focus_cosim: 0.0\n",
            "    focus_limit_coef: 1.0\n",
            "    focus_model_training_limits: null\n",
            "    focus_model_state_space_res: null\n",
            "    max_train_it: null\n",
            "    n_valid: 15\n",
            "    n_valid_repeats: 128\n",
            "    objectives:\n",
            "    - seh\n",
            "    - qed\n",
            "    - sa\n",
            "    - mw\n",
            "cond:\n",
            "  temperature:\n",
            "    sample_dist: uniform\n",
            "    dist_params:\n",
            "    - 0\n",
            "    - 64.0\n",
            "    num_thermometer_dim: 32\n",
            "  moo:\n",
            "    num_objectives: 2\n",
            "    num_thermometer_dim: 16\n",
            "  weighted_prefs:\n",
            "    preference_type: dirichlet\n",
            "  focus_region:\n",
            "    focus_type: learned-tabular\n",
            "    use_steer_thermomether: false\n",
            "    focus_cosim: 0.98\n",
            "    focus_limit_coef: 0.1\n",
            "    focus_model_training_limits:\n",
            "    - 0.25\n",
            "    - 0.75\n",
            "    focus_model_state_space_res: 30\n",
            "    max_train_it: 20000\n",
            "\n"
          ]
        }
      ]
    },
    {
      "cell_type": "code",
      "source": [
        "PATH = \"./model\""
      ],
      "metadata": {
        "id": "Sqpvui2iGLZC"
      },
      "execution_count": 4,
      "outputs": []
    },
    {
      "cell_type": "code",
      "source": [
        "# torch.save(trial.model.state_dict(), PATH)"
      ],
      "metadata": {
        "id": "CIYdp7k9FSnB"
      },
      "execution_count": 5,
      "outputs": []
    },
    {
      "cell_type": "code",
      "source": [
        "model = trial.model\n",
        "model.load_state_dict(torch.load(PATH))\n",
        "model = model.to(\"cuda\")"
      ],
      "metadata": {
        "id": "AnnjjmCLGTti"
      },
      "execution_count": 6,
      "outputs": []
    },
    {
      "cell_type": "code",
      "source": [
        "n = 1000\n",
        "batch_size = 100\n",
        "num_gen = 0\n",
        "\n",
        "traj = []\n",
        "rew = []\n",
        "\n",
        "while num_gen<n:\n",
        "\n",
        "    pred = trial.algo.graph_sampler.sample_from_model(\n",
        "    model,\n",
        "    batch_size,\n",
        "    trial.task.sample_conditional_information(batch_size,None)[\"encoding\"].to(\"cuda\"),\n",
        "    \"cuda\"\n",
        "    )\n",
        "\n",
        "    # Store trajectories\n",
        "    for p in pred:\n",
        "        traj.append(p[\"traj\"])\n",
        "    # Store rewards\n",
        "    mols = [trial.ctx.graph_to_mol(p[\"result\"])for p in pred]\n",
        "    rewards = trial.task.compute_flat_rewards(mols)\n",
        "    rewards = rewards[0].numpy().reshape(-1).tolist()\n",
        "    rew += rewards\n",
        "    num_gen += batch_size"
      ],
      "metadata": {
        "id": "E1pm7PBQHwBO"
      },
      "execution_count": 7,
      "outputs": []
    },
    {
      "cell_type": "code",
      "source": [
        "# Create a histogram\n",
        "plt.hist([x*8 for x in rew], bins=50, density=True, alpha=0.5, color='blue')\n",
        "\n",
        "# Add labels and title\n",
        "plt.xlabel('Reward')\n",
        "plt.ylabel('Frequency')\n",
        "plt.title('Histogram of Reinforcement Learning Rewards')\n",
        "\n",
        "# Show the plot\n",
        "plt.show()"
      ],
      "metadata": {
        "colab": {
          "base_uri": "https://localhost:8080/",
          "height": 472
        },
        "id": "3SImHsGt-qy9",
        "outputId": "97928dfe-4cda-44e5-d1fe-363ee1ddc710"
      },
      "execution_count": 8,
      "outputs": [
        {
          "output_type": "display_data",
          "data": {
            "text/plain": [
              "<Figure size 640x480 with 1 Axes>"
            ],
            "image/png": "[encoded data removed]"
          },
          "metadata": {}
        }
      ]
    },
    {
      "cell_type": "code",
      "source": [
        "traj[0]"
      ],
      "metadata": {
        "colab": {
          "base_uri": "https://localhost:8080/"
        },
        "id": "ji_W18QxdwpV",
        "outputId": "52821a04-0cc3-4beb-f865-0a8e649ff646"
      },
      "execution_count": 21,
      "outputs": [
        {
          "output_type": "execute_result",
          "data": {
            "text/plain": [
              "[(<[], [], []>, <GraphActionType.AddNode, 0, 11>),\n",
              " (<[0], [], [11]>, <GraphActionType.AddNode, 0, 41>),\n",
              " (<[0, 1], [(0, 1)], [11, 41]>, <GraphActionType.AddNode, 0, 7>),\n",
              " (<[0, 1, 2], [(0, 1), (0, 2)], [11, 41, 7]>,\n",
              "  <GraphActionType.AddNode, 2, 67>),\n",
              " (<[0, 1, 2, 3], [(0, 1), (0, 2), (2, 3)], [11, 41, 7, 67]>,\n",
              "  <GraphActionType.AddNode, 3, 59>),\n",
              " (<[0, 1, 2, 3, 4], [(0, 1), (0, 2), (2, 3), (3, 4)], [11, 41, 7, 67, 59]>,\n",
              "  <GraphActionType.AddNode, 2, 62>),\n",
              " (<[0, 1, 2, 3, 4, 5], [(0, 1), (0, 2), (2, 3), (2, 5), (3, 4)], [11, 41, 7, 67, 59, 62]>,\n",
              "  <GraphActionType.SetEdgeAttr, 2, 5, dst_attach, 1>),\n",
              " (<[0, 1, 2, 3, 4, 5], [(0, 1), (0, 2), (2, 3), (2, 5), (3, 4)], [11, 41, 7, 67, 59, 62]>,\n",
              "  <GraphActionType.AddNode, 5, 65>),\n",
              " (<[0, 1, 2, 3, 4, 5, 6], [(0, 1), (0, 2), (2, 3), (2, 5), (3, 4), (5, 6)], [11, 41, 7, 67, 59, 62, 65]>,\n",
              "  <GraphActionType.AddNode, 4, 56>),\n",
              " (<[0, 1, 2, 3, 4, 5, 6, 7], [(0, 1), (0, 2), (2, 3), (2, 5), (3, 4), (4, 7), (5, 6)], [11, 41, 7, 67, 59, 62, 65, 56]>,\n",
              "  <GraphActionType.AddNode, 1, 9>),\n",
              " (<[0, 1, 2, 3, 4, 5, 6, 7, 8], [(0, 1), (0, 2), (1, 8), (2, 3), (2, 5), (3, 4), (4, 7), (5, 6)], [11, 41, 7, 67, 59, 62, 65, 56, 9]>,\n",
              "  <GraphActionType.SetEdgeAttr, 2, 3, src_attach, 4>),\n",
              " (<[0, 1, 2, 3, 4, 5, 6, 7, 8], [(0, 1), (0, 2), (1, 8), (2, 3), (2, 5), (3, 4), (4, 7), (5, 6)], [11, 41, 7, 67, 59, 62, 65, 56, 9]>,\n",
              "  <GraphActionType.SetEdgeAttr, 2, 5, src_attach, 0>),\n",
              " (<[0, 1, 2, 3, 4, 5, 6, 7, 8], [(0, 1), (0, 2), (1, 8), (2, 3), (2, 5), (3, 4), (4, 7), (5, 6)], [11, 41, 7, 67, 59, 62, 65, 56, 9]>,\n",
              "  <GraphActionType.SetEdgeAttr, 5, 6, dst_attach, 5>),\n",
              " (<[0, 1, 2, 3, 4, 5, 6, 7, 8], [(0, 1), (0, 2), (1, 8), (2, 3), (2, 5), (3, 4), (4, 7), (5, 6)], [11, 41, 7, 67, 59, 62, 65, 56, 9]>,\n",
              "  <GraphActionType.SetEdgeAttr, 0, 2, dst_attach, 2>),\n",
              " (<[0, 1, 2, 3, 4, 5, 6, 7, 8], [(0, 1), (0, 2), (1, 8), (2, 3), (2, 5), (3, 4), (4, 7), (5, 6)], [11, 41, 7, 67, 59, 62, 65, 56, 9]>,\n",
              "  <GraphActionType.SetEdgeAttr, 0, 1, src_attach, 1>),\n",
              " (<[0, 1, 2, 3, 4, 5, 6, 7, 8], [(0, 1), (0, 2), (1, 8), (2, 3), (2, 5), (3, 4), (4, 7), (5, 6)], [11, 41, 7, 67, 59, 62, 65, 56, 9]>,\n",
              "  <GraphActionType.SetEdgeAttr, 0, 1, dst_attach, 1>),\n",
              " (<[0, 1, 2, 3, 4, 5, 6, 7, 8], [(0, 1), (0, 2), (1, 8), (2, 3), (2, 5), (3, 4), (4, 7), (5, 6)], [11, 41, 7, 67, 59, 62, 65, 56, 9]>,\n",
              "  <GraphActionType.SetEdgeAttr, 0, 2, src_attach, 0>),\n",
              " (<[0, 1, 2, 3, 4, 5, 6, 7, 8], [(0, 1), (0, 2), (1, 8), (2, 3), (2, 5), (3, 4), (4, 7), (5, 6)], [11, 41, 7, 67, 59, 62, 65, 56, 9]>,\n",
              "  <GraphActionType.SetEdgeAttr, 4, 7, dst_attach, 1>),\n",
              " (<[0, 1, 2, 3, 4, 5, 6, 7, 8], [(0, 1), (0, 2), (1, 8), (2, 3), (2, 5), (3, 4), (4, 7), (5, 6)], [11, 41, 7, 67, 59, 62, 65, 56, 9]>,\n",
              "  <GraphActionType.SetEdgeAttr, 4, 7, src_attach, 0>),\n",
              " (<[0, 1, 2, 3, 4, 5, 6, 7, 8], [(0, 1), (0, 2), (1, 8), (2, 3), (2, 5), (3, 4), (4, 7), (5, 6)], [11, 41, 7, 67, 59, 62, 65, 56, 9]>,\n",
              "  <GraphActionType.SetEdgeAttr, 3, 4, src_attach, 1>),\n",
              " (<[0, 1, 2, 3, 4, 5, 6, 7, 8], [(0, 1), (0, 2), (1, 8), (2, 3), (2, 5), (3, 4), (4, 7), (5, 6)], [11, 41, 7, 67, 59, 62, 65, 56, 9]>,\n",
              "  <GraphActionType.SetEdgeAttr, 1, 8, dst_attach, 1>),\n",
              " (<[0, 1, 2, 3, 4, 5, 6, 7, 8], [(0, 1), (0, 2), (1, 8), (2, 3), (2, 5), (3, 4), (4, 7), (5, 6)], [11, 41, 7, 67, 59, 62, 65, 56, 9]>,\n",
              "  <GraphActionType.SetEdgeAttr, 2, 3, dst_attach, 0>),\n",
              " (<[0, 1, 2, 3, 4, 5, 6, 7, 8], [(0, 1), (0, 2), (1, 8), (2, 3), (2, 5), (3, 4), (4, 7), (5, 6)], [11, 41, 7, 67, 59, 62, 65, 56, 9]>,\n",
              "  <GraphActionType.SetEdgeAttr, 5, 6, src_attach, 0>),\n",
              " (<[0, 1, 2, 3, 4, 5, 6, 7, 8], [(0, 1), (0, 2), (1, 8), (2, 3), (2, 5), (3, 4), (4, 7), (5, 6)], [11, 41, 7, 67, 59, 62, 65, 56, 9]>,\n",
              "  <GraphActionType.SetEdgeAttr, 1, 8, src_attach, 0>),\n",
              " (<[0, 1, 2, 3, 4, 5, 6, 7, 8], [(0, 1), (0, 2), (1, 8), (2, 3), (2, 5), (3, 4), (4, 7), (5, 6)], [11, 41, 7, 67, 59, 62, 65, 56, 9]>,\n",
              "  <GraphActionType.SetEdgeAttr, 3, 4, dst_attach, 1>),\n",
              " (<[0, 1, 2, 3, 4, 5, 6, 7, 8], [(0, 1), (0, 2), (1, 8), (2, 3), (2, 5), (3, 4), (4, 7), (5, 6)], [11, 41, 7, 67, 59, 62, 65, 56, 9]>,\n",
              "  <GraphActionType.Stop, >)]"
            ]
          },
          "metadata": {},
          "execution_count": 21
        }
      ]
    },
    {
      "cell_type": "code",
      "source": [
        "# How does a step of trajectory look like?\n",
        "traj_id = 10\n",
        "state = 4\n",
        "print(traj[traj_id][state])\n",
        "print(f\"Current graph: {traj[traj_id][state][0]}\")\n",
        "cur_action = traj[traj_id][state][1]\n",
        "print(f\"Current action: {cur_action}\")\n",
        "print(f\"Action source: {cur_action.source}\")\n",
        "print(f\"Action target: {cur_action.target}\")\n",
        "print(f\"Action value: {cur_action.value}\")"
      ],
      "metadata": {
        "id": "4pAXtZyDICLt",
        "outputId": "ab98af1a-813e-41e7-bdbb-21c2e1ec1847",
        "colab": {
          "base_uri": "https://localhost:8080/"
        }
      },
      "execution_count": 10,
      "outputs": [
        {
          "output_type": "stream",
          "name": "stdout",
          "text": [
            "(<[0, 1, 2, 3], [(0, 1), (1, 2), (2, 3)], [68, 7, 7, 9]>, <GraphActionType.AddNode, 0, 65>)\n",
            "Current graph: <[0, 1, 2, 3], [(0, 1), (1, 2), (2, 3)], [68, 7, 7, 9]>\n",
            "Current action: <GraphActionType.AddNode, 0, 65>\n",
            "Action source: 0\n",
            "Action target: None\n",
            "Action value: 65\n"
          ]
        }
      ]
    },
    {
      "cell_type": "code",
      "source": [
        "# How does nodes translate to fragments?\n",
        "g = traj[traj_id][state][0]\n",
        "for i in g.nodes:\n",
        "    mol = trial.ctx.frags_mol[g.nodes[i][\"v\"]]\n",
        "    mol_smi = trial.ctx.frags_smi[g.nodes[i][\"v\"]]\n",
        "    print(mol_smi)\n",
        "print(f\"Next fragment added: {trial.ctx.frags_smi[cur_action.value]}\")\n",
        "nx.draw(g)"
      ],
      "metadata": {
        "colab": {
          "base_uri": "https://localhost:8080/",
          "height": 603
        },
        "id": "DKKjZboMYWEs",
        "outputId": "a08399c6-7cb9-4dbb-ad11-002ebd60d085"
      },
      "execution_count": 11,
      "outputs": [
        {
          "output_type": "stream",
          "name": "stdout",
          "text": [
            "c1cn[nH]c1\n",
            "C1CCCCC1\n",
            "C1CCCCC1\n",
            "C1CCNCC1\n",
            "Next fragment added: c1ccccc1\n"
          ]
        },
        {
          "output_type": "display_data",
          "data": {
            "text/plain": [
              "<Figure size 640x480 with 1 Axes>"
            ],
            "image/png": "[encoded data removed]"
          },
          "metadata": {}
        }
      ]
    },
    {
      "cell_type": "code",
      "source": [
        "# Output molecule\n",
        "trial.ctx.graph_to_mol(traj[traj_id][-1][0])"
      ],
      "metadata": {
        "colab": {
          "base_uri": "https://localhost:8080/",
          "height": 167
        },
        "id": "Pw5iO46VOKKZ",
        "outputId": "77a613e7-80cf-4e48-d41b-80eb7ef42b9d"
      },
      "execution_count": 12,
      "outputs": [
        {
          "output_type": "execute_result",
          "data": {
            "text/plain": [
              "<rdkit.Chem.rdchem.Mol at 0x7ba080185cb0>"
            ],
            "image/png": "[encoded data removed]"
          },
          "metadata": {},
          "execution_count": 12
        }
      ]
    },
    {
      "cell_type": "code",
      "source": [
        "# Find min and max length of trajectories\n",
        "min_len = 10**6\n",
        "max_len = -1\n",
        "\n",
        "for t in traj:\n",
        "    l = len(t)\n",
        "    if l>max_len:\n",
        "        max_len = l\n",
        "    if l<min_len:\n",
        "        min_len = l\n",
        "print(min_len)\n",
        "print(max_len)"
      ],
      "metadata": {
        "colab": {
          "base_uri": "https://localhost:8080/"
        },
        "id": "xQfdpZuAXmIv",
        "outputId": "0bd1ec5f-8c68-420e-86a2-e3c77668cf19"
      },
      "execution_count": 14,
      "outputs": [
        {
          "output_type": "stream",
          "name": "stdout",
          "text": [
            "26\n",
            "26\n"
          ]
        }
      ]
    },
    {
      "cell_type": "code",
      "source": [
        "# Keep only actions from trajectories\n",
        "actions = []\n",
        "\n",
        "for t in traj:\n",
        "    cur_act = []\n",
        "    for step in t:\n",
        "        cur_act.append(step[1])\n",
        "    actions.append(cur_act)\n"
      ],
      "metadata": {
        "id": "mDk4XcU7eHQQ"
      },
      "execution_count": 19,
      "outputs": []
    },
    {
      "cell_type": "code",
      "source": [
        "actions[0]"
      ],
      "metadata": {
        "colab": {
          "base_uri": "https://localhost:8080/"
        },
        "id": "PrlIzQKveuFa",
        "outputId": "084104be-f1af-4b05-ea8d-04d80bfbe3a4"
      },
      "execution_count": 31,
      "outputs": [
        {
          "output_type": "execute_result",
          "data": {
            "text/plain": [
              "[<GraphActionType.AddNode, 0, 11>,\n",
              " <GraphActionType.AddNode, 0, 41>,\n",
              " <GraphActionType.AddNode, 0, 7>,\n",
              " <GraphActionType.AddNode, 2, 67>,\n",
              " <GraphActionType.AddNode, 3, 59>,\n",
              " <GraphActionType.AddNode, 2, 62>,\n",
              " <GraphActionType.SetEdgeAttr, 2, 5, dst_attach, 1>,\n",
              " <GraphActionType.AddNode, 5, 65>,\n",
              " <GraphActionType.AddNode, 4, 56>,\n",
              " <GraphActionType.AddNode, 1, 9>,\n",
              " <GraphActionType.SetEdgeAttr, 2, 3, src_attach, 4>,\n",
              " <GraphActionType.SetEdgeAttr, 2, 5, src_attach, 0>,\n",
              " <GraphActionType.SetEdgeAttr, 5, 6, dst_attach, 5>,\n",
              " <GraphActionType.SetEdgeAttr, 0, 2, dst_attach, 2>,\n",
              " <GraphActionType.SetEdgeAttr, 0, 1, src_attach, 1>,\n",
              " <GraphActionType.SetEdgeAttr, 0, 1, dst_attach, 1>,\n",
              " <GraphActionType.SetEdgeAttr, 0, 2, src_attach, 0>,\n",
              " <GraphActionType.SetEdgeAttr, 4, 7, dst_attach, 1>,\n",
              " <GraphActionType.SetEdgeAttr, 4, 7, src_attach, 0>,\n",
              " <GraphActionType.SetEdgeAttr, 3, 4, src_attach, 1>,\n",
              " <GraphActionType.SetEdgeAttr, 1, 8, dst_attach, 1>,\n",
              " <GraphActionType.SetEdgeAttr, 2, 3, dst_attach, 0>,\n",
              " <GraphActionType.SetEdgeAttr, 5, 6, src_attach, 0>,\n",
              " <GraphActionType.SetEdgeAttr, 1, 8, src_attach, 0>,\n",
              " <GraphActionType.SetEdgeAttr, 3, 4, dst_attach, 1>,\n",
              " <GraphActionType.Stop, >]"
            ]
          },
          "metadata": {},
          "execution_count": 31
        }
      ]
    },
    {
      "cell_type": "code",
      "source": [
        "# Change actions representation\n",
        "new_actions = []\n",
        "for a in actions:\n",
        "    new_act = []\n",
        "    for s in a:\n",
        "        new_s = []\n",
        "        new_s.append(s.action.name)\n",
        "        new_s.append(s.source)\n",
        "        new_s.append(s.target)\n",
        "        new_s.append(s.value)\n",
        "        # new_s.append(s.attr)\n",
        "        new_act.append(new_s)\n",
        "    new_actions.append(new_act)"
      ],
      "metadata": {
        "id": "akmUWJHngAMW"
      },
      "execution_count": 113,
      "outputs": []
    },
    {
      "cell_type": "code",
      "source": [
        "new_actions[0]"
      ],
      "metadata": {
        "colab": {
          "base_uri": "https://localhost:8080/"
        },
        "id": "zSuhzJE6f7jt",
        "outputId": "d90a3c2f-1fac-4f32-de2e-7a199fb4148d"
      },
      "execution_count": 114,
      "outputs": [
        {
          "output_type": "execute_result",
          "data": {
            "text/plain": [
              "[['AddNode', 0, None, 11],\n",
              " ['AddNode', 0, None, 41],\n",
              " ['AddNode', 0, None, 7],\n",
              " ['AddNode', 2, None, 67],\n",
              " ['AddNode', 3, None, 59],\n",
              " ['AddNode', 2, None, 62],\n",
              " ['SetEdgeAttr', 2, 5, 1],\n",
              " ['AddNode', 5, None, 65],\n",
              " ['AddNode', 4, None, 56],\n",
              " ['AddNode', 1, None, 9],\n",
              " ['SetEdgeAttr', 2, 3, 4],\n",
              " ['SetEdgeAttr', 2, 5, 0],\n",
              " ['SetEdgeAttr', 5, 6, 5],\n",
              " ['SetEdgeAttr', 0, 2, 2],\n",
              " ['SetEdgeAttr', 0, 1, 1],\n",
              " ['SetEdgeAttr', 0, 1, 1],\n",
              " ['SetEdgeAttr', 0, 2, 0],\n",
              " ['SetEdgeAttr', 4, 7, 1],\n",
              " ['SetEdgeAttr', 4, 7, 0],\n",
              " ['SetEdgeAttr', 3, 4, 1],\n",
              " ['SetEdgeAttr', 1, 8, 1],\n",
              " ['SetEdgeAttr', 2, 3, 0],\n",
              " ['SetEdgeAttr', 5, 6, 0],\n",
              " ['SetEdgeAttr', 1, 8, 0],\n",
              " ['SetEdgeAttr', 3, 4, 1],\n",
              " ['Stop', None, None, None]]"
            ]
          },
          "metadata": {},
          "execution_count": 114
        }
      ]
    },
    {
      "cell_type": "code",
      "source": [
        "# Numerical encoding\n",
        "enc_dict = {}\n",
        "\n",
        "action_names = set({})\n",
        "action_attr = set({})\n",
        "\n",
        "for a in new_actions:\n",
        "    for s in a:\n",
        "        action_names.add(s[0])\n",
        "        # action_attr.add(str(s[-1]))"
      ],
      "metadata": {
        "id": "36bPzg8drWKI"
      },
      "execution_count": 115,
      "outputs": []
    },
    {
      "cell_type": "code",
      "source": [
        "for idx, i in enumerate(action_names):\n",
        "    enc_dict[i] = idx+1\n",
        "# for idx, i in enumerate(action_attr):\n",
        "#     enc_dict[i] = idx+1\n",
        "enc_dict[\"None\"] = -1"
      ],
      "metadata": {
        "id": "dxoB-U3yr-ps"
      },
      "execution_count": 116,
      "outputs": []
    },
    {
      "cell_type": "code",
      "source": [
        "num_actions = []\n",
        "for a in new_actions:\n",
        "    new_a = []\n",
        "    for s in a:\n",
        "        new_s = []\n",
        "        for i in s:\n",
        "            if enc_dict.get(str(i)) is None:\n",
        "                new_s.append(i)\n",
        "            else:\n",
        "                new_s.append(enc_dict[str(i)])\n",
        "        new_a.append(new_s)\n",
        "    num_actions.append(new_a)"
      ],
      "metadata": {
        "id": "P361Bgnxsitd"
      },
      "execution_count": 117,
      "outputs": []
    },
    {
      "cell_type": "code",
      "source": [
        "num_actions[0]"
      ],
      "metadata": {
        "colab": {
          "base_uri": "https://localhost:8080/"
        },
        "id": "kXihqqoyzYA5",
        "outputId": "cb06cab0-a35e-42a7-bb33-3bcfed987556"
      },
      "execution_count": 118,
      "outputs": [
        {
          "output_type": "execute_result",
          "data": {
            "text/plain": [
              "[[3, 0, -1, 11],\n",
              " [3, 0, -1, 41],\n",
              " [3, 0, -1, 7],\n",
              " [3, 2, -1, 67],\n",
              " [3, 3, -1, 59],\n",
              " [3, 2, -1, 62],\n",
              " [2, 2, 5, 1],\n",
              " [3, 5, -1, 65],\n",
              " [3, 4, -1, 56],\n",
              " [3, 1, -1, 9],\n",
              " [2, 2, 3, 4],\n",
              " [2, 2, 5, 0],\n",
              " [2, 5, 6, 5],\n",
              " [2, 0, 2, 2],\n",
              " [2, 0, 1, 1],\n",
              " [2, 0, 1, 1],\n",
              " [2, 0, 2, 0],\n",
              " [2, 4, 7, 1],\n",
              " [2, 4, 7, 0],\n",
              " [2, 3, 4, 1],\n",
              " [2, 1, 8, 1],\n",
              " [2, 2, 3, 0],\n",
              " [2, 5, 6, 0],\n",
              " [2, 1, 8, 0],\n",
              " [2, 3, 4, 1],\n",
              " [1, -1, -1, -1]]"
            ]
          },
          "metadata": {},
          "execution_count": 118
        }
      ]
    },
    {
      "cell_type": "code",
      "source": [
        "from keras import metrics\n",
        "import keras\n",
        "import tensorflow as tf\n",
        "import os"
      ],
      "metadata": {
        "id": "XZLJlC1aqdPt"
      },
      "execution_count": 43,
      "outputs": []
    },
    {
      "cell_type": "code",
      "source": [
        "def build_net(seq_len=26, feats=4):\n",
        "    model = keras.Sequential()\n",
        "    model.add(keras.layers.LSTM(32, kernel_initializer='he_uniform', batch_input_shape=(None, seq_len, feats), return_sequences=True, name='encoder_1'))\n",
        "    model.add(keras.layers.LSTM(16, kernel_initializer='he_uniform', return_sequences=True, name='encoder_2'))\n",
        "    model.add(keras.layers.LSTM(8, kernel_initializer='he_uniform', return_sequences=False, name='encoder_3'))\n",
        "    model.add(keras.layers.RepeatVector(seq_len, name='encoder_decoder_bridge'))\n",
        "    model.add(keras.layers.LSTM(8, kernel_initializer='he_uniform', return_sequences=True, name='decoder_1'))\n",
        "    model.add(keras.layers.LSTM(16, kernel_initializer='he_uniform', return_sequences=True, name='decoder_2'))\n",
        "    model.add(keras.layers.LSTM(32, kernel_initializer='he_uniform', return_sequences=True, name='decoder_3'))\n",
        "    model.add(keras.layers.TimeDistributed(keras.layers.Dense(feats)))\n",
        "    model.compile(loss=\"mse\",optimizer='adam')\n",
        "    model.build()\n",
        "    print(model.summary())\n",
        "    return model\n"
      ],
      "metadata": {
        "id": "TMzOljP5qiau"
      },
      "execution_count": 136,
      "outputs": []
    },
    {
      "cell_type": "code",
      "source": [
        "emb_nn = build_net()"
      ],
      "metadata": {
        "colab": {
          "base_uri": "https://localhost:8080/"
        },
        "id": "1Rd40dQX0cVf",
        "outputId": "9bc6d752-57c9-4490-9f8c-b37cdd15ba49"
      },
      "execution_count": 137,
      "outputs": [
        {
          "output_type": "stream",
          "name": "stdout",
          "text": [
            "Model: \"sequential_4\"\n",
            "_________________________________________________________________\n",
            " Layer (type)                Output Shape              Param #   \n",
            "=================================================================\n",
            " encoder_1 (LSTM)            (None, 26, 32)            4736      \n",
            "                                                                 \n",
            " encoder_2 (LSTM)            (None, 26, 16)            3136      \n",
            "                                                                 \n",
            " encoder_3 (LSTM)            (None, 8)                 800       \n",
            "                                                                 \n",
            " encoder_decoder_bridge (Re  (None, 26, 8)             0         \n",
            " peatVector)                                                     \n",
            "                                                                 \n",
            " decoder_1 (LSTM)            (None, 26, 8)             544       \n",
            "                                                                 \n",
            " decoder_2 (LSTM)            (None, 26, 16)            1600      \n",
            "                                                                 \n",
            " decoder_3 (LSTM)            (None, 26, 32)            6272      \n",
            "                                                                 \n",
            " time_distributed_4 (TimeDi  (None, 26, 4)             132       \n",
            " stributed)                                                      \n",
            "                                                                 \n",
            "=================================================================\n",
            "Total params: 17220 (67.27 KB)\n",
            "Trainable params: 17220 (67.27 KB)\n",
            "Non-trainable params: 0 (0.00 Byte)\n",
            "_________________________________________________________________\n",
            "None\n"
          ]
        }
      ]
    },
    {
      "cell_type": "code",
      "source": [
        "X, X_val = num_actions[:750], num_actions[750:]"
      ],
      "metadata": {
        "id": "koOvnSeK0RsU"
      },
      "execution_count": 138,
      "outputs": []
    },
    {
      "cell_type": "code",
      "source": [
        "early_stop = tf.keras.callbacks.EarlyStopping(\n",
        "    monitor='val_loss', min_delta=1e-3, patience=5, verbose=0, mode='auto',\n",
        "    baseline=None, restore_best_weights=True)\n",
        "\n",
        "epochs = 500\n",
        "batch_size = 64\n",
        "emb_nn.fit(x=X, y=X, validation_data=(X_val, X_val), epochs=epochs, batch_size=batch_size, shuffle=True, callbacks=[early_stop])\n"
      ],
      "metadata": {
        "colab": {
          "base_uri": "https://localhost:8080/"
        },
        "id": "RKySIPIJil5l",
        "outputId": "8a0dd45a-5346-43d9-fff4-f450cf21fb69"
      },
      "execution_count": 139,
      "outputs": [
        {
          "output_type": "stream",
          "name": "stdout",
          "text": [
            "Epoch 1/500\n",
            "12/12 [==============================] - 14s 245ms/step - loss: 120.0639 - val_loss: 116.6020\n",
            "Epoch 2/500\n",
            "12/12 [==============================] - 0s 36ms/step - loss: 114.9991 - val_loss: 112.2036\n",
            "Epoch 3/500\n",
            "12/12 [==============================] - 0s 34ms/step - loss: 110.6942 - val_loss: 107.8773\n",
            "Epoch 4/500\n",
            "12/12 [==============================] - 0s 32ms/step - loss: 106.2692 - val_loss: 103.4053\n",
            "Epoch 5/500\n",
            "12/12 [==============================] - 0s 34ms/step - loss: 101.8271 - val_loss: 99.0243\n",
            "Epoch 6/500\n",
            "12/12 [==============================] - 0s 33ms/step - loss: 97.5042 - val_loss: 94.8051\n",
            "Epoch 7/500\n",
            "12/12 [==============================] - 0s 35ms/step - loss: 93.5561 - val_loss: 91.2964\n",
            "Epoch 8/500\n",
            "12/12 [==============================] - 0s 32ms/step - loss: 90.3858 - val_loss: 88.5762\n",
            "Epoch 9/500\n",
            "12/12 [==============================] - 0s 21ms/step - loss: 87.8660 - val_loss: 86.2642\n",
            "Epoch 10/500\n",
            "12/12 [==============================] - 0s 23ms/step - loss: 85.6507 - val_loss: 84.2236\n",
            "Epoch 11/500\n",
            "12/12 [==============================] - 0s 22ms/step - loss: 83.6409 - val_loss: 82.3190\n",
            "Epoch 12/500\n",
            "12/12 [==============================] - 0s 23ms/step - loss: 81.8136 - val_loss: 80.5799\n",
            "Epoch 13/500\n",
            "12/12 [==============================] - 0s 24ms/step - loss: 80.0887 - val_loss: 79.0144\n",
            "Epoch 14/500\n",
            "12/12 [==============================] - 0s 23ms/step - loss: 78.5627 - val_loss: 77.6564\n",
            "Epoch 15/500\n",
            "12/12 [==============================] - 0s 21ms/step - loss: 77.0410 - val_loss: 76.1181\n",
            "Epoch 16/500\n",
            "12/12 [==============================] - 0s 21ms/step - loss: 75.6424 - val_loss: 74.7506\n",
            "Epoch 17/500\n",
            "12/12 [==============================] - 0s 23ms/step - loss: 74.3921 - val_loss: 73.5633\n",
            "Epoch 18/500\n",
            "12/12 [==============================] - 0s 22ms/step - loss: 73.1223 - val_loss: 72.3436\n",
            "Epoch 19/500\n",
            "12/12 [==============================] - 0s 22ms/step - loss: 71.7521 - val_loss: 70.9352\n",
            "Epoch 20/500\n",
            "12/12 [==============================] - 0s 23ms/step - loss: 70.5050 - val_loss: 69.7808\n",
            "Epoch 21/500\n",
            "12/12 [==============================] - 0s 25ms/step - loss: 69.4118 - val_loss: 68.7698\n",
            "Epoch 22/500\n",
            "12/12 [==============================] - 0s 22ms/step - loss: 68.4625 - val_loss: 67.8676\n",
            "Epoch 23/500\n",
            "12/12 [==============================] - 0s 24ms/step - loss: 67.6611 - val_loss: 67.0854\n",
            "Epoch 24/500\n",
            "12/12 [==============================] - 0s 22ms/step - loss: 66.8148 - val_loss: 66.1592\n",
            "Epoch 25/500\n",
            "12/12 [==============================] - 0s 22ms/step - loss: 65.9220 - val_loss: 65.3280\n",
            "Epoch 26/500\n",
            "12/12 [==============================] - 0s 25ms/step - loss: 65.0342 - val_loss: 64.5694\n",
            "Epoch 27/500\n",
            "12/12 [==============================] - 0s 26ms/step - loss: 64.2543 - val_loss: 63.7646\n",
            "Epoch 28/500\n",
            "12/12 [==============================] - 0s 21ms/step - loss: 63.5107 - val_loss: 63.0596\n",
            "Epoch 29/500\n",
            "12/12 [==============================] - 0s 22ms/step - loss: 62.8174 - val_loss: 62.3780\n",
            "Epoch 30/500\n",
            "12/12 [==============================] - 0s 26ms/step - loss: 62.2256 - val_loss: 61.8346\n",
            "Epoch 31/500\n",
            "12/12 [==============================] - 0s 22ms/step - loss: 61.5749 - val_loss: 61.2227\n",
            "Epoch 32/500\n",
            "12/12 [==============================] - 0s 21ms/step - loss: 60.9824 - val_loss: 60.6325\n",
            "Epoch 33/500\n",
            "12/12 [==============================] - 0s 21ms/step - loss: 60.4147 - val_loss: 60.0956\n",
            "Epoch 34/500\n",
            "12/12 [==============================] - 0s 21ms/step - loss: 59.8991 - val_loss: 59.6211\n",
            "Epoch 35/500\n",
            "12/12 [==============================] - 0s 21ms/step - loss: 59.4434 - val_loss: 59.1657\n",
            "Epoch 36/500\n",
            "12/12 [==============================] - 0s 23ms/step - loss: 58.9949 - val_loss: 58.7344\n",
            "Epoch 37/500\n",
            "12/12 [==============================] - 0s 25ms/step - loss: 58.5809 - val_loss: 58.3323\n",
            "Epoch 38/500\n",
            "12/12 [==============================] - 0s 25ms/step - loss: 58.1990 - val_loss: 58.0177\n",
            "Epoch 39/500\n",
            "12/12 [==============================] - 0s 33ms/step - loss: 57.8152 - val_loss: 57.5664\n",
            "Epoch 40/500\n",
            "12/12 [==============================] - 0s 33ms/step - loss: 57.4438 - val_loss: 57.2756\n",
            "Epoch 41/500\n",
            "12/12 [==============================] - 0s 32ms/step - loss: 57.1485 - val_loss: 56.9944\n",
            "Epoch 42/500\n",
            "12/12 [==============================] - 0s 34ms/step - loss: 56.8310 - val_loss: 56.6227\n",
            "Epoch 43/500\n",
            "12/12 [==============================] - 0s 37ms/step - loss: 56.5270 - val_loss: 56.3750\n",
            "Epoch 44/500\n",
            "12/12 [==============================] - 0s 34ms/step - loss: 56.1823 - val_loss: 56.0619\n",
            "Epoch 45/500\n",
            "12/12 [==============================] - 0s 32ms/step - loss: 55.9588 - val_loss: 55.8259\n",
            "Epoch 46/500\n",
            "12/12 [==============================] - 0s 33ms/step - loss: 55.7091 - val_loss: 55.5798\n",
            "Epoch 47/500\n",
            "12/12 [==============================] - 0s 35ms/step - loss: 55.4255 - val_loss: 55.3703\n",
            "Epoch 48/500\n",
            "12/12 [==============================] - 0s 22ms/step - loss: 55.2551 - val_loss: 55.2352\n",
            "Epoch 49/500\n",
            "12/12 [==============================] - 0s 22ms/step - loss: 55.1786 - val_loss: 54.9713\n",
            "Epoch 50/500\n",
            "12/12 [==============================] - 0s 21ms/step - loss: 54.8546 - val_loss: 54.7695\n",
            "Epoch 51/500\n",
            "12/12 [==============================] - 0s 25ms/step - loss: 54.7350 - val_loss: 54.6326\n",
            "Epoch 52/500\n",
            "12/12 [==============================] - 0s 21ms/step - loss: 54.4812 - val_loss: 55.0484\n",
            "Epoch 53/500\n",
            "12/12 [==============================] - 0s 21ms/step - loss: 54.4537 - val_loss: 54.2822\n",
            "Epoch 54/500\n",
            "12/12 [==============================] - 0s 24ms/step - loss: 54.1567 - val_loss: 54.4174\n",
            "Epoch 55/500\n",
            "12/12 [==============================] - 0s 21ms/step - loss: 54.0998 - val_loss: 54.0214\n",
            "Epoch 56/500\n",
            "12/12 [==============================] - 0s 24ms/step - loss: 53.8778 - val_loss: 53.8678\n",
            "Epoch 57/500\n",
            "12/12 [==============================] - 0s 23ms/step - loss: 53.7255 - val_loss: 53.7354\n",
            "Epoch 58/500\n",
            "12/12 [==============================] - 0s 22ms/step - loss: 53.7894 - val_loss: 53.6840\n",
            "Epoch 59/500\n",
            "12/12 [==============================] - 0s 21ms/step - loss: 53.5475 - val_loss: 53.5585\n",
            "Epoch 60/500\n",
            "12/12 [==============================] - 0s 22ms/step - loss: 53.4131 - val_loss: 53.4978\n",
            "Epoch 61/500\n",
            "12/12 [==============================] - 0s 26ms/step - loss: 53.3025 - val_loss: 53.4295\n",
            "Epoch 62/500\n",
            "12/12 [==============================] - 0s 22ms/step - loss: 53.2291 - val_loss: 53.2510\n",
            "Epoch 63/500\n",
            "12/12 [==============================] - 0s 22ms/step - loss: 53.0682 - val_loss: 53.1989\n",
            "Epoch 64/500\n",
            "12/12 [==============================] - 0s 22ms/step - loss: 53.0930 - val_loss: 53.2374\n",
            "Epoch 65/500\n",
            "12/12 [==============================] - 0s 23ms/step - loss: 52.9784 - val_loss: 53.0437\n",
            "Epoch 66/500\n",
            "12/12 [==============================] - 0s 21ms/step - loss: 52.8117 - val_loss: 52.9272\n",
            "Epoch 67/500\n",
            "12/12 [==============================] - 0s 22ms/step - loss: 52.7535 - val_loss: 52.8492\n",
            "Epoch 68/500\n",
            "12/12 [==============================] - 0s 22ms/step - loss: 52.6614 - val_loss: 52.7852\n",
            "Epoch 69/500\n",
            "12/12 [==============================] - 0s 21ms/step - loss: 52.5758 - val_loss: 52.7271\n",
            "Epoch 70/500\n",
            "12/12 [==============================] - 0s 22ms/step - loss: 52.7364 - val_loss: 52.6885\n",
            "Epoch 71/500\n",
            "12/12 [==============================] - 0s 22ms/step - loss: 52.5518 - val_loss: 52.7347\n",
            "Epoch 72/500\n",
            "12/12 [==============================] - 0s 23ms/step - loss: 52.4503 - val_loss: 52.5384\n",
            "Epoch 73/500\n",
            "12/12 [==============================] - 0s 22ms/step - loss: 52.3491 - val_loss: 52.4920\n",
            "Epoch 74/500\n",
            "12/12 [==============================] - 0s 22ms/step - loss: 52.2962 - val_loss: 52.4075\n",
            "Epoch 75/500\n",
            "12/12 [==============================] - 0s 22ms/step - loss: 52.3132 - val_loss: 52.6406\n",
            "Epoch 76/500\n",
            "12/12 [==============================] - 0s 20ms/step - loss: 52.3003 - val_loss: 52.7546\n",
            "Epoch 77/500\n",
            "12/12 [==============================] - 0s 21ms/step - loss: 52.2348 - val_loss: 52.6912\n",
            "Epoch 78/500\n",
            "12/12 [==============================] - 0s 21ms/step - loss: 52.1585 - val_loss: 52.2038\n",
            "Epoch 79/500\n",
            "12/12 [==============================] - 0s 21ms/step - loss: 51.9918 - val_loss: 52.1403\n",
            "Epoch 80/500\n",
            "12/12 [==============================] - 0s 21ms/step - loss: 51.9226 - val_loss: 52.3435\n",
            "Epoch 81/500\n",
            "12/12 [==============================] - 0s 30ms/step - loss: 51.9244 - val_loss: 52.2665\n",
            "Epoch 82/500\n",
            "12/12 [==============================] - 0s 33ms/step - loss: 51.8307 - val_loss: 52.0061\n",
            "Epoch 83/500\n",
            "12/12 [==============================] - 0s 32ms/step - loss: 51.7564 - val_loss: 51.9658\n",
            "Epoch 84/500\n",
            "12/12 [==============================] - 0s 33ms/step - loss: 51.7417 - val_loss: 51.8836\n",
            "Epoch 85/500\n",
            "12/12 [==============================] - 0s 34ms/step - loss: 51.6737 - val_loss: 51.8193\n",
            "Epoch 86/500\n",
            "12/12 [==============================] - 0s 34ms/step - loss: 51.5958 - val_loss: 51.7509\n",
            "Epoch 87/500\n",
            "12/12 [==============================] - 0s 34ms/step - loss: 51.5171 - val_loss: 51.6955\n",
            "Epoch 88/500\n",
            "12/12 [==============================] - 0s 35ms/step - loss: 51.4839 - val_loss: 51.6833\n",
            "Epoch 89/500\n",
            "12/12 [==============================] - 0s 30ms/step - loss: 51.5362 - val_loss: 51.9153\n",
            "Epoch 90/500\n",
            "12/12 [==============================] - 0s 22ms/step - loss: 51.7905 - val_loss: 51.6611\n",
            "Epoch 91/500\n",
            "12/12 [==============================] - 0s 22ms/step - loss: 51.5705 - val_loss: 51.6143\n",
            "Epoch 92/500\n",
            "12/12 [==============================] - 0s 22ms/step - loss: 51.3909 - val_loss: 51.5577\n",
            "Epoch 93/500\n",
            "12/12 [==============================] - 0s 23ms/step - loss: 51.4795 - val_loss: 51.8249\n",
            "Epoch 94/500\n",
            "12/12 [==============================] - 0s 23ms/step - loss: 51.3517 - val_loss: 51.4686\n",
            "Epoch 95/500\n",
            "12/12 [==============================] - 0s 22ms/step - loss: 51.1866 - val_loss: 51.4810\n",
            "Epoch 96/500\n",
            "12/12 [==============================] - 0s 23ms/step - loss: 51.0773 - val_loss: 51.2303\n",
            "Epoch 97/500\n",
            "12/12 [==============================] - 0s 22ms/step - loss: 50.9775 - val_loss: 51.1756\n",
            "Epoch 98/500\n",
            "12/12 [==============================] - 0s 24ms/step - loss: 50.9097 - val_loss: 51.0938\n",
            "Epoch 99/500\n",
            "12/12 [==============================] - 0s 22ms/step - loss: 50.8675 - val_loss: 51.0425\n",
            "Epoch 100/500\n",
            "12/12 [==============================] - 0s 21ms/step - loss: 50.8913 - val_loss: 50.9870\n",
            "Epoch 101/500\n",
            "12/12 [==============================] - 0s 22ms/step - loss: 50.7134 - val_loss: 50.9104\n",
            "Epoch 102/500\n",
            "12/12 [==============================] - 0s 22ms/step - loss: 50.6535 - val_loss: 50.8379\n",
            "Epoch 103/500\n",
            "12/12 [==============================] - 0s 21ms/step - loss: 50.5844 - val_loss: 50.8901\n",
            "Epoch 104/500\n",
            "12/12 [==============================] - 0s 20ms/step - loss: 50.6282 - val_loss: 50.9297\n",
            "Epoch 105/500\n",
            "12/12 [==============================] - 0s 21ms/step - loss: 50.5572 - val_loss: 50.7529\n",
            "Epoch 106/500\n",
            "12/12 [==============================] - 0s 23ms/step - loss: 50.4287 - val_loss: 50.5434\n",
            "Epoch 107/500\n",
            "12/12 [==============================] - 0s 21ms/step - loss: 50.4044 - val_loss: 50.4839\n",
            "Epoch 108/500\n",
            "12/12 [==============================] - 0s 23ms/step - loss: 50.2976 - val_loss: 50.3379\n",
            "Epoch 109/500\n",
            "12/12 [==============================] - 0s 22ms/step - loss: 50.1959 - val_loss: 50.2935\n",
            "Epoch 110/500\n",
            "12/12 [==============================] - 0s 22ms/step - loss: 50.0400 - val_loss: 50.1512\n",
            "Epoch 111/500\n",
            "12/12 [==============================] - 0s 22ms/step - loss: 49.9329 - val_loss: 50.0398\n",
            "Epoch 112/500\n",
            "12/12 [==============================] - 0s 21ms/step - loss: 49.8355 - val_loss: 49.9880\n",
            "Epoch 113/500\n",
            "12/12 [==============================] - 0s 21ms/step - loss: 49.8324 - val_loss: 49.9942\n",
            "Epoch 114/500\n",
            "12/12 [==============================] - 0s 25ms/step - loss: 49.8762 - val_loss: 49.7786\n",
            "Epoch 115/500\n",
            "12/12 [==============================] - 0s 22ms/step - loss: 49.7234 - val_loss: 49.6578\n",
            "Epoch 116/500\n",
            "12/12 [==============================] - 0s 24ms/step - loss: 49.5369 - val_loss: 49.5897\n",
            "Epoch 117/500\n",
            "12/12 [==============================] - 0s 22ms/step - loss: 49.4323 - val_loss: 49.4980\n",
            "Epoch 118/500\n",
            "12/12 [==============================] - 0s 25ms/step - loss: 49.3582 - val_loss: 49.4501\n",
            "Epoch 119/500\n",
            "12/12 [==============================] - 0s 23ms/step - loss: 49.3079 - val_loss: 49.4662\n",
            "Epoch 120/500\n",
            "12/12 [==============================] - 0s 22ms/step - loss: 49.2787 - val_loss: 49.3885\n",
            "Epoch 121/500\n",
            "12/12 [==============================] - 0s 30ms/step - loss: 49.1621 - val_loss: 49.2191\n",
            "Epoch 122/500\n",
            "12/12 [==============================] - 0s 35ms/step - loss: 49.0816 - val_loss: 49.1242\n",
            "Epoch 123/500\n",
            "12/12 [==============================] - 0s 33ms/step - loss: 49.0516 - val_loss: 49.0819\n",
            "Epoch 124/500\n",
            "12/12 [==============================] - 0s 30ms/step - loss: 49.0536 - val_loss: 49.0783\n",
            "Epoch 125/500\n",
            "12/12 [==============================] - 0s 33ms/step - loss: 48.9860 - val_loss: 48.9769\n",
            "Epoch 126/500\n",
            "12/12 [==============================] - 0s 35ms/step - loss: 48.9011 - val_loss: 48.8947\n",
            "Epoch 127/500\n",
            "12/12 [==============================] - 0s 34ms/step - loss: 48.7916 - val_loss: 48.8223\n",
            "Epoch 128/500\n",
            "12/12 [==============================] - 0s 36ms/step - loss: 48.7356 - val_loss: 48.7467\n",
            "Epoch 129/500\n",
            "12/12 [==============================] - 0s 37ms/step - loss: 48.6435 - val_loss: 48.6845\n",
            "Epoch 130/500\n",
            "12/12 [==============================] - 0s 26ms/step - loss: 48.5846 - val_loss: 48.6191\n",
            "Epoch 131/500\n",
            "12/12 [==============================] - 0s 23ms/step - loss: 48.6371 - val_loss: 48.5517\n",
            "Epoch 132/500\n",
            "12/12 [==============================] - 0s 24ms/step - loss: 48.5112 - val_loss: 48.6645\n",
            "Epoch 133/500\n",
            "12/12 [==============================] - 0s 21ms/step - loss: 48.6701 - val_loss: 49.7650\n",
            "Epoch 134/500\n",
            "12/12 [==============================] - 0s 25ms/step - loss: 49.0282 - val_loss: 49.0884\n",
            "Epoch 135/500\n",
            "12/12 [==============================] - 0s 22ms/step - loss: 49.2415 - val_loss: 48.7434\n",
            "Epoch 136/500\n",
            "12/12 [==============================] - 0s 22ms/step - loss: 48.7314 - val_loss: 48.8880\n"
          ]
        },
        {
          "output_type": "execute_result",
          "data": {
            "text/plain": [
              "<keras.src.callbacks.History at 0x7b9ec644fe20>"
            ]
          },
          "metadata": {},
          "execution_count": 139
        }
      ]
    },
    {
      "cell_type": "code",
      "source": [
        "from keras.models import Model\n",
        "from sklearn.manifold import TSNE\n",
        "from sklearn.decomposition import PCA"
      ],
      "metadata": {
        "id": "zqj97UH32vHV"
      },
      "execution_count": 130,
      "outputs": []
    },
    {
      "cell_type": "code",
      "source": [
        "encoder = Model(emb_nn.input, emb_nn.layers[2].output)"
      ],
      "metadata": {
        "id": "xfzouOKE0oEz"
      },
      "execution_count": 140,
      "outputs": []
    },
    {
      "cell_type": "code",
      "source": [
        "embeddings = encoder.predict(num_actions)"
      ],
      "metadata": {
        "colab": {
          "base_uri": "https://localhost:8080/"
        },
        "id": "X4p83ynd3Sz2",
        "outputId": "5d674248-2a99-4c5e-9d81-3e4b94a66bb4"
      },
      "execution_count": 141,
      "outputs": [
        {
          "output_type": "stream",
          "name": "stdout",
          "text": [
            "32/32 [==============================] - 1s 4ms/step\n"
          ]
        }
      ]
    },
    {
      "cell_type": "code",
      "source": [
        "enb_reduce = TSNE(n_components=2).fit_transform(embeddings)"
      ],
      "metadata": {
        "id": "WNhJRFdO34p-"
      },
      "execution_count": 142,
      "outputs": []
    },
    {
      "cell_type": "code",
      "source": [
        "def plt_reduce_space(x, color=rew):\n",
        "    '''\n",
        "    Plot Scatter with color\n",
        "    '''\n",
        "    plt.figure(figsize=(8, 8))\n",
        "    plt.scatter(x[:, 0], x[:, 1], c=color, cmap='coolwarm')\n",
        "    plt.show()"
      ],
      "metadata": {
        "id": "gSiHwzZG3a0c"
      },
      "execution_count": 143,
      "outputs": []
    },
    {
      "cell_type": "code",
      "source": [
        "plt_reduce_space(enb_reduce)"
      ],
      "metadata": {
        "colab": {
          "base_uri": "https://localhost:8080/",
          "height": 676
        },
        "id": "T03fT6Le3-yk",
        "outputId": "271c0c27-7747-431f-fb69-e1fd4f946d64"
      },
      "execution_count": 144,
      "outputs": [
        {
          "output_type": "display_data",
          "data": {
            "text/plain": [
              "<Figure size 800x800 with 1 Axes>"
            ],
            "image/png": "[encoded data removed]"
          },
          "metadata": {}
        }
      ]
    },
    {
      "cell_type": "code",
      "source": [],
      "metadata": {
        "id": "u6dezIY88m9t"
      },
      "execution_count": null,
      "outputs": []
    }
  ]
}