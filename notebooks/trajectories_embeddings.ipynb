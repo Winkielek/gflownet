{
  "nbformat": 4,
  "nbformat_minor": 0,
  "metadata": {
    "colab": {
      "provenance": [],
      "gpuType": "T4",
      "include_colab_link": true
    },
    "kernelspec": {
      "name": "python3",
      "display_name": "Python 3"
    },
    "language_info": {
      "name": "python"
    },
    "accelerator": "GPU"
  },
  "cells": [
    {
      "cell_type": "markdown",
      "metadata": {
        "id": "view-in-github",
        "colab_type": "text"
      },
      "source": [
        "<a href=\"https://colab.research.google.com/github/Winkielek/gflownet/blob/master/notebooks/trajectories.ipynb\" target=\"_parent\"><img src=\"https://colab.research.google.com/assets/colab-badge.svg\" alt=\"Open In Colab\"/></a>"
      ]
    },
    {
      "cell_type": "code",
      "source": [
        "# Clone gflownet lib\n",
        "!rm -rf gflownet\n",
        "!git clone https://github.com/Winkielek/gflownet.git\n",
        "\n",
        "# Freeze torch version\n",
        "!pip install torch==2.1.0+cu121 -f https://download.pytorch.org/whl/torch_stable.html\n",
        "\n",
        "# Install torch geometric\n",
        "!pip install torch-scatter torch-sparse -f https://data.pyg.org/whl/torch-2.1.0+cu121.html\n",
        "!pip install torch-geometric scipy==1.8 deepchem\n",
        "\n",
        "# Install gflownet lib\n",
        "!pip install -e ./gflownet"
      ],
      "metadata": {
        "id": "FywnVzx73D5P",
        "colab": {
          "base_uri": "https://localhost:8080/",
          "height": 1000
        },
        "outputId": "3ba7921d-c15e-4d4a-8a1c-a08d413f91fe"
      },
      "execution_count": 1,
      "outputs": [
        {
          "output_type": "stream",
          "name": "stdout",
          "text": [
            "Cloning into 'gflownet'...\n",
            "remote: Enumerating objects: 1400, done.\u001b[K\n",
            "remote: Counting objects: 100% (524/524), done.\u001b[K\n",
            "remote: Compressing objects: 100% (180/180), done.\u001b[K\n",
            "remote: Total 1400 (delta 402), reused 368 (delta 343), pack-reused 876\u001b[K\n",
            "Receiving objects: 100% (1400/1400), 13.74 MiB | 24.34 MiB/s, done.\n",
            "Resolving deltas: 100% (779/779), done.\n",
            "Looking in links: https://download.pytorch.org/whl/torch_stable.html\n",
            "Requirement already satisfied: torch==2.1.0+cu121 in /usr/local/lib/python3.10/dist-packages (2.1.0+cu121)\n",
            "Requirement already satisfied: filelock in /usr/local/lib/python3.10/dist-packages (from torch==2.1.0+cu121) (3.13.1)\n",
            "Requirement already satisfied: typing-extensions in /usr/local/lib/python3.10/dist-packages (from torch==2.1.0+cu121) (4.5.0)\n",
            "Requirement already satisfied: sympy in /usr/local/lib/python3.10/dist-packages (from torch==2.1.0+cu121) (1.12)\n",
            "Requirement already satisfied: networkx in /usr/local/lib/python3.10/dist-packages (from torch==2.1.0+cu121) (3.2.1)\n",
            "Requirement already satisfied: jinja2 in /usr/local/lib/python3.10/dist-packages (from torch==2.1.0+cu121) (3.1.3)\n",
            "Requirement already satisfied: fsspec in /usr/local/lib/python3.10/dist-packages (from torch==2.1.0+cu121) (2023.6.0)\n",
            "Requirement already satisfied: triton==2.1.0 in /usr/local/lib/python3.10/dist-packages (from torch==2.1.0+cu121) (2.1.0)\n",
            "Requirement already satisfied: MarkupSafe>=2.0 in /usr/local/lib/python3.10/dist-packages (from jinja2->torch==2.1.0+cu121) (2.1.3)\n",
            "Requirement already satisfied: mpmath>=0.19 in /usr/local/lib/python3.10/dist-packages (from sympy->torch==2.1.0+cu121) (1.3.0)\n",
            "Looking in links: https://data.pyg.org/whl/torch-2.1.0+cu121.html\n",
            "Collecting torch-scatter\n",
            "  Downloading https://data.pyg.org/whl/torch-2.1.0%2Bcu121/torch_scatter-2.1.2%2Bpt21cu121-cp310-cp310-linux_x86_64.whl (10.8 MB)\n",
            "\u001b[2K     \u001b[90m━━━━━━━━━━━━━━━━━━━━━━━━━━━━━━━━━━━━━━━━\u001b[0m \u001b[32m10.8/10.8 MB\u001b[0m \u001b[31m31.7 MB/s\u001b[0m eta \u001b[36m0:00:00\u001b[0m\n",
            "\u001b[?25hCollecting torch-sparse\n",
            "  Downloading https://data.pyg.org/whl/torch-2.1.0%2Bcu121/torch_sparse-0.6.18%2Bpt21cu121-cp310-cp310-linux_x86_64.whl (5.0 MB)\n",
            "\u001b[2K     \u001b[90m━━━━━━━━━━━━━━━━━━━━━━━━━━━━━━━━━━━━━━━━\u001b[0m \u001b[32m5.0/5.0 MB\u001b[0m \u001b[31m47.8 MB/s\u001b[0m eta \u001b[36m0:00:00\u001b[0m\n",
            "\u001b[?25hRequirement already satisfied: scipy in /usr/local/lib/python3.10/dist-packages (from torch-sparse) (1.11.4)\n",
            "Requirement already satisfied: numpy<1.28.0,>=1.21.6 in /usr/local/lib/python3.10/dist-packages (from scipy->torch-sparse) (1.23.5)\n",
            "Installing collected packages: torch-scatter, torch-sparse\n",
            "Successfully installed torch-scatter-2.1.2+pt21cu121 torch-sparse-0.6.18+pt21cu121\n",
            "Collecting torch-geometric\n",
            "  Downloading torch_geometric-2.4.0-py3-none-any.whl (1.0 MB)\n",
            "\u001b[2K     \u001b[90m━━━━━━━━━━━━━━━━━━━━━━━━━━━━━━━━━━━━━━━━\u001b[0m \u001b[32m1.0/1.0 MB\u001b[0m \u001b[31m7.9 MB/s\u001b[0m eta \u001b[36m0:00:00\u001b[0m\n",
            "\u001b[?25hCollecting scipy==1.8\n",
            "  Downloading scipy-1.8.0-cp310-cp310-manylinux_2_17_x86_64.manylinux2014_x86_64.whl (42.3 MB)\n",
            "\u001b[2K     \u001b[90m━━━━━━━━━━━━━━━━━━━━━━━━━━━━━━━━━━━━━━━━\u001b[0m \u001b[32m42.3/42.3 MB\u001b[0m \u001b[31m29.6 MB/s\u001b[0m eta \u001b[36m0:00:00\u001b[0m\n",
            "\u001b[?25hCollecting deepchem\n",
            "  Downloading deepchem-2.7.1-py3-none-any.whl (693 kB)\n",
            "\u001b[2K     \u001b[90m━━━━━━━━━━━━━━━━━━━━━━━━━━━━━━━━━━━━━━━━\u001b[0m \u001b[32m693.2/693.2 kB\u001b[0m \u001b[31m45.2 MB/s\u001b[0m eta \u001b[36m0:00:00\u001b[0m\n",
            "\u001b[?25hRequirement already satisfied: numpy<1.25.0,>=1.17.3 in /usr/local/lib/python3.10/dist-packages (from scipy==1.8) (1.23.5)\n",
            "Requirement already satisfied: tqdm in /usr/local/lib/python3.10/dist-packages (from torch-geometric) (4.66.1)\n",
            "Requirement already satisfied: jinja2 in /usr/local/lib/python3.10/dist-packages (from torch-geometric) (3.1.3)\n",
            "Requirement already satisfied: requests in /usr/local/lib/python3.10/dist-packages (from torch-geometric) (2.31.0)\n",
            "Requirement already satisfied: pyparsing in /usr/local/lib/python3.10/dist-packages (from torch-geometric) (3.1.1)\n",
            "Requirement already satisfied: scikit-learn in /usr/local/lib/python3.10/dist-packages (from torch-geometric) (1.2.2)\n",
            "Requirement already satisfied: psutil>=5.8.0 in /usr/local/lib/python3.10/dist-packages (from torch-geometric) (5.9.5)\n",
            "Requirement already satisfied: joblib in /usr/local/lib/python3.10/dist-packages (from deepchem) (1.3.2)\n",
            "Requirement already satisfied: pandas in /usr/local/lib/python3.10/dist-packages (from deepchem) (1.5.3)\n",
            "Collecting rdkit (from deepchem)\n",
            "  Downloading rdkit-2023.9.4-cp310-cp310-manylinux_2_17_x86_64.manylinux2014_x86_64.whl (34.4 MB)\n",
            "\u001b[2K     \u001b[90m━━━━━━━━━━━━━━━━━━━━━━━━━━━━━━━━━━━━━━━━\u001b[0m \u001b[32m34.4/34.4 MB\u001b[0m \u001b[31m13.0 MB/s\u001b[0m eta \u001b[36m0:00:00\u001b[0m\n",
            "\u001b[?25hRequirement already satisfied: MarkupSafe>=2.0 in /usr/local/lib/python3.10/dist-packages (from jinja2->torch-geometric) (2.1.3)\n",
            "Requirement already satisfied: python-dateutil>=2.8.1 in /usr/local/lib/python3.10/dist-packages (from pandas->deepchem) (2.8.2)\n",
            "Requirement already satisfied: pytz>=2020.1 in /usr/local/lib/python3.10/dist-packages (from pandas->deepchem) (2023.3.post1)\n",
            "Requirement already satisfied: Pillow in /usr/local/lib/python3.10/dist-packages (from rdkit->deepchem) (9.4.0)\n",
            "Requirement already satisfied: charset-normalizer<4,>=2 in /usr/local/lib/python3.10/dist-packages (from requests->torch-geometric) (3.3.2)\n",
            "Requirement already satisfied: idna<4,>=2.5 in /usr/local/lib/python3.10/dist-packages (from requests->torch-geometric) (3.6)\n",
            "Requirement already satisfied: urllib3<3,>=1.21.1 in /usr/local/lib/python3.10/dist-packages (from requests->torch-geometric) (2.0.7)\n",
            "Requirement already satisfied: certifi>=2017.4.17 in /usr/local/lib/python3.10/dist-packages (from requests->torch-geometric) (2023.11.17)\n",
            "Requirement already satisfied: threadpoolctl>=2.0.0 in /usr/local/lib/python3.10/dist-packages (from scikit-learn->torch-geometric) (3.2.0)\n",
            "Requirement already satisfied: six>=1.5 in /usr/local/lib/python3.10/dist-packages (from python-dateutil>=2.8.1->pandas->deepchem) (1.16.0)\n",
            "Installing collected packages: scipy, rdkit, torch-geometric, deepchem\n",
            "  Attempting uninstall: scipy\n",
            "    Found existing installation: scipy 1.11.4\n",
            "    Uninstalling scipy-1.11.4:\n",
            "      Successfully uninstalled scipy-1.11.4\n",
            "\u001b[31mERROR: pip's dependency resolver does not currently take into account all the packages that are installed. This behaviour is the source of the following dependency conflicts.\n",
            "lida 0.0.10 requires fastapi, which is not installed.\n",
            "lida 0.0.10 requires kaleido, which is not installed.\n",
            "lida 0.0.10 requires python-multipart, which is not installed.\n",
            "lida 0.0.10 requires uvicorn, which is not installed.\n",
            "jax 0.4.23 requires scipy>=1.9, but you have scipy 1.8.0 which is incompatible.\n",
            "jaxlib 0.4.23+cuda12.cudnn89 requires scipy>=1.9, but you have scipy 1.8.0 which is incompatible.\u001b[0m\u001b[31m\n",
            "\u001b[0mSuccessfully installed deepchem-2.7.1 rdkit-2023.9.4 scipy-1.8.0 torch-geometric-2.4.0\n",
            "Obtaining file:///content/gflownet\n",
            "  Installing build dependencies ... \u001b[?25l\u001b[?25hdone\n",
            "  Checking if build backend supports build_editable ... \u001b[?25l\u001b[?25hdone\n",
            "  Getting requirements to build editable ... \u001b[?25l\u001b[?25hdone\n",
            "  Preparing editable metadata (pyproject.toml) ... \u001b[?25l\u001b[?25hdone\n",
            "Requirement already satisfied: rdkit in /usr/local/lib/python3.10/dist-packages (from gflownet==0.1.0) (2023.9.4)\n",
            "Requirement already satisfied: tables in /usr/local/lib/python3.10/dist-packages (from gflownet==0.1.0) (3.8.0)\n",
            "Requirement already satisfied: scipy in /usr/local/lib/python3.10/dist-packages (from gflownet==0.1.0) (1.8.0)\n",
            "Requirement already satisfied: networkx in /usr/local/lib/python3.10/dist-packages (from gflownet==0.1.0) (3.2.1)\n",
            "Requirement already satisfied: tensorboard in /usr/local/lib/python3.10/dist-packages (from gflownet==0.1.0) (2.15.1)\n",
            "Requirement already satisfied: cvxopt in /usr/local/lib/python3.10/dist-packages (from gflownet==0.1.0) (1.3.2)\n",
            "Requirement already satisfied: pyarrow in /usr/local/lib/python3.10/dist-packages (from gflownet==0.1.0) (10.0.1)\n",
            "Collecting gitpython (from gflownet==0.1.0)\n",
            "  Downloading GitPython-3.1.41-py3-none-any.whl (196 kB)\n",
            "\u001b[2K     \u001b[90m━━━━━━━━━━━━━━━━━━━━━━━━━━━━━━━━━━━━━━━━\u001b[0m \u001b[32m196.4/196.4 kB\u001b[0m \u001b[31m4.1 MB/s\u001b[0m eta \u001b[36m0:00:00\u001b[0m\n",
            "\u001b[?25hCollecting botorch (from gflownet==0.1.0)\n",
            "  Downloading botorch-0.9.5-py3-none-any.whl (596 kB)\n",
            "\u001b[2K     \u001b[90m━━━━━━━━━━━━━━━━━━━━━━━━━━━━━━━━━━━━━━━━\u001b[0m \u001b[32m596.4/596.4 kB\u001b[0m \u001b[31m12.2 MB/s\u001b[0m eta \u001b[36m0:00:00\u001b[0m\n",
            "\u001b[?25hCollecting pyro-ppl (from gflownet==0.1.0)\n",
            "  Downloading pyro_ppl-1.8.6-py3-none-any.whl (732 kB)\n",
            "\u001b[2K     \u001b[90m━━━━━━━━━━━━━━━━━━━━━━━━━━━━━━━━━━━━━━━━\u001b[0m \u001b[32m732.8/732.8 kB\u001b[0m \u001b[31m17.8 MB/s\u001b[0m eta \u001b[36m0:00:00\u001b[0m\n",
            "\u001b[?25hCollecting gpytorch (from gflownet==0.1.0)\n",
            "  Downloading gpytorch-1.11-py3-none-any.whl (266 kB)\n",
            "\u001b[2K     \u001b[90m━━━━━━━━━━━━━━━━━━━━━━━━━━━━━━━━━━━━━━━━\u001b[0m \u001b[32m266.1/266.1 kB\u001b[0m \u001b[31m15.1 MB/s\u001b[0m eta \u001b[36m0:00:00\u001b[0m\n",
            "\u001b[?25hCollecting omegaconf>=2.3 (from gflownet==0.1.0)\n",
            "  Downloading omegaconf-2.3.0-py3-none-any.whl (79 kB)\n",
            "\u001b[2K     \u001b[90m━━━━━━━━━━━━━━━━━━━━━━━━━━━━━━━━━━━━━━━━\u001b[0m \u001b[32m79.5/79.5 kB\u001b[0m \u001b[31m9.3 MB/s\u001b[0m eta \u001b[36m0:00:00\u001b[0m\n",
            "\u001b[?25hCollecting antlr4-python3-runtime==4.9.* (from omegaconf>=2.3->gflownet==0.1.0)\n",
            "  Downloading antlr4-python3-runtime-4.9.3.tar.gz (117 kB)\n",
            "\u001b[2K     \u001b[90m━━━━━━━━━━━━━━━━━━━━━━━━━━━━━━━━━━━━━━━━\u001b[0m \u001b[32m117.0/117.0 kB\u001b[0m \u001b[31m13.8 MB/s\u001b[0m eta \u001b[36m0:00:00\u001b[0m\n",
            "\u001b[?25h  Preparing metadata (setup.py) ... \u001b[?25l\u001b[?25hdone\n",
            "Requirement already satisfied: PyYAML>=5.1.0 in /usr/local/lib/python3.10/dist-packages (from omegaconf>=2.3->gflownet==0.1.0) (6.0.1)\n",
            "Requirement already satisfied: multipledispatch in /usr/local/lib/python3.10/dist-packages (from botorch->gflownet==0.1.0) (1.0.0)\n",
            "Requirement already satisfied: torch>=1.13.1 in /usr/local/lib/python3.10/dist-packages (from botorch->gflownet==0.1.0) (2.1.0+cu121)\n",
            "Collecting linear-operator==0.5.1 (from botorch->gflownet==0.1.0)\n",
            "  Downloading linear_operator-0.5.1-py3-none-any.whl (174 kB)\n",
            "\u001b[2K     \u001b[90m━━━━━━━━━━━━━━━━━━━━━━━━━━━━━━━━━━━━━━━━\u001b[0m \u001b[32m174.5/174.5 kB\u001b[0m \u001b[31m14.0 MB/s\u001b[0m eta \u001b[36m0:00:00\u001b[0m\n",
            "\u001b[?25hRequirement already satisfied: scikit-learn in /usr/local/lib/python3.10/dist-packages (from gpytorch->gflownet==0.1.0) (1.2.2)\n",
            "Collecting jaxtyping>=0.2.9 (from linear-operator==0.5.1->botorch->gflownet==0.1.0)\n",
            "  Downloading jaxtyping-0.2.25-py3-none-any.whl (39 kB)\n",
            "Collecting typeguard~=2.13.3 (from linear-operator==0.5.1->botorch->gflownet==0.1.0)\n",
            "  Downloading typeguard-2.13.3-py3-none-any.whl (17 kB)\n",
            "Requirement already satisfied: numpy>=1.7 in /usr/local/lib/python3.10/dist-packages (from pyro-ppl->gflownet==0.1.0) (1.23.5)\n",
            "Requirement already satisfied: opt-einsum>=2.3.2 in /usr/local/lib/python3.10/dist-packages (from pyro-ppl->gflownet==0.1.0) (3.3.0)\n",
            "Collecting pyro-api>=0.1.1 (from pyro-ppl->gflownet==0.1.0)\n",
            "  Downloading pyro_api-0.1.2-py3-none-any.whl (11 kB)\n",
            "Requirement already satisfied: tqdm>=4.36 in /usr/local/lib/python3.10/dist-packages (from pyro-ppl->gflownet==0.1.0) (4.66.1)\n",
            "Collecting gitdb<5,>=4.0.1 (from gitpython->gflownet==0.1.0)\n",
            "  Downloading gitdb-4.0.11-py3-none-any.whl (62 kB)\n",
            "\u001b[2K     \u001b[90m━━━━━━━━━━━━━━━━━━━━━━━━━━━━━━━━━━━━━━━━\u001b[0m \u001b[32m62.7/62.7 kB\u001b[0m \u001b[31m7.5 MB/s\u001b[0m eta \u001b[36m0:00:00\u001b[0m\n",
            "\u001b[?25hRequirement already satisfied: Pillow in /usr/local/lib/python3.10/dist-packages (from rdkit->gflownet==0.1.0) (9.4.0)\n",
            "Requirement already satisfied: cython>=0.29.21 in /usr/local/lib/python3.10/dist-packages (from tables->gflownet==0.1.0) (3.0.8)\n",
            "Requirement already satisfied: numexpr>=2.6.2 in /usr/local/lib/python3.10/dist-packages (from tables->gflownet==0.1.0) (2.8.8)\n",
            "Requirement already satisfied: blosc2~=2.0.0 in /usr/local/lib/python3.10/dist-packages (from tables->gflownet==0.1.0) (2.0.0)\n",
            "Requirement already satisfied: packaging in /usr/local/lib/python3.10/dist-packages (from tables->gflownet==0.1.0) (23.2)\n",
            "Requirement already satisfied: py-cpuinfo in /usr/local/lib/python3.10/dist-packages (from tables->gflownet==0.1.0) (9.0.0)\n",
            "Requirement already satisfied: absl-py>=0.4 in /usr/local/lib/python3.10/dist-packages (from tensorboard->gflownet==0.1.0) (1.4.0)\n",
            "Requirement already satisfied: grpcio>=1.48.2 in /usr/local/lib/python3.10/dist-packages (from tensorboard->gflownet==0.1.0) (1.60.0)\n",
            "Requirement already satisfied: google-auth<3,>=1.6.3 in /usr/local/lib/python3.10/dist-packages (from tensorboard->gflownet==0.1.0) (2.17.3)\n",
            "Requirement already satisfied: google-auth-oauthlib<2,>=0.5 in /usr/local/lib/python3.10/dist-packages (from tensorboard->gflownet==0.1.0) (1.2.0)\n",
            "Requirement already satisfied: markdown>=2.6.8 in /usr/local/lib/python3.10/dist-packages (from tensorboard->gflownet==0.1.0) (3.5.2)\n",
            "Requirement already satisfied: protobuf<4.24,>=3.19.6 in /usr/local/lib/python3.10/dist-packages (from tensorboard->gflownet==0.1.0) (3.20.3)\n",
            "Requirement already satisfied: requests<3,>=2.21.0 in /usr/local/lib/python3.10/dist-packages (from tensorboard->gflownet==0.1.0) (2.31.0)\n",
            "Requirement already satisfied: setuptools>=41.0.0 in /usr/local/lib/python3.10/dist-packages (from tensorboard->gflownet==0.1.0) (67.7.2)\n",
            "Requirement already satisfied: six>1.9 in /usr/local/lib/python3.10/dist-packages (from tensorboard->gflownet==0.1.0) (1.16.0)\n",
            "Requirement already satisfied: tensorboard-data-server<0.8.0,>=0.7.0 in /usr/local/lib/python3.10/dist-packages (from tensorboard->gflownet==0.1.0) (0.7.2)\n",
            "Requirement already satisfied: werkzeug>=1.0.1 in /usr/local/lib/python3.10/dist-packages (from tensorboard->gflownet==0.1.0) (3.0.1)\n",
            "Requirement already satisfied: msgpack in /usr/local/lib/python3.10/dist-packages (from blosc2~=2.0.0->tables->gflownet==0.1.0) (1.0.7)\n",
            "Collecting smmap<6,>=3.0.1 (from gitdb<5,>=4.0.1->gitpython->gflownet==0.1.0)\n",
            "  Downloading smmap-5.0.1-py3-none-any.whl (24 kB)\n",
            "Requirement already satisfied: cachetools<6.0,>=2.0.0 in /usr/local/lib/python3.10/dist-packages (from google-auth<3,>=1.6.3->tensorboard->gflownet==0.1.0) (5.3.2)\n",
            "Requirement already satisfied: pyasn1-modules>=0.2.1 in /usr/local/lib/python3.10/dist-packages (from google-auth<3,>=1.6.3->tensorboard->gflownet==0.1.0) (0.3.0)\n",
            "Requirement already satisfied: rsa<5,>=3.1.4 in /usr/local/lib/python3.10/dist-packages (from google-auth<3,>=1.6.3->tensorboard->gflownet==0.1.0) (4.9)\n",
            "Requirement already satisfied: requests-oauthlib>=0.7.0 in /usr/local/lib/python3.10/dist-packages (from google-auth-oauthlib<2,>=0.5->tensorboard->gflownet==0.1.0) (1.3.1)\n",
            "Requirement already satisfied: charset-normalizer<4,>=2 in /usr/local/lib/python3.10/dist-packages (from requests<3,>=2.21.0->tensorboard->gflownet==0.1.0) (3.3.2)\n",
            "Requirement already satisfied: idna<4,>=2.5 in /usr/local/lib/python3.10/dist-packages (from requests<3,>=2.21.0->tensorboard->gflownet==0.1.0) (3.6)\n",
            "Requirement already satisfied: urllib3<3,>=1.21.1 in /usr/local/lib/python3.10/dist-packages (from requests<3,>=2.21.0->tensorboard->gflownet==0.1.0) (2.0.7)\n",
            "Requirement already satisfied: certifi>=2017.4.17 in /usr/local/lib/python3.10/dist-packages (from requests<3,>=2.21.0->tensorboard->gflownet==0.1.0) (2023.11.17)\n",
            "Requirement already satisfied: filelock in /usr/local/lib/python3.10/dist-packages (from torch>=1.13.1->botorch->gflownet==0.1.0) (3.13.1)\n",
            "Requirement already satisfied: typing-extensions in /usr/local/lib/python3.10/dist-packages (from torch>=1.13.1->botorch->gflownet==0.1.0) (4.5.0)\n",
            "Requirement already satisfied: sympy in /usr/local/lib/python3.10/dist-packages (from torch>=1.13.1->botorch->gflownet==0.1.0) (1.12)\n",
            "Requirement already satisfied: jinja2 in /usr/local/lib/python3.10/dist-packages (from torch>=1.13.1->botorch->gflownet==0.1.0) (3.1.3)\n",
            "Requirement already satisfied: fsspec in /usr/local/lib/python3.10/dist-packages (from torch>=1.13.1->botorch->gflownet==0.1.0) (2023.6.0)\n",
            "Requirement already satisfied: triton==2.1.0 in /usr/local/lib/python3.10/dist-packages (from torch>=1.13.1->botorch->gflownet==0.1.0) (2.1.0)\n",
            "Requirement already satisfied: MarkupSafe>=2.1.1 in /usr/local/lib/python3.10/dist-packages (from werkzeug>=1.0.1->tensorboard->gflownet==0.1.0) (2.1.3)\n",
            "Requirement already satisfied: joblib>=1.1.1 in /usr/local/lib/python3.10/dist-packages (from scikit-learn->gpytorch->gflownet==0.1.0) (1.3.2)\n",
            "Requirement already satisfied: threadpoolctl>=2.0.0 in /usr/local/lib/python3.10/dist-packages (from scikit-learn->gpytorch->gflownet==0.1.0) (3.2.0)\n",
            "Requirement already satisfied: pyasn1<0.6.0,>=0.4.6 in /usr/local/lib/python3.10/dist-packages (from pyasn1-modules>=0.2.1->google-auth<3,>=1.6.3->tensorboard->gflownet==0.1.0) (0.5.1)\n",
            "Requirement already satisfied: oauthlib>=3.0.0 in /usr/local/lib/python3.10/dist-packages (from requests-oauthlib>=0.7.0->google-auth-oauthlib<2,>=0.5->tensorboard->gflownet==0.1.0) (3.2.2)\n",
            "Requirement already satisfied: mpmath>=0.19 in /usr/local/lib/python3.10/dist-packages (from sympy->torch>=1.13.1->botorch->gflownet==0.1.0) (1.3.0)\n",
            "Building wheels for collected packages: gflownet, antlr4-python3-runtime\n",
            "  Building editable for gflownet (pyproject.toml) ... \u001b[?25l\u001b[?25hdone\n",
            "  Created wheel for gflownet: filename=gflownet-0.1.0-0.editable-py2.py3-none-any.whl size=4587 sha256=5aebc71ee6f6f4907c26ce70c9ddfdea18f423a85d11c0867541871333dd17f4\n",
            "  Stored in directory: /tmp/pip-ephem-wheel-cache-g90l8xdv/wheels/e5/41/33/462d77294be6403996cc740cd3c5d41dfdcbb15d266ec07cd3\n",
            "  Building wheel for antlr4-python3-runtime (setup.py) ... \u001b[?25l\u001b[?25hdone\n",
            "  Created wheel for antlr4-python3-runtime: filename=antlr4_python3_runtime-4.9.3-py3-none-any.whl size=144554 sha256=8bca5dae56c0de26c04793f3d1e06c4829928a19de856db737f399c950cda86f\n",
            "  Stored in directory: /root/.cache/pip/wheels/12/93/dd/1f6a127edc45659556564c5730f6d4e300888f4bca2d4c5a88\n",
            "Successfully built gflownet antlr4-python3-runtime\n",
            "Installing collected packages: pyro-api, antlr4-python3-runtime, typeguard, smmap, omegaconf, jaxtyping, gitdb, pyro-ppl, linear-operator, gitpython, gpytorch, botorch, gflownet\n",
            "Successfully installed antlr4-python3-runtime-4.9.3 botorch-0.9.5 gflownet-0.1.0 gitdb-4.0.11 gitpython-3.1.41 gpytorch-1.11 jaxtyping-0.2.25 linear-operator-0.5.1 omegaconf-2.3.0 pyro-api-0.1.2 pyro-ppl-1.8.6 smmap-5.0.1 typeguard-2.13.3\n"
          ]
        },
        {
          "output_type": "display_data",
          "data": {
            "application/vnd.colab-display-data+json": {
              "pip_warning": {
                "packages": [
                  "pydevd_plugins"
                ]
              }
            }
          },
          "metadata": {}
        }
      ]
    },
    {
      "cell_type": "code",
      "source": [
        "import os\n",
        "import shutil\n",
        "import socket\n",
        "from typing import Callable, Dict, List, Tuple, Union\n",
        "\n",
        "import numpy as np\n",
        "import torch\n",
        "import torch.nn as nn\n",
        "import torch_geometric.data as gd\n",
        "from rdkit import Chem\n",
        "from rdkit.Chem.rdchem import Mol as RDMol\n",
        "from torch import Tensor\n",
        "from torch.utils.data import Dataset\n",
        "\n",
        "from gflownet.config import Config\n",
        "from gflownet.envs.frag_mol_env import FragMolBuildingEnvContext, Graph\n",
        "from gflownet.models import bengio2021flow\n",
        "from gflownet.online_trainer import StandardOnlineTrainer\n",
        "from gflownet.trainer import FlatRewards, GFNTask, RewardScalar\n",
        "from gflownet.utils.conditioning import TemperatureConditional\n",
        "\n",
        "import matplotlib.pyplot as plt\n",
        "import networkx as nx"
      ],
      "metadata": {
        "id": "hLYKO3802zHx"
      },
      "execution_count": 1,
      "outputs": []
    },
    {
      "cell_type": "code",
      "source": [
        "from gflownet.tasks.seh_frag import SEHFragTrainer"
      ],
      "metadata": {
        "id": "G-b280tU8zrl"
      },
      "execution_count": 2,
      "outputs": []
    },
    {
      "cell_type": "code",
      "source": [
        "hps = {\n",
        "    \"log_dir\": \"./logs/debug_run_seh_frag_pb\",\n",
        "    \"device\": \"cuda\" if torch.cuda.is_available() else \"cpu\",\n",
        "    \"overwrite_existing_exp\": True,\n",
        "    \"num_training_steps\": 500,\n",
        "    \"num_workers\": 2,\n",
        "    \"opt\": {\n",
        "        \"lr_decay\": 20000,\n",
        "    },\n",
        "    \"algo\": {\"sampling_tau\": 0.99, \"offline_ratio\": 0.0},\n",
        "    \"cond\": {\n",
        "        \"temperature\": {\n",
        "            \"sample_dist\": \"uniform\",\n",
        "            \"dist_params\": [0, 64.0],\n",
        "        }\n",
        "    },\n",
        "}\n",
        "if os.path.exists(hps[\"log_dir\"]):\n",
        "    if hps[\"overwrite_existing_exp\"]:\n",
        "        shutil.rmtree(hps[\"log_dir\"])\n",
        "    else:\n",
        "        raise ValueError(f\"Log dir {hps['log_dir']} already exists. Set overwrite_existing_exp=True to delete it.\")\n",
        "os.makedirs(hps[\"log_dir\"])\n",
        "\n",
        "trial = SEHFragTrainer(hps)\n",
        "trial.print_every = 100\n",
        "# trial.run()"
      ],
      "metadata": {
        "colab": {
          "base_uri": "https://localhost:8080/"
        },
        "id": "o1rYRfcTARt9",
        "outputId": "b0885b89-9610-427d-8e44-74cb8f23cc57"
      },
      "execution_count": 3,
      "outputs": [
        {
          "output_type": "stream",
          "name": "stdout",
          "text": [
            "\n",
            "\n",
            "Hyperparameters:\n",
            "\n",
            "log_dir: ./logs/debug_run_seh_frag_pb\n",
            "device: cuda\n",
            "seed: 0\n",
            "validate_every: 1000\n",
            "checkpoint_every: null\n",
            "print_every: 100\n",
            "start_at_step: 0\n",
            "num_final_gen_steps: null\n",
            "num_training_steps: 500\n",
            "num_workers: 2\n",
            "hostname: 4b4faad44736\n",
            "pickle_mp_messages: false\n",
            "git_hash: 2b83c36\n",
            "overwrite_existing_exp: true\n",
            "algo:\n",
            "  method: TB\n",
            "  global_batch_size: 64\n",
            "  max_len: 128\n",
            "  max_nodes: 9\n",
            "  max_edges: 128\n",
            "  illegal_action_logreward: -75.0\n",
            "  offline_ratio: 0.0\n",
            "  valid_offline_ratio: 0.0\n",
            "  train_random_action_prob: 0.0\n",
            "  valid_random_action_prob: 0.0\n",
            "  valid_sample_cond_info: true\n",
            "  sampling_tau: 0.99\n",
            "  tb:\n",
            "    bootstrap_own_reward: false\n",
            "    epsilon: null\n",
            "    reward_loss_multiplier: 1.0\n",
            "    variant: TB\n",
            "    do_correct_idempotent: false\n",
            "    do_parameterize_p_b: false\n",
            "    do_sample_p_b: true\n",
            "    do_length_normalize: false\n",
            "    subtb_max_len: 128\n",
            "    Z_learning_rate: 0.001\n",
            "    Z_lr_decay: 50000.0\n",
            "    cum_subtb: true\n",
            "  moql:\n",
            "    gamma: 1.0\n",
            "    num_omega_samples: 32\n",
            "    num_objectives: 2\n",
            "    lambda_decay: 10000\n",
            "    penalty: -10.0\n",
            "  a2c:\n",
            "    entropy: 0.01\n",
            "    gamma: 1.0\n",
            "    penalty: -10.0\n",
            "  fm:\n",
            "    epsilon: 1.0e-38\n",
            "    balanced_loss: false\n",
            "    leaf_coef: 10.0\n",
            "    correct_idempotent: false\n",
            "  sql:\n",
            "    alpha: 0.01\n",
            "    gamma: 1.0\n",
            "    penalty: -10.0\n",
            "model:\n",
            "  num_layers: 4\n",
            "  num_emb: 128\n",
            "  dropout: 0.0\n",
            "  graph_transformer:\n",
            "    num_heads: 2\n",
            "    ln_type: pre\n",
            "    num_mlp_layers: 0\n",
            "  seq_transformer:\n",
            "    num_heads: 2\n",
            "    posenc: Rotary\n",
            "opt:\n",
            "  opt: adam\n",
            "  learning_rate: 0.0001\n",
            "  lr_decay: 20000.0\n",
            "  weight_decay: 1.0e-08\n",
            "  momentum: 0.9\n",
            "  clip_grad_type: norm\n",
            "  clip_grad_param: 10.0\n",
            "  adam_eps: 1.0e-08\n",
            "replay:\n",
            "  use: false\n",
            "  capacity: 10000\n",
            "  warmup: 1000\n",
            "  hindsight_ratio: 0.0\n",
            "task:\n",
            "  qm9:\n",
            "    h5_path: ./data/qm9/qm9.h5\n",
            "    model_path: ./data/qm9/qm9_model.pt\n",
            "  seh: {}\n",
            "  seh_moo:\n",
            "    use_steer_thermometer: false\n",
            "    preference_type: dirichlet\n",
            "    focus_type: null\n",
            "    focus_dirs_listed: null\n",
            "    focus_cosim: 0.0\n",
            "    focus_limit_coef: 1.0\n",
            "    focus_model_training_limits: null\n",
            "    focus_model_state_space_res: null\n",
            "    max_train_it: null\n",
            "    n_valid: 15\n",
            "    n_valid_repeats: 128\n",
            "    objectives:\n",
            "    - seh\n",
            "    - qed\n",
            "    - sa\n",
            "    - mw\n",
            "cond:\n",
            "  temperature:\n",
            "    sample_dist: uniform\n",
            "    dist_params:\n",
            "    - 0\n",
            "    - 64.0\n",
            "    num_thermometer_dim: 32\n",
            "  moo:\n",
            "    num_objectives: 2\n",
            "    num_thermometer_dim: 16\n",
            "  weighted_prefs:\n",
            "    preference_type: dirichlet\n",
            "  focus_region:\n",
            "    focus_type: learned-tabular\n",
            "    use_steer_thermomether: false\n",
            "    focus_cosim: 0.98\n",
            "    focus_limit_coef: 0.1\n",
            "    focus_model_training_limits:\n",
            "    - 0.25\n",
            "    - 0.75\n",
            "    focus_model_state_space_res: 30\n",
            "    max_train_it: 20000\n",
            "\n"
          ]
        }
      ]
    },
    {
      "cell_type": "code",
      "source": [
        "PATH = \"./model\""
      ],
      "metadata": {
        "id": "Sqpvui2iGLZC"
      },
      "execution_count": 4,
      "outputs": []
    },
    {
      "cell_type": "code",
      "source": [
        "# torch.save(trial.model.state_dict(), PATH)"
      ],
      "metadata": {
        "id": "CIYdp7k9FSnB"
      },
      "execution_count": 5,
      "outputs": []
    },
    {
      "cell_type": "code",
      "source": [
        "model = trial.model\n",
        "model.load_state_dict(torch.load(PATH))\n",
        "model = model.to(\"cuda\")"
      ],
      "metadata": {
        "id": "AnnjjmCLGTti"
      },
      "execution_count": 6,
      "outputs": []
    },
    {
      "cell_type": "code",
      "source": [
        "n = 1000\n",
        "batch_size = 100\n",
        "num_gen = 0\n",
        "\n",
        "traj = []\n",
        "rew = []\n",
        "\n",
        "while num_gen<n:\n",
        "\n",
        "    pred = trial.algo.graph_sampler.sample_from_model(\n",
        "    model,\n",
        "    batch_size,\n",
        "    trial.task.sample_conditional_information(batch_size,None)[\"encoding\"].to(\"cuda\"),\n",
        "    \"cuda\"\n",
        "    )\n",
        "\n",
        "    # Store trajectories\n",
        "    for p in pred:\n",
        "        traj.append(p[\"traj\"])\n",
        "    # Store rewards\n",
        "    mols = [trial.ctx.graph_to_mol(p[\"result\"])for p in pred]\n",
        "    rewards = trial.task.compute_flat_rewards(mols)\n",
        "    rewards = rewards[0].numpy().reshape(-1).tolist()\n",
        "    rew += rewards\n",
        "    num_gen += batch_size"
      ],
      "metadata": {
        "id": "E1pm7PBQHwBO"
      },
      "execution_count": 7,
      "outputs": []
    },
    {
      "cell_type": "code",
      "source": [
        "# Create a histogram\n",
        "plt.hist([x*8 for x in rew], bins=50, density=True, alpha=0.5, color='blue')\n",
        "\n",
        "# Add labels and title\n",
        "plt.xlabel('Reward')\n",
        "plt.ylabel('Frequency')\n",
        "plt.title('Histogram of Reinforcement Learning Rewards')\n",
        "\n",
        "# Show the plot\n",
        "plt.show()"
      ],
      "metadata": {
        "colab": {
          "base_uri": "https://localhost:8080/",
          "height": 472
        },
        "id": "3SImHsGt-qy9",
        "outputId": "c26e272a-720d-4d9a-dc0a-2e066b768de8"
      },
      "execution_count": 8,
      "outputs": [
        {
          "output_type": "display_data",
          "data": {
            "text/plain": [
              "<Figure size 640x480 with 1 Axes>"
            ],
            "image/png": "[encoded data removed]"
          },
          "metadata": {}
        }
      ]
    },
    {
      "cell_type": "code",
      "source": [
        "traj[0]"
      ],
      "metadata": {
        "colab": {
          "base_uri": "https://localhost:8080/"
        },
        "id": "ji_W18QxdwpV",
        "outputId": "604b499e-af52-4f9e-c2ef-5a4df5c2c5b5"
      },
      "execution_count": 9,
      "outputs": [
        {
          "output_type": "execute_result",
          "data": {
            "text/plain": [
              "[(<[], [], []>, <GraphActionType.AddNode, 0, 7>),\n",
              " (<[0], [], [7]>, <GraphActionType.AddNode, 0, 56>),\n",
              " (<[0, 1], [(0, 1)], [7, 56]>, <GraphActionType.AddNode, 0, 67>),\n",
              " (<[0, 1, 2], [(0, 1), (0, 2)], [7, 56, 67]>,\n",
              "  <GraphActionType.SetEdgeAttr, 0, 2, dst_attach, 1>),\n",
              " (<[0, 1, 2], [(0, 1), (0, 2)], [7, 56, 67]>,\n",
              "  <GraphActionType.AddNode, 2, 70>),\n",
              " (<[0, 1, 2, 3], [(0, 1), (0, 2), (2, 3)], [7, 56, 67, 70]>,\n",
              "  <GraphActionType.AddNode, 3, 7>),\n",
              " (<[0, 1, 2, 3, 4], [(0, 1), (0, 2), (2, 3), (3, 4)], [7, 56, 67, 70, 7]>,\n",
              "  <GraphActionType.AddNode, 4, 71>),\n",
              " (<[0, 1, 2, 3, 4, 5], [(0, 1), (0, 2), (2, 3), (3, 4), (4, 5)], [7, 56, 67, 70, 7, 71]>,\n",
              "  <GraphActionType.AddNode, 0, 31>),\n",
              " (<[0, 1, 2, 3, 4, 5, 6], [(0, 1), (0, 2), (0, 6), (2, 3), (3, 4), (4, 5)], [7, 56, 67, 70, 7, 71, 31]>,\n",
              "  <GraphActionType.AddNode, 6, 7>),\n",
              " (<[0, 1, 2, 3, 4, 5, 6, 7], [(0, 1), (0, 2), (0, 6), (2, 3), (3, 4), (4, 5), (6, 7)], [7, 56, 67, 70, 7, 71, 31, 7]>,\n",
              "  <GraphActionType.AddNode, 5, 69>),\n",
              " (<[0, 1, 2, 3, 4, 5, 6, 7, 8], [(0, 1), (0, 2), (0, 6), (2, 3), (3, 4), (4, 5), (5, 8), (6, 7)], [7, 56, 67, 70, 7, 71, 31, 7, 69]>,\n",
              "  <GraphActionType.SetEdgeAttr, 3, 4, dst_attach, 1>),\n",
              " (<[0, 1, 2, 3, 4, 5, 6, 7, 8], [(0, 1), (0, 2), (0, 6), (2, 3), (3, 4), (4, 5), (5, 8), (6, 7)], [7, 56, 67, 70, 7, 71, 31, 7, 69]>,\n",
              "  <GraphActionType.SetEdgeAttr, 5, 8, dst_attach, 2>),\n",
              " (<[0, 1, 2, 3, 4, 5, 6, 7, 8], [(0, 1), (0, 2), (0, 6), (2, 3), (3, 4), (4, 5), (5, 8), (6, 7)], [7, 56, 67, 70, 7, 71, 31, 7, 69]>,\n",
              "  <GraphActionType.SetEdgeAttr, 0, 6, src_attach, 3>),\n",
              " (<[0, 1, 2, 3, 4, 5, 6, 7, 8], [(0, 1), (0, 2), (0, 6), (2, 3), (3, 4), (4, 5), (5, 8), (6, 7)], [7, 56, 67, 70, 7, 71, 31, 7, 69]>,\n",
              "  <GraphActionType.SetEdgeAttr, 0, 1, dst_attach, 0>),\n",
              " (<[0, 1, 2, 3, 4, 5, 6, 7, 8], [(0, 1), (0, 2), (0, 6), (2, 3), (3, 4), (4, 5), (5, 8), (6, 7)], [7, 56, 67, 70, 7, 71, 31, 7, 69]>,\n",
              "  <GraphActionType.SetEdgeAttr, 0, 2, src_attach, 4>),\n",
              " (<[0, 1, 2, 3, 4, 5, 6, 7, 8], [(0, 1), (0, 2), (0, 6), (2, 3), (3, 4), (4, 5), (5, 8), (6, 7)], [7, 56, 67, 70, 7, 71, 31, 7, 69]>,\n",
              "  <GraphActionType.SetEdgeAttr, 6, 7, dst_attach, 2>),\n",
              " (<[0, 1, 2, 3, 4, 5, 6, 7, 8], [(0, 1), (0, 2), (0, 6), (2, 3), (3, 4), (4, 5), (5, 8), (6, 7)], [7, 56, 67, 70, 7, 71, 31, 7, 69]>,\n",
              "  <GraphActionType.SetEdgeAttr, 3, 4, src_attach, 1>),\n",
              " (<[0, 1, 2, 3, 4, 5, 6, 7, 8], [(0, 1), (0, 2), (0, 6), (2, 3), (3, 4), (4, 5), (5, 8), (6, 7)], [7, 56, 67, 70, 7, 71, 31, 7, 69]>,\n",
              "  <GraphActionType.SetEdgeAttr, 4, 5, src_attach, 5>),\n",
              " (<[0, 1, 2, 3, 4, 5, 6, 7, 8], [(0, 1), (0, 2), (0, 6), (2, 3), (3, 4), (4, 5), (5, 8), (6, 7)], [7, 56, 67, 70, 7, 71, 31, 7, 69]>,\n",
              "  <GraphActionType.SetEdgeAttr, 0, 1, src_attach, 1>),\n",
              " (<[0, 1, 2, 3, 4, 5, 6, 7, 8], [(0, 1), (0, 2), (0, 6), (2, 3), (3, 4), (4, 5), (5, 8), (6, 7)], [7, 56, 67, 70, 7, 71, 31, 7, 69]>,\n",
              "  <GraphActionType.SetEdgeAttr, 0, 6, dst_attach, 0>),\n",
              " (<[0, 1, 2, 3, 4, 5, 6, 7, 8], [(0, 1), (0, 2), (0, 6), (2, 3), (3, 4), (4, 5), (5, 8), (6, 7)], [7, 56, 67, 70, 7, 71, 31, 7, 69]>,\n",
              "  <GraphActionType.SetEdgeAttr, 2, 3, src_attach, 0>),\n",
              " (<[0, 1, 2, 3, 4, 5, 6, 7, 8], [(0, 1), (0, 2), (0, 6), (2, 3), (3, 4), (4, 5), (5, 8), (6, 7)], [7, 56, 67, 70, 7, 71, 31, 7, 69]>,\n",
              "  <GraphActionType.SetEdgeAttr, 6, 7, src_attach, 1>),\n",
              " (<[0, 1, 2, 3, 4, 5, 6, 7, 8], [(0, 1), (0, 2), (0, 6), (2, 3), (3, 4), (4, 5), (5, 8), (6, 7)], [7, 56, 67, 70, 7, 71, 31, 7, 69]>,\n",
              "  <GraphActionType.SetEdgeAttr, 2, 3, dst_attach, 0>),\n",
              " (<[0, 1, 2, 3, 4, 5, 6, 7, 8], [(0, 1), (0, 2), (0, 6), (2, 3), (3, 4), (4, 5), (5, 8), (6, 7)], [7, 56, 67, 70, 7, 71, 31, 7, 69]>,\n",
              "  <GraphActionType.SetEdgeAttr, 4, 5, dst_attach, 1>),\n",
              " (<[0, 1, 2, 3, 4, 5, 6, 7, 8], [(0, 1), (0, 2), (0, 6), (2, 3), (3, 4), (4, 5), (5, 8), (6, 7)], [7, 56, 67, 70, 7, 71, 31, 7, 69]>,\n",
              "  <GraphActionType.SetEdgeAttr, 5, 8, src_attach, 0>),\n",
              " (<[0, 1, 2, 3, 4, 5, 6, 7, 8], [(0, 1), (0, 2), (0, 6), (2, 3), (3, 4), (4, 5), (5, 8), (6, 7)], [7, 56, 67, 70, 7, 71, 31, 7, 69]>,\n",
              "  <GraphActionType.Stop, >)]"
            ]
          },
          "metadata": {},
          "execution_count": 9
        }
      ]
    },
    {
      "cell_type": "code",
      "source": [
        "# How does a step of trajectory look like?\n",
        "traj_id = 10\n",
        "state = 4\n",
        "print(traj[traj_id][state])\n",
        "print(f\"Current graph: {traj[traj_id][state][0]}\")\n",
        "cur_action = traj[traj_id][state][1]\n",
        "print(f\"Current action: {cur_action}\")\n",
        "print(f\"Action source: {cur_action.source}\")\n",
        "print(f\"Action target: {cur_action.target}\")\n",
        "print(f\"Action value: {cur_action.value}\")"
      ],
      "metadata": {
        "id": "4pAXtZyDICLt",
        "outputId": "95d563f3-f190-4db6-c39e-1e44f6cef649",
        "colab": {
          "base_uri": "https://localhost:8080/"
        }
      },
      "execution_count": 10,
      "outputs": [
        {
          "output_type": "stream",
          "name": "stdout",
          "text": [
            "(<[0, 1, 2, 3], [(0, 1), (0, 2), (2, 3)], [7, 7, 7, 30]>, <GraphActionType.AddNode, 1, 65>)\n",
            "Current graph: <[0, 1, 2, 3], [(0, 1), (0, 2), (2, 3)], [7, 7, 7, 30]>\n",
            "Current action: <GraphActionType.AddNode, 1, 65>\n",
            "Action source: 1\n",
            "Action target: None\n",
            "Action value: 65\n"
          ]
        }
      ]
    },
    {
      "cell_type": "code",
      "source": [
        "# How do nodes translate to fragments?\n",
        "g = traj[traj_id][state][0]\n",
        "for i in g.nodes:\n",
        "    mol = trial.ctx.frags_mol[g.nodes[i][\"v\"]]\n",
        "    mol_smi = trial.ctx.frags_smi[g.nodes[i][\"v\"]]\n",
        "    print(mol_smi)\n",
        "print(f\"Next fragment added: {trial.ctx.frags_smi[cur_action.value]}\")\n",
        "nx.draw(g)"
      ],
      "metadata": {
        "colab": {
          "base_uri": "https://localhost:8080/",
          "height": 603
        },
        "id": "DKKjZboMYWEs",
        "outputId": "a981d5ba-a3d0-44c8-e0fb-1959fb8ea7c9"
      },
      "execution_count": 11,
      "outputs": [
        {
          "output_type": "stream",
          "name": "stdout",
          "text": [
            "C1CCCCC1\n",
            "C1CCCCC1\n",
            "C1CCCCC1\n",
            "CNC=O\n",
            "Next fragment added: c1ccccc1\n"
          ]
        },
        {
          "output_type": "display_data",
          "data": {
            "text/plain": [
              "<Figure size 640x480 with 1 Axes>"
            ],
            "image/png": "[encoded data removed]"
          },
          "metadata": {}
        }
      ]
    },
    {
      "cell_type": "code",
      "source": [
        "# Output molecule\n",
        "trial.ctx.graph_to_mol(traj[traj_id][-1][0])"
      ],
      "metadata": {
        "colab": {
          "base_uri": "https://localhost:8080/",
          "height": 167
        },
        "id": "Pw5iO46VOKKZ",
        "outputId": "20cb31d3-98a8-459e-d1fd-4fa1e4fcaedc"
      },
      "execution_count": 12,
      "outputs": [
        {
          "output_type": "execute_result",
          "data": {
            "text/plain": [
              "<rdkit.Chem.rdchem.Mol at 0x7e09beb044a0>"
            ],
            "image/png": "[encoded data removed]"
          },
          "metadata": {},
          "execution_count": 12
        }
      ]
    },
    {
      "cell_type": "code",
      "source": [
        "# Find min and max length of trajectories\n",
        "min_len = 10**6\n",
        "max_len = -1\n",
        "\n",
        "for t in traj:\n",
        "    l = len(t)\n",
        "    if l>max_len:\n",
        "        max_len = l\n",
        "    if l<min_len:\n",
        "        min_len = l\n",
        "print(min_len)\n",
        "print(max_len)"
      ],
      "metadata": {
        "colab": {
          "base_uri": "https://localhost:8080/"
        },
        "id": "xQfdpZuAXmIv",
        "outputId": "1ce50f3c-c75b-4c04-965d-142d0ef92860"
      },
      "execution_count": 13,
      "outputs": [
        {
          "output_type": "stream",
          "name": "stdout",
          "text": [
            "26\n",
            "26\n"
          ]
        }
      ]
    },
    {
      "cell_type": "code",
      "source": [
        "# Keep only actions from trajectories\n",
        "actions = []\n",
        "\n",
        "for t in traj:\n",
        "    cur_act = []\n",
        "    for step in t:\n",
        "        cur_act.append(step[1])\n",
        "    actions.append(cur_act)\n"
      ],
      "metadata": {
        "id": "mDk4XcU7eHQQ"
      },
      "execution_count": 14,
      "outputs": []
    },
    {
      "cell_type": "code",
      "source": [
        "actions[0]"
      ],
      "metadata": {
        "colab": {
          "base_uri": "https://localhost:8080/"
        },
        "id": "PrlIzQKveuFa",
        "outputId": "b1576b98-508a-4c81-83e9-fef572cbc5b8"
      },
      "execution_count": 15,
      "outputs": [
        {
          "output_type": "execute_result",
          "data": {
            "text/plain": [
              "[<GraphActionType.AddNode, 0, 7>,\n",
              " <GraphActionType.AddNode, 0, 56>,\n",
              " <GraphActionType.AddNode, 0, 67>,\n",
              " <GraphActionType.SetEdgeAttr, 0, 2, dst_attach, 1>,\n",
              " <GraphActionType.AddNode, 2, 70>,\n",
              " <GraphActionType.AddNode, 3, 7>,\n",
              " <GraphActionType.AddNode, 4, 71>,\n",
              " <GraphActionType.AddNode, 0, 31>,\n",
              " <GraphActionType.AddNode, 6, 7>,\n",
              " <GraphActionType.AddNode, 5, 69>,\n",
              " <GraphActionType.SetEdgeAttr, 3, 4, dst_attach, 1>,\n",
              " <GraphActionType.SetEdgeAttr, 5, 8, dst_attach, 2>,\n",
              " <GraphActionType.SetEdgeAttr, 0, 6, src_attach, 3>,\n",
              " <GraphActionType.SetEdgeAttr, 0, 1, dst_attach, 0>,\n",
              " <GraphActionType.SetEdgeAttr, 0, 2, src_attach, 4>,\n",
              " <GraphActionType.SetEdgeAttr, 6, 7, dst_attach, 2>,\n",
              " <GraphActionType.SetEdgeAttr, 3, 4, src_attach, 1>,\n",
              " <GraphActionType.SetEdgeAttr, 4, 5, src_attach, 5>,\n",
              " <GraphActionType.SetEdgeAttr, 0, 1, src_attach, 1>,\n",
              " <GraphActionType.SetEdgeAttr, 0, 6, dst_attach, 0>,\n",
              " <GraphActionType.SetEdgeAttr, 2, 3, src_attach, 0>,\n",
              " <GraphActionType.SetEdgeAttr, 6, 7, src_attach, 1>,\n",
              " <GraphActionType.SetEdgeAttr, 2, 3, dst_attach, 0>,\n",
              " <GraphActionType.SetEdgeAttr, 4, 5, dst_attach, 1>,\n",
              " <GraphActionType.SetEdgeAttr, 5, 8, src_attach, 0>,\n",
              " <GraphActionType.Stop, >]"
            ]
          },
          "metadata": {},
          "execution_count": 15
        }
      ]
    },
    {
      "cell_type": "code",
      "source": [
        "# Change actions representation\n",
        "new_actions = []\n",
        "for a in actions:\n",
        "    new_act = []\n",
        "    for s in a:\n",
        "        new_s = []\n",
        "        new_s.append(s.action.name)\n",
        "        new_s.append(s.source)\n",
        "        new_s.append(s.target)\n",
        "        new_s.append(s.value)\n",
        "        # new_s.append(s.attr)\n",
        "        new_act.append(new_s)\n",
        "    new_actions.append(new_act)"
      ],
      "metadata": {
        "id": "akmUWJHngAMW"
      },
      "execution_count": 16,
      "outputs": []
    },
    {
      "cell_type": "code",
      "source": [
        "new_actions[0]"
      ],
      "metadata": {
        "colab": {
          "base_uri": "https://localhost:8080/"
        },
        "id": "zSuhzJE6f7jt",
        "outputId": "be86f3bc-3465-44fb-b8ce-df6d5f026391"
      },
      "execution_count": 17,
      "outputs": [
        {
          "output_type": "execute_result",
          "data": {
            "text/plain": [
              "[['AddNode', 0, None, 7],\n",
              " ['AddNode', 0, None, 56],\n",
              " ['AddNode', 0, None, 67],\n",
              " ['SetEdgeAttr', 0, 2, 1],\n",
              " ['AddNode', 2, None, 70],\n",
              " ['AddNode', 3, None, 7],\n",
              " ['AddNode', 4, None, 71],\n",
              " ['AddNode', 0, None, 31],\n",
              " ['AddNode', 6, None, 7],\n",
              " ['AddNode', 5, None, 69],\n",
              " ['SetEdgeAttr', 3, 4, 1],\n",
              " ['SetEdgeAttr', 5, 8, 2],\n",
              " ['SetEdgeAttr', 0, 6, 3],\n",
              " ['SetEdgeAttr', 0, 1, 0],\n",
              " ['SetEdgeAttr', 0, 2, 4],\n",
              " ['SetEdgeAttr', 6, 7, 2],\n",
              " ['SetEdgeAttr', 3, 4, 1],\n",
              " ['SetEdgeAttr', 4, 5, 5],\n",
              " ['SetEdgeAttr', 0, 1, 1],\n",
              " ['SetEdgeAttr', 0, 6, 0],\n",
              " ['SetEdgeAttr', 2, 3, 0],\n",
              " ['SetEdgeAttr', 6, 7, 1],\n",
              " ['SetEdgeAttr', 2, 3, 0],\n",
              " ['SetEdgeAttr', 4, 5, 1],\n",
              " ['SetEdgeAttr', 5, 8, 0],\n",
              " ['Stop', None, None, None]]"
            ]
          },
          "metadata": {},
          "execution_count": 17
        }
      ]
    },
    {
      "cell_type": "code",
      "source": [
        "# Numerical encoding\n",
        "enc_dict = {}\n",
        "\n",
        "action_names = set({})\n",
        "action_attr = set({})\n",
        "\n",
        "for a in new_actions:\n",
        "    for s in a:\n",
        "        action_names.add(s[0])\n",
        "        # action_attr.add(str(s[-1]))"
      ],
      "metadata": {
        "id": "36bPzg8drWKI"
      },
      "execution_count": 18,
      "outputs": []
    },
    {
      "cell_type": "code",
      "source": [
        "for idx, i in enumerate(action_names):\n",
        "    enc_dict[i] = idx+1\n",
        "# for idx, i in enumerate(action_attr):\n",
        "#     enc_dict[i] = idx+1\n",
        "enc_dict[\"None\"] = -1"
      ],
      "metadata": {
        "id": "dxoB-U3yr-ps"
      },
      "execution_count": 19,
      "outputs": []
    },
    {
      "cell_type": "code",
      "source": [
        "num_actions = []\n",
        "for a in new_actions:\n",
        "    new_a = []\n",
        "    for s in a:\n",
        "        new_s = []\n",
        "        for i in s:\n",
        "            if enc_dict.get(str(i)) is None:\n",
        "                new_s.append(i)\n",
        "            else:\n",
        "                new_s.append(enc_dict[str(i)])\n",
        "        new_a.append(new_s)\n",
        "    num_actions.append(new_a)"
      ],
      "metadata": {
        "id": "P361Bgnxsitd"
      },
      "execution_count": 20,
      "outputs": []
    },
    {
      "cell_type": "code",
      "source": [
        "num_actions[0]"
      ],
      "metadata": {
        "colab": {
          "base_uri": "https://localhost:8080/"
        },
        "id": "kXihqqoyzYA5",
        "outputId": "90475c69-fb78-4394-e28f-eb3702e07747"
      },
      "execution_count": 21,
      "outputs": [
        {
          "output_type": "execute_result",
          "data": {
            "text/plain": [
              "[[2, 0, -1, 7],\n",
              " [2, 0, -1, 56],\n",
              " [2, 0, -1, 67],\n",
              " [1, 0, 2, 1],\n",
              " [2, 2, -1, 70],\n",
              " [2, 3, -1, 7],\n",
              " [2, 4, -1, 71],\n",
              " [2, 0, -1, 31],\n",
              " [2, 6, -1, 7],\n",
              " [2, 5, -1, 69],\n",
              " [1, 3, 4, 1],\n",
              " [1, 5, 8, 2],\n",
              " [1, 0, 6, 3],\n",
              " [1, 0, 1, 0],\n",
              " [1, 0, 2, 4],\n",
              " [1, 6, 7, 2],\n",
              " [1, 3, 4, 1],\n",
              " [1, 4, 5, 5],\n",
              " [1, 0, 1, 1],\n",
              " [1, 0, 6, 0],\n",
              " [1, 2, 3, 0],\n",
              " [1, 6, 7, 1],\n",
              " [1, 2, 3, 0],\n",
              " [1, 4, 5, 1],\n",
              " [1, 5, 8, 0],\n",
              " [3, -1, -1, -1]]"
            ]
          },
          "metadata": {},
          "execution_count": 21
        }
      ]
    },
    {
      "cell_type": "code",
      "source": [
        "from keras import metrics\n",
        "import keras\n",
        "import tensorflow as tf\n",
        "import os"
      ],
      "metadata": {
        "id": "XZLJlC1aqdPt"
      },
      "execution_count": 22,
      "outputs": []
    },
    {
      "cell_type": "code",
      "source": [
        "def build_net(seq_len=26, feats=4):\n",
        "    model = keras.Sequential()\n",
        "    model.add(keras.layers.LSTM(32, kernel_initializer='he_uniform', batch_input_shape=(None, seq_len, feats), return_sequences=True, name='encoder_1'))\n",
        "    model.add(keras.layers.LSTM(16, kernel_initializer='he_uniform', return_sequences=True, name='encoder_2'))\n",
        "    model.add(keras.layers.LSTM(8, kernel_initializer='he_uniform', return_sequences=False, name='encoder_3'))\n",
        "    model.add(keras.layers.RepeatVector(seq_len, name='encoder_decoder_bridge'))\n",
        "    model.add(keras.layers.LSTM(8, kernel_initializer='he_uniform', return_sequences=True, name='decoder_1'))\n",
        "    model.add(keras.layers.LSTM(16, kernel_initializer='he_uniform', return_sequences=True, name='decoder_2'))\n",
        "    model.add(keras.layers.LSTM(32, kernel_initializer='he_uniform', return_sequences=True, name='decoder_3'))\n",
        "    model.add(keras.layers.TimeDistributed(keras.layers.Dense(feats)))\n",
        "    model.compile(loss=\"mse\",optimizer='adam')\n",
        "    model.build()\n",
        "    print(model.summary())\n",
        "    return model\n"
      ],
      "metadata": {
        "id": "TMzOljP5qiau"
      },
      "execution_count": 23,
      "outputs": []
    },
    {
      "cell_type": "code",
      "source": [
        "emb_nn = build_net()"
      ],
      "metadata": {
        "colab": {
          "base_uri": "https://localhost:8080/"
        },
        "id": "1Rd40dQX0cVf",
        "outputId": "63d7bee5-2fa8-4824-b881-51639ee4f3a7"
      },
      "execution_count": 24,
      "outputs": [
        {
          "output_type": "stream",
          "name": "stdout",
          "text": [
            "Model: \"sequential\"\n",
            "_________________________________________________________________\n",
            " Layer (type)                Output Shape              Param #   \n",
            "=================================================================\n",
            " encoder_1 (LSTM)            (None, 26, 32)            4736      \n",
            "                                                                 \n",
            " encoder_2 (LSTM)            (None, 26, 16)            3136      \n",
            "                                                                 \n",
            " encoder_3 (LSTM)            (None, 8)                 800       \n",
            "                                                                 \n",
            " encoder_decoder_bridge (Re  (None, 26, 8)             0         \n",
            " peatVector)                                                     \n",
            "                                                                 \n",
            " decoder_1 (LSTM)            (None, 26, 8)             544       \n",
            "                                                                 \n",
            " decoder_2 (LSTM)            (None, 26, 16)            1600      \n",
            "                                                                 \n",
            " decoder_3 (LSTM)            (None, 26, 32)            6272      \n",
            "                                                                 \n",
            " time_distributed (TimeDist  (None, 26, 4)             132       \n",
            " ributed)                                                        \n",
            "                                                                 \n",
            "=================================================================\n",
            "Total params: 17220 (67.27 KB)\n",
            "Trainable params: 17220 (67.27 KB)\n",
            "Non-trainable params: 0 (0.00 Byte)\n",
            "_________________________________________________________________\n",
            "None\n"
          ]
        }
      ]
    },
    {
      "cell_type": "code",
      "source": [
        "X, X_val = num_actions[:750], num_actions[750:]"
      ],
      "metadata": {
        "id": "koOvnSeK0RsU"
      },
      "execution_count": 25,
      "outputs": []
    },
    {
      "cell_type": "code",
      "source": [
        "early_stop = tf.keras.callbacks.EarlyStopping(\n",
        "    monitor='val_loss', min_delta=1e-3, patience=5, verbose=0, mode='auto',\n",
        "    baseline=None, restore_best_weights=True)\n",
        "\n",
        "epochs = 500\n",
        "batch_size = 64\n",
        "emb_nn.fit(x=X, y=X, validation_data=(X_val, X_val), epochs=epochs, batch_size=batch_size, shuffle=True, callbacks=[early_stop])\n"
      ],
      "metadata": {
        "colab": {
          "base_uri": "https://localhost:8080/"
        },
        "id": "RKySIPIJil5l",
        "outputId": "2d6121d5-32f4-4bcd-e06e-cb2a2e16542d"
      },
      "execution_count": 26,
      "outputs": [
        {
          "output_type": "stream",
          "name": "stdout",
          "text": [
            "Epoch 1/500\n",
            "12/12 [==============================] - 17s 258ms/step - loss: 120.8215 - val_loss: 115.7777\n",
            "Epoch 2/500\n",
            "12/12 [==============================] - 0s 29ms/step - loss: 116.5344 - val_loss: 112.0299\n",
            "Epoch 3/500\n",
            "12/12 [==============================] - 0s 29ms/step - loss: 112.8865 - val_loss: 108.5038\n",
            "Epoch 4/500\n",
            "12/12 [==============================] - 0s 29ms/step - loss: 109.2950 - val_loss: 104.8654\n",
            "Epoch 5/500\n",
            "12/12 [==============================] - 0s 26ms/step - loss: 105.5323 - val_loss: 101.1114\n",
            "Epoch 6/500\n",
            "12/12 [==============================] - 0s 25ms/step - loss: 101.7693 - val_loss: 97.5573\n",
            "Epoch 7/500\n",
            "12/12 [==============================] - 0s 26ms/step - loss: 98.3184 - val_loss: 94.3171\n",
            "Epoch 8/500\n",
            "12/12 [==============================] - 0s 26ms/step - loss: 95.1553 - val_loss: 91.3518\n",
            "Epoch 9/500\n",
            "12/12 [==============================] - 0s 26ms/step - loss: 92.2755 - val_loss: 88.7123\n",
            "Epoch 10/500\n",
            "12/12 [==============================] - 0s 25ms/step - loss: 89.7369 - val_loss: 86.3794\n",
            "Epoch 11/500\n",
            "12/12 [==============================] - 0s 26ms/step - loss: 87.4997 - val_loss: 84.4797\n",
            "Epoch 12/500\n",
            "12/12 [==============================] - 0s 27ms/step - loss: 85.5408 - val_loss: 82.5841\n",
            "Epoch 13/500\n",
            "12/12 [==============================] - 0s 26ms/step - loss: 83.6909 - val_loss: 80.8711\n",
            "Epoch 14/500\n",
            "12/12 [==============================] - 0s 26ms/step - loss: 81.9821 - val_loss: 79.2768\n",
            "Epoch 15/500\n",
            "12/12 [==============================] - 0s 26ms/step - loss: 80.4086 - val_loss: 77.8371\n",
            "Epoch 16/500\n",
            "12/12 [==============================] - 0s 42ms/step - loss: 78.9739 - val_loss: 76.5010\n",
            "Epoch 17/500\n",
            "12/12 [==============================] - 0s 41ms/step - loss: 77.6208 - val_loss: 75.2986\n",
            "Epoch 18/500\n",
            "12/12 [==============================] - 0s 39ms/step - loss: 76.3698 - val_loss: 74.1214\n",
            "Epoch 19/500\n",
            "12/12 [==============================] - 0s 39ms/step - loss: 75.1937 - val_loss: 73.0343\n",
            "Epoch 20/500\n",
            "12/12 [==============================] - 0s 39ms/step - loss: 74.1137 - val_loss: 72.0371\n",
            "Epoch 21/500\n",
            "12/12 [==============================] - 0s 28ms/step - loss: 73.0824 - val_loss: 71.1924\n",
            "Epoch 22/500\n",
            "12/12 [==============================] - 0s 27ms/step - loss: 72.1356 - val_loss: 70.2132\n",
            "Epoch 23/500\n",
            "12/12 [==============================] - 0s 26ms/step - loss: 71.2188 - val_loss: 69.3469\n",
            "Epoch 24/500\n",
            "12/12 [==============================] - 0s 25ms/step - loss: 70.3118 - val_loss: 68.5628\n",
            "Epoch 25/500\n",
            "12/12 [==============================] - 0s 25ms/step - loss: 69.5637 - val_loss: 67.9736\n",
            "Epoch 26/500\n",
            "12/12 [==============================] - 0s 27ms/step - loss: 68.7040 - val_loss: 67.0501\n",
            "Epoch 27/500\n",
            "12/12 [==============================] - 0s 40ms/step - loss: 67.8481 - val_loss: 66.2521\n",
            "Epoch 28/500\n",
            "12/12 [==============================] - 0s 40ms/step - loss: 67.0193 - val_loss: 65.5091\n",
            "Epoch 29/500\n",
            "12/12 [==============================] - 0s 40ms/step - loss: 66.3136 - val_loss: 64.8828\n",
            "Epoch 30/500\n",
            "12/12 [==============================] - 0s 42ms/step - loss: 65.6541 - val_loss: 64.2583\n",
            "Epoch 31/500\n",
            "12/12 [==============================] - 0s 38ms/step - loss: 64.9712 - val_loss: 63.6529\n",
            "Epoch 32/500\n",
            "12/12 [==============================] - 0s 28ms/step - loss: 64.4038 - val_loss: 63.0948\n",
            "Epoch 33/500\n",
            "12/12 [==============================] - 0s 25ms/step - loss: 63.8293 - val_loss: 62.5860\n",
            "Epoch 34/500\n",
            "12/12 [==============================] - 0s 25ms/step - loss: 63.2698 - val_loss: 62.0533\n",
            "Epoch 35/500\n",
            "12/12 [==============================] - 0s 30ms/step - loss: 62.7214 - val_loss: 61.5663\n",
            "Epoch 36/500\n",
            "12/12 [==============================] - 0s 26ms/step - loss: 62.2817 - val_loss: 61.3986\n",
            "Epoch 37/500\n",
            "12/12 [==============================] - 0s 26ms/step - loss: 61.7632 - val_loss: 60.7021\n",
            "Epoch 38/500\n",
            "12/12 [==============================] - 0s 29ms/step - loss: 61.3276 - val_loss: 60.3930\n",
            "Epoch 39/500\n",
            "12/12 [==============================] - 0s 26ms/step - loss: 60.9147 - val_loss: 60.0884\n",
            "Epoch 40/500\n",
            "12/12 [==============================] - 0s 26ms/step - loss: 60.4890 - val_loss: 59.5857\n",
            "Epoch 41/500\n",
            "12/12 [==============================] - 0s 25ms/step - loss: 60.0803 - val_loss: 59.2484\n",
            "Epoch 42/500\n",
            "12/12 [==============================] - 0s 40ms/step - loss: 59.7128 - val_loss: 59.0455\n",
            "Epoch 43/500\n",
            "12/12 [==============================] - 0s 40ms/step - loss: 59.3693 - val_loss: 58.6236\n",
            "Epoch 44/500\n",
            "12/12 [==============================] - 0s 37ms/step - loss: 59.0840 - val_loss: 58.3692\n",
            "Epoch 45/500\n",
            "12/12 [==============================] - 0s 40ms/step - loss: 58.7627 - val_loss: 58.0003\n",
            "Epoch 46/500\n",
            "12/12 [==============================] - 1s 42ms/step - loss: 58.4599 - val_loss: 57.8459\n",
            "Epoch 47/500\n",
            "12/12 [==============================] - 0s 33ms/step - loss: 58.1985 - val_loss: 57.4986\n",
            "Epoch 48/500\n",
            "12/12 [==============================] - 0s 25ms/step - loss: 57.8039 - val_loss: 57.2761\n",
            "Epoch 49/500\n",
            "12/12 [==============================] - 0s 25ms/step - loss: 57.5333 - val_loss: 56.9759\n",
            "Epoch 50/500\n",
            "12/12 [==============================] - 0s 26ms/step - loss: 57.3109 - val_loss: 56.9837\n",
            "Epoch 51/500\n",
            "12/12 [==============================] - 0s 27ms/step - loss: 57.1321 - val_loss: 56.7950\n",
            "Epoch 52/500\n",
            "12/12 [==============================] - 0s 26ms/step - loss: 56.8790 - val_loss: 56.3745\n",
            "Epoch 53/500\n",
            "12/12 [==============================] - 0s 28ms/step - loss: 56.6426 - val_loss: 56.1815\n",
            "Epoch 54/500\n",
            "12/12 [==============================] - 0s 26ms/step - loss: 56.5278 - val_loss: 56.0318\n",
            "Epoch 55/500\n",
            "12/12 [==============================] - 0s 28ms/step - loss: 56.2488 - val_loss: 55.8588\n",
            "Epoch 56/500\n",
            "12/12 [==============================] - 0s 25ms/step - loss: 56.1217 - val_loss: 55.9773\n",
            "Epoch 57/500\n",
            "12/12 [==============================] - 0s 27ms/step - loss: 55.9800 - val_loss: 56.2142\n",
            "Epoch 58/500\n",
            "12/12 [==============================] - 0s 28ms/step - loss: 55.9630 - val_loss: 55.4764\n",
            "Epoch 59/500\n",
            "12/12 [==============================] - 0s 26ms/step - loss: 55.6397 - val_loss: 55.3469\n",
            "Epoch 60/500\n",
            "12/12 [==============================] - 0s 27ms/step - loss: 55.5009 - val_loss: 55.1903\n",
            "Epoch 61/500\n",
            "12/12 [==============================] - 0s 26ms/step - loss: 55.4408 - val_loss: 55.1540\n",
            "Epoch 62/500\n",
            "12/12 [==============================] - 0s 28ms/step - loss: 55.2054 - val_loss: 54.9659\n",
            "Epoch 63/500\n",
            "12/12 [==============================] - 0s 28ms/step - loss: 55.1421 - val_loss: 55.0333\n",
            "Epoch 64/500\n",
            "12/12 [==============================] - 0s 27ms/step - loss: 55.1558 - val_loss: 54.9253\n",
            "Epoch 65/500\n",
            "12/12 [==============================] - 0s 26ms/step - loss: 55.0437 - val_loss: 54.7377\n",
            "Epoch 66/500\n",
            "12/12 [==============================] - 0s 27ms/step - loss: 54.7658 - val_loss: 54.6124\n",
            "Epoch 67/500\n",
            "12/12 [==============================] - 0s 30ms/step - loss: 54.9079 - val_loss: 54.5155\n",
            "Epoch 68/500\n",
            "12/12 [==============================] - 0s 36ms/step - loss: 54.6108 - val_loss: 54.5215\n",
            "Epoch 69/500\n",
            "12/12 [==============================] - 0s 39ms/step - loss: 54.6562 - val_loss: 54.5021\n",
            "Epoch 70/500\n",
            "12/12 [==============================] - 0s 40ms/step - loss: 54.3787 - val_loss: 54.3006\n",
            "Epoch 71/500\n",
            "12/12 [==============================] - 0s 40ms/step - loss: 54.3000 - val_loss: 54.2466\n",
            "Epoch 72/500\n",
            "12/12 [==============================] - 0s 38ms/step - loss: 54.2015 - val_loss: 54.3814\n",
            "Epoch 73/500\n",
            "12/12 [==============================] - 1s 44ms/step - loss: 54.1531 - val_loss: 54.1229\n",
            "Epoch 74/500\n",
            "12/12 [==============================] - 0s 27ms/step - loss: 54.0397 - val_loss: 54.0391\n",
            "Epoch 75/500\n",
            "12/12 [==============================] - 0s 27ms/step - loss: 54.0027 - val_loss: 53.9689\n",
            "Epoch 76/500\n",
            "12/12 [==============================] - 0s 27ms/step - loss: 53.9836 - val_loss: 53.9305\n",
            "Epoch 77/500\n",
            "12/12 [==============================] - 0s 26ms/step - loss: 53.8656 - val_loss: 54.5941\n",
            "Epoch 78/500\n",
            "12/12 [==============================] - 0s 31ms/step - loss: 54.0208 - val_loss: 53.8323\n",
            "Epoch 79/500\n",
            "12/12 [==============================] - 0s 26ms/step - loss: 53.8594 - val_loss: 54.0898\n",
            "Epoch 80/500\n",
            "12/12 [==============================] - 0s 31ms/step - loss: 53.8669 - val_loss: 53.7124\n",
            "Epoch 81/500\n",
            "12/12 [==============================] - 0s 25ms/step - loss: 53.7982 - val_loss: 53.6962\n",
            "Epoch 82/500\n",
            "12/12 [==============================] - 0s 28ms/step - loss: 53.5795 - val_loss: 53.6074\n",
            "Epoch 83/500\n",
            "12/12 [==============================] - 0s 26ms/step - loss: 53.5918 - val_loss: 53.6481\n",
            "Epoch 84/500\n",
            "12/12 [==============================] - 0s 27ms/step - loss: 53.4320 - val_loss: 53.5041\n",
            "Epoch 85/500\n",
            "12/12 [==============================] - 0s 28ms/step - loss: 53.3373 - val_loss: 53.4446\n",
            "Epoch 86/500\n",
            "12/12 [==============================] - 0s 25ms/step - loss: 53.3119 - val_loss: 53.4962\n",
            "Epoch 87/500\n",
            "12/12 [==============================] - 0s 25ms/step - loss: 53.2627 - val_loss: 53.4720\n",
            "Epoch 88/500\n",
            "12/12 [==============================] - 0s 27ms/step - loss: 53.1740 - val_loss: 53.4322\n",
            "Epoch 89/500\n",
            "12/12 [==============================] - 0s 25ms/step - loss: 53.1493 - val_loss: 53.5156\n",
            "Epoch 90/500\n",
            "12/12 [==============================] - 0s 27ms/step - loss: 53.1374 - val_loss: 53.2794\n",
            "Epoch 91/500\n",
            "12/12 [==============================] - 0s 25ms/step - loss: 53.0071 - val_loss: 53.7383\n",
            "Epoch 92/500\n",
            "12/12 [==============================] - 0s 25ms/step - loss: 53.0214 - val_loss: 53.1353\n",
            "Epoch 93/500\n",
            "12/12 [==============================] - 0s 26ms/step - loss: 52.9259 - val_loss: 53.4609\n",
            "Epoch 94/500\n",
            "12/12 [==============================] - 0s 26ms/step - loss: 52.9585 - val_loss: 53.1023\n",
            "Epoch 95/500\n",
            "12/12 [==============================] - 0s 26ms/step - loss: 53.1037 - val_loss: 53.0503\n",
            "Epoch 96/500\n",
            "12/12 [==============================] - 0s 26ms/step - loss: 53.0377 - val_loss: 53.0341\n",
            "Epoch 97/500\n",
            "12/12 [==============================] - 0s 25ms/step - loss: 52.7289 - val_loss: 52.9064\n",
            "Epoch 98/500\n",
            "12/12 [==============================] - 0s 36ms/step - loss: 52.6168 - val_loss: 52.8554\n",
            "Epoch 99/500\n",
            "12/12 [==============================] - 0s 36ms/step - loss: 52.5377 - val_loss: 52.8657\n",
            "Epoch 100/500\n",
            "12/12 [==============================] - 0s 40ms/step - loss: 52.5336 - val_loss: 53.0035\n",
            "Epoch 101/500\n",
            "12/12 [==============================] - 0s 40ms/step - loss: 52.5861 - val_loss: 52.7492\n",
            "Epoch 102/500\n",
            "12/12 [==============================] - 0s 38ms/step - loss: 52.6255 - val_loss: 52.9201\n",
            "Epoch 103/500\n",
            "12/12 [==============================] - 0s 25ms/step - loss: 52.5373 - val_loss: 52.8670\n",
            "Epoch 104/500\n",
            "12/12 [==============================] - 0s 26ms/step - loss: 52.7225 - val_loss: 52.6515\n",
            "Epoch 105/500\n",
            "12/12 [==============================] - 0s 26ms/step - loss: 52.5848 - val_loss: 53.4367\n",
            "Epoch 106/500\n",
            "12/12 [==============================] - 0s 28ms/step - loss: 52.4713 - val_loss: 52.8008\n",
            "Epoch 107/500\n",
            "12/12 [==============================] - 0s 28ms/step - loss: 52.2841 - val_loss: 52.5472\n",
            "Epoch 108/500\n",
            "12/12 [==============================] - 0s 25ms/step - loss: 52.2251 - val_loss: 52.6880\n",
            "Epoch 109/500\n",
            "12/12 [==============================] - 0s 25ms/step - loss: 52.1550 - val_loss: 52.4454\n",
            "Epoch 110/500\n",
            "12/12 [==============================] - 0s 25ms/step - loss: 52.1935 - val_loss: 53.0413\n",
            "Epoch 111/500\n",
            "12/12 [==============================] - 0s 24ms/step - loss: 52.1733 - val_loss: 52.6201\n",
            "Epoch 112/500\n",
            "12/12 [==============================] - 0s 26ms/step - loss: 51.9425 - val_loss: 52.3788\n",
            "Epoch 113/500\n",
            "12/12 [==============================] - 0s 23ms/step - loss: 51.8526 - val_loss: 52.5862\n",
            "Epoch 114/500\n",
            "12/12 [==============================] - 0s 24ms/step - loss: 51.8185 - val_loss: 52.3235\n",
            "Epoch 115/500\n",
            "12/12 [==============================] - 0s 25ms/step - loss: 51.8117 - val_loss: 52.2528\n",
            "Epoch 116/500\n",
            "12/12 [==============================] - 0s 24ms/step - loss: 51.7993 - val_loss: 52.5717\n",
            "Epoch 117/500\n",
            "12/12 [==============================] - 0s 25ms/step - loss: 51.6223 - val_loss: 52.4183\n",
            "Epoch 118/500\n",
            "12/12 [==============================] - 0s 28ms/step - loss: 51.5825 - val_loss: 52.2221\n",
            "Epoch 119/500\n",
            "12/12 [==============================] - 0s 25ms/step - loss: 51.5295 - val_loss: 52.4711\n",
            "Epoch 120/500\n",
            "12/12 [==============================] - 0s 24ms/step - loss: 51.5353 - val_loss: 52.4388\n",
            "Epoch 121/500\n",
            "12/12 [==============================] - 0s 25ms/step - loss: 51.4294 - val_loss: 52.0933\n",
            "Epoch 122/500\n",
            "12/12 [==============================] - 0s 26ms/step - loss: 51.3716 - val_loss: 51.9318\n",
            "Epoch 123/500\n",
            "12/12 [==============================] - 0s 24ms/step - loss: 51.3656 - val_loss: 52.2303\n",
            "Epoch 124/500\n",
            "12/12 [==============================] - 0s 25ms/step - loss: 51.3495 - val_loss: 52.0365\n",
            "Epoch 125/500\n",
            "12/12 [==============================] - 0s 24ms/step - loss: 51.9975 - val_loss: 51.9151\n",
            "Epoch 126/500\n",
            "12/12 [==============================] - 0s 23ms/step - loss: 51.4903 - val_loss: 51.9840\n",
            "Epoch 127/500\n",
            "12/12 [==============================] - 0s 25ms/step - loss: 51.2182 - val_loss: 52.2055\n",
            "Epoch 128/500\n",
            "12/12 [==============================] - 0s 40ms/step - loss: 51.3025 - val_loss: 51.7584\n",
            "Epoch 129/500\n",
            "12/12 [==============================] - 0s 41ms/step - loss: 51.1343 - val_loss: 51.7396\n",
            "Epoch 130/500\n",
            "12/12 [==============================] - 0s 37ms/step - loss: 51.0110 - val_loss: 51.8134\n",
            "Epoch 131/500\n",
            "12/12 [==============================] - 0s 36ms/step - loss: 50.9495 - val_loss: 51.8330\n",
            "Epoch 132/500\n",
            "12/12 [==============================] - 0s 37ms/step - loss: 50.9603 - val_loss: 51.6802\n",
            "Epoch 133/500\n",
            "12/12 [==============================] - 0s 26ms/step - loss: 50.8664 - val_loss: 51.6361\n",
            "Epoch 134/500\n",
            "12/12 [==============================] - 0s 25ms/step - loss: 50.8018 - val_loss: 51.6472\n",
            "Epoch 135/500\n",
            "12/12 [==============================] - 0s 25ms/step - loss: 50.8328 - val_loss: 51.9141\n",
            "Epoch 136/500\n",
            "12/12 [==============================] - 0s 24ms/step - loss: 50.9077 - val_loss: 51.8102\n",
            "Epoch 137/500\n",
            "12/12 [==============================] - 0s 25ms/step - loss: 50.7435 - val_loss: 51.9846\n",
            "Epoch 138/500\n",
            "12/12 [==============================] - 0s 26ms/step - loss: 50.6600 - val_loss: 51.6762\n"
          ]
        },
        {
          "output_type": "execute_result",
          "data": {
            "text/plain": [
              "<keras.src.callbacks.History at 0x7e0994201270>"
            ]
          },
          "metadata": {},
          "execution_count": 26
        }
      ]
    },
    {
      "cell_type": "code",
      "source": [
        "from keras.models import Model\n",
        "from sklearn.manifold import TSNE\n",
        "from sklearn.decomposition import PCA"
      ],
      "metadata": {
        "id": "zqj97UH32vHV"
      },
      "execution_count": 27,
      "outputs": []
    },
    {
      "cell_type": "code",
      "source": [
        "encoder = Model(emb_nn.input, emb_nn.layers[2].output)"
      ],
      "metadata": {
        "id": "xfzouOKE0oEz"
      },
      "execution_count": 28,
      "outputs": []
    },
    {
      "cell_type": "code",
      "source": [
        "embeddings = encoder.predict(num_actions)"
      ],
      "metadata": {
        "colab": {
          "base_uri": "https://localhost:8080/"
        },
        "id": "X4p83ynd3Sz2",
        "outputId": "742dcdac-ba1a-4c38-bd95-8f23cf014711"
      },
      "execution_count": 29,
      "outputs": [
        {
          "output_type": "stream",
          "name": "stdout",
          "text": [
            "32/32 [==============================] - 1s 5ms/step\n"
          ]
        }
      ]
    },
    {
      "cell_type": "code",
      "source": [
        "enb_reduce = TSNE(n_components=2).fit_transform(embeddings)"
      ],
      "metadata": {
        "id": "WNhJRFdO34p-"
      },
      "execution_count": 30,
      "outputs": []
    },
    {
      "cell_type": "code",
      "source": [
        "def plt_reduce_space(x, color=rew):\n",
        "    '''\n",
        "    Plot Scatter with color\n",
        "    '''\n",
        "    plt.figure(figsize=(8, 8))\n",
        "    plt.scatter(x[:, 0], x[:, 1], c=color, cmap='coolwarm')\n",
        "    plt.show()"
      ],
      "metadata": {
        "id": "gSiHwzZG3a0c"
      },
      "execution_count": 31,
      "outputs": []
    },
    {
      "cell_type": "code",
      "source": [
        "plt_reduce_space(enb_reduce)"
      ],
      "metadata": {
        "colab": {
          "base_uri": "https://localhost:8080/",
          "height": 676
        },
        "id": "T03fT6Le3-yk",
        "outputId": "4eeadb21-7741-47d4-e5e2-292bb65ba694"
      },
      "execution_count": 32,
      "outputs": [
        {
          "output_type": "display_data",
          "data": {
            "text/plain": [
              "<Figure size 800x800 with 1 Axes>"
            ],
            "image/png": "[encoded data removed]"
          },
          "metadata": {}
        }
      ]
    }
  ]
}
